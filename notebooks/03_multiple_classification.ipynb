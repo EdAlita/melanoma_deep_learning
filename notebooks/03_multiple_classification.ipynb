{
 "cells": [
  {
   "cell_type": "code",
   "execution_count": 2,
   "metadata": {},
   "outputs": [],
   "source": [
    "import sys\n",
    "sys.path.append('../classifiers/multiple_classifier')\n",
    "import fit\n",
    "import val\n",
    "import emsamble"
   ]
  },
  {
   "cell_type": "markdown",
   "metadata": {},
   "source": [
    "# 10 epochs 0.4 DropOut"
   ]
  },
  {
   "cell_type": "code",
   "execution_count": 3,
   "metadata": {},
   "outputs": [
    {
     "name": "stdout",
     "output_type": "stream",
     "text": [
      "Using device: cuda:0\n",
      "Loaded dataset:\n",
      " - Number of images: 1270\n",
      " - Number of classes: 3\n",
      " - Class names: ['bcc', 'mel', 'scc']\n",
      " -- bcc: 498 images\n",
      " -- mel: 678 images\n",
      " -- scc: 94 images\n",
      " - Batch size: 32\n",
      "Initialized models:\n",
      " - Inception V3 with custom classifier\n",
      " - EfficientNet B0 with custom classifier\n"
     ]
    },
    {
     "data": {
      "application/vnd.jupyter.widget-view+json": {
       "model_id": "1f8568c894a9433cb3fb38b9e70b73c4",
       "version_major": 2,
       "version_minor": 0
      },
      "text/plain": [
       "Evaluating:   0%|          | 0/40 [00:00<?, ?it/s]"
      ]
     },
     "metadata": {},
     "output_type": "display_data"
    },
    {
     "name": "stdout",
     "output_type": "stream",
     "text": [
      "Model: EfficientNet, Path: ../classifiers/multiple_classifier/out/run_2/EfficientNet_best.pth,Accuracy: 0.9173228346456693, Kappa: 0.8504568719188621\n"
     ]
    },
    {
     "data": {
      "application/vnd.jupyter.widget-view+json": {
       "model_id": "53c23157091040b6aca09a4b7ee46047",
       "version_major": 2,
       "version_minor": 0
      },
      "text/plain": [
       "Evaluating:   0%|          | 0/40 [00:00<?, ?it/s]"
      ]
     },
     "metadata": {},
     "output_type": "display_data"
    },
    {
     "name": "stdout",
     "output_type": "stream",
     "text": [
      "Model: Inception3, Path: ../classifiers/multiple_classifier/out/run_2/Inception3_best.pth,Accuracy: 0.9228346456692913, Kappa: 0.8594993181551355\n"
     ]
    }
   ],
   "source": [
    "val.evaluating_best_classifier(val_dir = '../data_mult/val/',root_out = '../classifiers/multiple_classifier/out/run_2')"
   ]
  },
  {
   "cell_type": "markdown",
   "metadata": {},
   "source": [
    "## "
   ]
  },
  {
   "cell_type": "code",
   "execution_count": 7,
   "metadata": {},
   "outputs": [
    {
     "name": "stdout",
     "output_type": "stream",
     "text": [
      "Using device: cuda:0\n",
      "Loaded dataset:\n",
      " - Number of images: 1270\n",
      " - Number of classes: 3\n",
      " - Class names: ['bcc', 'mel', 'scc']\n",
      " -- bcc: 498 images\n",
      " -- mel: 678 images\n",
      " -- scc: 94 images\n",
      " - Batch size: 32\n",
      "Initialized models:\n",
      " - Inception V3 with custom classifier\n",
      " - EfficientNet B0 with custom classifier\n"
     ]
    },
    {
     "data": {
      "application/vnd.jupyter.widget-view+json": {
       "model_id": "6e20d4fb57534c80bd6b9677a3a2344e",
       "version_major": 2,
       "version_minor": 0
      },
      "text/plain": [
       "Evaluating:   0%|          | 0/40 [00:00<?, ?it/s]"
      ]
     },
     "metadata": {},
     "output_type": "display_data"
    },
    {
     "name": "stdout",
     "output_type": "stream",
     "text": [
      "Model: EfficientNet, Path: ../classifiers/multiple_classifier/out/run_1/EfficientNet_best.pth,Accuracy: 0.9173228346456693, Kappa: 0.8504568719188621\n"
     ]
    },
    {
     "data": {
      "application/vnd.jupyter.widget-view+json": {
       "model_id": "b5faf32e6d9a4c56b7d45066a6f3333c",
       "version_major": 2,
       "version_minor": 0
      },
      "text/plain": [
       "Evaluating:   0%|          | 0/40 [00:00<?, ?it/s]"
      ]
     },
     "metadata": {},
     "output_type": "display_data"
    },
    {
     "name": "stdout",
     "output_type": "stream",
     "text": [
      "Model: Inception3, Path: ../classifiers/multiple_classifier/out/run_1/Inception3_best.pth,Accuracy: 0.9307086614173228, Kappa: 0.8735534908559351\n"
     ]
    }
   ],
   "source": [
    "val.evaluating_best_classifier(val_dir = '../data_mult/val/',root_out = '../classifiers/multiple_classifier/out/run_1/')"
   ]
  },
  {
   "cell_type": "code",
   "execution_count": 3,
   "metadata": {},
   "outputs": [
    {
     "name": "stdout",
     "output_type": "stream",
     "text": [
      "Using device: cuda:0\n",
      "Initialized models:\n",
      " - Inception V3 with custom classifier\n",
      " - EfficientNet B0 with custom classifier\n",
      "Loaded dataset:\n",
      " - Number of images: 1270\n",
      " - Number of classes: 3\n",
      " - Class names: ['bcc', 'mel', 'scc']\n",
      " - Batch size: 16\n"
     ]
    },
    {
     "name": "stderr",
     "output_type": "stream",
     "text": [
      "Generating Class Predictions: 80it [00:34,  2.30it/s]\n"
     ]
    },
    {
     "name": "stdout",
     "output_type": "stream",
     "text": [
      "Accuracy of the ensemble: 92.28%\n",
      "Cohen's Kappa: 0.8589\n"
     ]
    }
   ],
   "source": [
    "emsamble.main(train_data_path='../data_mult/val/',run_path='../classifiers/multiple_classifier/out/run_1/',type='val')"
   ]
  },
  {
   "cell_type": "code",
   "execution_count": 2,
   "metadata": {},
   "outputs": [
    {
     "name": "stdout",
     "output_type": "stream",
     "text": [
      "Using device: cuda:0\n",
      "Initialized models:\n",
      " - Inception V3 with custom classifier\n",
      " - EfficientNet B0 with custom classifier\n",
      "Loaded dataset:\n",
      " - Number of images: 6340\n",
      " - Number of classes: 3\n",
      " - Class names: ['bcc', 'mel', 'scc']\n",
      " - Batch size: 16\n"
     ]
    },
    {
     "name": "stderr",
     "output_type": "stream",
     "text": [
      "Generating Class Predictions: 397it [02:25,  2.73it/s]\n"
     ]
    },
    {
     "ename": "",
     "evalue": "",
     "output_type": "error",
     "traceback": [
      "\u001b[1;31mThe Kernel crashed while executing code in the the current cell or a previous cell. Please review the code in the cell(s) to identify a possible cause of the failure. Click <a href='https://aka.ms/vscodeJupyterKernelCrash'>here</a> for more info. View Jupyter <a href='command:jupyter.viewOutput'>log</a> for further details."
     ]
    }
   ],
   "source": [
    "emsamble.main(train_data_path='../data_mult/test/',run_path='../classifiers/multiple_classifier/out/run_1/',type='test')"
   ]
  }
 ],
 "metadata": {
  "kernelspec": {
   "display_name": "Python 3",
   "language": "python",
   "name": "python3"
  },
  "language_info": {
   "codemirror_mode": {
    "name": "ipython",
    "version": 3
   },
   "file_extension": ".py",
   "mimetype": "text/x-python",
   "name": "python",
   "nbconvert_exporter": "python",
   "pygments_lexer": "ipython3",
   "version": "3.10.12"
  }
 },
 "nbformat": 4,
 "nbformat_minor": 2
}
