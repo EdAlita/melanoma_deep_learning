{
 "cells": [
  {
   "cell_type": "code",
   "execution_count": 1,
   "metadata": {},
   "outputs": [],
   "source": [
    "import sys\n",
    "sys.path.append('../classifiers/binary_classifier')\n",
    "import fit\n",
    "import val\n",
    "import emsamble"
   ]
  },
  {
   "cell_type": "markdown",
   "metadata": {},
   "source": [
    "## Results with 0.5 Drop Rate"
   ]
  },
  {
   "cell_type": "code",
   "execution_count": 4,
   "metadata": {},
   "outputs": [
    {
     "name": "stdout",
     "output_type": "stream",
     "text": [
      "Using device: cuda:0\n",
      "Loaded dataset:\n",
      " - Number of images: 3796\n",
      " - Number of classes: 2\n",
      " - Class names: ['nevus', 'others']\n",
      " - Batch size: 32\n",
      "Initialized models:\n",
      " - Inception V3 with custom classifier\n",
      " - ResNet50 with custom classifier\n"
     ]
    },
    {
     "name": "stderr",
     "output_type": "stream",
     "text": [
      "Model Evaluation Progress: 100%|██████████| 61/61 [1:49:17<00:00, 107.50s/it]"
     ]
    },
    {
     "name": "stdout",
     "output_type": "stream",
     "text": [
      "Top 12 Models:\n",
      "Rank 1: Model Path: ../classifiers/binary_classifier/out/run_1/Inception3_epoch_48.pth, Accuracy: 0.8993677555321391\n",
      "Rank 2: Model Path: ../classifiers/binary_classifier/out/run_1/Inception3_epoch_43.pth, Accuracy: 0.8980505795574288\n",
      "Rank 3: Model Path: ../classifiers/binary_classifier/out/run_1/Inception3_epoch_42.pth, Accuracy: 0.8977871443624869\n",
      "Rank 4: Model Path: ../classifiers/binary_classifier/out/run_1/Inception3_epoch_44.pth, Accuracy: 0.8977871443624869\n",
      "Rank 5: Model Path: ../classifiers/binary_classifier/out/run_1/Inception3_epoch_59.pth, Accuracy: 0.8972602739726028\n",
      "Rank 6: Model Path: ../classifiers/binary_classifier/out/run_1/Inception3_epoch_56.pth, Accuracy: 0.8969968387776607\n",
      "Rank 7: Model Path: ../classifiers/binary_classifier/out/run_1/Inception3_epoch_36.pth, Accuracy: 0.8967334035827187\n",
      "Rank 8: Model Path: ../classifiers/binary_classifier/out/run_1/Inception3_epoch_47.pth, Accuracy: 0.8967334035827187\n",
      "Rank 9: Model Path: ../classifiers/binary_classifier/out/run_1/Inception3_epoch_58.pth, Accuracy: 0.8967334035827187\n",
      "Rank 10: Model Path: ../classifiers/binary_classifier/out/run_1/Inception3_epoch_60.pth, Accuracy: 0.8967334035827187\n",
      "Rank 11: Model Path: ../classifiers/binary_classifier/out/run_1/Inception3_epoch_35.pth, Accuracy: 0.8964699683877766\n",
      "Rank 12: Model Path: ../classifiers/binary_classifier/out/run_1/Inception3_epoch_37.pth, Accuracy: 0.8964699683877766\n"
     ]
    },
    {
     "name": "stderr",
     "output_type": "stream",
     "text": [
      "\n"
     ]
    }
   ],
   "source": [
    "val.main(num_classifiers=61,val_dir = '../data/val/',root_out = '../classifiers/binary_classifier/out/run_1/')"
   ]
  },
  {
   "cell_type": "markdown",
   "metadata": {},
   "source": [
    "## Results with 0.7"
   ]
  },
  {
   "cell_type": "code",
   "execution_count": 2,
   "metadata": {},
   "outputs": [
    {
     "name": "stdout",
     "output_type": "stream",
     "text": [
      "Using device: cuda:0\n",
      "Loaded dataset:\n",
      " - Number of images: 3796\n",
      " - Number of classes: 2\n",
      " - Class names: ['nevus', 'others']\n",
      " - Batch size: 32\n",
      "Initialized models:\n",
      " - Inception V3 with custom classifier\n",
      " - ResNet50 with custom classifier\n"
     ]
    },
    {
     "name": "stderr",
     "output_type": "stream",
     "text": [
      "Model Evaluation Progress: 100%|██████████| 33/33 [1:16:22<00:00, 138.86s/it]"
     ]
    },
    {
     "name": "stdout",
     "output_type": "stream",
     "text": [
      "Top 12 Models:\n",
      "Rank 1: Model Path: ../classifiers/binary_classifier/out/run_4/Inception3_epoch_8.pth, Accuracy: 0.8890937829293993\n",
      "Rank 2: Model Path: ../classifiers/binary_classifier/out/run_4/Inception3_epoch_21.pth, Accuracy: 0.8883034773445733\n",
      "Rank 3: Model Path: ../classifiers/binary_classifier/out/run_4/Inception3_epoch_7.pth, Accuracy: 0.886722866174921\n",
      "Rank 4: Model Path: ../classifiers/binary_classifier/out/run_4/Inception3_epoch_25.pth, Accuracy: 0.886722866174921\n",
      "Rank 5: Model Path: ../classifiers/binary_classifier/out/run_4/Inception3_epoch_13.pth, Accuracy: 0.8856691253951527\n",
      "Rank 6: Model Path: ../classifiers/binary_classifier/out/run_4/Inception3_epoch_31.pth, Accuracy: 0.8851422550052687\n"
     ]
    },
    {
     "name": "stderr",
     "output_type": "stream",
     "text": [
      "\n"
     ]
    }
   ],
   "source": [
    "val.main(num_classifiers=33,val_dir = '../data/val/',root_out = '../classifiers/binary_classifier/out/run_4/')"
   ]
  },
  {
   "cell_type": "code",
   "execution_count": 3,
   "metadata": {},
   "outputs": [
    {
     "name": "stdout",
     "output_type": "stream",
     "text": [
      "Using device: cuda:0\n",
      "Initialized models:\n",
      " - Inception V3 with custom classifier\n",
      " - ResNet50 with custom classifier\n",
      "Loaded dataset:\n",
      " - Number of images: 3796\n",
      " - Number of classes: 2\n",
      " - Class names: ['nevus', 'others']\n",
      " - Batch size: 16\n"
     ]
    },
    {
     "name": "stderr",
     "output_type": "stream",
     "text": [
      "Generating Class Predictions: 100%|██████████| 238/238 [04:46<00:00,  1.21s/it]"
     ]
    },
    {
     "name": "stdout",
     "output_type": "stream",
     "text": [
      "Accuracy of the ensemble: 88.51%\n"
     ]
    },
    {
     "name": "stderr",
     "output_type": "stream",
     "text": [
      "\n"
     ]
    }
   ],
   "source": [
    "emsamble.main(train_data_path='../data/val/',run_path='../classifiers/binary_classifier/out/run_4/')"
   ]
  },
  {
   "cell_type": "markdown",
   "metadata": {},
   "source": [
    "## With masks and a drop rate of 0.3"
   ]
  },
  {
   "cell_type": "code",
   "execution_count": 2,
   "metadata": {},
   "outputs": [
    {
     "name": "stdout",
     "output_type": "stream",
     "text": [
      "Using device: cuda:0\n",
      "Loaded dataset:\n",
      " - Number of images: 3796\n",
      " - Number of classes: 2\n",
      " - Class names: ['nevus', 'others']\n",
      " - Batch size: 32\n",
      "Initialized models:\n",
      " - Inception V3 with custom classifier\n",
      " - ResNet50 with custom classifier\n"
     ]
    },
    {
     "name": "stderr",
     "output_type": "stream",
     "text": [
      "Model Evaluation Progress: 100%|██████████| 60/60 [1:23:51<00:00, 83.86s/it]"
     ]
    },
    {
     "name": "stdout",
     "output_type": "stream",
     "text": [
      "Top 12 Models:\n",
      "Rank 1: Model Path: ../classifiers/binary_classifier/out/run_5/Inception3_epoch_23.pth, Accuracy: 0.8472075869336143\n",
      "Rank 2: Model Path: ../classifiers/binary_classifier/out/run_5/Inception3_epoch_58.pth, Accuracy: 0.8456269757639621\n",
      "Rank 3: Model Path: ../classifiers/binary_classifier/out/run_5/Inception3_epoch_32.pth, Accuracy: 0.8443097997892518\n",
      "Rank 4: Model Path: ../classifiers/binary_classifier/out/run_5/Inception3_epoch_59.pth, Accuracy: 0.8443097997892518\n",
      "Rank 5: Model Path: ../classifiers/binary_classifier/out/run_5/Inception3_epoch_37.pth, Accuracy: 0.8440463645943098\n",
      "Rank 6: Model Path: ../classifiers/binary_classifier/out/run_5/Inception3_epoch_25.pth, Accuracy: 0.8437829293993677\n",
      "Rank 7: Model Path: ../classifiers/binary_classifier/out/run_5/Inception3_epoch_34.pth, Accuracy: 0.8432560590094836\n",
      "Rank 8: Model Path: ../classifiers/binary_classifier/out/run_5/Inception3_epoch_24.pth, Accuracy: 0.8429926238145417\n",
      "Rank 9: Model Path: ../classifiers/binary_classifier/out/run_5/Inception3_epoch_39.pth, Accuracy: 0.8427291886195996\n",
      "Rank 10: Model Path: ../classifiers/binary_classifier/out/run_5/Inception3_epoch_15.pth, Accuracy: 0.8419388830347735\n",
      "Rank 11: Model Path: ../classifiers/binary_classifier/out/run_5/Inception3_epoch_19.pth, Accuracy: 0.8419388830347735\n",
      "Rank 12: Model Path: ../classifiers/binary_classifier/out/run_5/Inception3_epoch_26.pth, Accuracy: 0.8419388830347735\n"
     ]
    },
    {
     "name": "stderr",
     "output_type": "stream",
     "text": [
      "\n"
     ]
    }
   ],
   "source": [
    "val.main(val_dir = '../data/val/',root_out = '../classifiers/binary_classifier/out/run_5/')"
   ]
  },
  {
   "cell_type": "code",
   "execution_count": 3,
   "metadata": {},
   "outputs": [
    {
     "name": "stdout",
     "output_type": "stream",
     "text": [
      "Using device: cuda:0\n",
      "Train data: ../prepos/train/ Out path: ../classifiers/binary_classifier/out/run_7/\n",
      "Loaded dataset:\n",
      " - Number of images: 15195\n",
      " - Number of classes: 2\n",
      " - Class names: ['nevus', 'others']\n",
      " - Batch size: 32\n",
      "Initialized models:\n",
      " - Inception V3 with custom classifier\n",
      " - ResNet50 with custom classifier\n",
      "Training Inception3 - Epoch 1/60\n",
      "Current Learning Rate: 1e-05\n"
     ]
    },
    {
     "data": {
      "application/vnd.jupyter.widget-view+json": {
       "model_id": "fbb90535514c4be391dd440db3f94879",
       "version_major": 2,
       "version_minor": 0
      },
      "text/plain": [
       "Epoch 1:   0%|          | 0/475 [00:00<?, ?batch/s]"
      ]
     },
     "metadata": {},
     "output_type": "display_data"
    },
    {
     "name": "stdout",
     "output_type": "stream",
     "text": [
      "Inception3 - Epoch 1 Completed - Time: 1039.91s\n",
      "Training Inception3 - Epoch 2/60\n",
      "Current Learning Rate: 3.2500000000000004e-05\n"
     ]
    },
    {
     "data": {
      "application/vnd.jupyter.widget-view+json": {
       "model_id": "753ba693dcdd4cc7939c950cfe14d1ba",
       "version_major": 2,
       "version_minor": 0
      },
      "text/plain": [
       "Epoch 2:   0%|          | 0/475 [00:00<?, ?batch/s]"
      ]
     },
     "metadata": {},
     "output_type": "display_data"
    },
    {
     "name": "stdout",
     "output_type": "stream",
     "text": [
      "Inception3 - Epoch 2 Completed - Time: 1260.56s\n",
      "Training Inception3 - Epoch 3/60\n",
      "Current Learning Rate: 5.5e-05\n"
     ]
    },
    {
     "data": {
      "application/vnd.jupyter.widget-view+json": {
       "model_id": "f6316ae744554609ae38396474aa6208",
       "version_major": 2,
       "version_minor": 0
      },
      "text/plain": [
       "Epoch 3:   0%|          | 0/475 [00:00<?, ?batch/s]"
      ]
     },
     "metadata": {},
     "output_type": "display_data"
    },
    {
     "name": "stdout",
     "output_type": "stream",
     "text": [
      "Inception3 - Epoch 3 Completed - Time: 1275.39s\n",
      "Training Inception3 - Epoch 4/60\n",
      "Current Learning Rate: 7.75e-05\n"
     ]
    },
    {
     "data": {
      "application/vnd.jupyter.widget-view+json": {
       "model_id": "3cbbb5f45b7745dfb9bce8ac39d0f410",
       "version_major": 2,
       "version_minor": 0
      },
      "text/plain": [
       "Epoch 4:   0%|          | 0/475 [00:00<?, ?batch/s]"
      ]
     },
     "metadata": {},
     "output_type": "display_data"
    },
    {
     "name": "stdout",
     "output_type": "stream",
     "text": [
      "Inception3 - Epoch 4 Completed - Time: 1298.08s\n",
      "Training Inception3 - Epoch 5/60\n",
      "Current Learning Rate: 0.0001\n"
     ]
    },
    {
     "data": {
      "application/vnd.jupyter.widget-view+json": {
       "model_id": "7669f2fa85824daebd0c0e4018d441b9",
       "version_major": 2,
       "version_minor": 0
      },
      "text/plain": [
       "Epoch 5:   0%|          | 0/475 [00:00<?, ?batch/s]"
      ]
     },
     "metadata": {},
     "output_type": "display_data"
    },
    {
     "name": "stdout",
     "output_type": "stream",
     "text": [
      "Inception3 - Epoch 5 Completed - Time: 1292.29s\n",
      "Training Inception3 - Epoch 6/60\n",
      "Current Learning Rate: 7.75e-05\n"
     ]
    },
    {
     "data": {
      "application/vnd.jupyter.widget-view+json": {
       "model_id": "93a54481f70a4de6ba91004f4c56dbbd",
       "version_major": 2,
       "version_minor": 0
      },
      "text/plain": [
       "Epoch 6:   0%|          | 0/475 [00:00<?, ?batch/s]"
      ]
     },
     "metadata": {},
     "output_type": "display_data"
    },
    {
     "name": "stdout",
     "output_type": "stream",
     "text": [
      "Inception3 - Epoch 6 Completed - Time: 1287.29s\n",
      "Training Inception3 - Epoch 7/60\n",
      "Current Learning Rate: 5.5e-05\n"
     ]
    },
    {
     "data": {
      "application/vnd.jupyter.widget-view+json": {
       "model_id": "0c283ff0701d4f568d0b20bd4a30fe12",
       "version_major": 2,
       "version_minor": 0
      },
      "text/plain": [
       "Epoch 7:   0%|          | 0/475 [00:00<?, ?batch/s]"
      ]
     },
     "metadata": {},
     "output_type": "display_data"
    },
    {
     "name": "stdout",
     "output_type": "stream",
     "text": [
      "Inception3 - Epoch 7 Completed - Time: 1295.65s\n",
      "Training Inception3 - Epoch 8/60\n",
      "Current Learning Rate: 3.2500000000000004e-05\n"
     ]
    },
    {
     "data": {
      "application/vnd.jupyter.widget-view+json": {
       "model_id": "ab0507b6656344979b7dcac4442f8b60",
       "version_major": 2,
       "version_minor": 0
      },
      "text/plain": [
       "Epoch 8:   0%|          | 0/475 [00:00<?, ?batch/s]"
      ]
     },
     "metadata": {},
     "output_type": "display_data"
    },
    {
     "name": "stdout",
     "output_type": "stream",
     "text": [
      "Inception3 - Epoch 8 Completed - Time: 1283.78s\n",
      "Training Inception3 - Epoch 9/60\n",
      "Current Learning Rate: 1e-05\n"
     ]
    },
    {
     "data": {
      "application/vnd.jupyter.widget-view+json": {
       "model_id": "0dffaea9edde4011a4dd2e928722fda9",
       "version_major": 2,
       "version_minor": 0
      },
      "text/plain": [
       "Epoch 9:   0%|          | 0/475 [00:00<?, ?batch/s]"
      ]
     },
     "metadata": {},
     "output_type": "display_data"
    },
    {
     "name": "stdout",
     "output_type": "stream",
     "text": [
      "Inception3 - Epoch 9 Completed - Time: 1283.82s\n",
      "Training Inception3 - Epoch 10/60\n",
      "Current Learning Rate: 2.125e-05\n"
     ]
    },
    {
     "data": {
      "application/vnd.jupyter.widget-view+json": {
       "model_id": "f819cb31b31847799a212681f97b6fe7",
       "version_major": 2,
       "version_minor": 0
      },
      "text/plain": [
       "Epoch 10:   0%|          | 0/475 [00:00<?, ?batch/s]"
      ]
     },
     "metadata": {},
     "output_type": "display_data"
    },
    {
     "name": "stdout",
     "output_type": "stream",
     "text": [
      "Inception3 - Epoch 10 Completed - Time: 1291.63s\n",
      "Training Inception3 - Epoch 11/60\n",
      "Current Learning Rate: 3.2500000000000004e-05\n"
     ]
    },
    {
     "data": {
      "application/vnd.jupyter.widget-view+json": {
       "model_id": "c86ae3e46d8f4933ba8b735febde5a40",
       "version_major": 2,
       "version_minor": 0
      },
      "text/plain": [
       "Epoch 11:   0%|          | 0/475 [00:00<?, ?batch/s]"
      ]
     },
     "metadata": {},
     "output_type": "display_data"
    },
    {
     "name": "stdout",
     "output_type": "stream",
     "text": [
      "Inception3 - Epoch 11 Completed - Time: 1298.68s\n",
      "Training Inception3 - Epoch 12/60\n",
      "Current Learning Rate: 4.375e-05\n"
     ]
    },
    {
     "data": {
      "application/vnd.jupyter.widget-view+json": {
       "model_id": "d85fd4a62bdd488d9bdc42c91b13d043",
       "version_major": 2,
       "version_minor": 0
      },
      "text/plain": [
       "Epoch 12:   0%|          | 0/475 [00:00<?, ?batch/s]"
      ]
     },
     "metadata": {},
     "output_type": "display_data"
    },
    {
     "name": "stdout",
     "output_type": "stream",
     "text": [
      "Inception3 - Epoch 12 Completed - Time: 1284.32s\n",
      "Training Inception3 - Epoch 13/60\n",
      "Current Learning Rate: 5.5e-05\n"
     ]
    },
    {
     "data": {
      "application/vnd.jupyter.widget-view+json": {
       "model_id": "bd5f00b2381f49d4bf1e1189aadbe39c",
       "version_major": 2,
       "version_minor": 0
      },
      "text/plain": [
       "Epoch 13:   0%|          | 0/475 [00:00<?, ?batch/s]"
      ]
     },
     "metadata": {},
     "output_type": "display_data"
    },
    {
     "name": "stdout",
     "output_type": "stream",
     "text": [
      "Inception3 - Epoch 13 Completed - Time: 1282.03s\n",
      "Training Inception3 - Epoch 14/60\n",
      "Current Learning Rate: 4.375e-05\n"
     ]
    },
    {
     "data": {
      "application/vnd.jupyter.widget-view+json": {
       "model_id": "239828ec1b2543f98e1075c91452eb4f",
       "version_major": 2,
       "version_minor": 0
      },
      "text/plain": [
       "Epoch 14:   0%|          | 0/475 [00:00<?, ?batch/s]"
      ]
     },
     "metadata": {},
     "output_type": "display_data"
    },
    {
     "name": "stdout",
     "output_type": "stream",
     "text": [
      "Inception3 - Epoch 14 Completed - Time: 1286.60s\n",
      "Training Inception3 - Epoch 15/60\n",
      "Current Learning Rate: 3.2500000000000004e-05\n"
     ]
    },
    {
     "data": {
      "application/vnd.jupyter.widget-view+json": {
       "model_id": "b21e81bb42a94f83967531aa2e41e5a3",
       "version_major": 2,
       "version_minor": 0
      },
      "text/plain": [
       "Epoch 15:   0%|          | 0/475 [00:00<?, ?batch/s]"
      ]
     },
     "metadata": {},
     "output_type": "display_data"
    },
    {
     "name": "stdout",
     "output_type": "stream",
     "text": [
      "Inception3 - Epoch 15 Completed - Time: 1290.76s\n",
      "Training Inception3 - Epoch 16/60\n",
      "Current Learning Rate: 2.125e-05\n"
     ]
    },
    {
     "data": {
      "application/vnd.jupyter.widget-view+json": {
       "model_id": "904fa0f2df644680b78c218ebaa591b1",
       "version_major": 2,
       "version_minor": 0
      },
      "text/plain": [
       "Epoch 16:   0%|          | 0/475 [00:00<?, ?batch/s]"
      ]
     },
     "metadata": {},
     "output_type": "display_data"
    },
    {
     "name": "stdout",
     "output_type": "stream",
     "text": [
      "Inception3 - Epoch 16 Completed - Time: 1283.13s\n",
      "Training Inception3 - Epoch 17/60\n",
      "Current Learning Rate: 1e-05\n"
     ]
    },
    {
     "data": {
      "application/vnd.jupyter.widget-view+json": {
       "model_id": "f459201039504bfab4c6882682b2b3e9",
       "version_major": 2,
       "version_minor": 0
      },
      "text/plain": [
       "Epoch 17:   0%|          | 0/475 [00:00<?, ?batch/s]"
      ]
     },
     "metadata": {},
     "output_type": "display_data"
    },
    {
     "name": "stdout",
     "output_type": "stream",
     "text": [
      "Inception3 - Epoch 17 Completed - Time: 1284.98s\n",
      "Training Inception3 - Epoch 18/60\n",
      "Current Learning Rate: 1.5625e-05\n"
     ]
    },
    {
     "data": {
      "application/vnd.jupyter.widget-view+json": {
       "model_id": "d8fc5066aa2e4ef2967748bc5d5ea4c3",
       "version_major": 2,
       "version_minor": 0
      },
      "text/plain": [
       "Epoch 18:   0%|          | 0/475 [00:00<?, ?batch/s]"
      ]
     },
     "metadata": {},
     "output_type": "display_data"
    },
    {
     "name": "stdout",
     "output_type": "stream",
     "text": [
      "Inception3 - Epoch 18 Completed - Time: 1284.30s\n",
      "Training Inception3 - Epoch 19/60\n",
      "Current Learning Rate: 2.125e-05\n"
     ]
    },
    {
     "data": {
      "application/vnd.jupyter.widget-view+json": {
       "model_id": "7c8324341f4c4bfc9ace492baaec0837",
       "version_major": 2,
       "version_minor": 0
      },
      "text/plain": [
       "Epoch 19:   0%|          | 0/475 [00:00<?, ?batch/s]"
      ]
     },
     "metadata": {},
     "output_type": "display_data"
    },
    {
     "name": "stdout",
     "output_type": "stream",
     "text": [
      "Inception3 - Epoch 19 Completed - Time: 1277.45s\n",
      "Training Inception3 - Epoch 20/60\n",
      "Current Learning Rate: 2.6875000000000003e-05\n"
     ]
    },
    {
     "data": {
      "application/vnd.jupyter.widget-view+json": {
       "model_id": "49d9b2262b3f48c1ab2fa8f75de132a0",
       "version_major": 2,
       "version_minor": 0
      },
      "text/plain": [
       "Epoch 20:   0%|          | 0/475 [00:00<?, ?batch/s]"
      ]
     },
     "metadata": {},
     "output_type": "display_data"
    },
    {
     "name": "stdout",
     "output_type": "stream",
     "text": [
      "Inception3 - Epoch 20 Completed - Time: 1276.07s\n",
      "Training Inception3 - Epoch 21/60\n",
      "Current Learning Rate: 3.2500000000000004e-05\n"
     ]
    },
    {
     "data": {
      "application/vnd.jupyter.widget-view+json": {
       "model_id": "857a3984c4c1466ebde6d2fc8d90e0d4",
       "version_major": 2,
       "version_minor": 0
      },
      "text/plain": [
       "Epoch 21:   0%|          | 0/475 [00:00<?, ?batch/s]"
      ]
     },
     "metadata": {},
     "output_type": "display_data"
    },
    {
     "name": "stdout",
     "output_type": "stream",
     "text": [
      "Inception3 - Epoch 21 Completed - Time: 1270.96s\n",
      "Training Inception3 - Epoch 22/60\n",
      "Current Learning Rate: 2.6875000000000003e-05\n"
     ]
    },
    {
     "data": {
      "application/vnd.jupyter.widget-view+json": {
       "model_id": "28fe56ab702b48aab1e5c0632f6b8a6a",
       "version_major": 2,
       "version_minor": 0
      },
      "text/plain": [
       "Epoch 22:   0%|          | 0/475 [00:00<?, ?batch/s]"
      ]
     },
     "metadata": {},
     "output_type": "display_data"
    },
    {
     "name": "stdout",
     "output_type": "stream",
     "text": [
      "Inception3 - Epoch 22 Completed - Time: 1275.20s\n",
      "Training Inception3 - Epoch 23/60\n",
      "Current Learning Rate: 2.125e-05\n"
     ]
    },
    {
     "data": {
      "application/vnd.jupyter.widget-view+json": {
       "model_id": "2998a931e4fc483fafab91dc963a8918",
       "version_major": 2,
       "version_minor": 0
      },
      "text/plain": [
       "Epoch 23:   0%|          | 0/475 [00:00<?, ?batch/s]"
      ]
     },
     "metadata": {},
     "output_type": "display_data"
    },
    {
     "name": "stdout",
     "output_type": "stream",
     "text": [
      "Inception3 - Epoch 23 Completed - Time: 1260.51s\n",
      "Training Inception3 - Epoch 24/60\n",
      "Current Learning Rate: 1.5625e-05\n"
     ]
    },
    {
     "data": {
      "application/vnd.jupyter.widget-view+json": {
       "model_id": "fb5e8b40c22443389c1e5a2d3e2d8398",
       "version_major": 2,
       "version_minor": 0
      },
      "text/plain": [
       "Epoch 24:   0%|          | 0/475 [00:00<?, ?batch/s]"
      ]
     },
     "metadata": {},
     "output_type": "display_data"
    },
    {
     "name": "stdout",
     "output_type": "stream",
     "text": [
      "Inception3 - Epoch 24 Completed - Time: 1270.71s\n",
      "Training Inception3 - Epoch 25/60\n",
      "Current Learning Rate: 1e-05\n"
     ]
    },
    {
     "data": {
      "application/vnd.jupyter.widget-view+json": {
       "model_id": "0b6e874c6f384c1a8faff9286fb01348",
       "version_major": 2,
       "version_minor": 0
      },
      "text/plain": [
       "Epoch 25:   0%|          | 0/475 [00:00<?, ?batch/s]"
      ]
     },
     "metadata": {},
     "output_type": "display_data"
    },
    {
     "name": "stdout",
     "output_type": "stream",
     "text": [
      "Inception3 - Epoch 25 Completed - Time: 1258.31s\n",
      "Training Inception3 - Epoch 26/60\n",
      "Current Learning Rate: 1.2812500000000001e-05\n"
     ]
    },
    {
     "data": {
      "application/vnd.jupyter.widget-view+json": {
       "model_id": "688473ba6a5f4090af3f88d688217bb0",
       "version_major": 2,
       "version_minor": 0
      },
      "text/plain": [
       "Epoch 26:   0%|          | 0/475 [00:00<?, ?batch/s]"
      ]
     },
     "metadata": {},
     "output_type": "display_data"
    },
    {
     "name": "stdout",
     "output_type": "stream",
     "text": [
      "Inception3 - Epoch 26 Completed - Time: 1256.41s\n",
      "Training Inception3 - Epoch 27/60\n",
      "Current Learning Rate: 1.5625e-05\n"
     ]
    },
    {
     "data": {
      "application/vnd.jupyter.widget-view+json": {
       "model_id": "a718501c50a14d83bab5d10f4ac1702c",
       "version_major": 2,
       "version_minor": 0
      },
      "text/plain": [
       "Epoch 27:   0%|          | 0/475 [00:00<?, ?batch/s]"
      ]
     },
     "metadata": {},
     "output_type": "display_data"
    },
    {
     "name": "stdout",
     "output_type": "stream",
     "text": [
      "Inception3 - Epoch 27 Completed - Time: 1255.87s\n",
      "Training Inception3 - Epoch 28/60\n",
      "Current Learning Rate: 1.84375e-05\n"
     ]
    },
    {
     "data": {
      "application/vnd.jupyter.widget-view+json": {
       "model_id": "a43afcc462ad4ed9b25131092931788e",
       "version_major": 2,
       "version_minor": 0
      },
      "text/plain": [
       "Epoch 28:   0%|          | 0/475 [00:00<?, ?batch/s]"
      ]
     },
     "metadata": {},
     "output_type": "display_data"
    },
    {
     "name": "stdout",
     "output_type": "stream",
     "text": [
      "Inception3 - Epoch 28 Completed - Time: 1265.24s\n",
      "Training Inception3 - Epoch 29/60\n",
      "Current Learning Rate: 2.125e-05\n"
     ]
    },
    {
     "data": {
      "application/vnd.jupyter.widget-view+json": {
       "model_id": "4d71068853ec49c086313f017002badf",
       "version_major": 2,
       "version_minor": 0
      },
      "text/plain": [
       "Epoch 29:   0%|          | 0/475 [00:00<?, ?batch/s]"
      ]
     },
     "metadata": {},
     "output_type": "display_data"
    },
    {
     "name": "stdout",
     "output_type": "stream",
     "text": [
      "Inception3 - Epoch 29 Completed - Time: 1264.72s\n",
      "Training Inception3 - Epoch 30/60\n",
      "Current Learning Rate: 1.84375e-05\n"
     ]
    },
    {
     "data": {
      "application/vnd.jupyter.widget-view+json": {
       "model_id": "9f30296c6b124230856e58436b9ad047",
       "version_major": 2,
       "version_minor": 0
      },
      "text/plain": [
       "Epoch 30:   0%|          | 0/475 [00:00<?, ?batch/s]"
      ]
     },
     "metadata": {},
     "output_type": "display_data"
    },
    {
     "name": "stdout",
     "output_type": "stream",
     "text": [
      "Inception3 - Epoch 30 Completed - Time: 1263.34s\n",
      "Training Inception3 - Epoch 31/60\n",
      "Current Learning Rate: 1.5625e-05\n"
     ]
    },
    {
     "data": {
      "application/vnd.jupyter.widget-view+json": {
       "model_id": "7fcfcad24b1246b7b7e985a7b1ec1a19",
       "version_major": 2,
       "version_minor": 0
      },
      "text/plain": [
       "Epoch 31:   0%|          | 0/475 [00:00<?, ?batch/s]"
      ]
     },
     "metadata": {},
     "output_type": "display_data"
    },
    {
     "name": "stdout",
     "output_type": "stream",
     "text": [
      "Inception3 - Epoch 31 Completed - Time: 1269.39s\n",
      "Training Inception3 - Epoch 32/60\n",
      "Current Learning Rate: 1.2812500000000001e-05\n"
     ]
    },
    {
     "data": {
      "application/vnd.jupyter.widget-view+json": {
       "model_id": "2a3ecb18842e42e5af055e56a296d39d",
       "version_major": 2,
       "version_minor": 0
      },
      "text/plain": [
       "Epoch 32:   0%|          | 0/475 [00:00<?, ?batch/s]"
      ]
     },
     "metadata": {},
     "output_type": "display_data"
    },
    {
     "name": "stdout",
     "output_type": "stream",
     "text": [
      "Inception3 - Epoch 32 Completed - Time: 1293.36s\n",
      "Training Inception3 - Epoch 33/60\n",
      "Current Learning Rate: 1e-05\n"
     ]
    },
    {
     "data": {
      "application/vnd.jupyter.widget-view+json": {
       "model_id": "92e52e54264b4c10acfae8929f7f1482",
       "version_major": 2,
       "version_minor": 0
      },
      "text/plain": [
       "Epoch 33:   0%|          | 0/475 [00:00<?, ?batch/s]"
      ]
     },
     "metadata": {},
     "output_type": "display_data"
    },
    {
     "name": "stdout",
     "output_type": "stream",
     "text": [
      "Inception3 - Epoch 33 Completed - Time: 1275.58s\n",
      "Training Inception3 - Epoch 34/60\n",
      "Current Learning Rate: 1.1406250000000001e-05\n"
     ]
    },
    {
     "data": {
      "application/vnd.jupyter.widget-view+json": {
       "model_id": "b874e240c6024bcaacda4146805626e9",
       "version_major": 2,
       "version_minor": 0
      },
      "text/plain": [
       "Epoch 34:   0%|          | 0/475 [00:00<?, ?batch/s]"
      ]
     },
     "metadata": {},
     "output_type": "display_data"
    },
    {
     "name": "stdout",
     "output_type": "stream",
     "text": [
      "Inception3 - Epoch 34 Completed - Time: 1282.19s\n",
      "Training Inception3 - Epoch 35/60\n",
      "Current Learning Rate: 1.2812500000000001e-05\n"
     ]
    },
    {
     "data": {
      "application/vnd.jupyter.widget-view+json": {
       "model_id": "77502801adcc4322b1e8084f60de7391",
       "version_major": 2,
       "version_minor": 0
      },
      "text/plain": [
       "Epoch 35:   0%|          | 0/475 [00:00<?, ?batch/s]"
      ]
     },
     "metadata": {},
     "output_type": "display_data"
    },
    {
     "name": "stdout",
     "output_type": "stream",
     "text": [
      "Inception3 - Epoch 35 Completed - Time: 1287.93s\n",
      "Training Inception3 - Epoch 36/60\n",
      "Current Learning Rate: 1.421875e-05\n"
     ]
    },
    {
     "data": {
      "application/vnd.jupyter.widget-view+json": {
       "model_id": "097f3c4e3a42410584358240d5a2130d",
       "version_major": 2,
       "version_minor": 0
      },
      "text/plain": [
       "Epoch 36:   0%|          | 0/475 [00:00<?, ?batch/s]"
      ]
     },
     "metadata": {},
     "output_type": "display_data"
    },
    {
     "name": "stdout",
     "output_type": "stream",
     "text": [
      "Inception3 - Epoch 36 Completed - Time: 1303.70s\n",
      "Training Inception3 - Epoch 37/60\n",
      "Current Learning Rate: 1.5625e-05\n"
     ]
    },
    {
     "data": {
      "application/vnd.jupyter.widget-view+json": {
       "model_id": "c73e187536d246468e4e720b6ace04ad",
       "version_major": 2,
       "version_minor": 0
      },
      "text/plain": [
       "Epoch 37:   0%|          | 0/475 [00:00<?, ?batch/s]"
      ]
     },
     "metadata": {},
     "output_type": "display_data"
    },
    {
     "name": "stdout",
     "output_type": "stream",
     "text": [
      "Inception3 - Epoch 37 Completed - Time: 1300.12s\n",
      "Training Inception3 - Epoch 38/60\n",
      "Current Learning Rate: 1.421875e-05\n"
     ]
    },
    {
     "data": {
      "application/vnd.jupyter.widget-view+json": {
       "model_id": "924cc6e7e601483cbb03d710238e8af0",
       "version_major": 2,
       "version_minor": 0
      },
      "text/plain": [
       "Epoch 38:   0%|          | 0/475 [00:00<?, ?batch/s]"
      ]
     },
     "metadata": {},
     "output_type": "display_data"
    },
    {
     "name": "stdout",
     "output_type": "stream",
     "text": [
      "Inception3 - Epoch 38 Completed - Time: 1305.70s\n",
      "Training Inception3 - Epoch 39/60\n",
      "Current Learning Rate: 1.2812500000000001e-05\n"
     ]
    },
    {
     "data": {
      "application/vnd.jupyter.widget-view+json": {
       "model_id": "df4975f3f51c424e8968eea6058acfb8",
       "version_major": 2,
       "version_minor": 0
      },
      "text/plain": [
       "Epoch 39:   0%|          | 0/475 [00:00<?, ?batch/s]"
      ]
     },
     "metadata": {},
     "output_type": "display_data"
    },
    {
     "name": "stdout",
     "output_type": "stream",
     "text": [
      "Inception3 - Epoch 39 Completed - Time: 1311.32s\n",
      "Training Inception3 - Epoch 40/60\n",
      "Current Learning Rate: 1.1406250000000001e-05\n"
     ]
    },
    {
     "data": {
      "application/vnd.jupyter.widget-view+json": {
       "model_id": "0d538b12fc4d46bf83478eb59b10c377",
       "version_major": 2,
       "version_minor": 0
      },
      "text/plain": [
       "Epoch 40:   0%|          | 0/475 [00:00<?, ?batch/s]"
      ]
     },
     "metadata": {},
     "output_type": "display_data"
    },
    {
     "name": "stdout",
     "output_type": "stream",
     "text": [
      "Inception3 - Epoch 40 Completed - Time: 1323.97s\n",
      "Training Inception3 - Epoch 41/60\n",
      "Current Learning Rate: 1e-05\n"
     ]
    },
    {
     "data": {
      "application/vnd.jupyter.widget-view+json": {
       "model_id": "008692d93f8f4f0fbb68a1db11726f2f",
       "version_major": 2,
       "version_minor": 0
      },
      "text/plain": [
       "Epoch 41:   0%|          | 0/475 [00:00<?, ?batch/s]"
      ]
     },
     "metadata": {},
     "output_type": "display_data"
    },
    {
     "name": "stdout",
     "output_type": "stream",
     "text": [
      "Inception3 - Epoch 41 Completed - Time: 1329.18s\n",
      "Training Inception3 - Epoch 42/60\n",
      "Current Learning Rate: 1.0703125000000001e-05\n"
     ]
    },
    {
     "data": {
      "application/vnd.jupyter.widget-view+json": {
       "model_id": "b7fcc5697b504640ac94e08237ae07d4",
       "version_major": 2,
       "version_minor": 0
      },
      "text/plain": [
       "Epoch 42:   0%|          | 0/475 [00:00<?, ?batch/s]"
      ]
     },
     "metadata": {},
     "output_type": "display_data"
    },
    {
     "name": "stdout",
     "output_type": "stream",
     "text": [
      "Inception3 - Epoch 42 Completed - Time: 1338.87s\n",
      "Training Inception3 - Epoch 43/60\n",
      "Current Learning Rate: 1.1406250000000001e-05\n"
     ]
    },
    {
     "data": {
      "application/vnd.jupyter.widget-view+json": {
       "model_id": "95aacdd5681344e79f4f06792facf764",
       "version_major": 2,
       "version_minor": 0
      },
      "text/plain": [
       "Epoch 43:   0%|          | 0/475 [00:00<?, ?batch/s]"
      ]
     },
     "metadata": {},
     "output_type": "display_data"
    },
    {
     "name": "stdout",
     "output_type": "stream",
     "text": [
      "Inception3 - Epoch 43 Completed - Time: 1345.94s\n",
      "Training Inception3 - Epoch 44/60\n",
      "Current Learning Rate: 1.2109375000000001e-05\n"
     ]
    },
    {
     "data": {
      "application/vnd.jupyter.widget-view+json": {
       "model_id": "8239f36854af4b1b989b4930d520a82c",
       "version_major": 2,
       "version_minor": 0
      },
      "text/plain": [
       "Epoch 44:   0%|          | 0/475 [00:00<?, ?batch/s]"
      ]
     },
     "metadata": {},
     "output_type": "display_data"
    },
    {
     "name": "stdout",
     "output_type": "stream",
     "text": [
      "Inception3 - Epoch 44 Completed - Time: 1349.06s\n",
      "Training Inception3 - Epoch 45/60\n",
      "Current Learning Rate: 1.2812500000000001e-05\n"
     ]
    },
    {
     "data": {
      "application/vnd.jupyter.widget-view+json": {
       "model_id": "ec8e0860c6d74a2f98bd67b7b24ae78b",
       "version_major": 2,
       "version_minor": 0
      },
      "text/plain": [
       "Epoch 45:   0%|          | 0/475 [00:00<?, ?batch/s]"
      ]
     },
     "metadata": {},
     "output_type": "display_data"
    },
    {
     "name": "stdout",
     "output_type": "stream",
     "text": [
      "Inception3 - Epoch 45 Completed - Time: 1356.57s\n",
      "Training Inception3 - Epoch 46/60\n",
      "Current Learning Rate: 1.2109375000000001e-05\n"
     ]
    },
    {
     "data": {
      "application/vnd.jupyter.widget-view+json": {
       "model_id": "d07a45d8bbc946de9ac9be8c9544c1db",
       "version_major": 2,
       "version_minor": 0
      },
      "text/plain": [
       "Epoch 46:   0%|          | 0/475 [00:00<?, ?batch/s]"
      ]
     },
     "metadata": {},
     "output_type": "display_data"
    },
    {
     "name": "stdout",
     "output_type": "stream",
     "text": [
      "Inception3 - Epoch 46 Completed - Time: 1372.18s\n",
      "Training Inception3 - Epoch 47/60\n",
      "Current Learning Rate: 1.1406250000000001e-05\n"
     ]
    },
    {
     "data": {
      "application/vnd.jupyter.widget-view+json": {
       "model_id": "819259e3db6946faa6ccf81edd5a5c8a",
       "version_major": 2,
       "version_minor": 0
      },
      "text/plain": [
       "Epoch 47:   0%|          | 0/475 [00:00<?, ?batch/s]"
      ]
     },
     "metadata": {},
     "output_type": "display_data"
    },
    {
     "name": "stdout",
     "output_type": "stream",
     "text": [
      "Inception3 - Epoch 47 Completed - Time: 1395.09s\n",
      "Training Inception3 - Epoch 48/60\n",
      "Current Learning Rate: 1.0703125000000001e-05\n"
     ]
    },
    {
     "data": {
      "application/vnd.jupyter.widget-view+json": {
       "model_id": "f0ed8dc0ae5446eb864067830d5a4064",
       "version_major": 2,
       "version_minor": 0
      },
      "text/plain": [
       "Epoch 48:   0%|          | 0/475 [00:00<?, ?batch/s]"
      ]
     },
     "metadata": {},
     "output_type": "display_data"
    },
    {
     "name": "stdout",
     "output_type": "stream",
     "text": [
      "Inception3 - Epoch 48 Completed - Time: 1413.93s\n",
      "Training Inception3 - Epoch 49/60\n",
      "Current Learning Rate: 1e-05\n"
     ]
    },
    {
     "data": {
      "application/vnd.jupyter.widget-view+json": {
       "model_id": "21997a2e035b4a5f8c4391df44cb7fc3",
       "version_major": 2,
       "version_minor": 0
      },
      "text/plain": [
       "Epoch 49:   0%|          | 0/475 [00:00<?, ?batch/s]"
      ]
     },
     "metadata": {},
     "output_type": "display_data"
    },
    {
     "name": "stdout",
     "output_type": "stream",
     "text": [
      "Inception3 - Epoch 49 Completed - Time: 1457.09s\n",
      "Training Inception3 - Epoch 50/60\n",
      "Current Learning Rate: 1.03515625e-05\n"
     ]
    },
    {
     "data": {
      "application/vnd.jupyter.widget-view+json": {
       "model_id": "adba0a8e616d48ee8560a5bf9c1aad29",
       "version_major": 2,
       "version_minor": 0
      },
      "text/plain": [
       "Epoch 50:   0%|          | 0/475 [00:00<?, ?batch/s]"
      ]
     },
     "metadata": {},
     "output_type": "display_data"
    },
    {
     "name": "stdout",
     "output_type": "stream",
     "text": [
      "Inception3 - Epoch 50 Completed - Time: 1425.07s\n",
      "Training Inception3 - Epoch 51/60\n",
      "Current Learning Rate: 1.0703125000000001e-05\n"
     ]
    },
    {
     "data": {
      "application/vnd.jupyter.widget-view+json": {
       "model_id": "6278a897aa7f43a5b5080675d1f4c11f",
       "version_major": 2,
       "version_minor": 0
      },
      "text/plain": [
       "Epoch 51:   0%|          | 0/475 [00:00<?, ?batch/s]"
      ]
     },
     "metadata": {},
     "output_type": "display_data"
    },
    {
     "name": "stdout",
     "output_type": "stream",
     "text": [
      "Inception3 - Epoch 51 Completed - Time: 1251.56s\n",
      "Training Inception3 - Epoch 52/60\n",
      "Current Learning Rate: 1.10546875e-05\n"
     ]
    },
    {
     "data": {
      "application/vnd.jupyter.widget-view+json": {
       "model_id": "297a3ae661f643029fbc7555a8aa1929",
       "version_major": 2,
       "version_minor": 0
      },
      "text/plain": [
       "Epoch 52:   0%|          | 0/475 [00:00<?, ?batch/s]"
      ]
     },
     "metadata": {},
     "output_type": "display_data"
    },
    {
     "ename": "RuntimeError",
     "evalue": "CUDA error: unspecified launch failure\nCUDA kernel errors might be asynchronously reported at some other API call, so the stacktrace below might be incorrect.\nFor debugging consider passing CUDA_LAUNCH_BLOCKING=1.\nCompile with `TORCH_USE_CUDA_DSA` to enable device-side assertions.\n",
     "output_type": "error",
     "traceback": [
      "\u001b[0;31m---------------------------------------------------------------------------\u001b[0m",
      "\u001b[0;31mRuntimeError\u001b[0m                              Traceback (most recent call last)",
      "\u001b[1;32m/home/edalita/Documents/MAIA/3-Semestre/CADx/melanoma_deep_learning/notebooks/binary_classification.ipynb Cell 9\u001b[0m line \u001b[0;36m1\n\u001b[0;32m----> <a href='vscode-notebook-cell:/home/edalita/Documents/MAIA/3-Semestre/CADx/melanoma_deep_learning/notebooks/binary_classification.ipynb#X24sZmlsZQ%3D%3D?line=0'>1</a>\u001b[0m fit\u001b[39m.\u001b[39;49mmain(number_epochs\u001b[39m=\u001b[39;49m\u001b[39m60\u001b[39;49m,save_dir\u001b[39m=\u001b[39;49m\u001b[39m'\u001b[39;49m\u001b[39m../classifiers/binary_classifier/out/run_7/\u001b[39;49m\u001b[39m'\u001b[39;49m,train_dir \u001b[39m=\u001b[39;49m \u001b[39m'\u001b[39;49m\u001b[39m../prepos/train/\u001b[39;49m\u001b[39m'\u001b[39;49m)\n",
      "File \u001b[0;32m~/Documents/MAIA/3-Semestre/CADx/melanoma_deep_learning/notebooks/../classifiers/binary_classifier/fit.py:139\u001b[0m, in \u001b[0;36mmain\u001b[0;34m(number_epochs, save_dir, train_dir)\u001b[0m\n\u001b[1;32m    135\u001b[0m model_save_folder \u001b[39m=\u001b[39m save_dir  \u001b[39m# Replace with your folder path\u001b[39;00m\n\u001b[1;32m    138\u001b[0m \u001b[39mfor\u001b[39;00m model, optimizer, scheduler \u001b[39min\u001b[39;00m \u001b[39mzip\u001b[39m([inception,resnet50_model], optimizers, schedulers):\n\u001b[0;32m--> 139\u001b[0m     train_model(model, optimizer, scheduler, train_loader, criterion, num_epochs, device,model_save_folder)\n",
      "File \u001b[0;32m~/Documents/MAIA/3-Semestre/CADx/melanoma_deep_learning/notebooks/../classifiers/binary_classifier/fit.py:86\u001b[0m, in \u001b[0;36mtrain_model\u001b[0;34m(model, optimizer, scheduler, train_loader, criterion, num_epochs, device, save_path, early_stopping_threshold, patience)\u001b[0m\n\u001b[1;32m     82\u001b[0m progress_bar \u001b[39m=\u001b[39m tqdm(train_loader, desc\u001b[39m=\u001b[39m\u001b[39mf\u001b[39m\u001b[39m\"\u001b[39m\u001b[39mEpoch \u001b[39m\u001b[39m{\u001b[39;00mepoch\u001b[39m+\u001b[39m\u001b[39m1\u001b[39m\u001b[39m}\u001b[39;00m\u001b[39m\"\u001b[39m, unit\u001b[39m=\u001b[39m\u001b[39m\"\u001b[39m\u001b[39mbatch\u001b[39m\u001b[39m\"\u001b[39m)\n\u001b[1;32m     84\u001b[0m \u001b[39mfor\u001b[39;00m inputs, labels \u001b[39min\u001b[39;00m progress_bar:\n\u001b[0;32m---> 86\u001b[0m     inputs, labels \u001b[39m=\u001b[39m inputs\u001b[39m.\u001b[39;49mto(device), labels\u001b[39m.\u001b[39mto(device)\n\u001b[1;32m     87\u001b[0m     optimizer\u001b[39m.\u001b[39mzero_grad()\n\u001b[1;32m     89\u001b[0m     \u001b[39mwith\u001b[39;00m torch\u001b[39m.\u001b[39mset_grad_enabled(\u001b[39mTrue\u001b[39;00m):\n",
      "\u001b[0;31mRuntimeError\u001b[0m: CUDA error: unspecified launch failure\nCUDA kernel errors might be asynchronously reported at some other API call, so the stacktrace below might be incorrect.\nFor debugging consider passing CUDA_LAUNCH_BLOCKING=1.\nCompile with `TORCH_USE_CUDA_DSA` to enable device-side assertions.\n"
     ]
    }
   ],
   "source": [
    "fit.main(number_epochs=60,save_dir='../classifiers/binary_classifier/out/run_7/',train_dir = '../prepos/train/')"
   ]
  },
  {
   "cell_type": "code",
   "execution_count": 2,
   "metadata": {},
   "outputs": [
    {
     "name": "stdout",
     "output_type": "stream",
     "text": [
      "Using device: cuda:0\n",
      "Loaded dataset:\n",
      " - Number of images: 3796\n",
      " - Number of classes: 2\n",
      " - Class names: ['nevus', 'others']\n",
      " - Batch size: 16\n",
      "Initialized models:\n",
      " - Inception V3 with custom classifier\n",
      " - ResNet50 with custom classifier\n"
     ]
    },
    {
     "data": {
      "application/vnd.jupyter.widget-view+json": {
       "model_id": "0ce3ac6520ef456ab463cefd392eef1e",
       "version_major": 2,
       "version_minor": 0
      },
      "text/plain": [
       "Model Evaluation Progress:   0%|          | 0/10 [00:00<?, ?it/s]"
      ]
     },
     "metadata": {},
     "output_type": "display_data"
    },
    {
     "data": {
      "application/vnd.jupyter.widget-view+json": {
       "model_id": "ae931353761241b8bd535203c64c6528",
       "version_major": 2,
       "version_minor": 0
      },
      "text/plain": [
       "Evaluating:   0%|          | 0/238 [00:00<?, ?it/s]"
      ]
     },
     "metadata": {},
     "output_type": "display_data"
    },
    {
     "data": {
      "application/vnd.jupyter.widget-view+json": {
       "model_id": "2bd0852cdf474ef89dd4af7b8a63660e",
       "version_major": 2,
       "version_minor": 0
      },
      "text/plain": [
       "Evaluating:   0%|          | 0/238 [00:00<?, ?it/s]"
      ]
     },
     "metadata": {},
     "output_type": "display_data"
    },
    {
     "data": {
      "application/vnd.jupyter.widget-view+json": {
       "model_id": "b14d81a6989e4d9fb5f89d0d2d32f085",
       "version_major": 2,
       "version_minor": 0
      },
      "text/plain": [
       "Evaluating:   0%|          | 0/238 [00:00<?, ?it/s]"
      ]
     },
     "metadata": {},
     "output_type": "display_data"
    },
    {
     "data": {
      "application/vnd.jupyter.widget-view+json": {
       "model_id": "d1cfde475db7446cbea6c0d3e3d71e25",
       "version_major": 2,
       "version_minor": 0
      },
      "text/plain": [
       "Evaluating:   0%|          | 0/238 [00:00<?, ?it/s]"
      ]
     },
     "metadata": {},
     "output_type": "display_data"
    },
    {
     "data": {
      "application/vnd.jupyter.widget-view+json": {
       "model_id": "ee557ccf58674fd3938198c07987e3ff",
       "version_major": 2,
       "version_minor": 0
      },
      "text/plain": [
       "Evaluating:   0%|          | 0/238 [00:00<?, ?it/s]"
      ]
     },
     "metadata": {},
     "output_type": "display_data"
    },
    {
     "data": {
      "application/vnd.jupyter.widget-view+json": {
       "model_id": "8b9f5746374f4971b1c8fef9ca93e626",
       "version_major": 2,
       "version_minor": 0
      },
      "text/plain": [
       "Evaluating:   0%|          | 0/238 [00:00<?, ?it/s]"
      ]
     },
     "metadata": {},
     "output_type": "display_data"
    },
    {
     "data": {
      "application/vnd.jupyter.widget-view+json": {
       "model_id": "e67ca266f5fc4dd887e0384e6cf79cc7",
       "version_major": 2,
       "version_minor": 0
      },
      "text/plain": [
       "Evaluating:   0%|          | 0/238 [00:00<?, ?it/s]"
      ]
     },
     "metadata": {},
     "output_type": "display_data"
    },
    {
     "data": {
      "application/vnd.jupyter.widget-view+json": {
       "model_id": "70aa746fb2a149edb95f72103ccad374",
       "version_major": 2,
       "version_minor": 0
      },
      "text/plain": [
       "Evaluating:   0%|          | 0/238 [00:00<?, ?it/s]"
      ]
     },
     "metadata": {},
     "output_type": "display_data"
    },
    {
     "data": {
      "application/vnd.jupyter.widget-view+json": {
       "model_id": "5351907795bc4f5e9545ca985d099923",
       "version_major": 2,
       "version_minor": 0
      },
      "text/plain": [
       "Evaluating:   0%|          | 0/238 [00:00<?, ?it/s]"
      ]
     },
     "metadata": {},
     "output_type": "display_data"
    },
    {
     "data": {
      "application/vnd.jupyter.widget-view+json": {
       "model_id": "0acd2250c1904e1a9de363bd105d0f81",
       "version_major": 2,
       "version_minor": 0
      },
      "text/plain": [
       "Evaluating:   0%|          | 0/238 [00:00<?, ?it/s]"
      ]
     },
     "metadata": {},
     "output_type": "display_data"
    },
    {
     "name": "stdout",
     "output_type": "stream",
     "text": [
      "Top 12 Models:\n",
      "Rank 1: Model Path: ../classifiers/binary_classifier/out/run_5/Inception3_epoch_7.pth, Accuracy: 0.8788198103266597\n",
      "Rank 2: Model Path: ../classifiers/binary_classifier/out/run_5/Inception3_epoch_8.pth, Accuracy: 0.8777660695468915\n",
      "Rank 3: Model Path: ../classifiers/binary_classifier/out/run_5/Inception3_epoch_9.pth, Accuracy: 0.8711801896733403\n",
      "Rank 4: Model Path: ../classifiers/binary_classifier/out/run_5/Inception3_epoch_6.pth, Accuracy: 0.8706533192834562\n",
      "Rank 5: Model Path: ../classifiers/binary_classifier/out/run_5/Inception3_epoch_4.pth, Accuracy: 0.8651211801896733\n"
     ]
    }
   ],
   "source": [
    "val.main(num_classifiers=10,val_dir = '../prepos/val/',root_out = '../classifiers/binary_classifier/out/run_5/')"
   ]
  }
 ],
 "metadata": {
  "kernelspec": {
   "display_name": "Python 3",
   "language": "python",
   "name": "python3"
  },
  "language_info": {
   "codemirror_mode": {
    "name": "ipython",
    "version": 3
   },
   "file_extension": ".py",
   "mimetype": "text/x-python",
   "name": "python",
   "nbconvert_exporter": "python",
   "pygments_lexer": "ipython3",
   "version": "3.10.12"
  }
 },
 "nbformat": 4,
 "nbformat_minor": 2
}
