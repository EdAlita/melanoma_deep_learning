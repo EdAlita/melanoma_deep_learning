{
 "cells": [
  {
   "cell_type": "code",
   "execution_count": 1,
   "metadata": {},
   "outputs": [],
   "source": [
    "import sys\n",
    "sys.path.append('../classifiers/binary_classifier')\n",
    "import fit\n",
    "import val\n",
    "import emsamble"
   ]
  },
  {
   "cell_type": "code",
   "execution_count": null,
   "metadata": {},
   "outputs": [],
   "source": [
    "#fit.main(train_dir='../data/train/',save_dir='../classifiers/binary_classifier/out/run_4/')"
   ]
  },
  {
   "cell_type": "code",
   "execution_count": 2,
   "metadata": {},
   "outputs": [
    {
     "name": "stdout",
     "output_type": "stream",
     "text": [
      "Using device: cuda:0\n",
      "Loaded dataset:\n",
      " - Number of images: 3796\n",
      " - Number of classes: 2\n",
      " - Class names: ['nevus', 'others']\n",
      " - Batch size: 32\n",
      "Initialized models:\n",
      " - Inception V3 with custom classifier\n",
      " - ResNet50 with custom classifier\n"
     ]
    },
    {
     "name": "stderr",
     "output_type": "stream",
     "text": [
      "Model Evaluation Progress:  24%|██▍       | 8/33 [24:55<1:22:42, 198.50s/it]"
     ]
    }
   ],
   "source": [
    "val.main(val_dir = '../data/val/',root_out = '../classifiers/binary_classifier/out/run_4/')"
   ]
  },
  {
   "cell_type": "code",
   "execution_count": null,
   "metadata": {},
   "outputs": [],
   "source": [
    "emsamble.main(train_data_path='../data/val/',run_path='../classifiers/binary_classifier/out/run_1/')"
   ]
  }
 ],
 "metadata": {
  "kernelspec": {
   "display_name": "Python 3",
   "language": "python",
   "name": "python3"
  },
  "language_info": {
   "codemirror_mode": {
    "name": "ipython",
    "version": 3
   },
   "file_extension": ".py",
   "mimetype": "text/x-python",
   "name": "python",
   "nbconvert_exporter": "python",
   "pygments_lexer": "ipython3",
   "version": "3.10.12"
  }
 },
 "nbformat": 4,
 "nbformat_minor": 2
}
