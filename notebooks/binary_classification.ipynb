{
 "cells": [
  {
   "cell_type": "code",
   "execution_count": 1,
   "metadata": {},
   "outputs": [],
   "source": [
    "import sys\n",
    "sys.path.append('../classifiers/binary_classifier')\n",
    "import fit\n",
    "import val\n",
    "import emsamble"
   ]
  },
  {
   "cell_type": "markdown",
   "metadata": {},
   "source": [
    "## Results with 0.5 Drop Rate"
   ]
  },
  {
   "cell_type": "code",
   "execution_count": 4,
   "metadata": {},
   "outputs": [
    {
     "name": "stdout",
     "output_type": "stream",
     "text": [
      "Using device: cuda:0\n",
      "Loaded dataset:\n",
      " - Number of images: 3796\n",
      " - Number of classes: 2\n",
      " - Class names: ['nevus', 'others']\n",
      " - Batch size: 32\n",
      "Initialized models:\n",
      " - Inception V3 with custom classifier\n",
      " - ResNet50 with custom classifier\n"
     ]
    },
    {
     "name": "stderr",
     "output_type": "stream",
     "text": [
      "Model Evaluation Progress: 100%|██████████| 61/61 [1:49:17<00:00, 107.50s/it]"
     ]
    },
    {
     "name": "stdout",
     "output_type": "stream",
     "text": [
      "Top 12 Models:\n",
      "Rank 1: Model Path: ../classifiers/binary_classifier/out/run_1/Inception3_epoch_48.pth, Accuracy: 0.8993677555321391\n",
      "Rank 2: Model Path: ../classifiers/binary_classifier/out/run_1/Inception3_epoch_43.pth, Accuracy: 0.8980505795574288\n",
      "Rank 3: Model Path: ../classifiers/binary_classifier/out/run_1/Inception3_epoch_42.pth, Accuracy: 0.8977871443624869\n",
      "Rank 4: Model Path: ../classifiers/binary_classifier/out/run_1/Inception3_epoch_44.pth, Accuracy: 0.8977871443624869\n",
      "Rank 5: Model Path: ../classifiers/binary_classifier/out/run_1/Inception3_epoch_59.pth, Accuracy: 0.8972602739726028\n",
      "Rank 6: Model Path: ../classifiers/binary_classifier/out/run_1/Inception3_epoch_56.pth, Accuracy: 0.8969968387776607\n",
      "Rank 7: Model Path: ../classifiers/binary_classifier/out/run_1/Inception3_epoch_36.pth, Accuracy: 0.8967334035827187\n",
      "Rank 8: Model Path: ../classifiers/binary_classifier/out/run_1/Inception3_epoch_47.pth, Accuracy: 0.8967334035827187\n",
      "Rank 9: Model Path: ../classifiers/binary_classifier/out/run_1/Inception3_epoch_58.pth, Accuracy: 0.8967334035827187\n",
      "Rank 10: Model Path: ../classifiers/binary_classifier/out/run_1/Inception3_epoch_60.pth, Accuracy: 0.8967334035827187\n",
      "Rank 11: Model Path: ../classifiers/binary_classifier/out/run_1/Inception3_epoch_35.pth, Accuracy: 0.8964699683877766\n",
      "Rank 12: Model Path: ../classifiers/binary_classifier/out/run_1/Inception3_epoch_37.pth, Accuracy: 0.8964699683877766\n"
     ]
    },
    {
     "name": "stderr",
     "output_type": "stream",
     "text": [
      "\n"
     ]
    }
   ],
   "source": [
    "val.main(num_classifiers=61,val_dir = '../data/val/',root_out = '../classifiers/binary_classifier/out/run_1/')"
   ]
  },
  {
   "cell_type": "markdown",
   "metadata": {},
   "source": [
    "## Results with 0.7"
   ]
  },
  {
   "cell_type": "code",
   "execution_count": 2,
   "metadata": {},
   "outputs": [
    {
     "name": "stdout",
     "output_type": "stream",
     "text": [
      "Using device: cuda:0\n",
      "Loaded dataset:\n",
      " - Number of images: 3796\n",
      " - Number of classes: 2\n",
      " - Class names: ['nevus', 'others']\n",
      " - Batch size: 32\n",
      "Initialized models:\n",
      " - Inception V3 with custom classifier\n",
      " - ResNet50 with custom classifier\n"
     ]
    },
    {
     "name": "stderr",
     "output_type": "stream",
     "text": [
      "Model Evaluation Progress: 100%|██████████| 33/33 [1:16:22<00:00, 138.86s/it]"
     ]
    },
    {
     "name": "stdout",
     "output_type": "stream",
     "text": [
      "Top 12 Models:\n",
      "Rank 1: Model Path: ../classifiers/binary_classifier/out/run_4/Inception3_epoch_8.pth, Accuracy: 0.8890937829293993\n",
      "Rank 2: Model Path: ../classifiers/binary_classifier/out/run_4/Inception3_epoch_21.pth, Accuracy: 0.8883034773445733\n",
      "Rank 3: Model Path: ../classifiers/binary_classifier/out/run_4/Inception3_epoch_7.pth, Accuracy: 0.886722866174921\n",
      "Rank 4: Model Path: ../classifiers/binary_classifier/out/run_4/Inception3_epoch_25.pth, Accuracy: 0.886722866174921\n",
      "Rank 5: Model Path: ../classifiers/binary_classifier/out/run_4/Inception3_epoch_13.pth, Accuracy: 0.8856691253951527\n",
      "Rank 6: Model Path: ../classifiers/binary_classifier/out/run_4/Inception3_epoch_31.pth, Accuracy: 0.8851422550052687\n"
     ]
    },
    {
     "name": "stderr",
     "output_type": "stream",
     "text": [
      "\n"
     ]
    }
   ],
   "source": [
    "val.main(num_classifiers=33,val_dir = '../data/val/',root_out = '../classifiers/binary_classifier/out/run_4/')"
   ]
  },
  {
   "cell_type": "code",
   "execution_count": 3,
   "metadata": {},
   "outputs": [
    {
     "name": "stdout",
     "output_type": "stream",
     "text": [
      "Using device: cuda:0\n",
      "Initialized models:\n",
      " - Inception V3 with custom classifier\n",
      " - ResNet50 with custom classifier\n",
      "Loaded dataset:\n",
      " - Number of images: 3796\n",
      " - Number of classes: 2\n",
      " - Class names: ['nevus', 'others']\n",
      " - Batch size: 16\n"
     ]
    },
    {
     "name": "stderr",
     "output_type": "stream",
     "text": [
      "Generating Class Predictions: 100%|██████████| 238/238 [04:46<00:00,  1.21s/it]"
     ]
    },
    {
     "name": "stdout",
     "output_type": "stream",
     "text": [
      "Accuracy of the ensemble: 88.51%\n"
     ]
    },
    {
     "name": "stderr",
     "output_type": "stream",
     "text": [
      "\n"
     ]
    }
   ],
   "source": [
    "emsamble.main(train_data_path='../data/val/',run_path='../classifiers/binary_classifier/out/run_4/')"
   ]
  },
  {
   "cell_type": "markdown",
   "metadata": {},
   "source": [
    "## With masks and a drop rate of 0.3"
   ]
  },
  {
   "cell_type": "code",
   "execution_count": 2,
   "metadata": {},
   "outputs": [
    {
     "name": "stdout",
     "output_type": "stream",
     "text": [
      "Using device: cuda:0\n",
      "Loaded dataset:\n",
      " - Number of images: 3796\n",
      " - Number of classes: 2\n",
      " - Class names: ['nevus', 'others']\n",
      " - Batch size: 32\n",
      "Initialized models:\n",
      " - Inception V3 with custom classifier\n",
      " - ResNet50 with custom classifier\n"
     ]
    },
    {
     "name": "stderr",
     "output_type": "stream",
     "text": [
      "Model Evaluation Progress: 100%|██████████| 60/60 [1:23:51<00:00, 83.86s/it]"
     ]
    },
    {
     "name": "stdout",
     "output_type": "stream",
     "text": [
      "Top 12 Models:\n",
      "Rank 1: Model Path: ../classifiers/binary_classifier/out/run_5/Inception3_epoch_23.pth, Accuracy: 0.8472075869336143\n",
      "Rank 2: Model Path: ../classifiers/binary_classifier/out/run_5/Inception3_epoch_58.pth, Accuracy: 0.8456269757639621\n",
      "Rank 3: Model Path: ../classifiers/binary_classifier/out/run_5/Inception3_epoch_32.pth, Accuracy: 0.8443097997892518\n",
      "Rank 4: Model Path: ../classifiers/binary_classifier/out/run_5/Inception3_epoch_59.pth, Accuracy: 0.8443097997892518\n",
      "Rank 5: Model Path: ../classifiers/binary_classifier/out/run_5/Inception3_epoch_37.pth, Accuracy: 0.8440463645943098\n",
      "Rank 6: Model Path: ../classifiers/binary_classifier/out/run_5/Inception3_epoch_25.pth, Accuracy: 0.8437829293993677\n",
      "Rank 7: Model Path: ../classifiers/binary_classifier/out/run_5/Inception3_epoch_34.pth, Accuracy: 0.8432560590094836\n",
      "Rank 8: Model Path: ../classifiers/binary_classifier/out/run_5/Inception3_epoch_24.pth, Accuracy: 0.8429926238145417\n",
      "Rank 9: Model Path: ../classifiers/binary_classifier/out/run_5/Inception3_epoch_39.pth, Accuracy: 0.8427291886195996\n",
      "Rank 10: Model Path: ../classifiers/binary_classifier/out/run_5/Inception3_epoch_15.pth, Accuracy: 0.8419388830347735\n",
      "Rank 11: Model Path: ../classifiers/binary_classifier/out/run_5/Inception3_epoch_19.pth, Accuracy: 0.8419388830347735\n",
      "Rank 12: Model Path: ../classifiers/binary_classifier/out/run_5/Inception3_epoch_26.pth, Accuracy: 0.8419388830347735\n"
     ]
    },
    {
     "name": "stderr",
     "output_type": "stream",
     "text": [
      "\n"
     ]
    }
   ],
   "source": [
    "val.main(val_dir = '../data/val/',root_out = '../classifiers/binary_classifier/out/run_5/')"
   ]
  }
 ],
 "metadata": {
  "kernelspec": {
   "display_name": "Python 3",
   "language": "python",
   "name": "python3"
  },
  "language_info": {
   "codemirror_mode": {
    "name": "ipython",
    "version": 3
   },
   "file_extension": ".py",
   "mimetype": "text/x-python",
   "name": "python",
   "nbconvert_exporter": "python",
   "pygments_lexer": "ipython3",
   "version": "3.10.12"
  }
 },
 "nbformat": 4,
 "nbformat_minor": 2
}
