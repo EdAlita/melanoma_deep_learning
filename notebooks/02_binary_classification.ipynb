{
 "cells": [
  {
   "cell_type": "code",
   "execution_count": 1,
   "metadata": {},
   "outputs": [],
   "source": [
    "import sys\n",
    "sys.path.append('../classifiers/binary_classifier')\n",
    "import fit\n",
    "import val\n",
    "import emsamble"
   ]
  },
  {
   "cell_type": "markdown",
   "metadata": {},
   "source": [
    "## Results with 0.5 Drop Rate"
   ]
  },
  {
   "cell_type": "code",
   "execution_count": 4,
   "metadata": {},
   "outputs": [
    {
     "name": "stdout",
     "output_type": "stream",
     "text": [
      "Using device: cuda:0\n",
      "Loaded dataset:\n",
      " - Number of images: 3796\n",
      " - Number of classes: 2\n",
      " - Class names: ['nevus', 'others']\n",
      " - Batch size: 32\n",
      "Initialized models:\n",
      " - Inception V3 with custom classifier\n",
      " - ResNet50 with custom classifier\n"
     ]
    },
    {
     "name": "stderr",
     "output_type": "stream",
     "text": [
      "Model Evaluation Progress: 100%|██████████| 61/61 [1:49:17<00:00, 107.50s/it]"
     ]
    },
    {
     "name": "stdout",
     "output_type": "stream",
     "text": [
      "Top 12 Models:\n",
      "Rank 1: Model Path: ../classifiers/binary_classifier/out/run_1/Inception3_epoch_48.pth, Accuracy: 0.8993677555321391\n",
      "Rank 2: Model Path: ../classifiers/binary_classifier/out/run_1/Inception3_epoch_43.pth, Accuracy: 0.8980505795574288\n",
      "Rank 3: Model Path: ../classifiers/binary_classifier/out/run_1/Inception3_epoch_42.pth, Accuracy: 0.8977871443624869\n",
      "Rank 4: Model Path: ../classifiers/binary_classifier/out/run_1/Inception3_epoch_44.pth, Accuracy: 0.8977871443624869\n",
      "Rank 5: Model Path: ../classifiers/binary_classifier/out/run_1/Inception3_epoch_59.pth, Accuracy: 0.8972602739726028\n",
      "Rank 6: Model Path: ../classifiers/binary_classifier/out/run_1/Inception3_epoch_56.pth, Accuracy: 0.8969968387776607\n",
      "Rank 7: Model Path: ../classifiers/binary_classifier/out/run_1/Inception3_epoch_36.pth, Accuracy: 0.8967334035827187\n",
      "Rank 8: Model Path: ../classifiers/binary_classifier/out/run_1/Inception3_epoch_47.pth, Accuracy: 0.8967334035827187\n",
      "Rank 9: Model Path: ../classifiers/binary_classifier/out/run_1/Inception3_epoch_58.pth, Accuracy: 0.8967334035827187\n",
      "Rank 10: Model Path: ../classifiers/binary_classifier/out/run_1/Inception3_epoch_60.pth, Accuracy: 0.8967334035827187\n",
      "Rank 11: Model Path: ../classifiers/binary_classifier/out/run_1/Inception3_epoch_35.pth, Accuracy: 0.8964699683877766\n",
      "Rank 12: Model Path: ../classifiers/binary_classifier/out/run_1/Inception3_epoch_37.pth, Accuracy: 0.8964699683877766\n"
     ]
    },
    {
     "name": "stderr",
     "output_type": "stream",
     "text": [
      "\n"
     ]
    }
   ],
   "source": [
    "val.main(num_classifiers=61,val_dir = '../data/val/',root_out = '../classifiers/binary_classifier/out/run_1/')"
   ]
  },
  {
   "cell_type": "markdown",
   "metadata": {},
   "source": [
    "## Results with 0.7"
   ]
  },
  {
   "cell_type": "code",
   "execution_count": 2,
   "metadata": {},
   "outputs": [
    {
     "name": "stdout",
     "output_type": "stream",
     "text": [
      "Using device: cuda:0\n",
      "Loaded dataset:\n",
      " - Number of images: 3796\n",
      " - Number of classes: 2\n",
      " - Class names: ['nevus', 'others']\n",
      " - Batch size: 32\n",
      "Initialized models:\n",
      " - Inception V3 with custom classifier\n",
      " - ResNet50 with custom classifier\n"
     ]
    },
    {
     "name": "stderr",
     "output_type": "stream",
     "text": [
      "Model Evaluation Progress: 100%|██████████| 33/33 [1:16:22<00:00, 138.86s/it]"
     ]
    },
    {
     "name": "stdout",
     "output_type": "stream",
     "text": [
      "Top 12 Models:\n",
      "Rank 1: Model Path: ../classifiers/binary_classifier/out/run_4/Inception3_epoch_8.pth, Accuracy: 0.8890937829293993\n",
      "Rank 2: Model Path: ../classifiers/binary_classifier/out/run_4/Inception3_epoch_21.pth, Accuracy: 0.8883034773445733\n",
      "Rank 3: Model Path: ../classifiers/binary_classifier/out/run_4/Inception3_epoch_7.pth, Accuracy: 0.886722866174921\n",
      "Rank 4: Model Path: ../classifiers/binary_classifier/out/run_4/Inception3_epoch_25.pth, Accuracy: 0.886722866174921\n",
      "Rank 5: Model Path: ../classifiers/binary_classifier/out/run_4/Inception3_epoch_13.pth, Accuracy: 0.8856691253951527\n",
      "Rank 6: Model Path: ../classifiers/binary_classifier/out/run_4/Inception3_epoch_31.pth, Accuracy: 0.8851422550052687\n"
     ]
    },
    {
     "name": "stderr",
     "output_type": "stream",
     "text": [
      "\n"
     ]
    }
   ],
   "source": [
    "val.main(num_classifiers=33,val_dir = '../data/val/',root_out = '../classifiers/binary_classifier/out/run_4/')"
   ]
  },
  {
   "cell_type": "code",
   "execution_count": 3,
   "metadata": {},
   "outputs": [
    {
     "name": "stdout",
     "output_type": "stream",
     "text": [
      "Using device: cuda:0\n",
      "Initialized models:\n",
      " - Inception V3 with custom classifier\n",
      " - ResNet50 with custom classifier\n",
      "Loaded dataset:\n",
      " - Number of images: 3796\n",
      " - Number of classes: 2\n",
      " - Class names: ['nevus', 'others']\n",
      " - Batch size: 16\n"
     ]
    },
    {
     "name": "stderr",
     "output_type": "stream",
     "text": [
      "Generating Class Predictions: 100%|██████████| 238/238 [04:46<00:00,  1.21s/it]"
     ]
    },
    {
     "name": "stdout",
     "output_type": "stream",
     "text": [
      "Accuracy of the ensemble: 88.51%\n"
     ]
    },
    {
     "name": "stderr",
     "output_type": "stream",
     "text": [
      "\n"
     ]
    }
   ],
   "source": [
    "emsamble.main(train_data_path='../data/val/',run_path='../classifiers/binary_classifier/out/run_4/')"
   ]
  },
  {
   "cell_type": "markdown",
   "metadata": {},
   "source": [
    "## With masks and a drop rate of 0.3"
   ]
  },
  {
   "cell_type": "code",
   "execution_count": 2,
   "metadata": {},
   "outputs": [
    {
     "name": "stdout",
     "output_type": "stream",
     "text": [
      "Using device: cuda:0\n",
      "Loaded dataset:\n",
      " - Number of images: 3796\n",
      " - Number of classes: 2\n",
      " - Class names: ['nevus', 'others']\n",
      " - Batch size: 32\n",
      "Initialized models:\n",
      " - Inception V3 with custom classifier\n",
      " - ResNet50 with custom classifier\n"
     ]
    },
    {
     "name": "stderr",
     "output_type": "stream",
     "text": [
      "Model Evaluation Progress: 100%|██████████| 60/60 [1:23:51<00:00, 83.86s/it]"
     ]
    },
    {
     "name": "stdout",
     "output_type": "stream",
     "text": [
      "Top 12 Models:\n",
      "Rank 1: Model Path: ../classifiers/binary_classifier/out/run_5/Inception3_epoch_23.pth, Accuracy: 0.8472075869336143\n",
      "Rank 2: Model Path: ../classifiers/binary_classifier/out/run_5/Inception3_epoch_58.pth, Accuracy: 0.8456269757639621\n",
      "Rank 3: Model Path: ../classifiers/binary_classifier/out/run_5/Inception3_epoch_32.pth, Accuracy: 0.8443097997892518\n",
      "Rank 4: Model Path: ../classifiers/binary_classifier/out/run_5/Inception3_epoch_59.pth, Accuracy: 0.8443097997892518\n",
      "Rank 5: Model Path: ../classifiers/binary_classifier/out/run_5/Inception3_epoch_37.pth, Accuracy: 0.8440463645943098\n",
      "Rank 6: Model Path: ../classifiers/binary_classifier/out/run_5/Inception3_epoch_25.pth, Accuracy: 0.8437829293993677\n",
      "Rank 7: Model Path: ../classifiers/binary_classifier/out/run_5/Inception3_epoch_34.pth, Accuracy: 0.8432560590094836\n",
      "Rank 8: Model Path: ../classifiers/binary_classifier/out/run_5/Inception3_epoch_24.pth, Accuracy: 0.8429926238145417\n",
      "Rank 9: Model Path: ../classifiers/binary_classifier/out/run_5/Inception3_epoch_39.pth, Accuracy: 0.8427291886195996\n",
      "Rank 10: Model Path: ../classifiers/binary_classifier/out/run_5/Inception3_epoch_15.pth, Accuracy: 0.8419388830347735\n",
      "Rank 11: Model Path: ../classifiers/binary_classifier/out/run_5/Inception3_epoch_19.pth, Accuracy: 0.8419388830347735\n",
      "Rank 12: Model Path: ../classifiers/binary_classifier/out/run_5/Inception3_epoch_26.pth, Accuracy: 0.8419388830347735\n"
     ]
    },
    {
     "name": "stderr",
     "output_type": "stream",
     "text": [
      "\n"
     ]
    }
   ],
   "source": [
    "val.main(val_dir = '../data/val/',root_out = '../classifiers/binary_classifier/out/run_5/')"
   ]
  },
  {
   "cell_type": "code",
   "execution_count": 2,
   "metadata": {},
   "outputs": [
    {
     "name": "stdout",
     "output_type": "stream",
     "text": [
      "Using device: cuda:0\n",
      "Loaded dataset:\n",
      " - Number of images: 3796\n",
      " - Number of classes: 2\n",
      " - Class names: ['nevus', 'others']\n",
      " - Batch size: 16\n",
      "Initialized models:\n",
      " - Inception V3 with custom classifier\n",
      " - ResNet50 with custom classifier\n"
     ]
    },
    {
     "data": {
      "application/vnd.jupyter.widget-view+json": {
       "model_id": "0ce3ac6520ef456ab463cefd392eef1e",
       "version_major": 2,
       "version_minor": 0
      },
      "text/plain": [
       "Model Evaluation Progress:   0%|          | 0/10 [00:00<?, ?it/s]"
      ]
     },
     "metadata": {},
     "output_type": "display_data"
    },
    {
     "data": {
      "application/vnd.jupyter.widget-view+json": {
       "model_id": "ae931353761241b8bd535203c64c6528",
       "version_major": 2,
       "version_minor": 0
      },
      "text/plain": [
       "Evaluating:   0%|          | 0/238 [00:00<?, ?it/s]"
      ]
     },
     "metadata": {},
     "output_type": "display_data"
    },
    {
     "data": {
      "application/vnd.jupyter.widget-view+json": {
       "model_id": "2bd0852cdf474ef89dd4af7b8a63660e",
       "version_major": 2,
       "version_minor": 0
      },
      "text/plain": [
       "Evaluating:   0%|          | 0/238 [00:00<?, ?it/s]"
      ]
     },
     "metadata": {},
     "output_type": "display_data"
    },
    {
     "data": {
      "application/vnd.jupyter.widget-view+json": {
       "model_id": "b14d81a6989e4d9fb5f89d0d2d32f085",
       "version_major": 2,
       "version_minor": 0
      },
      "text/plain": [
       "Evaluating:   0%|          | 0/238 [00:00<?, ?it/s]"
      ]
     },
     "metadata": {},
     "output_type": "display_data"
    },
    {
     "data": {
      "application/vnd.jupyter.widget-view+json": {
       "model_id": "d1cfde475db7446cbea6c0d3e3d71e25",
       "version_major": 2,
       "version_minor": 0
      },
      "text/plain": [
       "Evaluating:   0%|          | 0/238 [00:00<?, ?it/s]"
      ]
     },
     "metadata": {},
     "output_type": "display_data"
    },
    {
     "data": {
      "application/vnd.jupyter.widget-view+json": {
       "model_id": "ee557ccf58674fd3938198c07987e3ff",
       "version_major": 2,
       "version_minor": 0
      },
      "text/plain": [
       "Evaluating:   0%|          | 0/238 [00:00<?, ?it/s]"
      ]
     },
     "metadata": {},
     "output_type": "display_data"
    },
    {
     "data": {
      "application/vnd.jupyter.widget-view+json": {
       "model_id": "8b9f5746374f4971b1c8fef9ca93e626",
       "version_major": 2,
       "version_minor": 0
      },
      "text/plain": [
       "Evaluating:   0%|          | 0/238 [00:00<?, ?it/s]"
      ]
     },
     "metadata": {},
     "output_type": "display_data"
    },
    {
     "data": {
      "application/vnd.jupyter.widget-view+json": {
       "model_id": "e67ca266f5fc4dd887e0384e6cf79cc7",
       "version_major": 2,
       "version_minor": 0
      },
      "text/plain": [
       "Evaluating:   0%|          | 0/238 [00:00<?, ?it/s]"
      ]
     },
     "metadata": {},
     "output_type": "display_data"
    },
    {
     "data": {
      "application/vnd.jupyter.widget-view+json": {
       "model_id": "70aa746fb2a149edb95f72103ccad374",
       "version_major": 2,
       "version_minor": 0
      },
      "text/plain": [
       "Evaluating:   0%|          | 0/238 [00:00<?, ?it/s]"
      ]
     },
     "metadata": {},
     "output_type": "display_data"
    },
    {
     "data": {
      "application/vnd.jupyter.widget-view+json": {
       "model_id": "5351907795bc4f5e9545ca985d099923",
       "version_major": 2,
       "version_minor": 0
      },
      "text/plain": [
       "Evaluating:   0%|          | 0/238 [00:00<?, ?it/s]"
      ]
     },
     "metadata": {},
     "output_type": "display_data"
    },
    {
     "data": {
      "application/vnd.jupyter.widget-view+json": {
       "model_id": "0acd2250c1904e1a9de363bd105d0f81",
       "version_major": 2,
       "version_minor": 0
      },
      "text/plain": [
       "Evaluating:   0%|          | 0/238 [00:00<?, ?it/s]"
      ]
     },
     "metadata": {},
     "output_type": "display_data"
    },
    {
     "name": "stdout",
     "output_type": "stream",
     "text": [
      "Top 12 Models:\n",
      "Rank 1: Model Path: ../classifiers/binary_classifier/out/run_5/Inception3_epoch_7.pth, Accuracy: 0.8788198103266597\n",
      "Rank 2: Model Path: ../classifiers/binary_classifier/out/run_5/Inception3_epoch_8.pth, Accuracy: 0.8777660695468915\n",
      "Rank 3: Model Path: ../classifiers/binary_classifier/out/run_5/Inception3_epoch_9.pth, Accuracy: 0.8711801896733403\n",
      "Rank 4: Model Path: ../classifiers/binary_classifier/out/run_5/Inception3_epoch_6.pth, Accuracy: 0.8706533192834562\n",
      "Rank 5: Model Path: ../classifiers/binary_classifier/out/run_5/Inception3_epoch_4.pth, Accuracy: 0.8651211801896733\n"
     ]
    }
   ],
   "source": [
    "val.main(num_classifiers=10,val_dir = '../prepos/val/',root_out = '../classifiers/binary_classifier/out/run_5/')"
   ]
  },
  {
   "cell_type": "markdown",
   "metadata": {},
   "source": [
    "## Attention Test"
   ]
  },
  {
   "cell_type": "code",
   "execution_count": 3,
   "metadata": {},
   "outputs": [
    {
     "name": "stdout",
     "output_type": "stream",
     "text": [
      "Using device: cuda:0\n",
      "Loaded dataset:\n",
      " - Number of images: 3796\n",
      " - Number of classes: 2\n",
      " - Class names: ['nevus', 'others']\n",
      " - Batch size: 16\n",
      "Initialized models:\n",
      " - Inception V3 with custom classifier\n",
      " - ResNet50 with custom classifier\n"
     ]
    },
    {
     "data": {
      "application/vnd.jupyter.widget-view+json": {
       "model_id": "3202818fb7954a8fba3083ab9374fd16",
       "version_major": 2,
       "version_minor": 0
      },
      "text/plain": [
       "Model Evaluation Progress:   0%|          | 0/10 [00:00<?, ?it/s]"
      ]
     },
     "metadata": {},
     "output_type": "display_data"
    },
    {
     "data": {
      "application/vnd.jupyter.widget-view+json": {
       "model_id": "9868aa567e8448a6b09d0b999d1e2f5f",
       "version_major": 2,
       "version_minor": 0
      },
      "text/plain": [
       "Evaluating:   0%|          | 0/238 [00:00<?, ?it/s]"
      ]
     },
     "metadata": {},
     "output_type": "display_data"
    },
    {
     "data": {
      "application/vnd.jupyter.widget-view+json": {
       "model_id": "6d2b26b4076a4908b659b14470bad3bc",
       "version_major": 2,
       "version_minor": 0
      },
      "text/plain": [
       "Evaluating:   0%|          | 0/238 [00:00<?, ?it/s]"
      ]
     },
     "metadata": {},
     "output_type": "display_data"
    },
    {
     "data": {
      "application/vnd.jupyter.widget-view+json": {
       "model_id": "e93ee1f1b07b443f9fc1bb4471b666b8",
       "version_major": 2,
       "version_minor": 0
      },
      "text/plain": [
       "Evaluating:   0%|          | 0/238 [00:00<?, ?it/s]"
      ]
     },
     "metadata": {},
     "output_type": "display_data"
    },
    {
     "data": {
      "application/vnd.jupyter.widget-view+json": {
       "model_id": "f97e25709958488b9cf28043b552675c",
       "version_major": 2,
       "version_minor": 0
      },
      "text/plain": [
       "Evaluating:   0%|          | 0/238 [00:00<?, ?it/s]"
      ]
     },
     "metadata": {},
     "output_type": "display_data"
    },
    {
     "data": {
      "application/vnd.jupyter.widget-view+json": {
       "model_id": "601ed001028c466bb536feeacaf2d2c0",
       "version_major": 2,
       "version_minor": 0
      },
      "text/plain": [
       "Evaluating:   0%|          | 0/238 [00:00<?, ?it/s]"
      ]
     },
     "metadata": {},
     "output_type": "display_data"
    },
    {
     "data": {
      "application/vnd.jupyter.widget-view+json": {
       "model_id": "e46f28193fbd4654b36580d5195a77fe",
       "version_major": 2,
       "version_minor": 0
      },
      "text/plain": [
       "Evaluating:   0%|          | 0/238 [00:00<?, ?it/s]"
      ]
     },
     "metadata": {},
     "output_type": "display_data"
    },
    {
     "data": {
      "application/vnd.jupyter.widget-view+json": {
       "model_id": "7a010c567e8a4af2b9833308f4952db9",
       "version_major": 2,
       "version_minor": 0
      },
      "text/plain": [
       "Evaluating:   0%|          | 0/238 [00:00<?, ?it/s]"
      ]
     },
     "metadata": {},
     "output_type": "display_data"
    },
    {
     "data": {
      "application/vnd.jupyter.widget-view+json": {
       "model_id": "79ad38dacf584e21938cf6500498f9b2",
       "version_major": 2,
       "version_minor": 0
      },
      "text/plain": [
       "Evaluating:   0%|          | 0/238 [00:00<?, ?it/s]"
      ]
     },
     "metadata": {},
     "output_type": "display_data"
    },
    {
     "data": {
      "application/vnd.jupyter.widget-view+json": {
       "model_id": "6ab175528e8543debac71dd25850bf92",
       "version_major": 2,
       "version_minor": 0
      },
      "text/plain": [
       "Evaluating:   0%|          | 0/238 [00:00<?, ?it/s]"
      ]
     },
     "metadata": {},
     "output_type": "display_data"
    },
    {
     "data": {
      "application/vnd.jupyter.widget-view+json": {
       "model_id": "ba6f17407d494649b3a62a89ecce144d",
       "version_major": 2,
       "version_minor": 0
      },
      "text/plain": [
       "Evaluating:   0%|          | 0/238 [00:00<?, ?it/s]"
      ]
     },
     "metadata": {},
     "output_type": "display_data"
    },
    {
     "name": "stdout",
     "output_type": "stream",
     "text": [
      "Top 12 Models:\n",
      "Rank 1: Model Path: ../classifiers/binary_classifier/out/run_8/Inception3_epoch_8.pth, Accuracy: 0.8883034773445733\n",
      "Rank 2: Model Path: ../classifiers/binary_classifier/out/run_8/Inception3_epoch_6.pth, Accuracy: 0.886722866174921\n",
      "Rank 3: Model Path: ../classifiers/binary_classifier/out/run_8/Inception3_epoch_7.pth, Accuracy: 0.8859325605900948\n",
      "Rank 4: Model Path: ../classifiers/binary_classifier/out/run_8/Inception3_epoch_9.pth, Accuracy: 0.8856691253951527\n",
      "Rank 5: Model Path: ../classifiers/binary_classifier/out/run_8/Inception3_epoch_5.pth, Accuracy: 0.8819810326659642\n"
     ]
    },
    {
     "ename": "",
     "evalue": "",
     "output_type": "error",
     "traceback": [
      "\u001b[1;31mThe Kernel crashed while executing code in the the current cell or a previous cell. Please review the code in the cell(s) to identify a possible cause of the failure. Click <a href='https://aka.ms/vscodeJupyterKernelCrash'>here</a> for more info. View Jupyter <a href='command:jupyter.viewOutput'>log</a> for further details."
     ]
    }
   ],
   "source": [
    "val.main(num_classifiers=10,val_dir = '../data/val/',root_out = '../classifiers/binary_classifier/out/run_8/')"
   ]
  },
  {
   "cell_type": "markdown",
   "metadata": {},
   "source": [
    "## Best model implementation"
   ]
  },
  {
   "cell_type": "code",
   "execution_count": 2,
   "metadata": {},
   "outputs": [
    {
     "name": "stdout",
     "output_type": "stream",
     "text": [
      "Using device: cuda:0\n",
      "Loaded dataset:\n",
      " - Number of images: 3796\n",
      " - Number of classes: 2\n",
      " - Class names: ['nevus', 'others']\n",
      " - Batch size: 16\n",
      "Initialized models:\n",
      " - Inception V3 with custom classifier\n",
      " - EfficientNet B0 with custom classifier\n"
     ]
    },
    {
     "data": {
      "application/vnd.jupyter.widget-view+json": {
       "model_id": "b0e32c0e14b34aaebe10175abb0a9751",
       "version_major": 2,
       "version_minor": 0
      },
      "text/plain": [
       "Evaluating:   0%|          | 0/238 [00:00<?, ?it/s]"
      ]
     },
     "metadata": {},
     "output_type": "display_data"
    },
    {
     "name": "stdout",
     "output_type": "stream",
     "text": [
      "Model: EfficientNet, Path: ../classifiers/binary_classifier/out/run_9/EfficientNet_best.pth, Accuracy: 0.8790832455216017\n"
     ]
    },
    {
     "data": {
      "application/vnd.jupyter.widget-view+json": {
       "model_id": "8cdbc15fdbce425e8f645103c1bc740b",
       "version_major": 2,
       "version_minor": 0
      },
      "text/plain": [
       "Evaluating:   0%|          | 0/238 [00:00<?, ?it/s]"
      ]
     },
     "metadata": {},
     "output_type": "display_data"
    },
    {
     "name": "stdout",
     "output_type": "stream",
     "text": [
      "Model: Inception3, Path: ../classifiers/binary_classifier/out/run_9/Inception3_best.pth, Accuracy: 0.875131717597471\n"
     ]
    }
   ],
   "source": [
    "val.evaluating_best_classifier(val_dir = '../data/val/',root_out = '../classifiers/binary_classifier/out/run_9/')"
   ]
  },
  {
   "cell_type": "markdown",
   "metadata": {},
   "source": [
    "## Generating Predictions"
   ]
  },
  {
   "cell_type": "code",
   "execution_count": 2,
   "metadata": {},
   "outputs": [
    {
     "name": "stdout",
     "output_type": "stream",
     "text": [
      "Using device: cuda:0\n",
      "Initialized models:\n",
      " - Inception V3 with custom classifier\n",
      " - ResNet50 with custom classifier\n",
      "Loaded dataset:\n",
      " - Number of images: 3796\n",
      " - Number of classes: 2\n",
      " - Class names: ['nevus', 'others']\n",
      " - Batch size: 16\n"
     ]
    },
    {
     "ename": "RuntimeError",
     "evalue": "Error(s) in loading state_dict for Inception3:\n\tMissing key(s) in state_dict: \"fc.attention.attention_weights\". ",
     "output_type": "error",
     "traceback": [
      "\u001b[0;31m---------------------------------------------------------------------------\u001b[0m",
      "\u001b[0;31mRuntimeError\u001b[0m                              Traceback (most recent call last)",
      "\u001b[1;32m/home/edalita/Documents/MAIA/3-Semestre/CADx/melanoma_deep_learning/notebooks/02_binary_classification.ipynb Cell 15\u001b[0m line \u001b[0;36m1\n\u001b[0;32m----> <a href='vscode-notebook-cell:/home/edalita/Documents/MAIA/3-Semestre/CADx/melanoma_deep_learning/notebooks/02_binary_classification.ipynb#X16sZmlsZQ%3D%3D?line=0'>1</a>\u001b[0m emsamble\u001b[39m.\u001b[39;49mmain(train_data_path\u001b[39m=\u001b[39;49m\u001b[39m'\u001b[39;49m\u001b[39m../data/val/\u001b[39;49m\u001b[39m'\u001b[39;49m,run_path\u001b[39m=\u001b[39;49m\u001b[39m'\u001b[39;49m\u001b[39m../classifiers/binary_classifier/out/run_1/\u001b[39;49m\u001b[39m'\u001b[39;49m,\u001b[39mtype\u001b[39;49m\u001b[39m=\u001b[39;49m\u001b[39m'\u001b[39;49m\u001b[39mval\u001b[39;49m\u001b[39m'\u001b[39;49m)\n",
      "File \u001b[0;32m~/Documents/MAIA/3-Semestre/CADx/melanoma_deep_learning/notebooks/../classifiers/binary_classifier/emsamble.py:125\u001b[0m, in \u001b[0;36mmain\u001b[0;34m(train_data_path, run_path, type)\u001b[0m\n\u001b[1;32m    113\u001b[0m \u001b[39m#validation_loader = load_data(val_data_path, transform)\u001b[39;00m\n\u001b[1;32m    116\u001b[0m model_paths \u001b[39m=\u001b[39m [\n\u001b[1;32m    117\u001b[0m     \u001b[39mf\u001b[39m\u001b[39m'\u001b[39m\u001b[39m{\u001b[39;00mrun_path\u001b[39m}\u001b[39;00m\u001b[39mInception3_epoch_48.pth\u001b[39m\u001b[39m'\u001b[39m,\n\u001b[1;32m    118\u001b[0m     \u001b[39m#f'{run_path}Inception3_epoch_21.pth',\u001b[39;00m\n\u001b[0;32m   (...)\u001b[0m\n\u001b[1;32m    122\u001b[0m     \u001b[39m#f'{run_path}Inception3_epoch_31.pth',\u001b[39;00m\n\u001b[1;32m    123\u001b[0m     ]\n\u001b[0;32m--> 125\u001b[0m models \u001b[39m=\u001b[39m load_models(inception, model_paths, device)\n\u001b[1;32m    126\u001b[0m class_predictions, true_labels, image_names \u001b[39m=\u001b[39m generate_class_predictions(models, train_loader, device)\n\u001b[1;32m    127\u001b[0m \u001b[39m#final_predictions, vote_counts = maximum_voting(class_predictions)\u001b[39;00m\n",
      "File \u001b[0;32m~/Documents/MAIA/3-Semestre/CADx/melanoma_deep_learning/notebooks/../classifiers/binary_classifier/emsamble.py:61\u001b[0m, in \u001b[0;36mload_models\u001b[0;34m(model, model_paths, device)\u001b[0m\n\u001b[1;32m     59\u001b[0m model \u001b[39m=\u001b[39m model\n\u001b[1;32m     60\u001b[0m checkpoint \u001b[39m=\u001b[39m torch\u001b[39m.\u001b[39mload(path, map_location\u001b[39m=\u001b[39mtorch\u001b[39m.\u001b[39mdevice(device))\n\u001b[0;32m---> 61\u001b[0m model\u001b[39m.\u001b[39;49mload_state_dict(checkpoint)\n\u001b[1;32m     62\u001b[0m model\u001b[39m.\u001b[39meval()\n\u001b[1;32m     63\u001b[0m models\u001b[39m.\u001b[39mappend(model)\n",
      "File \u001b[0;32m~/.local/lib/python3.10/site-packages/torch/nn/modules/module.py:2041\u001b[0m, in \u001b[0;36mModule.load_state_dict\u001b[0;34m(self, state_dict, strict)\u001b[0m\n\u001b[1;32m   2036\u001b[0m         error_msgs\u001b[39m.\u001b[39minsert(\n\u001b[1;32m   2037\u001b[0m             \u001b[39m0\u001b[39m, \u001b[39m'\u001b[39m\u001b[39mMissing key(s) in state_dict: \u001b[39m\u001b[39m{}\u001b[39;00m\u001b[39m. \u001b[39m\u001b[39m'\u001b[39m\u001b[39m.\u001b[39mformat(\n\u001b[1;32m   2038\u001b[0m                 \u001b[39m'\u001b[39m\u001b[39m, \u001b[39m\u001b[39m'\u001b[39m\u001b[39m.\u001b[39mjoin(\u001b[39m'\u001b[39m\u001b[39m\"\u001b[39m\u001b[39m{}\u001b[39;00m\u001b[39m\"\u001b[39m\u001b[39m'\u001b[39m\u001b[39m.\u001b[39mformat(k) \u001b[39mfor\u001b[39;00m k \u001b[39min\u001b[39;00m missing_keys)))\n\u001b[1;32m   2040\u001b[0m \u001b[39mif\u001b[39;00m \u001b[39mlen\u001b[39m(error_msgs) \u001b[39m>\u001b[39m \u001b[39m0\u001b[39m:\n\u001b[0;32m-> 2041\u001b[0m     \u001b[39mraise\u001b[39;00m \u001b[39mRuntimeError\u001b[39;00m(\u001b[39m'\u001b[39m\u001b[39mError(s) in loading state_dict for \u001b[39m\u001b[39m{}\u001b[39;00m\u001b[39m:\u001b[39m\u001b[39m\\n\u001b[39;00m\u001b[39m\\t\u001b[39;00m\u001b[39m{}\u001b[39;00m\u001b[39m'\u001b[39m\u001b[39m.\u001b[39mformat(\n\u001b[1;32m   2042\u001b[0m                        \u001b[39mself\u001b[39m\u001b[39m.\u001b[39m\u001b[39m__class__\u001b[39m\u001b[39m.\u001b[39m\u001b[39m__name__\u001b[39m, \u001b[39m\"\u001b[39m\u001b[39m\\n\u001b[39;00m\u001b[39m\\t\u001b[39;00m\u001b[39m\"\u001b[39m\u001b[39m.\u001b[39mjoin(error_msgs)))\n\u001b[1;32m   2043\u001b[0m \u001b[39mreturn\u001b[39;00m _IncompatibleKeys(missing_keys, unexpected_keys)\n",
      "\u001b[0;31mRuntimeError\u001b[0m: Error(s) in loading state_dict for Inception3:\n\tMissing key(s) in state_dict: \"fc.attention.attention_weights\". "
     ]
    }
   ],
   "source": [
    "emsamble.main(train_data_path='../data/val/',run_path='../classifiers/binary_classifier/out/run_1/',type='val')"
   ]
  },
  {
   "cell_type": "code",
   "execution_count": null,
   "metadata": {},
   "outputs": [],
   "source": []
  }
 ],
 "metadata": {
  "kernelspec": {
   "display_name": "Python 3",
   "language": "python",
   "name": "python3"
  },
  "language_info": {
   "codemirror_mode": {
    "name": "ipython",
    "version": 3
   },
   "file_extension": ".py",
   "mimetype": "text/x-python",
   "name": "python",
   "nbconvert_exporter": "python",
   "pygments_lexer": "ipython3",
   "version": "3.10.12"
  }
 },
 "nbformat": 4,
 "nbformat_minor": 2
}
