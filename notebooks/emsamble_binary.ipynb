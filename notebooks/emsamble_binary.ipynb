{
 "cells": [
  {
   "cell_type": "code",
   "execution_count": 1,
   "metadata": {},
   "outputs": [],
   "source": [
    "import sys\n",
    "# Adjust the path based on your specific folder structure\n",
    "sys.path.append('../classifiers/binary_classifier')\n",
    "import emsamble"
   ]
  },
  {
   "cell_type": "code",
   "execution_count": 2,
   "metadata": {},
   "outputs": [
    {
     "name": "stdout",
     "output_type": "stream",
     "text": [
      "Using device: cuda:0\n",
      "Initialized models:\n",
      " - Inception V3 with custom classifier\n",
      " - ResNet50 with custom classifier\n",
      "Loaded dataset:\n",
      " - Number of images: 3796\n",
      " - Number of classes: 2\n",
      " - Class names: ['nevus', 'others']\n",
      " - Batch size: 16\n"
     ]
    },
    {
     "name": "stderr",
     "output_type": "stream",
     "text": [
      "Generating Class Predictions: 100%|██████████| 238/238 [10:38<00:00,  2.68s/it]\n"
     ]
    },
    {
     "name": "stdout",
     "output_type": "stream",
     "text": [
      "Accuracy of the ensemble: 89.65%\n"
     ]
    }
   ],
   "source": [
    "emsamble.main(train_data_path='../data/val/',run_path='../classifiers/binary_classifier/out/run_1/')"
   ]
  }
 ],
 "metadata": {
  "kernelspec": {
   "display_name": "Python 3",
   "language": "python",
   "name": "python3"
  },
  "language_info": {
   "codemirror_mode": {
    "name": "ipython",
    "version": 3
   },
   "file_extension": ".py",
   "mimetype": "text/x-python",
   "name": "python",
   "nbconvert_exporter": "python",
   "pygments_lexer": "ipython3",
   "version": "3.10.12"
  }
 },
 "nbformat": 4,
 "nbformat_minor": 2
}
