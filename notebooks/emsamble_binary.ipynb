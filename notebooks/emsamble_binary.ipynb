{
 "cells": [
  {
   "cell_type": "code",
   "execution_count": 7,
   "metadata": {},
   "outputs": [],
   "source": [
    "import sys\n",
    "# Adjust the path based on your specific folder structure\n",
    "sys.path.append('../classifiers/binary_classifier/emsamble.py')\n",
    "\n",
    "import emsamble"
   ]
  },
  {
   "cell_type": "code",
   "execution_count": 8,
   "metadata": {},
   "outputs": [
    {
     "name": "stdout",
     "output_type": "stream",
     "text": [
      "Using device: cuda:0\n",
      "Initialized models:\n",
      " - Inception V3 with custom classifier\n",
      " - ResNet50 with custom classifier\n"
     ]
    },
    {
     "ename": "NameError",
     "evalue": "name 'train_data_path' is not defined",
     "output_type": "error",
     "traceback": [
      "\u001b[0;31m---------------------------------------------------------------------------\u001b[0m",
      "\u001b[0;31mNameError\u001b[0m                                 Traceback (most recent call last)",
      "\u001b[1;32m/home/edalita/Documents/MAIA/3-Semestre/CADx/melanoma_deep_learning/notebooks/emsamble_binary.ipynb Cell 2\u001b[0m line \u001b[0;36m9\n\u001b[1;32m      <a href='vscode-notebook-cell:/home/edalita/Documents/MAIA/3-Semestre/CADx/melanoma_deep_learning/notebooks/emsamble_binary.ipynb#W1sZmlsZQ%3D%3D?line=3'>4</a>\u001b[0m inception, resnet50_model \u001b[39m=\u001b[39m emsamble\u001b[39m.\u001b[39minitialize_models(device)\n\u001b[1;32m      <a href='vscode-notebook-cell:/home/edalita/Documents/MAIA/3-Semestre/CADx/melanoma_deep_learning/notebooks/emsamble_binary.ipynb#W1sZmlsZQ%3D%3D?line=6'>7</a>\u001b[0m transform \u001b[39m=\u001b[39m emsamble\u001b[39m.\u001b[39mcreate_transforms()\n\u001b[0;32m----> <a href='vscode-notebook-cell:/home/edalita/Documents/MAIA/3-Semestre/CADx/melanoma_deep_learning/notebooks/emsamble_binary.ipynb#W1sZmlsZQ%3D%3D?line=8'>9</a>\u001b[0m train_loader \u001b[39m=\u001b[39m emsamble\u001b[39m.\u001b[39mload_data(train_data_path, transform)\n\u001b[1;32m     <a href='vscode-notebook-cell:/home/edalita/Documents/MAIA/3-Semestre/CADx/melanoma_deep_learning/notebooks/emsamble_binary.ipynb#W1sZmlsZQ%3D%3D?line=11'>12</a>\u001b[0m model_paths \u001b[39m=\u001b[39m [\n\u001b[1;32m     <a href='vscode-notebook-cell:/home/edalita/Documents/MAIA/3-Semestre/CADx/melanoma_deep_learning/notebooks/emsamble_binary.ipynb#W1sZmlsZQ%3D%3D?line=12'>13</a>\u001b[0m     \u001b[39m\"\u001b[39m\u001b[39mout/run_1/Inception3_epoch_48.pth\u001b[39m\u001b[39m\"\u001b[39m,\n\u001b[1;32m     <a href='vscode-notebook-cell:/home/edalita/Documents/MAIA/3-Semestre/CADx/melanoma_deep_learning/notebooks/emsamble_binary.ipynb#W1sZmlsZQ%3D%3D?line=13'>14</a>\u001b[0m     \u001b[39m\"\u001b[39m\u001b[39mout/run_1/Inception3_epoch_43.pth\u001b[39m\u001b[39m\"\u001b[39m,\n\u001b[0;32m   (...)\u001b[0m\n\u001b[1;32m     <a href='vscode-notebook-cell:/home/edalita/Documents/MAIA/3-Semestre/CADx/melanoma_deep_learning/notebooks/emsamble_binary.ipynb#W1sZmlsZQ%3D%3D?line=22'>23</a>\u001b[0m     \u001b[39m\"\u001b[39m\u001b[39mout/run_1/Inception3_epoch_35.pth\u001b[39m\u001b[39m\"\u001b[39m,\n\u001b[1;32m     <a href='vscode-notebook-cell:/home/edalita/Documents/MAIA/3-Semestre/CADx/melanoma_deep_learning/notebooks/emsamble_binary.ipynb#W1sZmlsZQ%3D%3D?line=23'>24</a>\u001b[0m     \u001b[39m\"\u001b[39m\u001b[39mout/run_1/Inception3_epoch_37.pth\u001b[39m\u001b[39m\"\u001b[39m]\n\u001b[1;32m     <a href='vscode-notebook-cell:/home/edalita/Documents/MAIA/3-Semestre/CADx/melanoma_deep_learning/notebooks/emsamble_binary.ipynb#W1sZmlsZQ%3D%3D?line=25'>26</a>\u001b[0m models \u001b[39m=\u001b[39m emsamble\u001b[39m.\u001b[39mload_models(inception, model_paths)\n",
      "\u001b[0;31mNameError\u001b[0m: name 'train_data_path' is not defined"
     ]
    }
   ],
   "source": [
    "train_data_path = '../../data/val/'\n",
    "\n",
    "device = emsamble.get_device()\n",
    "print(f\"Using device: {device}\")\n",
    "\n",
    "inception, resnet50_model = emsamble.initialize_models(device)\n",
    "\n",
    "\n",
    "transform = emsamble.create_transforms()\n",
    "\n",
    "train_loader = emsamble.load_data(train_data_path, transform)\n",
    "\n",
    "\n",
    "model_paths = [\n",
    "    \"out/run_1/Inception3_epoch_48.pth\",\n",
    "    \"out/run_1/Inception3_epoch_43.pth\",\n",
    "    \"out/run_1/Inception3_epoch_42.pth\",\n",
    "    \"out/run_1/Inception3_epoch_44.pth\",\n",
    "    \"out/run_1/Inception3_epoch_59.pth\",\n",
    "    \"out/run_1/Inception3_epoch_56.pth\",\n",
    "    \"out/run_1/Inception3_epoch_36.pth\",\n",
    "    \"out/run_1/Inception3_epoch_47.pth\",\n",
    "    \"out/run_1/Inception3_epoch_58.pth\",\n",
    "    \"out/run_1/Inception3_epoch_60.pth\",\n",
    "    \"out/run_1/Inception3_epoch_35.pth\",\n",
    "    \"out/run_1/Inception3_epoch_37.pth\"]\n",
    "\n",
    "models = emsamble.load_models(inception, model_paths)\n",
    "class_predictions, true_labels = emsamble.generate_class_predictions(models, train_loader, device)\n",
    "final_predictions, vote_counts = emsamble.maximum_voting(class_predictions)\n",
    "\n",
    "    # Calculate accuracy\n",
    "accuracy = emsamble.calculate_accuracy(final_predictions, true_labels)\n",
    "print(f\"Accuracy of the ensemble: {accuracy * 100:.2f}%\")\n",
    "\n",
    "    # Save predictions to a file\n",
    "with open(\"predictions.txt\", \"w\") as f:\n",
    "    for idx, (pred, true_label) in enumerate(zip(final_predictions, true_labels)):\n",
    "        f.write(f\"Image {idx}: Predicted Class {pred.item()}, True Class {true_label.item()}, Vote counts: {vote_counts[idx].tolist()}\\n\")"
   ]
  }
 ],
 "metadata": {
  "kernelspec": {
   "display_name": "Python 3",
   "language": "python",
   "name": "python3"
  },
  "language_info": {
   "codemirror_mode": {
    "name": "ipython",
    "version": 3
   },
   "file_extension": ".py",
   "mimetype": "text/x-python",
   "name": "python",
   "nbconvert_exporter": "python",
   "pygments_lexer": "ipython3",
   "version": "3.10.12"
  }
 },
 "nbformat": 4,
 "nbformat_minor": 2
}
