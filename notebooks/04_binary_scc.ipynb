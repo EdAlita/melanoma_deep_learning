{
 "cells": [
  {
   "cell_type": "code",
   "execution_count": 32,
   "metadata": {},
   "outputs": [
    {
     "name": "stdout",
     "output_type": "stream",
     "text": [
      "val\n",
      "True\n",
      "../data/binary_scc\\7\\val\n",
      "val\n",
      "True\n",
      "../data/binary_scc\\13\\val\n",
      "val\n",
      "True\n",
      "../data/binary_scc\\17\\val\n",
      "val\n",
      "True\n",
      "../data/binary_scc\\19\\val\n",
      "val\n",
      "True\n",
      "../data/binary_scc\\31\\val\n",
      "val\n",
      "True\n",
      "../data/binary_scc\\42\\val\n"
     ]
    }
   ],
   "source": [
    "## Taking bcc - mel - scc --> create scc and others.\n",
    "import os\n",
    "import shutil\n",
    "import numpy as np\n",
    "import random\n",
    "\n",
    "def create_scc_and_others(src_root = '../data/multiclass/val/', dst_root_key = 'binary_scc', seed=42):\n",
    "    \n",
    "    random.seed(seed)\n",
    "    mode = src_root.split('/')[-2]\n",
    "    print(mode)\n",
    "    print(os.path.exists(src_root))\n",
    "    dst_root = os.path.join('../data/', dst_root_key, str(seed), mode)\n",
    "    print(dst_root)\n",
    "    # Create the 'binary_scc' folder\n",
    "    os.makedirs(dst_root, exist_ok=True)\n",
    "\n",
    "    src_bcc_folder = os.path.join(src_root, 'bcc')\n",
    "    src_mel_folder = os.path.join(src_root, 'mel')\n",
    "    src_scc_folder = os.path.join(src_root, 'scc')\n",
    "\n",
    "    dst_others_folder = os.path.join(dst_root, 'others')\n",
    "    dst_scc_folder = os.path.join(dst_root, 'scc')\n",
    "\n",
    "    os.makedirs(dst_others_folder, exist_ok=True)\n",
    "    os.makedirs(dst_scc_folder, exist_ok=True)\n",
    "\n",
    "    # Move files from 'mel' to 'scc'\n",
    "    scc_files = os.listdir(src_scc_folder)\n",
    "    n = len(scc_files)\n",
    "    for file in scc_files:\n",
    "        source_path = os.path.join(src_scc_folder, file)\n",
    "        destination_path = os.path.join(dst_scc_folder, file)\n",
    "        shutil.copy(source_path, destination_path)\n",
    "\n",
    "    # Move files from 'bcc' to 'scc'\n",
    "    bcc_files = os.listdir(src_bcc_folder)\n",
    "    # Select n random files from 'bcc'\n",
    "    try: \n",
    "        bcc_selected_files = random.sample(bcc_files, n)\n",
    "    except: \n",
    "        n = len(bcc_files)\n",
    "        bcc_selected_files = bcc_files\n",
    "\n",
    "    for file in bcc_selected_files:\n",
    "        source_path = os.path.join(src_bcc_folder, file)\n",
    "        destination_path = os.path.join(dst_others_folder, file)\n",
    "        shutil.move(source_path, destination_path)\n",
    "\n",
    "    # Move files from 'mel' to 'scc'\n",
    "    mel_files = os.listdir(src_mel_folder)\n",
    "    # Select n random files from 'mel'\n",
    "    try: \n",
    "        mel_selected_files = random.sample(mel_files, n)\n",
    "    except:\n",
    "        n = len(mel_files)\n",
    "        mel_selected_files = mel_files\n",
    "\n",
    "    for file in mel_selected_files:\n",
    "        source_path = os.path.join(src_mel_folder, file)\n",
    "        destination_path = os.path.join(dst_others_folder, file)\n",
    "        shutil.move(source_path, destination_path)\n",
    "\n",
    "\n",
    "for seed in [7, 13, 17, 19, 31, 42]:\n",
    "    create_scc_and_others(seed=seed)\n"
   ]
  },
  {
   "cell_type": "code",
   "execution_count": 2,
   "metadata": {},
   "outputs": [
    {
     "name": "stdout",
     "output_type": "stream",
     "text": [
      "Looking in indexes: https://pypi.org/simple, https://pypi.ngc.nvidia.com\n",
      "Collecting torchsummary\n",
      "  Downloading torchsummary-1.5.1-py3-none-any.whl (2.8 kB)\n",
      "Installing collected packages: torchsummary\n",
      "Successfully installed torchsummary-1.5.1\n"
     ]
    },
    {
     "name": "stderr",
     "output_type": "stream",
     "text": [
      "\n",
      "[notice] A new release of pip is available: 23.3.1 -> 23.3.2\n",
      "[notice] To update, run: python.exe -m pip install --upgrade pip\n"
     ]
    }
   ],
   "source": [
    "!pip install torchsummary"
   ]
  },
  {
   "cell_type": "code",
   "execution_count": 3,
   "metadata": {},
   "outputs": [
    {
     "name": "stdout",
     "output_type": "stream",
     "text": [
      "Using device: cuda:0\n",
      "Train data: ../data/binary_scc/7/train/ Out path: ../classifiers/binary_classifier/out/run_7/\n",
      "Loaded dataset:\n",
      " - Number of images: 1128\n",
      " - Number of classes: 2\n",
      " - Class names: ['others', 'scc']\n",
      " - Batch size: 16\n",
      "Initialized models:\n",
      " - Inception V3 with custom classifier\n",
      " - EfficientNet B0 with custom classifier\n",
      "Training EfficientNet - Epoch 1/10\n",
      "Current Learning Rate: 1e-05\n"
     ]
    },
    {
     "name": "stderr",
     "output_type": "stream",
     "text": [
      "EfficientNet Epoch 1 - Loss: 0.6515, Acc: 0.6631: 100%|██████████| 71/71 [00:44<00:00,  1.59batch/s]\n"
     ]
    },
    {
     "name": "stdout",
     "output_type": "stream",
     "text": [
      "Saved improved model at epoch 1\n",
      "EfficientNet - Epoch 1 Completed - Time: 44.68s\n",
      "Training EfficientNet - Epoch 2/10\n",
      "Current Learning Rate: 3.2500000000000004e-05\n"
     ]
    },
    {
     "name": "stderr",
     "output_type": "stream",
     "text": [
      "EfficientNet Epoch 2 - Loss: 0.5529, Acc: 0.6729: 100%|██████████| 71/71 [00:35<00:00,  2.03batch/s]\n"
     ]
    },
    {
     "name": "stdout",
     "output_type": "stream",
     "text": [
      "Saved improved model at epoch 2\n",
      "EfficientNet - Epoch 2 Completed - Time: 35.12s\n",
      "Training EfficientNet - Epoch 3/10\n",
      "Current Learning Rate: 5.5e-05\n"
     ]
    },
    {
     "name": "stderr",
     "output_type": "stream",
     "text": [
      "EfficientNet Epoch 3 - Loss: 0.4271, Acc: 0.8014: 100%|██████████| 71/71 [01:02<00:00,  1.14batch/s]\n"
     ]
    },
    {
     "name": "stdout",
     "output_type": "stream",
     "text": [
      "Saved improved model at epoch 3\n",
      "EfficientNet - Epoch 3 Completed - Time: 62.49s\n",
      "Training EfficientNet - Epoch 4/10\n",
      "Current Learning Rate: 7.75e-05\n"
     ]
    },
    {
     "name": "stderr",
     "output_type": "stream",
     "text": [
      "EfficientNet Epoch 4 - Loss: 0.2886, Acc: 0.8785: 100%|██████████| 71/71 [01:37<00:00,  1.37s/batch]\n"
     ]
    },
    {
     "name": "stdout",
     "output_type": "stream",
     "text": [
      "Saved improved model at epoch 4\n",
      "EfficientNet - Epoch 4 Completed - Time: 97.59s\n",
      "Training EfficientNet - Epoch 5/10\n",
      "Current Learning Rate: 0.0001\n"
     ]
    },
    {
     "name": "stderr",
     "output_type": "stream",
     "text": [
      "EfficientNet Epoch 5 - Loss: 0.1717, Acc: 0.9317: 100%|██████████| 71/71 [01:37<00:00,  1.38s/batch]\n"
     ]
    },
    {
     "name": "stdout",
     "output_type": "stream",
     "text": [
      "Saved improved model at epoch 5\n",
      "EfficientNet - Epoch 5 Completed - Time: 98.04s\n",
      "Training EfficientNet - Epoch 6/10\n",
      "Current Learning Rate: 7.75e-05\n"
     ]
    },
    {
     "name": "stderr",
     "output_type": "stream",
     "text": [
      "EfficientNet Epoch 6 - Loss: 0.1184, Acc: 0.9574: 100%|██████████| 71/71 [01:37<00:00,  1.38s/batch]\n"
     ]
    },
    {
     "name": "stdout",
     "output_type": "stream",
     "text": [
      "Saved improved model at epoch 6\n",
      "EfficientNet - Epoch 6 Completed - Time: 97.92s\n",
      "Training EfficientNet - Epoch 7/10\n",
      "Current Learning Rate: 5.5e-05\n"
     ]
    },
    {
     "name": "stderr",
     "output_type": "stream",
     "text": [
      "EfficientNet Epoch 7 - Loss: 0.0767, Acc: 0.9716: 100%|██████████| 71/71 [01:38<00:00,  1.38s/batch]\n"
     ]
    },
    {
     "name": "stdout",
     "output_type": "stream",
     "text": [
      "Saved improved model at epoch 7\n",
      "EfficientNet - Epoch 7 Completed - Time: 98.31s\n",
      "Training EfficientNet - Epoch 8/10\n",
      "Current Learning Rate: 3.2500000000000004e-05\n"
     ]
    },
    {
     "name": "stderr",
     "output_type": "stream",
     "text": [
      "EfficientNet Epoch 8 - Loss: 0.0345, Acc: 0.9902: 100%|██████████| 71/71 [01:37<00:00,  1.38s/batch]\n"
     ]
    },
    {
     "name": "stdout",
     "output_type": "stream",
     "text": [
      "Saved improved model at epoch 8\n",
      "EfficientNet - Epoch 8 Completed - Time: 97.84s\n",
      "Training EfficientNet - Epoch 9/10\n",
      "Current Learning Rate: 1e-05\n"
     ]
    },
    {
     "name": "stderr",
     "output_type": "stream",
     "text": [
      "EfficientNet Epoch 9 - Loss: 0.0502, Acc: 0.9814: 100%|██████████| 71/71 [01:40<00:00,  1.41s/batch]\n"
     ]
    },
    {
     "name": "stdout",
     "output_type": "stream",
     "text": [
      "Saved improved model at epoch 9\n",
      "EfficientNet - Epoch 9 Completed - Time: 100.40s\n",
      "Training EfficientNet - Epoch 10/10\n",
      "Current Learning Rate: 2.125e-05\n"
     ]
    },
    {
     "name": "stderr",
     "output_type": "stream",
     "text": [
      "EfficientNet Epoch 10 - Loss: 0.0515, Acc: 0.9814: 100%|██████████| 71/71 [01:17<00:00,  1.09s/batch]\n"
     ]
    },
    {
     "name": "stdout",
     "output_type": "stream",
     "text": [
      "Saved improved model at epoch 10\n",
      "EfficientNet - Epoch 10 Completed - Time: 77.33s\n",
      "Training Inception3 - Epoch 1/10\n",
      "Current Learning Rate: 1e-05\n"
     ]
    },
    {
     "name": "stderr",
     "output_type": "stream",
     "text": [
      "Inception3 Epoch 1 - Loss: 0.6392, Acc: 0.6330: 100%|██████████| 71/71 [00:51<00:00,  1.38batch/s]\n"
     ]
    },
    {
     "name": "stdout",
     "output_type": "stream",
     "text": [
      "Saved improved model at epoch 1\n",
      "Inception3 - Epoch 1 Completed - Time: 51.88s\n",
      "Training Inception3 - Epoch 2/10\n",
      "Current Learning Rate: 3.2500000000000004e-05\n"
     ]
    },
    {
     "name": "stderr",
     "output_type": "stream",
     "text": [
      "Inception3 Epoch 2 - Loss: 0.4822, Acc: 0.7216: 100%|██████████| 71/71 [01:16<00:00,  1.07s/batch]\n"
     ]
    },
    {
     "name": "stdout",
     "output_type": "stream",
     "text": [
      "Saved improved model at epoch 2\n",
      "Inception3 - Epoch 2 Completed - Time: 76.93s\n",
      "Training Inception3 - Epoch 3/10\n",
      "Current Learning Rate: 5.5e-05\n"
     ]
    },
    {
     "name": "stderr",
     "output_type": "stream",
     "text": [
      "Inception3 Epoch 3 - Loss: 0.3202, Acc: 0.8750: 100%|██████████| 71/71 [01:49<00:00,  1.55s/batch]\n"
     ]
    },
    {
     "name": "stdout",
     "output_type": "stream",
     "text": [
      "Saved improved model at epoch 3\n",
      "Inception3 - Epoch 3 Completed - Time: 110.13s\n",
      "Training Inception3 - Epoch 4/10\n",
      "Current Learning Rate: 7.75e-05\n"
     ]
    },
    {
     "name": "stderr",
     "output_type": "stream",
     "text": [
      "Inception3 Epoch 4 - Loss: 0.2195, Acc: 0.9087: 100%|██████████| 71/71 [01:42<00:00,  1.44s/batch]\n"
     ]
    },
    {
     "name": "stdout",
     "output_type": "stream",
     "text": [
      "Saved improved model at epoch 4\n",
      "Inception3 - Epoch 4 Completed - Time: 102.69s\n",
      "Training Inception3 - Epoch 5/10\n",
      "Current Learning Rate: 0.0001\n"
     ]
    },
    {
     "name": "stderr",
     "output_type": "stream",
     "text": [
      "Inception3 Epoch 5 - Loss: 0.1527, Acc: 0.9424: 100%|██████████| 71/71 [01:52<00:00,  1.59s/batch]\n"
     ]
    },
    {
     "name": "stdout",
     "output_type": "stream",
     "text": [
      "Saved improved model at epoch 5\n",
      "Inception3 - Epoch 5 Completed - Time: 115.57s\n",
      "Training Inception3 - Epoch 6/10\n",
      "Current Learning Rate: 7.75e-05\n"
     ]
    },
    {
     "name": "stderr",
     "output_type": "stream",
     "text": [
      "Inception3 Epoch 6 - Loss: 0.1085, Acc: 0.9699: 100%|██████████| 71/71 [01:53<00:00,  1.61s/batch]\n"
     ]
    },
    {
     "name": "stdout",
     "output_type": "stream",
     "text": [
      "Saved improved model at epoch 6\n",
      "Inception3 - Epoch 6 Completed - Time: 116.87s\n",
      "Training Inception3 - Epoch 7/10\n",
      "Current Learning Rate: 5.5e-05\n"
     ]
    },
    {
     "name": "stderr",
     "output_type": "stream",
     "text": [
      "Inception3 Epoch 7 - Loss: 0.0349, Acc: 0.9867: 100%|██████████| 71/71 [02:03<00:00,  1.74s/batch]\n"
     ]
    },
    {
     "name": "stdout",
     "output_type": "stream",
     "text": [
      "Saved improved model at epoch 7\n",
      "Inception3 - Epoch 7 Completed - Time: 123.58s\n",
      "Training Inception3 - Epoch 8/10\n",
      "Current Learning Rate: 3.2500000000000004e-05\n"
     ]
    },
    {
     "name": "stderr",
     "output_type": "stream",
     "text": [
      "Inception3 Epoch 8 - Loss: 0.0229, Acc: 0.9911: 100%|██████████| 71/71 [02:15<00:00,  1.91s/batch]\n"
     ]
    },
    {
     "name": "stdout",
     "output_type": "stream",
     "text": [
      "Saved improved model at epoch 8\n",
      "Inception3 - Epoch 8 Completed - Time: 135.71s\n",
      "Training Inception3 - Epoch 9/10\n",
      "Current Learning Rate: 1e-05\n"
     ]
    },
    {
     "name": "stderr",
     "output_type": "stream",
     "text": [
      "Inception3 Epoch 9 - Loss: 0.0190, Acc: 0.9965: 100%|██████████| 71/71 [02:08<00:00,  1.81s/batch]\n"
     ]
    },
    {
     "name": "stdout",
     "output_type": "stream",
     "text": [
      "Saved improved model at epoch 9\n",
      "Inception3 - Epoch 9 Completed - Time: 128.64s\n",
      "Training Inception3 - Epoch 10/10\n",
      "Current Learning Rate: 2.125e-05\n"
     ]
    },
    {
     "name": "stderr",
     "output_type": "stream",
     "text": [
      "Inception3 Epoch 10 - Loss: 0.0152, Acc: 0.9956: 100%|██████████| 71/71 [00:39<00:00,  1.78batch/s]\n"
     ]
    },
    {
     "name": "stdout",
     "output_type": "stream",
     "text": [
      "Saved improved model at epoch 10\n",
      "Inception3 - Epoch 10 Completed - Time: 40.13s\n",
      "Using device: cuda:0\n",
      "Train data: ../data/binary_scc/13/train/ Out path: ../classifiers/binary_classifier/out/run_13/\n",
      "Loaded dataset:\n",
      " - Number of images: 1128\n",
      " - Number of classes: 2\n",
      " - Class names: ['others', 'scc']\n",
      " - Batch size: 16\n",
      "Initialized models:\n",
      " - Inception V3 with custom classifier\n",
      " - EfficientNet B0 with custom classifier\n",
      "Training EfficientNet - Epoch 1/10\n",
      "Current Learning Rate: 1e-05\n"
     ]
    },
    {
     "name": "stderr",
     "output_type": "stream",
     "text": [
      "EfficientNet Epoch 1 - Loss: 0.6596, Acc: 0.6498: 100%|██████████| 71/71 [00:37<00:00,  1.90batch/s]\n"
     ]
    },
    {
     "name": "stdout",
     "output_type": "stream",
     "text": [
      "Saved improved model at epoch 1\n",
      "EfficientNet - Epoch 1 Completed - Time: 37.36s\n",
      "Training EfficientNet - Epoch 2/10\n",
      "Current Learning Rate: 3.2500000000000004e-05\n"
     ]
    },
    {
     "name": "stderr",
     "output_type": "stream",
     "text": [
      "EfficientNet Epoch 2 - Loss: 0.5509, Acc: 0.6773: 100%|██████████| 71/71 [00:37<00:00,  1.90batch/s]\n"
     ]
    },
    {
     "name": "stdout",
     "output_type": "stream",
     "text": [
      "Saved improved model at epoch 2\n",
      "EfficientNet - Epoch 2 Completed - Time: 37.42s\n",
      "Training EfficientNet - Epoch 3/10\n",
      "Current Learning Rate: 5.5e-05\n"
     ]
    },
    {
     "name": "stderr",
     "output_type": "stream",
     "text": [
      "EfficientNet Epoch 3 - Loss: 0.4097, Acc: 0.8209: 100%|██████████| 71/71 [00:31<00:00,  2.25batch/s]\n"
     ]
    },
    {
     "name": "stdout",
     "output_type": "stream",
     "text": [
      "Saved improved model at epoch 3\n",
      "EfficientNet - Epoch 3 Completed - Time: 31.70s\n",
      "Training EfficientNet - Epoch 4/10\n",
      "Current Learning Rate: 7.75e-05\n"
     ]
    },
    {
     "name": "stderr",
     "output_type": "stream",
     "text": [
      "EfficientNet Epoch 4 - Loss: 0.2675, Acc: 0.8812: 100%|██████████| 71/71 [00:31<00:00,  2.23batch/s]\n"
     ]
    },
    {
     "name": "stdout",
     "output_type": "stream",
     "text": [
      "Saved improved model at epoch 4\n",
      "EfficientNet - Epoch 4 Completed - Time: 31.88s\n",
      "Training EfficientNet - Epoch 5/10\n",
      "Current Learning Rate: 0.0001\n"
     ]
    },
    {
     "name": "stderr",
     "output_type": "stream",
     "text": [
      "EfficientNet Epoch 5 - Loss: 0.1793, Acc: 0.9291: 100%|██████████| 71/71 [00:39<00:00,  1.79batch/s]\n"
     ]
    },
    {
     "name": "stdout",
     "output_type": "stream",
     "text": [
      "Saved improved model at epoch 5\n",
      "EfficientNet - Epoch 5 Completed - Time: 39.78s\n",
      "Training EfficientNet - Epoch 6/10\n",
      "Current Learning Rate: 7.75e-05\n"
     ]
    },
    {
     "name": "stderr",
     "output_type": "stream",
     "text": [
      "EfficientNet Epoch 6 - Loss: 0.1129, Acc: 0.9566: 100%|██████████| 71/71 [00:39<00:00,  1.78batch/s]\n"
     ]
    },
    {
     "name": "stdout",
     "output_type": "stream",
     "text": [
      "Saved improved model at epoch 6\n",
      "EfficientNet - Epoch 6 Completed - Time: 40.01s\n",
      "Training EfficientNet - Epoch 7/10\n",
      "Current Learning Rate: 5.5e-05\n"
     ]
    },
    {
     "name": "stderr",
     "output_type": "stream",
     "text": [
      "EfficientNet Epoch 7 - Loss: 0.0717, Acc: 0.9778: 100%|██████████| 71/71 [00:39<00:00,  1.78batch/s]\n"
     ]
    },
    {
     "name": "stdout",
     "output_type": "stream",
     "text": [
      "Saved improved model at epoch 7\n",
      "EfficientNet - Epoch 7 Completed - Time: 39.98s\n",
      "Training EfficientNet - Epoch 8/10\n",
      "Current Learning Rate: 3.2500000000000004e-05\n"
     ]
    },
    {
     "name": "stderr",
     "output_type": "stream",
     "text": [
      "EfficientNet Epoch 8 - Loss: 0.0407, Acc: 0.9876: 100%|██████████| 71/71 [00:41<00:00,  1.71batch/s]\n"
     ]
    },
    {
     "name": "stdout",
     "output_type": "stream",
     "text": [
      "Saved improved model at epoch 8\n",
      "EfficientNet - Epoch 8 Completed - Time: 41.58s\n",
      "Training EfficientNet - Epoch 9/10\n",
      "Current Learning Rate: 1e-05\n"
     ]
    },
    {
     "name": "stderr",
     "output_type": "stream",
     "text": [
      "EfficientNet Epoch 9 - Loss: 0.0490, Acc: 0.9832: 100%|██████████| 71/71 [00:45<00:00,  1.57batch/s]\n"
     ]
    },
    {
     "name": "stdout",
     "output_type": "stream",
     "text": [
      "Saved improved model at epoch 9\n",
      "EfficientNet - Epoch 9 Completed - Time: 45.40s\n",
      "Training EfficientNet - Epoch 10/10\n",
      "Current Learning Rate: 2.125e-05\n"
     ]
    },
    {
     "name": "stderr",
     "output_type": "stream",
     "text": [
      "EfficientNet Epoch 10 - Loss: 0.0429, Acc: 0.9832: 100%|██████████| 71/71 [00:42<00:00,  1.66batch/s]\n"
     ]
    },
    {
     "name": "stdout",
     "output_type": "stream",
     "text": [
      "Saved improved model at epoch 10\n",
      "EfficientNet - Epoch 10 Completed - Time: 43.02s\n",
      "Training Inception3 - Epoch 1/10\n",
      "Current Learning Rate: 1e-05\n"
     ]
    },
    {
     "name": "stderr",
     "output_type": "stream",
     "text": [
      "Inception3 Epoch 1 - Loss: 0.6266, Acc: 0.6605: 100%|██████████| 71/71 [00:49<00:00,  1.44batch/s]\n"
     ]
    },
    {
     "name": "stdout",
     "output_type": "stream",
     "text": [
      "Saved improved model at epoch 1\n",
      "Inception3 - Epoch 1 Completed - Time: 49.56s\n",
      "Training Inception3 - Epoch 2/10\n",
      "Current Learning Rate: 3.2500000000000004e-05\n"
     ]
    },
    {
     "name": "stderr",
     "output_type": "stream",
     "text": [
      "Inception3 Epoch 2 - Loss: 0.4621, Acc: 0.7420: 100%|██████████| 71/71 [00:46<00:00,  1.51batch/s]\n"
     ]
    },
    {
     "name": "stdout",
     "output_type": "stream",
     "text": [
      "Saved improved model at epoch 2\n",
      "Inception3 - Epoch 2 Completed - Time: 48.28s\n",
      "Training Inception3 - Epoch 3/10\n",
      "Current Learning Rate: 5.5e-05\n"
     ]
    },
    {
     "name": "stderr",
     "output_type": "stream",
     "text": [
      "Inception3 Epoch 3 - Loss: 0.3144, Acc: 0.8715: 100%|██████████| 71/71 [00:48<00:00,  1.47batch/s]\n"
     ]
    },
    {
     "name": "stdout",
     "output_type": "stream",
     "text": [
      "Saved improved model at epoch 3\n",
      "Inception3 - Epoch 3 Completed - Time: 48.50s\n",
      "Training Inception3 - Epoch 4/10\n",
      "Current Learning Rate: 7.75e-05\n"
     ]
    },
    {
     "name": "stderr",
     "output_type": "stream",
     "text": [
      "Inception3 Epoch 4 - Loss: 0.2339, Acc: 0.9131: 100%|██████████| 71/71 [00:47<00:00,  1.50batch/s]\n"
     ]
    },
    {
     "name": "stdout",
     "output_type": "stream",
     "text": [
      "Saved improved model at epoch 4\n",
      "Inception3 - Epoch 4 Completed - Time: 47.68s\n",
      "Training Inception3 - Epoch 5/10\n",
      "Current Learning Rate: 0.0001\n"
     ]
    },
    {
     "name": "stderr",
     "output_type": "stream",
     "text": [
      "Inception3 Epoch 5 - Loss: 0.1594, Acc: 0.9441: 100%|██████████| 71/71 [00:48<00:00,  1.46batch/s]\n"
     ]
    },
    {
     "name": "stdout",
     "output_type": "stream",
     "text": [
      "Saved improved model at epoch 5\n",
      "Inception3 - Epoch 5 Completed - Time: 49.05s\n",
      "Training Inception3 - Epoch 6/10\n",
      "Current Learning Rate: 7.75e-05\n"
     ]
    },
    {
     "name": "stderr",
     "output_type": "stream",
     "text": [
      "Inception3 Epoch 6 - Loss: 0.1198, Acc: 0.9557: 100%|██████████| 71/71 [00:46<00:00,  1.53batch/s]\n"
     ]
    },
    {
     "name": "stdout",
     "output_type": "stream",
     "text": [
      "Saved improved model at epoch 6\n",
      "Inception3 - Epoch 6 Completed - Time: 46.89s\n",
      "Training Inception3 - Epoch 7/10\n",
      "Current Learning Rate: 5.5e-05\n"
     ]
    },
    {
     "name": "stderr",
     "output_type": "stream",
     "text": [
      "Inception3 Epoch 7 - Loss: 0.0630, Acc: 0.9814: 100%|██████████| 71/71 [00:47<00:00,  1.50batch/s]\n"
     ]
    },
    {
     "name": "stdout",
     "output_type": "stream",
     "text": [
      "Saved improved model at epoch 7\n",
      "Inception3 - Epoch 7 Completed - Time: 47.80s\n",
      "Training Inception3 - Epoch 8/10\n",
      "Current Learning Rate: 3.2500000000000004e-05\n"
     ]
    },
    {
     "name": "stderr",
     "output_type": "stream",
     "text": [
      "Inception3 Epoch 8 - Loss: 0.0293, Acc: 0.9938: 100%|██████████| 71/71 [00:46<00:00,  1.51batch/s]\n"
     ]
    },
    {
     "name": "stdout",
     "output_type": "stream",
     "text": [
      "Saved improved model at epoch 8\n",
      "Inception3 - Epoch 8 Completed - Time: 47.33s\n",
      "Training Inception3 - Epoch 9/10\n",
      "Current Learning Rate: 1e-05\n"
     ]
    },
    {
     "name": "stderr",
     "output_type": "stream",
     "text": [
      "Inception3 Epoch 9 - Loss: 0.0220, Acc: 0.9920: 100%|██████████| 71/71 [00:46<00:00,  1.53batch/s]\n"
     ]
    },
    {
     "name": "stdout",
     "output_type": "stream",
     "text": [
      "Saved improved model at epoch 9\n",
      "Inception3 - Epoch 9 Completed - Time: 46.87s\n",
      "Training Inception3 - Epoch 10/10\n",
      "Current Learning Rate: 2.125e-05\n"
     ]
    },
    {
     "name": "stderr",
     "output_type": "stream",
     "text": [
      "Inception3 Epoch 10 - Loss: 0.0213, Acc: 0.9947: 100%|██████████| 71/71 [00:48<00:00,  1.47batch/s]\n"
     ]
    },
    {
     "name": "stdout",
     "output_type": "stream",
     "text": [
      "Saved improved model at epoch 10\n",
      "Inception3 - Epoch 10 Completed - Time: 48.62s\n",
      "Using device: cuda:0\n",
      "Train data: ../data/binary_scc/17/train/ Out path: ../classifiers/binary_classifier/out/run_17/\n",
      "Loaded dataset:\n",
      " - Number of images: 1128\n",
      " - Number of classes: 2\n",
      " - Class names: ['others', 'scc']\n",
      " - Batch size: 16\n",
      "Initialized models:\n",
      " - Inception V3 with custom classifier\n",
      " - EfficientNet B0 with custom classifier\n",
      "Training EfficientNet - Epoch 1/10\n",
      "Current Learning Rate: 1e-05\n"
     ]
    },
    {
     "name": "stderr",
     "output_type": "stream",
     "text": [
      "EfficientNet Epoch 1 - Loss: 0.6492, Acc: 0.6649: 100%|██████████| 71/71 [00:46<00:00,  1.54batch/s]\n"
     ]
    },
    {
     "name": "stdout",
     "output_type": "stream",
     "text": [
      "Saved improved model at epoch 1\n",
      "EfficientNet - Epoch 1 Completed - Time: 46.21s\n",
      "Training EfficientNet - Epoch 2/10\n",
      "Current Learning Rate: 3.2500000000000004e-05\n"
     ]
    },
    {
     "name": "stderr",
     "output_type": "stream",
     "text": [
      "EfficientNet Epoch 2 - Loss: 0.5447, Acc: 0.6738: 100%|██████████| 71/71 [01:56<00:00,  1.64s/batch]\n"
     ]
    },
    {
     "name": "stdout",
     "output_type": "stream",
     "text": [
      "Saved improved model at epoch 2\n",
      "EfficientNet - Epoch 2 Completed - Time: 116.66s\n",
      "Training EfficientNet - Epoch 3/10\n",
      "Current Learning Rate: 5.5e-05\n"
     ]
    },
    {
     "name": "stderr",
     "output_type": "stream",
     "text": [
      "EfficientNet Epoch 3 - Loss: 0.4294, Acc: 0.7908: 100%|██████████| 71/71 [02:07<00:00,  1.79s/batch]\n"
     ]
    },
    {
     "name": "stdout",
     "output_type": "stream",
     "text": [
      "Saved improved model at epoch 3\n",
      "EfficientNet - Epoch 3 Completed - Time: 127.49s\n",
      "Training EfficientNet - Epoch 4/10\n",
      "Current Learning Rate: 7.75e-05\n"
     ]
    },
    {
     "name": "stderr",
     "output_type": "stream",
     "text": [
      "EfficientNet Epoch 4 - Loss: 0.3023, Acc: 0.8821: 100%|██████████| 71/71 [00:41<00:00,  1.72batch/s]\n"
     ]
    },
    {
     "name": "stdout",
     "output_type": "stream",
     "text": [
      "Saved improved model at epoch 4\n",
      "EfficientNet - Epoch 4 Completed - Time: 41.40s\n",
      "Training EfficientNet - Epoch 5/10\n",
      "Current Learning Rate: 0.0001\n"
     ]
    },
    {
     "name": "stderr",
     "output_type": "stream",
     "text": [
      "EfficientNet Epoch 5 - Loss: 0.1786, Acc: 0.9335: 100%|██████████| 71/71 [00:45<00:00,  1.55batch/s]\n"
     ]
    },
    {
     "name": "stdout",
     "output_type": "stream",
     "text": [
      "Saved improved model at epoch 5\n",
      "EfficientNet - Epoch 5 Completed - Time: 45.91s\n",
      "Training EfficientNet - Epoch 6/10\n",
      "Current Learning Rate: 7.75e-05\n"
     ]
    },
    {
     "name": "stderr",
     "output_type": "stream",
     "text": [
      "EfficientNet Epoch 6 - Loss: 0.1203, Acc: 0.9548: 100%|██████████| 71/71 [02:03<00:00,  1.74s/batch]\n"
     ]
    },
    {
     "name": "stdout",
     "output_type": "stream",
     "text": [
      "Saved improved model at epoch 6\n",
      "EfficientNet - Epoch 6 Completed - Time: 124.00s\n",
      "Training EfficientNet - Epoch 7/10\n",
      "Current Learning Rate: 5.5e-05\n"
     ]
    },
    {
     "name": "stderr",
     "output_type": "stream",
     "text": [
      "EfficientNet Epoch 7 - Loss: 0.0838, Acc: 0.9690: 100%|██████████| 71/71 [00:44<00:00,  1.61batch/s]\n"
     ]
    },
    {
     "name": "stdout",
     "output_type": "stream",
     "text": [
      "Saved improved model at epoch 7\n",
      "EfficientNet - Epoch 7 Completed - Time: 44.16s\n",
      "Training EfficientNet - Epoch 8/10\n",
      "Current Learning Rate: 3.2500000000000004e-05\n"
     ]
    },
    {
     "name": "stderr",
     "output_type": "stream",
     "text": [
      "EfficientNet Epoch 8 - Loss: 0.0529, Acc: 0.9814: 100%|██████████| 71/71 [00:41<00:00,  1.70batch/s]\n"
     ]
    },
    {
     "name": "stdout",
     "output_type": "stream",
     "text": [
      "Saved improved model at epoch 8\n",
      "EfficientNet - Epoch 8 Completed - Time: 41.79s\n",
      "Training EfficientNet - Epoch 9/10\n",
      "Current Learning Rate: 1e-05\n"
     ]
    },
    {
     "name": "stderr",
     "output_type": "stream",
     "text": [
      "EfficientNet Epoch 9 - Loss: 0.0454, Acc: 0.9840: 100%|██████████| 71/71 [00:41<00:00,  1.70batch/s]\n"
     ]
    },
    {
     "name": "stdout",
     "output_type": "stream",
     "text": [
      "Saved improved model at epoch 9\n",
      "EfficientNet - Epoch 9 Completed - Time: 41.89s\n",
      "Training EfficientNet - Epoch 10/10\n",
      "Current Learning Rate: 2.125e-05\n"
     ]
    },
    {
     "name": "stderr",
     "output_type": "stream",
     "text": [
      "EfficientNet Epoch 10 - Loss: 0.0508, Acc: 0.9814: 100%|██████████| 71/71 [00:43<00:00,  1.63batch/s]\n"
     ]
    },
    {
     "name": "stdout",
     "output_type": "stream",
     "text": [
      "Saved improved model at epoch 10\n",
      "EfficientNet - Epoch 10 Completed - Time: 43.74s\n",
      "Training Inception3 - Epoch 1/10\n",
      "Current Learning Rate: 1e-05\n"
     ]
    },
    {
     "name": "stderr",
     "output_type": "stream",
     "text": [
      "Inception3 Epoch 1 - Loss: 0.6363, Acc: 0.6631: 100%|██████████| 71/71 [00:46<00:00,  1.53batch/s]\n"
     ]
    },
    {
     "name": "stdout",
     "output_type": "stream",
     "text": [
      "Saved improved model at epoch 1\n",
      "Inception3 - Epoch 1 Completed - Time: 46.97s\n",
      "Training Inception3 - Epoch 2/10\n",
      "Current Learning Rate: 3.2500000000000004e-05\n"
     ]
    },
    {
     "name": "stderr",
     "output_type": "stream",
     "text": [
      "Inception3 Epoch 2 - Loss: 0.5067, Acc: 0.7030: 100%|██████████| 71/71 [00:48<00:00,  1.47batch/s]\n"
     ]
    },
    {
     "name": "stdout",
     "output_type": "stream",
     "text": [
      "Saved improved model at epoch 2\n",
      "Inception3 - Epoch 2 Completed - Time: 48.63s\n",
      "Training Inception3 - Epoch 3/10\n",
      "Current Learning Rate: 5.5e-05\n"
     ]
    },
    {
     "name": "stderr",
     "output_type": "stream",
     "text": [
      "Inception3 Epoch 3 - Loss: 0.3400, Acc: 0.8608: 100%|██████████| 71/71 [00:49<00:00,  1.43batch/s]\n"
     ]
    },
    {
     "name": "stdout",
     "output_type": "stream",
     "text": [
      "Saved improved model at epoch 3\n",
      "Inception3 - Epoch 3 Completed - Time: 50.11s\n",
      "Training Inception3 - Epoch 4/10\n",
      "Current Learning Rate: 7.75e-05\n"
     ]
    },
    {
     "name": "stderr",
     "output_type": "stream",
     "text": [
      "Inception3 Epoch 4 - Loss: 0.2251, Acc: 0.9184: 100%|██████████| 71/71 [00:47<00:00,  1.48batch/s]\n"
     ]
    },
    {
     "name": "stdout",
     "output_type": "stream",
     "text": [
      "Saved improved model at epoch 4\n",
      "Inception3 - Epoch 4 Completed - Time: 48.28s\n",
      "Training Inception3 - Epoch 5/10\n",
      "Current Learning Rate: 0.0001\n"
     ]
    },
    {
     "name": "stderr",
     "output_type": "stream",
     "text": [
      "Inception3 Epoch 5 - Loss: 0.1860, Acc: 0.9184: 100%|██████████| 71/71 [00:48<00:00,  1.45batch/s]\n"
     ]
    },
    {
     "name": "stdout",
     "output_type": "stream",
     "text": [
      "Saved improved model at epoch 5\n",
      "Inception3 - Epoch 5 Completed - Time: 49.25s\n",
      "Training Inception3 - Epoch 6/10\n",
      "Current Learning Rate: 7.75e-05\n"
     ]
    },
    {
     "name": "stderr",
     "output_type": "stream",
     "text": [
      "Inception3 Epoch 6 - Loss: 0.1140, Acc: 0.9574: 100%|██████████| 71/71 [00:47<00:00,  1.48batch/s]\n"
     ]
    },
    {
     "name": "stdout",
     "output_type": "stream",
     "text": [
      "Saved improved model at epoch 6\n",
      "Inception3 - Epoch 6 Completed - Time: 48.30s\n",
      "Training Inception3 - Epoch 7/10\n",
      "Current Learning Rate: 5.5e-05\n"
     ]
    },
    {
     "name": "stderr",
     "output_type": "stream",
     "text": [
      "Inception3 Epoch 7 - Loss: 0.0541, Acc: 0.9858: 100%|██████████| 71/71 [00:49<00:00,  1.43batch/s]\n"
     ]
    },
    {
     "name": "stdout",
     "output_type": "stream",
     "text": [
      "Saved improved model at epoch 7\n",
      "Inception3 - Epoch 7 Completed - Time: 50.15s\n",
      "Training Inception3 - Epoch 8/10\n",
      "Current Learning Rate: 3.2500000000000004e-05\n"
     ]
    },
    {
     "name": "stderr",
     "output_type": "stream",
     "text": [
      "Inception3 Epoch 8 - Loss: 0.0355, Acc: 0.9876: 100%|██████████| 71/71 [00:48<00:00,  1.48batch/s]\n"
     ]
    },
    {
     "name": "stdout",
     "output_type": "stream",
     "text": [
      "Saved improved model at epoch 8\n",
      "Inception3 - Epoch 8 Completed - Time: 48.47s\n",
      "Training Inception3 - Epoch 9/10\n",
      "Current Learning Rate: 1e-05\n"
     ]
    },
    {
     "name": "stderr",
     "output_type": "stream",
     "text": [
      "Inception3 Epoch 9 - Loss: 0.0261, Acc: 0.9902: 100%|██████████| 71/71 [00:49<00:00,  1.45batch/s]\n"
     ]
    },
    {
     "name": "stdout",
     "output_type": "stream",
     "text": [
      "Saved improved model at epoch 9\n",
      "Inception3 - Epoch 9 Completed - Time: 49.41s\n",
      "Training Inception3 - Epoch 10/10\n",
      "Current Learning Rate: 2.125e-05\n"
     ]
    },
    {
     "name": "stderr",
     "output_type": "stream",
     "text": [
      "Inception3 Epoch 10 - Loss: 0.0145, Acc: 0.9956: 100%|██████████| 71/71 [00:49<00:00,  1.42batch/s]\n"
     ]
    },
    {
     "name": "stdout",
     "output_type": "stream",
     "text": [
      "Saved improved model at epoch 10\n",
      "Inception3 - Epoch 10 Completed - Time: 50.23s\n",
      "Using device: cuda:0\n",
      "Train data: ../data/binary_scc/19/train/ Out path: ../classifiers/binary_classifier/out/run_19/\n",
      "Loaded dataset:\n",
      " - Number of images: 1128\n",
      " - Number of classes: 2\n",
      " - Class names: ['others', 'scc']\n",
      " - Batch size: 16\n",
      "Initialized models:\n",
      " - Inception V3 with custom classifier\n",
      " - EfficientNet B0 with custom classifier\n",
      "Training EfficientNet - Epoch 1/10\n",
      "Current Learning Rate: 1e-05\n"
     ]
    },
    {
     "name": "stderr",
     "output_type": "stream",
     "text": [
      "EfficientNet Epoch 1 - Loss: 0.6623, Acc: 0.6321: 100%|██████████| 71/71 [00:44<00:00,  1.60batch/s]\n"
     ]
    },
    {
     "name": "stdout",
     "output_type": "stream",
     "text": [
      "Saved improved model at epoch 1\n",
      "EfficientNet - Epoch 1 Completed - Time: 44.44s\n",
      "Training EfficientNet - Epoch 2/10\n",
      "Current Learning Rate: 3.2500000000000004e-05\n"
     ]
    },
    {
     "name": "stderr",
     "output_type": "stream",
     "text": [
      "EfficientNet Epoch 2 - Loss: 0.5624, Acc: 0.6773: 100%|██████████| 71/71 [00:40<00:00,  1.76batch/s]\n"
     ]
    },
    {
     "name": "stdout",
     "output_type": "stream",
     "text": [
      "Saved improved model at epoch 2\n",
      "EfficientNet - Epoch 2 Completed - Time: 40.39s\n",
      "Training EfficientNet - Epoch 3/10\n",
      "Current Learning Rate: 5.5e-05\n"
     ]
    },
    {
     "name": "stderr",
     "output_type": "stream",
     "text": [
      "EfficientNet Epoch 3 - Loss: 0.4298, Acc: 0.7943: 100%|██████████| 71/71 [00:39<00:00,  1.79batch/s]\n"
     ]
    },
    {
     "name": "stdout",
     "output_type": "stream",
     "text": [
      "Saved improved model at epoch 3\n",
      "EfficientNet - Epoch 3 Completed - Time: 39.76s\n",
      "Training EfficientNet - Epoch 4/10\n",
      "Current Learning Rate: 7.75e-05\n"
     ]
    },
    {
     "name": "stderr",
     "output_type": "stream",
     "text": [
      "EfficientNet Epoch 4 - Loss: 0.2740, Acc: 0.8856: 100%|██████████| 71/71 [00:40<00:00,  1.77batch/s]\n"
     ]
    },
    {
     "name": "stdout",
     "output_type": "stream",
     "text": [
      "Saved improved model at epoch 4\n",
      "EfficientNet - Epoch 4 Completed - Time: 40.17s\n",
      "Training EfficientNet - Epoch 5/10\n",
      "Current Learning Rate: 0.0001\n"
     ]
    },
    {
     "name": "stderr",
     "output_type": "stream",
     "text": [
      "EfficientNet Epoch 5 - Loss: 0.1281, Acc: 0.9486: 100%|██████████| 71/71 [00:40<00:00,  1.75batch/s]\n"
     ]
    },
    {
     "name": "stdout",
     "output_type": "stream",
     "text": [
      "Saved improved model at epoch 5\n",
      "EfficientNet - Epoch 5 Completed - Time: 40.81s\n",
      "Training EfficientNet - Epoch 6/10\n",
      "Current Learning Rate: 7.75e-05\n"
     ]
    },
    {
     "name": "stderr",
     "output_type": "stream",
     "text": [
      "EfficientNet Epoch 6 - Loss: 0.0929, Acc: 0.9690: 100%|██████████| 71/71 [00:44<00:00,  1.61batch/s]\n"
     ]
    },
    {
     "name": "stdout",
     "output_type": "stream",
     "text": [
      "Saved improved model at epoch 6\n",
      "EfficientNet - Epoch 6 Completed - Time: 44.35s\n",
      "Training EfficientNet - Epoch 7/10\n",
      "Current Learning Rate: 5.5e-05\n"
     ]
    },
    {
     "name": "stderr",
     "output_type": "stream",
     "text": [
      "EfficientNet Epoch 7 - Loss: 0.0755, Acc: 0.9716: 100%|██████████| 71/71 [00:39<00:00,  1.78batch/s]\n"
     ]
    },
    {
     "name": "stdout",
     "output_type": "stream",
     "text": [
      "Saved improved model at epoch 7\n",
      "EfficientNet - Epoch 7 Completed - Time: 39.93s\n",
      "Training EfficientNet - Epoch 8/10\n",
      "Current Learning Rate: 3.2500000000000004e-05\n"
     ]
    },
    {
     "name": "stderr",
     "output_type": "stream",
     "text": [
      "EfficientNet Epoch 8 - Loss: 0.0619, Acc: 0.9770: 100%|██████████| 71/71 [00:39<00:00,  1.79batch/s]\n"
     ]
    },
    {
     "name": "stdout",
     "output_type": "stream",
     "text": [
      "Saved improved model at epoch 8\n",
      "EfficientNet - Epoch 8 Completed - Time: 39.77s\n",
      "Training EfficientNet - Epoch 9/10\n",
      "Current Learning Rate: 1e-05\n"
     ]
    },
    {
     "name": "stderr",
     "output_type": "stream",
     "text": [
      "EfficientNet Epoch 9 - Loss: 0.0286, Acc: 0.9920: 100%|██████████| 71/71 [00:39<00:00,  1.79batch/s]\n"
     ]
    },
    {
     "name": "stdout",
     "output_type": "stream",
     "text": [
      "Saved improved model at epoch 9\n",
      "EfficientNet - Epoch 9 Completed - Time: 39.69s\n",
      "Training EfficientNet - Epoch 10/10\n",
      "Current Learning Rate: 2.125e-05\n"
     ]
    },
    {
     "name": "stderr",
     "output_type": "stream",
     "text": [
      "EfficientNet Epoch 10 - Loss: 0.0358, Acc: 0.9840: 100%|██████████| 71/71 [00:39<00:00,  1.78batch/s]\n"
     ]
    },
    {
     "name": "stdout",
     "output_type": "stream",
     "text": [
      "Saved improved model at epoch 10\n",
      "EfficientNet - Epoch 10 Completed - Time: 40.00s\n",
      "Training Inception3 - Epoch 1/10\n",
      "Current Learning Rate: 1e-05\n"
     ]
    },
    {
     "name": "stderr",
     "output_type": "stream",
     "text": [
      "Inception3 Epoch 1 - Loss: 0.6325, Acc: 0.6667: 100%|██████████| 71/71 [00:44<00:00,  1.59batch/s]\n"
     ]
    },
    {
     "name": "stdout",
     "output_type": "stream",
     "text": [
      "Saved improved model at epoch 1\n",
      "Inception3 - Epoch 1 Completed - Time: 45.01s\n",
      "Training Inception3 - Epoch 2/10\n",
      "Current Learning Rate: 3.2500000000000004e-05\n"
     ]
    },
    {
     "name": "stderr",
     "output_type": "stream",
     "text": [
      "Inception3 Epoch 2 - Loss: 0.4896, Acc: 0.7234: 100%|██████████| 71/71 [00:44<00:00,  1.60batch/s]\n"
     ]
    },
    {
     "name": "stdout",
     "output_type": "stream",
     "text": [
      "Saved improved model at epoch 2\n",
      "Inception3 - Epoch 2 Completed - Time: 44.82s\n",
      "Training Inception3 - Epoch 3/10\n",
      "Current Learning Rate: 5.5e-05\n"
     ]
    },
    {
     "name": "stderr",
     "output_type": "stream",
     "text": [
      "Inception3 Epoch 3 - Loss: 0.3221, Acc: 0.8759: 100%|██████████| 71/71 [00:44<00:00,  1.58batch/s]\n"
     ]
    },
    {
     "name": "stdout",
     "output_type": "stream",
     "text": [
      "Saved improved model at epoch 3\n",
      "Inception3 - Epoch 3 Completed - Time: 45.15s\n",
      "Training Inception3 - Epoch 4/10\n",
      "Current Learning Rate: 7.75e-05\n"
     ]
    },
    {
     "name": "stderr",
     "output_type": "stream",
     "text": [
      "Inception3 Epoch 4 - Loss: 0.2179, Acc: 0.9220: 100%|██████████| 71/71 [00:44<00:00,  1.59batch/s]\n"
     ]
    },
    {
     "name": "stdout",
     "output_type": "stream",
     "text": [
      "Saved improved model at epoch 4\n",
      "Inception3 - Epoch 4 Completed - Time: 44.89s\n",
      "Training Inception3 - Epoch 5/10\n",
      "Current Learning Rate: 0.0001\n"
     ]
    },
    {
     "name": "stderr",
     "output_type": "stream",
     "text": [
      "Inception3 Epoch 5 - Loss: 0.1501, Acc: 0.9433: 100%|██████████| 71/71 [00:44<00:00,  1.60batch/s]\n"
     ]
    },
    {
     "name": "stdout",
     "output_type": "stream",
     "text": [
      "Saved improved model at epoch 5\n",
      "Inception3 - Epoch 5 Completed - Time: 44.77s\n",
      "Training Inception3 - Epoch 6/10\n",
      "Current Learning Rate: 7.75e-05\n"
     ]
    },
    {
     "name": "stderr",
     "output_type": "stream",
     "text": [
      "Inception3 Epoch 6 - Loss: 0.0843, Acc: 0.9707: 100%|██████████| 71/71 [00:44<00:00,  1.60batch/s]\n"
     ]
    },
    {
     "name": "stdout",
     "output_type": "stream",
     "text": [
      "Saved improved model at epoch 6\n",
      "Inception3 - Epoch 6 Completed - Time: 44.66s\n",
      "Training Inception3 - Epoch 7/10\n",
      "Current Learning Rate: 5.5e-05\n"
     ]
    },
    {
     "name": "stderr",
     "output_type": "stream",
     "text": [
      "Inception3 Epoch 7 - Loss: 0.0691, Acc: 0.9743: 100%|██████████| 71/71 [00:44<00:00,  1.60batch/s]\n"
     ]
    },
    {
     "name": "stdout",
     "output_type": "stream",
     "text": [
      "Saved improved model at epoch 7\n",
      "Inception3 - Epoch 7 Completed - Time: 44.75s\n",
      "Training Inception3 - Epoch 8/10\n",
      "Current Learning Rate: 3.2500000000000004e-05\n"
     ]
    },
    {
     "name": "stderr",
     "output_type": "stream",
     "text": [
      "Inception3 Epoch 8 - Loss: 0.0234, Acc: 0.9929: 100%|██████████| 71/71 [00:44<00:00,  1.58batch/s]\n"
     ]
    },
    {
     "name": "stdout",
     "output_type": "stream",
     "text": [
      "Saved improved model at epoch 8\n",
      "Inception3 - Epoch 8 Completed - Time: 45.17s\n",
      "Training Inception3 - Epoch 9/10\n",
      "Current Learning Rate: 1e-05\n"
     ]
    },
    {
     "name": "stderr",
     "output_type": "stream",
     "text": [
      "Inception3 Epoch 9 - Loss: 0.0173, Acc: 0.9956: 100%|██████████| 71/71 [00:44<00:00,  1.59batch/s]\n"
     ]
    },
    {
     "name": "stdout",
     "output_type": "stream",
     "text": [
      "Saved improved model at epoch 9\n",
      "Inception3 - Epoch 9 Completed - Time: 45.07s\n",
      "Training Inception3 - Epoch 10/10\n",
      "Current Learning Rate: 2.125e-05\n"
     ]
    },
    {
     "name": "stderr",
     "output_type": "stream",
     "text": [
      "Inception3 Epoch 10 - Loss: 0.0113, Acc: 0.9982: 100%|██████████| 71/71 [00:45<00:00,  1.56batch/s]\n"
     ]
    },
    {
     "name": "stdout",
     "output_type": "stream",
     "text": [
      "Saved improved model at epoch 10\n",
      "Inception3 - Epoch 10 Completed - Time: 45.69s\n",
      "Using device: cuda:0\n",
      "Train data: ../data/binary_scc/31/train/ Out path: ../classifiers/binary_classifier/out/run_31/\n",
      "Loaded dataset:\n",
      " - Number of images: 1128\n",
      " - Number of classes: 2\n",
      " - Class names: ['others', 'scc']\n",
      " - Batch size: 16\n",
      "Initialized models:\n",
      " - Inception V3 with custom classifier\n",
      " - EfficientNet B0 with custom classifier\n",
      "Training EfficientNet - Epoch 1/10\n",
      "Current Learning Rate: 1e-05\n"
     ]
    },
    {
     "name": "stderr",
     "output_type": "stream",
     "text": [
      "EfficientNet Epoch 1 - Loss: 0.6515, Acc: 0.6498: 100%|██████████| 71/71 [02:11<00:00,  1.85s/batch]\n"
     ]
    },
    {
     "name": "stdout",
     "output_type": "stream",
     "text": [
      "Saved improved model at epoch 1\n",
      "EfficientNet - Epoch 1 Completed - Time: 131.46s\n",
      "Training EfficientNet - Epoch 2/10\n",
      "Current Learning Rate: 3.2500000000000004e-05\n"
     ]
    },
    {
     "name": "stderr",
     "output_type": "stream",
     "text": [
      "EfficientNet Epoch 2 - Loss: 0.5414, Acc: 0.6809: 100%|██████████| 71/71 [02:14<00:00,  1.90s/batch]\n"
     ]
    },
    {
     "name": "stdout",
     "output_type": "stream",
     "text": [
      "Saved improved model at epoch 2\n",
      "EfficientNet - Epoch 2 Completed - Time: 135.03s\n",
      "Training EfficientNet - Epoch 3/10\n",
      "Current Learning Rate: 5.5e-05\n"
     ]
    },
    {
     "name": "stderr",
     "output_type": "stream",
     "text": [
      "EfficientNet Epoch 3 - Loss: 0.4102, Acc: 0.8032: 100%|██████████| 71/71 [02:06<00:00,  1.78s/batch]\n"
     ]
    },
    {
     "name": "stdout",
     "output_type": "stream",
     "text": [
      "Saved improved model at epoch 3\n",
      "EfficientNet - Epoch 3 Completed - Time: 126.33s\n",
      "Training EfficientNet - Epoch 4/10\n",
      "Current Learning Rate: 7.75e-05\n"
     ]
    },
    {
     "name": "stderr",
     "output_type": "stream",
     "text": [
      "EfficientNet Epoch 4 - Loss: 0.3097, Acc: 0.8644: 100%|██████████| 71/71 [02:11<00:00,  1.85s/batch]\n"
     ]
    },
    {
     "name": "stdout",
     "output_type": "stream",
     "text": [
      "Saved improved model at epoch 4\n",
      "EfficientNet - Epoch 4 Completed - Time: 131.74s\n",
      "Training EfficientNet - Epoch 5/10\n",
      "Current Learning Rate: 0.0001\n"
     ]
    },
    {
     "name": "stderr",
     "output_type": "stream",
     "text": [
      "EfficientNet Epoch 5 - Loss: 0.1734, Acc: 0.9371: 100%|██████████| 71/71 [02:19<00:00,  1.96s/batch]\n"
     ]
    },
    {
     "name": "stdout",
     "output_type": "stream",
     "text": [
      "Saved improved model at epoch 5\n",
      "EfficientNet - Epoch 5 Completed - Time: 142.94s\n",
      "Training EfficientNet - Epoch 6/10\n",
      "Current Learning Rate: 7.75e-05\n"
     ]
    },
    {
     "name": "stderr",
     "output_type": "stream",
     "text": [
      "EfficientNet Epoch 6 - Loss: 0.0890, Acc: 0.9681: 100%|██████████| 71/71 [00:37<00:00,  1.91batch/s]\n"
     ]
    },
    {
     "name": "stdout",
     "output_type": "stream",
     "text": [
      "Saved improved model at epoch 6\n",
      "EfficientNet - Epoch 6 Completed - Time: 37.28s\n",
      "Training EfficientNet - Epoch 7/10\n",
      "Current Learning Rate: 5.5e-05\n"
     ]
    },
    {
     "name": "stderr",
     "output_type": "stream",
     "text": [
      "EfficientNet Epoch 7 - Loss: 0.0700, Acc: 0.9734: 100%|██████████| 71/71 [00:36<00:00,  1.97batch/s]\n"
     ]
    },
    {
     "name": "stdout",
     "output_type": "stream",
     "text": [
      "Saved improved model at epoch 7\n",
      "EfficientNet - Epoch 7 Completed - Time: 36.14s\n",
      "Training EfficientNet - Epoch 8/10\n",
      "Current Learning Rate: 3.2500000000000004e-05\n"
     ]
    },
    {
     "name": "stderr",
     "output_type": "stream",
     "text": [
      "EfficientNet Epoch 8 - Loss: 0.0501, Acc: 0.9840: 100%|██████████| 71/71 [00:33<00:00,  2.10batch/s]\n"
     ]
    },
    {
     "name": "stdout",
     "output_type": "stream",
     "text": [
      "Saved improved model at epoch 8\n",
      "EfficientNet - Epoch 8 Completed - Time: 33.88s\n",
      "Training EfficientNet - Epoch 9/10\n",
      "Current Learning Rate: 1e-05\n"
     ]
    },
    {
     "name": "stderr",
     "output_type": "stream",
     "text": [
      "EfficientNet Epoch 9 - Loss: 0.0496, Acc: 0.9796: 100%|██████████| 71/71 [00:31<00:00,  2.26batch/s]\n"
     ]
    },
    {
     "name": "stdout",
     "output_type": "stream",
     "text": [
      "Saved improved model at epoch 9\n",
      "EfficientNet - Epoch 9 Completed - Time: 31.51s\n",
      "Training EfficientNet - Epoch 10/10\n",
      "Current Learning Rate: 2.125e-05\n"
     ]
    },
    {
     "name": "stderr",
     "output_type": "stream",
     "text": [
      "EfficientNet Epoch 10 - Loss: 0.0333, Acc: 0.9885: 100%|██████████| 71/71 [00:31<00:00,  2.24batch/s]\n"
     ]
    },
    {
     "name": "stdout",
     "output_type": "stream",
     "text": [
      "Saved improved model at epoch 10\n",
      "EfficientNet - Epoch 10 Completed - Time: 31.85s\n",
      "Training Inception3 - Epoch 1/10\n",
      "Current Learning Rate: 1e-05\n"
     ]
    },
    {
     "name": "stderr",
     "output_type": "stream",
     "text": [
      "Inception3 Epoch 1 - Loss: 0.6278, Acc: 0.6622: 100%|██████████| 71/71 [00:52<00:00,  1.34batch/s]\n"
     ]
    },
    {
     "name": "stdout",
     "output_type": "stream",
     "text": [
      "Saved improved model at epoch 1\n",
      "Inception3 - Epoch 1 Completed - Time: 53.25s\n",
      "Training Inception3 - Epoch 2/10\n",
      "Current Learning Rate: 3.2500000000000004e-05\n"
     ]
    },
    {
     "name": "stderr",
     "output_type": "stream",
     "text": [
      "Inception3 Epoch 2 - Loss: 0.4979, Acc: 0.7092: 100%|██████████| 71/71 [01:17<00:00,  1.09s/batch]\n"
     ]
    },
    {
     "name": "stdout",
     "output_type": "stream",
     "text": [
      "Saved improved model at epoch 2\n",
      "Inception3 - Epoch 2 Completed - Time: 77.25s\n",
      "Training Inception3 - Epoch 3/10\n",
      "Current Learning Rate: 5.5e-05\n"
     ]
    },
    {
     "name": "stderr",
     "output_type": "stream",
     "text": [
      "Inception3 Epoch 3 - Loss: 0.3222, Acc: 0.8661: 100%|██████████| 71/71 [00:38<00:00,  1.86batch/s]\n"
     ]
    },
    {
     "name": "stdout",
     "output_type": "stream",
     "text": [
      "Saved improved model at epoch 3\n",
      "Inception3 - Epoch 3 Completed - Time: 38.30s\n",
      "Training Inception3 - Epoch 4/10\n",
      "Current Learning Rate: 7.75e-05\n"
     ]
    },
    {
     "name": "stderr",
     "output_type": "stream",
     "text": [
      "Inception3 Epoch 4 - Loss: 0.2395, Acc: 0.9087: 100%|██████████| 71/71 [00:37<00:00,  1.88batch/s]\n"
     ]
    },
    {
     "name": "stdout",
     "output_type": "stream",
     "text": [
      "Saved improved model at epoch 4\n",
      "Inception3 - Epoch 4 Completed - Time: 37.99s\n",
      "Training Inception3 - Epoch 5/10\n",
      "Current Learning Rate: 0.0001\n"
     ]
    },
    {
     "name": "stderr",
     "output_type": "stream",
     "text": [
      "Inception3 Epoch 5 - Loss: 0.1711, Acc: 0.9362: 100%|██████████| 71/71 [00:39<00:00,  1.79batch/s]\n"
     ]
    },
    {
     "name": "stdout",
     "output_type": "stream",
     "text": [
      "Saved improved model at epoch 5\n",
      "Inception3 - Epoch 5 Completed - Time: 39.85s\n",
      "Training Inception3 - Epoch 6/10\n",
      "Current Learning Rate: 7.75e-05\n"
     ]
    },
    {
     "name": "stderr",
     "output_type": "stream",
     "text": [
      "Inception3 Epoch 6 - Loss: 0.0867, Acc: 0.9707: 100%|██████████| 71/71 [01:21<00:00,  1.15s/batch]\n"
     ]
    },
    {
     "name": "stdout",
     "output_type": "stream",
     "text": [
      "Saved improved model at epoch 6\n",
      "Inception3 - Epoch 6 Completed - Time: 84.50s\n",
      "Training Inception3 - Epoch 7/10\n",
      "Current Learning Rate: 5.5e-05\n"
     ]
    },
    {
     "name": "stderr",
     "output_type": "stream",
     "text": [
      "Inception3 Epoch 7 - Loss: 0.0690, Acc: 0.9770: 100%|██████████| 71/71 [01:44<00:00,  1.47s/batch]\n"
     ]
    },
    {
     "name": "stdout",
     "output_type": "stream",
     "text": [
      "Saved improved model at epoch 7\n",
      "Inception3 - Epoch 7 Completed - Time: 106.49s\n",
      "Training Inception3 - Epoch 8/10\n",
      "Current Learning Rate: 3.2500000000000004e-05\n"
     ]
    },
    {
     "name": "stderr",
     "output_type": "stream",
     "text": [
      "Inception3 Epoch 8 - Loss: 0.0224, Acc: 0.9920: 100%|██████████| 71/71 [01:54<00:00,  1.61s/batch]\n"
     ]
    },
    {
     "name": "stdout",
     "output_type": "stream",
     "text": [
      "Saved improved model at epoch 8\n",
      "Inception3 - Epoch 8 Completed - Time: 114.71s\n",
      "Training Inception3 - Epoch 9/10\n",
      "Current Learning Rate: 1e-05\n"
     ]
    },
    {
     "name": "stderr",
     "output_type": "stream",
     "text": [
      "Inception3 Epoch 9 - Loss: 0.0134, Acc: 0.9973: 100%|██████████| 71/71 [01:55<00:00,  1.63s/batch]\n"
     ]
    },
    {
     "name": "stdout",
     "output_type": "stream",
     "text": [
      "Saved improved model at epoch 9\n",
      "Inception3 - Epoch 9 Completed - Time: 116.17s\n",
      "Training Inception3 - Epoch 10/10\n",
      "Current Learning Rate: 2.125e-05\n"
     ]
    },
    {
     "name": "stderr",
     "output_type": "stream",
     "text": [
      "Inception3 Epoch 10 - Loss: 0.0131, Acc: 0.9956: 100%|██████████| 71/71 [02:07<00:00,  1.80s/batch]\n"
     ]
    },
    {
     "name": "stdout",
     "output_type": "stream",
     "text": [
      "Saved improved model at epoch 10\n",
      "Inception3 - Epoch 10 Completed - Time: 128.10s\n",
      "Using device: cuda:0\n",
      "Train data: ../data/binary_scc/42/train/ Out path: ../classifiers/binary_classifier/out/run_42/\n",
      "Loaded dataset:\n",
      " - Number of images: 602\n",
      " - Number of classes: 2\n",
      " - Class names: ['others', 'scc']\n",
      " - Batch size: 16\n",
      "Initialized models:\n",
      " - Inception V3 with custom classifier\n",
      " - EfficientNet B0 with custom classifier\n",
      "Training EfficientNet - Epoch 1/10\n",
      "Current Learning Rate: 1e-05\n"
     ]
    },
    {
     "name": "stderr",
     "output_type": "stream",
     "text": [
      "EfficientNet Epoch 1 - Loss: 0.6753, Acc: 0.6196: 100%|██████████| 38/38 [01:15<00:00,  1.98s/batch]\n"
     ]
    },
    {
     "name": "stdout",
     "output_type": "stream",
     "text": [
      "Saved improved model at epoch 1\n",
      "EfficientNet - Epoch 1 Completed - Time: 75.50s\n",
      "Training EfficientNet - Epoch 2/10\n",
      "Current Learning Rate: 3.2500000000000004e-05\n"
     ]
    },
    {
     "name": "stderr",
     "output_type": "stream",
     "text": [
      "EfficientNet Epoch 2 - Loss: 0.6224, Acc: 0.6279: 100%|██████████| 38/38 [01:23<00:00,  2.19s/batch]\n"
     ]
    },
    {
     "name": "stdout",
     "output_type": "stream",
     "text": [
      "Saved improved model at epoch 2\n",
      "EfficientNet - Epoch 2 Completed - Time: 83.20s\n",
      "Training EfficientNet - Epoch 3/10\n",
      "Current Learning Rate: 5.5e-05\n"
     ]
    },
    {
     "name": "stderr",
     "output_type": "stream",
     "text": [
      "EfficientNet Epoch 3 - Loss: 0.5035, Acc: 0.7326: 100%|██████████| 38/38 [00:20<00:00,  1.86batch/s]\n"
     ]
    },
    {
     "name": "stdout",
     "output_type": "stream",
     "text": [
      "Saved improved model at epoch 3\n",
      "EfficientNet - Epoch 3 Completed - Time: 20.56s\n",
      "Training EfficientNet - Epoch 4/10\n",
      "Current Learning Rate: 7.75e-05\n"
     ]
    },
    {
     "name": "stderr",
     "output_type": "stream",
     "text": [
      "EfficientNet Epoch 4 - Loss: 0.3508, Acc: 0.8555: 100%|██████████| 38/38 [00:31<00:00,  1.22batch/s]\n"
     ]
    },
    {
     "name": "stdout",
     "output_type": "stream",
     "text": [
      "Saved improved model at epoch 4\n",
      "EfficientNet - Epoch 4 Completed - Time: 31.21s\n",
      "Training EfficientNet - Epoch 5/10\n",
      "Current Learning Rate: 0.0001\n"
     ]
    },
    {
     "name": "stderr",
     "output_type": "stream",
     "text": [
      "EfficientNet Epoch 5 - Loss: 0.1980, Acc: 0.9203: 100%|██████████| 38/38 [01:02<00:00,  1.65s/batch]\n"
     ]
    },
    {
     "name": "stdout",
     "output_type": "stream",
     "text": [
      "Saved improved model at epoch 5\n",
      "EfficientNet - Epoch 5 Completed - Time: 62.70s\n",
      "Training EfficientNet - Epoch 6/10\n",
      "Current Learning Rate: 7.75e-05\n"
     ]
    },
    {
     "name": "stderr",
     "output_type": "stream",
     "text": [
      "EfficientNet Epoch 6 - Loss: 0.1049, Acc: 0.9585: 100%|██████████| 38/38 [01:01<00:00,  1.62s/batch]\n"
     ]
    },
    {
     "name": "stdout",
     "output_type": "stream",
     "text": [
      "Saved improved model at epoch 6\n",
      "EfficientNet - Epoch 6 Completed - Time: 61.55s\n",
      "Training EfficientNet - Epoch 7/10\n",
      "Current Learning Rate: 5.5e-05\n"
     ]
    },
    {
     "name": "stderr",
     "output_type": "stream",
     "text": [
      "EfficientNet Epoch 7 - Loss: 0.0680, Acc: 0.9751: 100%|██████████| 38/38 [00:59<00:00,  1.56s/batch]\n"
     ]
    },
    {
     "name": "stdout",
     "output_type": "stream",
     "text": [
      "Saved improved model at epoch 7\n",
      "EfficientNet - Epoch 7 Completed - Time: 59.36s\n",
      "Training EfficientNet - Epoch 8/10\n",
      "Current Learning Rate: 3.2500000000000004e-05\n"
     ]
    },
    {
     "name": "stderr",
     "output_type": "stream",
     "text": [
      "EfficientNet Epoch 8 - Loss: 0.0591, Acc: 0.9751: 100%|██████████| 38/38 [01:01<00:00,  1.61s/batch]\n"
     ]
    },
    {
     "name": "stdout",
     "output_type": "stream",
     "text": [
      "Saved improved model at epoch 8\n",
      "EfficientNet - Epoch 8 Completed - Time: 61.42s\n",
      "Training EfficientNet - Epoch 9/10\n",
      "Current Learning Rate: 1e-05\n"
     ]
    },
    {
     "name": "stderr",
     "output_type": "stream",
     "text": [
      "EfficientNet Epoch 9 - Loss: 0.0389, Acc: 0.9850: 100%|██████████| 38/38 [00:40<00:00,  1.08s/batch]\n"
     ]
    },
    {
     "name": "stdout",
     "output_type": "stream",
     "text": [
      "Saved improved model at epoch 9\n",
      "EfficientNet - Epoch 9 Completed - Time: 40.99s\n",
      "Training EfficientNet - Epoch 10/10\n",
      "Current Learning Rate: 2.125e-05\n"
     ]
    },
    {
     "name": "stderr",
     "output_type": "stream",
     "text": [
      "EfficientNet Epoch 10 - Loss: 0.0454, Acc: 0.9867: 100%|██████████| 38/38 [00:20<00:00,  1.86batch/s]\n"
     ]
    },
    {
     "name": "stdout",
     "output_type": "stream",
     "text": [
      "Saved improved model at epoch 10\n",
      "EfficientNet - Epoch 10 Completed - Time: 20.52s\n",
      "Training Inception3 - Epoch 1/10\n",
      "Current Learning Rate: 1e-05\n"
     ]
    },
    {
     "name": "stderr",
     "output_type": "stream",
     "text": [
      "Inception3 Epoch 1 - Loss: 0.6740, Acc: 0.5814: 100%|██████████| 38/38 [00:31<00:00,  1.20batch/s]\n"
     ]
    },
    {
     "name": "stdout",
     "output_type": "stream",
     "text": [
      "Saved improved model at epoch 1\n",
      "Inception3 - Epoch 1 Completed - Time: 31.93s\n",
      "Training Inception3 - Epoch 2/10\n",
      "Current Learning Rate: 3.2500000000000004e-05\n"
     ]
    },
    {
     "name": "stderr",
     "output_type": "stream",
     "text": [
      "Inception3 Epoch 2 - Loss: 0.6130, Acc: 0.6279: 100%|██████████| 38/38 [01:09<00:00,  1.82s/batch]\n"
     ]
    },
    {
     "name": "stdout",
     "output_type": "stream",
     "text": [
      "Saved improved model at epoch 2\n",
      "Inception3 - Epoch 2 Completed - Time: 69.51s\n",
      "Training Inception3 - Epoch 3/10\n",
      "Current Learning Rate: 5.5e-05\n"
     ]
    },
    {
     "name": "stderr",
     "output_type": "stream",
     "text": [
      "Inception3 Epoch 3 - Loss: 0.4162, Acc: 0.8007: 100%|██████████| 38/38 [00:46<00:00,  1.21s/batch]\n"
     ]
    },
    {
     "name": "stdout",
     "output_type": "stream",
     "text": [
      "Saved improved model at epoch 3\n",
      "Inception3 - Epoch 3 Completed - Time: 46.28s\n",
      "Training Inception3 - Epoch 4/10\n",
      "Current Learning Rate: 7.75e-05\n"
     ]
    },
    {
     "name": "stderr",
     "output_type": "stream",
     "text": [
      "Inception3 Epoch 4 - Loss: 0.2652, Acc: 0.8904: 100%|██████████| 38/38 [00:22<00:00,  1.70batch/s]\n"
     ]
    },
    {
     "name": "stdout",
     "output_type": "stream",
     "text": [
      "Saved improved model at epoch 4\n",
      "Inception3 - Epoch 4 Completed - Time: 22.57s\n",
      "Training Inception3 - Epoch 5/10\n",
      "Current Learning Rate: 0.0001\n"
     ]
    },
    {
     "name": "stderr",
     "output_type": "stream",
     "text": [
      "Inception3 Epoch 5 - Loss: 0.2101, Acc: 0.9186: 100%|██████████| 38/38 [00:37<00:00,  1.01batch/s]\n"
     ]
    },
    {
     "name": "stdout",
     "output_type": "stream",
     "text": [
      "Saved improved model at epoch 5\n",
      "Inception3 - Epoch 5 Completed - Time: 37.92s\n",
      "Training Inception3 - Epoch 6/10\n",
      "Current Learning Rate: 7.75e-05\n"
     ]
    },
    {
     "name": "stderr",
     "output_type": "stream",
     "text": [
      "Inception3 Epoch 6 - Loss: 0.0784, Acc: 0.9767: 100%|██████████| 38/38 [01:46<00:00,  2.80s/batch]\n"
     ]
    },
    {
     "name": "stdout",
     "output_type": "stream",
     "text": [
      "Saved improved model at epoch 6\n",
      "Inception3 - Epoch 6 Completed - Time: 112.16s\n",
      "Training Inception3 - Epoch 7/10\n",
      "Current Learning Rate: 5.5e-05\n"
     ]
    },
    {
     "name": "stderr",
     "output_type": "stream",
     "text": [
      "Inception3 Epoch 7 - Loss: 0.0324, Acc: 0.9884: 100%|██████████| 38/38 [01:53<00:00,  3.00s/batch]\n"
     ]
    },
    {
     "name": "stdout",
     "output_type": "stream",
     "text": [
      "Saved improved model at epoch 7\n",
      "Inception3 - Epoch 7 Completed - Time: 114.38s\n",
      "Training Inception3 - Epoch 8/10\n",
      "Current Learning Rate: 3.2500000000000004e-05\n"
     ]
    },
    {
     "name": "stderr",
     "output_type": "stream",
     "text": [
      "Inception3 Epoch 8 - Loss: 0.0366, Acc: 0.9884: 100%|██████████| 38/38 [01:03<00:00,  1.67s/batch]\n"
     ]
    },
    {
     "name": "stdout",
     "output_type": "stream",
     "text": [
      "Saved improved model at epoch 8\n",
      "Inception3 - Epoch 8 Completed - Time: 63.61s\n",
      "Training Inception3 - Epoch 9/10\n",
      "Current Learning Rate: 1e-05\n"
     ]
    },
    {
     "name": "stderr",
     "output_type": "stream",
     "text": [
      "Inception3 Epoch 9 - Loss: 0.0306, Acc: 0.9867: 100%|██████████| 38/38 [01:04<00:00,  1.71s/batch]\n"
     ]
    },
    {
     "name": "stdout",
     "output_type": "stream",
     "text": [
      "Saved improved model at epoch 9\n",
      "Inception3 - Epoch 9 Completed - Time: 65.22s\n",
      "Training Inception3 - Epoch 10/10\n",
      "Current Learning Rate: 2.125e-05\n"
     ]
    },
    {
     "name": "stderr",
     "output_type": "stream",
     "text": [
      "Inception3 Epoch 10 - Loss: 0.0321, Acc: 0.9884: 100%|██████████| 38/38 [02:45<00:00,  4.36s/batch]\n"
     ]
    },
    {
     "name": "stdout",
     "output_type": "stream",
     "text": [
      "Saved improved model at epoch 10\n",
      "Inception3 - Epoch 10 Completed - Time: 166.12s\n"
     ]
    }
   ],
   "source": [
    "import sys\n",
    "sys.path.append('../classifiers/binary_classifier')\n",
    "import fit\n",
    "import val\n",
    "import emsamble\n",
    "#From the notebook to run train\n",
    "# number of epoch to run\n",
    "# save dir_where you want the best_classifier to run\n",
    "# train_dir the directory to get the data\n",
    "for seed in [7, 13, 17, 19, 31, 42]:\n",
    "    fit.main(number_epochs=10, save_dir=f'../classifiers/binary_classifier/out/run_{seed}/', train_dir=f'../data/binary_scc/{seed}/train/')"
   ]
  },
  {
   "cell_type": "code",
   "execution_count": 4,
   "metadata": {},
   "outputs": [
    {
     "name": "stdout",
     "output_type": "stream",
     "text": [
      "Using device: cuda:0\n",
      "Loaded dataset:\n",
      " - Number of images: 282\n",
      " - Number of classes: 2\n",
      " - Class names: ['others', 'scc']\n",
      " - Batch size: 16\n",
      "Initialized models:\n",
      " - Inception V3 with custom classifier\n",
      " - EfficientNet B0 with custom classifier\n"
     ]
    },
    {
     "name": "stderr",
     "output_type": "stream",
     "text": [
      "Evaluating: 100%|██████████| 18/18 [00:07<00:00,  2.26it/s]\n"
     ]
    },
    {
     "name": "stdout",
     "output_type": "stream",
     "text": [
      "Model: EfficientNet, Path: ../classifiers/binary_classifier/out/run_7/EfficientNet_best.pth, Accuracy: 0.8368794326241135\n"
     ]
    },
    {
     "name": "stderr",
     "output_type": "stream",
     "text": [
      "Evaluating: 100%|██████████| 18/18 [00:07<00:00,  2.55it/s]\n"
     ]
    },
    {
     "name": "stdout",
     "output_type": "stream",
     "text": [
      "Model: Inception3, Path: ../classifiers/binary_classifier/out/run_7/Inception3_best.pth, Accuracy: 0.8333333333333334\n",
      "Using device: cuda:0\n",
      "Loaded dataset:\n",
      " - Number of images: 282\n",
      " - Number of classes: 2\n",
      " - Class names: ['others', 'scc']\n",
      " - Batch size: 16\n",
      "Initialized models:\n",
      " - Inception V3 with custom classifier\n",
      " - EfficientNet B0 with custom classifier\n"
     ]
    },
    {
     "name": "stderr",
     "output_type": "stream",
     "text": [
      "Evaluating: 100%|██████████| 18/18 [00:07<00:00,  2.52it/s]\n"
     ]
    },
    {
     "name": "stdout",
     "output_type": "stream",
     "text": [
      "Model: EfficientNet, Path: ../classifiers/binary_classifier/out/run_13/EfficientNet_best.pth, Accuracy: 0.8794326241134752\n"
     ]
    },
    {
     "name": "stderr",
     "output_type": "stream",
     "text": [
      "Evaluating: 100%|██████████| 18/18 [00:08<00:00,  2.24it/s]\n"
     ]
    },
    {
     "name": "stdout",
     "output_type": "stream",
     "text": [
      "Model: Inception3, Path: ../classifiers/binary_classifier/out/run_13/Inception3_best.pth, Accuracy: 0.8156028368794326\n",
      "Using device: cuda:0\n",
      "Loaded dataset:\n",
      " - Number of images: 282\n",
      " - Number of classes: 2\n",
      " - Class names: ['others', 'scc']\n",
      " - Batch size: 16\n",
      "Initialized models:\n",
      " - Inception V3 with custom classifier\n",
      " - EfficientNet B0 with custom classifier\n"
     ]
    },
    {
     "name": "stderr",
     "output_type": "stream",
     "text": [
      "Evaluating: 100%|██████████| 18/18 [00:09<00:00,  1.97it/s]\n"
     ]
    },
    {
     "name": "stdout",
     "output_type": "stream",
     "text": [
      "Model: EfficientNet, Path: ../classifiers/binary_classifier/out/run_17/EfficientNet_best.pth, Accuracy: 0.8404255319148937\n"
     ]
    },
    {
     "name": "stderr",
     "output_type": "stream",
     "text": [
      "Evaluating: 100%|██████████| 18/18 [00:08<00:00,  2.22it/s]\n"
     ]
    },
    {
     "name": "stdout",
     "output_type": "stream",
     "text": [
      "Model: Inception3, Path: ../classifiers/binary_classifier/out/run_17/Inception3_best.pth, Accuracy: 0.8581560283687943\n",
      "Using device: cuda:0\n",
      "Loaded dataset:\n",
      " - Number of images: 282\n",
      " - Number of classes: 2\n",
      " - Class names: ['others', 'scc']\n",
      " - Batch size: 16\n",
      "Initialized models:\n",
      " - Inception V3 with custom classifier\n",
      " - EfficientNet B0 with custom classifier\n"
     ]
    },
    {
     "name": "stderr",
     "output_type": "stream",
     "text": [
      "Evaluating: 100%|██████████| 18/18 [00:07<00:00,  2.44it/s]\n"
     ]
    },
    {
     "name": "stdout",
     "output_type": "stream",
     "text": [
      "Model: EfficientNet, Path: ../classifiers/binary_classifier/out/run_19/EfficientNet_best.pth, Accuracy: 0.875886524822695\n"
     ]
    },
    {
     "name": "stderr",
     "output_type": "stream",
     "text": [
      "Evaluating: 100%|██████████| 18/18 [00:08<00:00,  2.25it/s]\n"
     ]
    },
    {
     "name": "stdout",
     "output_type": "stream",
     "text": [
      "Model: Inception3, Path: ../classifiers/binary_classifier/out/run_19/Inception3_best.pth, Accuracy: 0.8829787234042553\n",
      "Using device: cuda:0\n",
      "Loaded dataset:\n",
      " - Number of images: 282\n",
      " - Number of classes: 2\n",
      " - Class names: ['others', 'scc']\n",
      " - Batch size: 16\n",
      "Initialized models:\n",
      " - Inception V3 with custom classifier\n",
      " - EfficientNet B0 with custom classifier\n"
     ]
    },
    {
     "name": "stderr",
     "output_type": "stream",
     "text": [
      "Evaluating: 100%|██████████| 18/18 [00:09<00:00,  1.94it/s]\n"
     ]
    },
    {
     "name": "stdout",
     "output_type": "stream",
     "text": [
      "Model: EfficientNet, Path: ../classifiers/binary_classifier/out/run_31/EfficientNet_best.pth, Accuracy: 0.8617021276595744\n"
     ]
    },
    {
     "name": "stderr",
     "output_type": "stream",
     "text": [
      "Evaluating: 100%|██████████| 18/18 [00:07<00:00,  2.36it/s]\n"
     ]
    },
    {
     "name": "stdout",
     "output_type": "stream",
     "text": [
      "Model: Inception3, Path: ../classifiers/binary_classifier/out/run_31/Inception3_best.pth, Accuracy: 0.8687943262411347\n",
      "Using device: cuda:0\n",
      "Loaded dataset:\n",
      " - Number of images: 150\n",
      " - Number of classes: 2\n",
      " - Class names: ['others', 'scc']\n",
      " - Batch size: 16\n",
      "Initialized models:\n",
      " - Inception V3 with custom classifier\n",
      " - EfficientNet B0 with custom classifier\n"
     ]
    },
    {
     "name": "stderr",
     "output_type": "stream",
     "text": [
      "Evaluating: 100%|██████████| 10/10 [00:04<00:00,  2.42it/s]\n"
     ]
    },
    {
     "name": "stdout",
     "output_type": "stream",
     "text": [
      "Model: EfficientNet, Path: ../classifiers/binary_classifier/out/run_42/EfficientNet_best.pth, Accuracy: 0.8733333333333333\n"
     ]
    },
    {
     "name": "stderr",
     "output_type": "stream",
     "text": [
      "Evaluating: 100%|██████████| 10/10 [00:03<00:00,  2.66it/s]"
     ]
    },
    {
     "name": "stdout",
     "output_type": "stream",
     "text": [
      "Model: Inception3, Path: ../classifiers/binary_classifier/out/run_42/Inception3_best.pth, Accuracy: 0.8133333333333334\n"
     ]
    },
    {
     "name": "stderr",
     "output_type": "stream",
     "text": [
      "\n"
     ]
    }
   ],
   "source": [
    "for seed in [7, 13, 17, 19, 31, 42]:\n",
    "    val.evaluating_best_classifier(val_dir=f'../data/binary_scc/{seed}/val/', root_out = f'../classifiers/binary_classifier/out/run_{seed}/')"
   ]
  },
  {
   "cell_type": "code",
   "execution_count": null,
   "metadata": {},
   "outputs": [],
   "source": []
  }
 ],
 "metadata": {
  "kernelspec": {
   "display_name": "meldl-3-9",
   "language": "python",
   "name": "python3"
  },
  "language_info": {
   "codemirror_mode": {
    "name": "ipython",
    "version": 3
   },
   "file_extension": ".py",
   "mimetype": "text/x-python",
   "name": "python",
   "nbconvert_exporter": "python",
   "pygments_lexer": "ipython3",
   "version": "3.9.7"
  }
 },
 "nbformat": 4,
 "nbformat_minor": 2
}
