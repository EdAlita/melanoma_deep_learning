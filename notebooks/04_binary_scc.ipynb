{
 "cells": [
  {
   "cell_type": "code",
   "execution_count": 9,
   "metadata": {},
   "outputs": [
    {
     "name": "stdout",
     "output_type": "stream",
     "text": [
      "val\n",
      "True\n",
      "../data/binary_scc/7/val\n",
      "val\n",
      "True\n",
      "../data/binary_scc/13/val\n",
      "val\n",
      "True\n",
      "../data/binary_scc/17/val\n",
      "val\n",
      "True\n",
      "../data/binary_scc/19/val\n",
      "val\n",
      "True\n",
      "../data/binary_scc/31/val\n",
      "val\n",
      "True\n",
      "../data/binary_scc/42/val\n"
     ]
    }
   ],
   "source": [
    "## Taking bcc - mel - scc --> create scc and others.\n",
    "import os\n",
    "import shutil\n",
    "import numpy as np\n",
    "import random\n",
    "\n",
    "def create_scc_and_others(src_root = '../data_mult/val/', dst_root_key = 'binary_scc', seed=42):\n",
    "    \n",
    "    random.seed(seed)\n",
    "    mode = src_root.split('/')[-2]\n",
    "    print(mode)\n",
    "    print(os.path.exists(src_root))\n",
    "    dst_root = os.path.join('../data/', dst_root_key, str(seed), mode)\n",
    "    print(dst_root)\n",
    "    # Create the 'binary_scc' folder\n",
    "    os.makedirs(dst_root, exist_ok=True)\n",
    "\n",
    "    src_bcc_folder = os.path.join(src_root, 'bcc')\n",
    "    src_mel_folder = os.path.join(src_root, 'mel')\n",
    "    src_scc_folder = os.path.join(src_root, 'scc')\n",
    "\n",
    "    dst_others_folder = os.path.join(dst_root, 'others')\n",
    "    dst_scc_folder = os.path.join(dst_root, 'scc')\n",
    "\n",
    "    os.makedirs(dst_others_folder, exist_ok=True)\n",
    "    os.makedirs(dst_scc_folder, exist_ok=True)\n",
    "\n",
    "    # Move files from 'mel' to 'scc'\n",
    "    scc_files = os.listdir(src_scc_folder)\n",
    "    n = len(scc_files)\n",
    "    for file in scc_files:\n",
    "        source_path = os.path.join(src_scc_folder, file)\n",
    "        destination_path = os.path.join(dst_scc_folder, file)\n",
    "        shutil.copy(source_path, destination_path)\n",
    "\n",
    "    # Move files from 'bcc' to 'scc'\n",
    "    bcc_files = os.listdir(src_bcc_folder)\n",
    "    # Select n random files from 'bcc'\n",
    "    try: \n",
    "        bcc_selected_files = random.sample(bcc_files, n)\n",
    "    except: \n",
    "        n = len(bcc_files)\n",
    "        bcc_selected_files = bcc_files\n",
    "\n",
    "    for file in bcc_selected_files:\n",
    "        source_path = os.path.join(src_bcc_folder, file)\n",
    "        destination_path = os.path.join(dst_others_folder, file)\n",
    "        shutil.move(source_path, destination_path)\n",
    "\n",
    "    # Move files from 'mel' to 'scc'\n",
    "    mel_files = os.listdir(src_mel_folder)\n",
    "    # Select n random files from 'mel'\n",
    "    try: \n",
    "        mel_selected_files = random.sample(mel_files, n)\n",
    "    except:\n",
    "        n = len(mel_files)\n",
    "        mel_selected_files = mel_files\n",
    "\n",
    "    for file in mel_selected_files:\n",
    "        source_path = os.path.join(src_mel_folder, file)\n",
    "        destination_path = os.path.join(dst_others_folder, file)\n",
    "        shutil.move(source_path, destination_path)\n",
    "\n",
    "\n",
    "for seed in [7, 13, 17, 19, 31, 42]:\n",
    "    create_scc_and_others(seed=seed)\n"
   ]
  },
  {
   "cell_type": "code",
   "execution_count": 2,
   "metadata": {},
   "outputs": [
    {
     "name": "stdout",
     "output_type": "stream",
     "text": [
      "Looking in indexes: https://pypi.org/simple, https://pypi.ngc.nvidia.com\n",
      "Collecting torchsummary\n",
      "  Downloading torchsummary-1.5.1-py3-none-any.whl (2.8 kB)\n",
      "Installing collected packages: torchsummary\n",
      "Successfully installed torchsummary-1.5.1\n"
     ]
    },
    {
     "name": "stderr",
     "output_type": "stream",
     "text": [
      "\n",
      "[notice] A new release of pip is available: 23.3.1 -> 23.3.2\n",
      "[notice] To update, run: python.exe -m pip install --upgrade pip\n"
     ]
    }
   ],
   "source": [
    "!pip install torchsummary"
   ]
  },
  {
   "cell_type": "code",
   "execution_count": 6,
   "metadata": {},
   "outputs": [
    {
     "name": "stdout",
     "output_type": "stream",
     "text": [
      "Using device: cuda:0\n",
      "Train data: ../binary_scc/7/train/ Out path: ../classifiers/binary_classifier/out/run_7/\n"
     ]
    },
    {
     "ename": "FileNotFoundError",
     "evalue": "Found no valid file for the classes others. Supported extensions are: .jpg, .jpeg, .png, .ppm, .bmp, .pgm, .tif, .tiff, .webp",
     "output_type": "error",
     "traceback": [
      "\u001b[0;31m---------------------------------------------------------------------------\u001b[0m",
      "\u001b[0;31mFileNotFoundError\u001b[0m                         Traceback (most recent call last)",
      "\u001b[1;32m/home/edalita/Documents/MAIA/3-Semestre/CADx/melanoma_deep_learning/notebooks/04_binary_scc.ipynb Cell 3\u001b[0m line \u001b[0;36m1\n\u001b[1;32m      <a href='vscode-notebook-cell:/home/edalita/Documents/MAIA/3-Semestre/CADx/melanoma_deep_learning/notebooks/04_binary_scc.ipynb#W2sZmlsZQ%3D%3D?line=5'>6</a>\u001b[0m \u001b[39m#From the notebook to run train\u001b[39;00m\n\u001b[1;32m      <a href='vscode-notebook-cell:/home/edalita/Documents/MAIA/3-Semestre/CADx/melanoma_deep_learning/notebooks/04_binary_scc.ipynb#W2sZmlsZQ%3D%3D?line=6'>7</a>\u001b[0m \u001b[39m# number of epoch to run\u001b[39;00m\n\u001b[1;32m      <a href='vscode-notebook-cell:/home/edalita/Documents/MAIA/3-Semestre/CADx/melanoma_deep_learning/notebooks/04_binary_scc.ipynb#W2sZmlsZQ%3D%3D?line=7'>8</a>\u001b[0m \u001b[39m# save dir_where you want the best_classifier to run\u001b[39;00m\n\u001b[1;32m      <a href='vscode-notebook-cell:/home/edalita/Documents/MAIA/3-Semestre/CADx/melanoma_deep_learning/notebooks/04_binary_scc.ipynb#W2sZmlsZQ%3D%3D?line=8'>9</a>\u001b[0m \u001b[39m# train_dir the directory to get the data\u001b[39;00m\n\u001b[1;32m     <a href='vscode-notebook-cell:/home/edalita/Documents/MAIA/3-Semestre/CADx/melanoma_deep_learning/notebooks/04_binary_scc.ipynb#W2sZmlsZQ%3D%3D?line=9'>10</a>\u001b[0m \u001b[39mfor\u001b[39;00m seed \u001b[39min\u001b[39;00m [\u001b[39m7\u001b[39m, \u001b[39m13\u001b[39m, \u001b[39m17\u001b[39m, \u001b[39m19\u001b[39m, \u001b[39m31\u001b[39m, \u001b[39m42\u001b[39m]:\n\u001b[0;32m---> <a href='vscode-notebook-cell:/home/edalita/Documents/MAIA/3-Semestre/CADx/melanoma_deep_learning/notebooks/04_binary_scc.ipynb#W2sZmlsZQ%3D%3D?line=10'>11</a>\u001b[0m     fit\u001b[39m.\u001b[39;49mmain(number_epochs\u001b[39m=\u001b[39;49m\u001b[39m10\u001b[39;49m, save_dir\u001b[39m=\u001b[39;49m\u001b[39mf\u001b[39;49m\u001b[39m'\u001b[39;49m\u001b[39m../classifiers/binary_classifier/out/run_\u001b[39;49m\u001b[39m{\u001b[39;49;00mseed\u001b[39m}\u001b[39;49;00m\u001b[39m/\u001b[39;49m\u001b[39m'\u001b[39;49m, train_dir\u001b[39m=\u001b[39;49m\u001b[39mf\u001b[39;49m\u001b[39m'\u001b[39;49m\u001b[39m../binary_scc/\u001b[39;49m\u001b[39m{\u001b[39;49;00mseed\u001b[39m}\u001b[39;49;00m\u001b[39m/train/\u001b[39;49m\u001b[39m'\u001b[39;49m)\n",
      "File \u001b[0;32m~/Documents/MAIA/3-Semestre/CADx/melanoma_deep_learning/notebooks/../classifiers/binary_classifier/fit.py:135\u001b[0m, in \u001b[0;36mmain\u001b[0;34m(number_epochs, save_dir, train_dir, batch_size)\u001b[0m\n\u001b[1;32m    133\u001b[0m \u001b[39mprint\u001b[39m(\u001b[39mf\u001b[39m\u001b[39m\"\u001b[39m\u001b[39mTrain data: \u001b[39m\u001b[39m{\u001b[39;00mtrain_dir\u001b[39m}\u001b[39;00m\u001b[39m Out path: \u001b[39m\u001b[39m{\u001b[39;00msave_dir\u001b[39m}\u001b[39;00m\u001b[39m\"\u001b[39m)\n\u001b[1;32m    134\u001b[0m transform \u001b[39m=\u001b[39m create_transforms()\n\u001b[0;32m--> 135\u001b[0m train_loader \u001b[39m=\u001b[39m load_data(train_dir, transform, batch_size)\n\u001b[1;32m    137\u001b[0m efficientnet_model,inception \u001b[39m=\u001b[39m initialize_models(device)\n\u001b[1;32m    139\u001b[0m optimizers \u001b[39m=\u001b[39m create_optimizers([inception, efficientnet_model])\n",
      "File \u001b[0;32m~/Documents/MAIA/3-Semestre/CADx/melanoma_deep_learning/notebooks/../classifiers/binary_classifier/fit.py:39\u001b[0m, in \u001b[0;36mload_data\u001b[0;34m(path, transform, batch_size)\u001b[0m\n\u001b[1;32m     38\u001b[0m \u001b[39mdef\u001b[39;00m \u001b[39mload_data\u001b[39m(path, transform, batch_size):\n\u001b[0;32m---> 39\u001b[0m     dataset \u001b[39m=\u001b[39m ImageFolder(root\u001b[39m=\u001b[39;49mpath, transform\u001b[39m=\u001b[39;49mtransform)\n\u001b[1;32m     40\u001b[0m     loader \u001b[39m=\u001b[39m DataLoader(dataset, batch_size\u001b[39m=\u001b[39mbatch_size, shuffle\u001b[39m=\u001b[39m\u001b[39mTrue\u001b[39;00m)\n\u001b[1;32m     42\u001b[0m     \u001b[39mprint\u001b[39m(\u001b[39m\"\u001b[39m\u001b[39mLoaded dataset:\u001b[39m\u001b[39m\"\u001b[39m)\n",
      "File \u001b[0;32m~/.local/lib/python3.10/site-packages/torchvision/datasets/folder.py:309\u001b[0m, in \u001b[0;36mImageFolder.__init__\u001b[0;34m(self, root, transform, target_transform, loader, is_valid_file)\u001b[0m\n\u001b[1;32m    301\u001b[0m \u001b[39mdef\u001b[39;00m \u001b[39m__init__\u001b[39m(\n\u001b[1;32m    302\u001b[0m     \u001b[39mself\u001b[39m,\n\u001b[1;32m    303\u001b[0m     root: \u001b[39mstr\u001b[39m,\n\u001b[0;32m   (...)\u001b[0m\n\u001b[1;32m    307\u001b[0m     is_valid_file: Optional[Callable[[\u001b[39mstr\u001b[39m], \u001b[39mbool\u001b[39m]] \u001b[39m=\u001b[39m \u001b[39mNone\u001b[39;00m,\n\u001b[1;32m    308\u001b[0m ):\n\u001b[0;32m--> 309\u001b[0m     \u001b[39msuper\u001b[39;49m()\u001b[39m.\u001b[39;49m\u001b[39m__init__\u001b[39;49m(\n\u001b[1;32m    310\u001b[0m         root,\n\u001b[1;32m    311\u001b[0m         loader,\n\u001b[1;32m    312\u001b[0m         IMG_EXTENSIONS \u001b[39mif\u001b[39;49;00m is_valid_file \u001b[39mis\u001b[39;49;00m \u001b[39mNone\u001b[39;49;00m \u001b[39melse\u001b[39;49;00m \u001b[39mNone\u001b[39;49;00m,\n\u001b[1;32m    313\u001b[0m         transform\u001b[39m=\u001b[39;49mtransform,\n\u001b[1;32m    314\u001b[0m         target_transform\u001b[39m=\u001b[39;49mtarget_transform,\n\u001b[1;32m    315\u001b[0m         is_valid_file\u001b[39m=\u001b[39;49mis_valid_file,\n\u001b[1;32m    316\u001b[0m     )\n\u001b[1;32m    317\u001b[0m     \u001b[39mself\u001b[39m\u001b[39m.\u001b[39mimgs \u001b[39m=\u001b[39m \u001b[39mself\u001b[39m\u001b[39m.\u001b[39msamples\n",
      "File \u001b[0;32m~/.local/lib/python3.10/site-packages/torchvision/datasets/folder.py:145\u001b[0m, in \u001b[0;36mDatasetFolder.__init__\u001b[0;34m(self, root, loader, extensions, transform, target_transform, is_valid_file)\u001b[0m\n\u001b[1;32m    143\u001b[0m \u001b[39msuper\u001b[39m()\u001b[39m.\u001b[39m\u001b[39m__init__\u001b[39m(root, transform\u001b[39m=\u001b[39mtransform, target_transform\u001b[39m=\u001b[39mtarget_transform)\n\u001b[1;32m    144\u001b[0m classes, class_to_idx \u001b[39m=\u001b[39m \u001b[39mself\u001b[39m\u001b[39m.\u001b[39mfind_classes(\u001b[39mself\u001b[39m\u001b[39m.\u001b[39mroot)\n\u001b[0;32m--> 145\u001b[0m samples \u001b[39m=\u001b[39m \u001b[39mself\u001b[39;49m\u001b[39m.\u001b[39;49mmake_dataset(\u001b[39mself\u001b[39;49m\u001b[39m.\u001b[39;49mroot, class_to_idx, extensions, is_valid_file)\n\u001b[1;32m    147\u001b[0m \u001b[39mself\u001b[39m\u001b[39m.\u001b[39mloader \u001b[39m=\u001b[39m loader\n\u001b[1;32m    148\u001b[0m \u001b[39mself\u001b[39m\u001b[39m.\u001b[39mextensions \u001b[39m=\u001b[39m extensions\n",
      "File \u001b[0;32m~/.local/lib/python3.10/site-packages/torchvision/datasets/folder.py:189\u001b[0m, in \u001b[0;36mDatasetFolder.make_dataset\u001b[0;34m(directory, class_to_idx, extensions, is_valid_file)\u001b[0m\n\u001b[1;32m    184\u001b[0m \u001b[39mif\u001b[39;00m class_to_idx \u001b[39mis\u001b[39;00m \u001b[39mNone\u001b[39;00m:\n\u001b[1;32m    185\u001b[0m     \u001b[39m# prevent potential bug since make_dataset() would use the class_to_idx logic of the\u001b[39;00m\n\u001b[1;32m    186\u001b[0m     \u001b[39m# find_classes() function, instead of using that of the find_classes() method, which\u001b[39;00m\n\u001b[1;32m    187\u001b[0m     \u001b[39m# is potentially overridden and thus could have a different logic.\u001b[39;00m\n\u001b[1;32m    188\u001b[0m     \u001b[39mraise\u001b[39;00m \u001b[39mValueError\u001b[39;00m(\u001b[39m\"\u001b[39m\u001b[39mThe class_to_idx parameter cannot be None.\u001b[39m\u001b[39m\"\u001b[39m)\n\u001b[0;32m--> 189\u001b[0m \u001b[39mreturn\u001b[39;00m make_dataset(directory, class_to_idx, extensions\u001b[39m=\u001b[39;49mextensions, is_valid_file\u001b[39m=\u001b[39;49mis_valid_file)\n",
      "File \u001b[0;32m~/.local/lib/python3.10/site-packages/torchvision/datasets/folder.py:102\u001b[0m, in \u001b[0;36mmake_dataset\u001b[0;34m(directory, class_to_idx, extensions, is_valid_file)\u001b[0m\n\u001b[1;32m    100\u001b[0m     \u001b[39mif\u001b[39;00m extensions \u001b[39mis\u001b[39;00m \u001b[39mnot\u001b[39;00m \u001b[39mNone\u001b[39;00m:\n\u001b[1;32m    101\u001b[0m         msg \u001b[39m+\u001b[39m\u001b[39m=\u001b[39m \u001b[39mf\u001b[39m\u001b[39m\"\u001b[39m\u001b[39mSupported extensions are: \u001b[39m\u001b[39m{\u001b[39;00mextensions\u001b[39m \u001b[39m\u001b[39mif\u001b[39;00m\u001b[39m \u001b[39m\u001b[39misinstance\u001b[39m(extensions,\u001b[39m \u001b[39m\u001b[39mstr\u001b[39m)\u001b[39m \u001b[39m\u001b[39melse\u001b[39;00m\u001b[39m \u001b[39m\u001b[39m'\u001b[39m\u001b[39m, \u001b[39m\u001b[39m'\u001b[39m\u001b[39m.\u001b[39mjoin(extensions)\u001b[39m}\u001b[39;00m\u001b[39m\"\u001b[39m\n\u001b[0;32m--> 102\u001b[0m     \u001b[39mraise\u001b[39;00m \u001b[39mFileNotFoundError\u001b[39;00m(msg)\n\u001b[1;32m    104\u001b[0m \u001b[39mreturn\u001b[39;00m instances\n",
      "\u001b[0;31mFileNotFoundError\u001b[0m: Found no valid file for the classes others. Supported extensions are: .jpg, .jpeg, .png, .ppm, .bmp, .pgm, .tif, .tiff, .webp"
     ]
    }
   ],
   "source": [
    "import sys\n",
    "sys.path.append('../classifiers/binary_classifier')\n",
    "import fit\n",
    "import val\n",
    "import emsamble\n",
    "#From the notebook to run train\n",
    "# number of epoch to run\n",
    "# save dir_where you want the best_classifier to run\n",
    "# train_dir the directory to get the data\n",
    "for seed in [7, 13, 17, 19, 31, 42]:\n",
    "    fit.main(number_epochs=10, save_dir=f'../classifiers/binary_classifier/out/run_{seed}/', train_dir=f'../binary_scc/{seed}/train/')"
   ]
  },
  {
   "cell_type": "code",
   "execution_count": 4,
   "metadata": {},
   "outputs": [
    {
     "name": "stdout",
     "output_type": "stream",
     "text": [
      "Using device: cuda:0\n",
      "Loaded dataset:\n",
      " - Number of images: 282\n",
      " - Number of classes: 2\n",
      " - Class names: ['others', 'scc']\n",
      " - Batch size: 16\n",
      "Initialized models:\n",
      " - Inception V3 with custom classifier\n",
      " - EfficientNet B0 with custom classifier\n"
     ]
    },
    {
     "name": "stderr",
     "output_type": "stream",
     "text": [
      "Evaluating: 100%|██████████| 18/18 [00:07<00:00,  2.26it/s]\n"
     ]
    },
    {
     "name": "stdout",
     "output_type": "stream",
     "text": [
      "Model: EfficientNet, Path: ../classifiers/binary_classifier/out/run_7/EfficientNet_best.pth, Accuracy: 0.8368794326241135\n"
     ]
    },
    {
     "name": "stderr",
     "output_type": "stream",
     "text": [
      "Evaluating: 100%|██████████| 18/18 [00:07<00:00,  2.55it/s]\n"
     ]
    },
    {
     "name": "stdout",
     "output_type": "stream",
     "text": [
      "Model: Inception3, Path: ../classifiers/binary_classifier/out/run_7/Inception3_best.pth, Accuracy: 0.8333333333333334\n",
      "Using device: cuda:0\n",
      "Loaded dataset:\n",
      " - Number of images: 282\n",
      " - Number of classes: 2\n",
      " - Class names: ['others', 'scc']\n",
      " - Batch size: 16\n",
      "Initialized models:\n",
      " - Inception V3 with custom classifier\n",
      " - EfficientNet B0 with custom classifier\n"
     ]
    },
    {
     "name": "stderr",
     "output_type": "stream",
     "text": [
      "Evaluating: 100%|██████████| 18/18 [00:07<00:00,  2.52it/s]\n"
     ]
    },
    {
     "name": "stdout",
     "output_type": "stream",
     "text": [
      "Model: EfficientNet, Path: ../classifiers/binary_classifier/out/run_13/EfficientNet_best.pth, Accuracy: 0.8794326241134752\n"
     ]
    },
    {
     "name": "stderr",
     "output_type": "stream",
     "text": [
      "Evaluating: 100%|██████████| 18/18 [00:08<00:00,  2.24it/s]\n"
     ]
    },
    {
     "name": "stdout",
     "output_type": "stream",
     "text": [
      "Model: Inception3, Path: ../classifiers/binary_classifier/out/run_13/Inception3_best.pth, Accuracy: 0.8156028368794326\n",
      "Using device: cuda:0\n",
      "Loaded dataset:\n",
      " - Number of images: 282\n",
      " - Number of classes: 2\n",
      " - Class names: ['others', 'scc']\n",
      " - Batch size: 16\n",
      "Initialized models:\n",
      " - Inception V3 with custom classifier\n",
      " - EfficientNet B0 with custom classifier\n"
     ]
    },
    {
     "name": "stderr",
     "output_type": "stream",
     "text": [
      "Evaluating: 100%|██████████| 18/18 [00:09<00:00,  1.97it/s]\n"
     ]
    },
    {
     "name": "stdout",
     "output_type": "stream",
     "text": [
      "Model: EfficientNet, Path: ../classifiers/binary_classifier/out/run_17/EfficientNet_best.pth, Accuracy: 0.8404255319148937\n"
     ]
    },
    {
     "name": "stderr",
     "output_type": "stream",
     "text": [
      "Evaluating: 100%|██████████| 18/18 [00:08<00:00,  2.22it/s]\n"
     ]
    },
    {
     "name": "stdout",
     "output_type": "stream",
     "text": [
      "Model: Inception3, Path: ../classifiers/binary_classifier/out/run_17/Inception3_best.pth, Accuracy: 0.8581560283687943\n",
      "Using device: cuda:0\n",
      "Loaded dataset:\n",
      " - Number of images: 282\n",
      " - Number of classes: 2\n",
      " - Class names: ['others', 'scc']\n",
      " - Batch size: 16\n",
      "Initialized models:\n",
      " - Inception V3 with custom classifier\n",
      " - EfficientNet B0 with custom classifier\n"
     ]
    },
    {
     "name": "stderr",
     "output_type": "stream",
     "text": [
      "Evaluating: 100%|██████████| 18/18 [00:07<00:00,  2.44it/s]\n"
     ]
    },
    {
     "name": "stdout",
     "output_type": "stream",
     "text": [
      "Model: EfficientNet, Path: ../classifiers/binary_classifier/out/run_19/EfficientNet_best.pth, Accuracy: 0.875886524822695\n"
     ]
    },
    {
     "name": "stderr",
     "output_type": "stream",
     "text": [
      "Evaluating: 100%|██████████| 18/18 [00:08<00:00,  2.25it/s]\n"
     ]
    },
    {
     "name": "stdout",
     "output_type": "stream",
     "text": [
      "Model: Inception3, Path: ../classifiers/binary_classifier/out/run_19/Inception3_best.pth, Accuracy: 0.8829787234042553\n",
      "Using device: cuda:0\n",
      "Loaded dataset:\n",
      " - Number of images: 282\n",
      " - Number of classes: 2\n",
      " - Class names: ['others', 'scc']\n",
      " - Batch size: 16\n",
      "Initialized models:\n",
      " - Inception V3 with custom classifier\n",
      " - EfficientNet B0 with custom classifier\n"
     ]
    },
    {
     "name": "stderr",
     "output_type": "stream",
     "text": [
      "Evaluating: 100%|██████████| 18/18 [00:09<00:00,  1.94it/s]\n"
     ]
    },
    {
     "name": "stdout",
     "output_type": "stream",
     "text": [
      "Model: EfficientNet, Path: ../classifiers/binary_classifier/out/run_31/EfficientNet_best.pth, Accuracy: 0.8617021276595744\n"
     ]
    },
    {
     "name": "stderr",
     "output_type": "stream",
     "text": [
      "Evaluating: 100%|██████████| 18/18 [00:07<00:00,  2.36it/s]\n"
     ]
    },
    {
     "name": "stdout",
     "output_type": "stream",
     "text": [
      "Model: Inception3, Path: ../classifiers/binary_classifier/out/run_31/Inception3_best.pth, Accuracy: 0.8687943262411347\n",
      "Using device: cuda:0\n",
      "Loaded dataset:\n",
      " - Number of images: 150\n",
      " - Number of classes: 2\n",
      " - Class names: ['others', 'scc']\n",
      " - Batch size: 16\n",
      "Initialized models:\n",
      " - Inception V3 with custom classifier\n",
      " - EfficientNet B0 with custom classifier\n"
     ]
    },
    {
     "name": "stderr",
     "output_type": "stream",
     "text": [
      "Evaluating: 100%|██████████| 10/10 [00:04<00:00,  2.42it/s]\n"
     ]
    },
    {
     "name": "stdout",
     "output_type": "stream",
     "text": [
      "Model: EfficientNet, Path: ../classifiers/binary_classifier/out/run_42/EfficientNet_best.pth, Accuracy: 0.8733333333333333\n"
     ]
    },
    {
     "name": "stderr",
     "output_type": "stream",
     "text": [
      "Evaluating: 100%|██████████| 10/10 [00:03<00:00,  2.66it/s]"
     ]
    },
    {
     "name": "stdout",
     "output_type": "stream",
     "text": [
      "Model: Inception3, Path: ../classifiers/binary_classifier/out/run_42/Inception3_best.pth, Accuracy: 0.8133333333333334\n"
     ]
    },
    {
     "name": "stderr",
     "output_type": "stream",
     "text": [
      "\n"
     ]
    }
   ],
   "source": [
    "for seed in [7, 13, 17, 19, 31, 42]:\n",
    "    val.evaluating_best_classifier(val_dir=f'../data/binary_scc/{seed}/val/', root_out = f'../classifiers/binary_classifier/out/run_{seed}/')"
   ]
  },
  {
   "cell_type": "markdown",
   "metadata": {},
   "source": [
    "## Stack Validation Predictions and Apply Maximum Voting"
   ]
  },
  {
   "cell_type": "code",
   "execution_count": 19,
   "metadata": {},
   "outputs": [
    {
     "name": "stdout",
     "output_type": "stream",
     "text": [
      "Initialized models:\n",
      " - Inception V3 with custom classifier\n",
      " - EfficientNet B0 with custom classifier\n"
     ]
    }
   ],
   "source": [
    "import glob\n",
    "from torchvision.models import efficientnet_b0, inception_v3\n",
    "\n",
    "models = fit.initialize_models('cpu')\n",
    "paths = glob.glob('../classifiers/binary_classifier/out/*/EfficientNet_best.pth')\n",
    "efficients = emsamble.load_models(model_paths=paths, model=models[0])\n",
    "\n",
    "paths = glob.glob('../classifiers/binary_classifier/out/*/Inception3_best.pth')\n",
    "inceptions = emsamble.load_models(model_paths=paths, model=models[1])"
   ]
  },
  {
   "cell_type": "code",
   "execution_count": 20,
   "metadata": {},
   "outputs": [
    {
     "data": {
      "text/plain": [
       "12"
      ]
     },
     "execution_count": 20,
     "metadata": {},
     "output_type": "execute_result"
    }
   ],
   "source": [
    "import numpy as np\n",
    "\n",
    "models = np.concatenate([inceptions, efficients])\n",
    "len(models)"
   ]
  },
  {
   "cell_type": "code",
   "execution_count": 21,
   "metadata": {},
   "outputs": [
    {
     "name": "stdout",
     "output_type": "stream",
     "text": [
      "Loaded dataset:\n",
      " - Number of images: 1270\n",
      " - Number of classes: 2\n",
      " - Class names: ['others', 'scc']\n",
      " - Batch size: 16\n"
     ]
    },
    {
     "name": "stderr",
     "output_type": "stream",
     "text": [
      "Generating Class Predictions: 100%|██████████| 80/80 [21:03<00:00, 15.79s/it] \n"
     ]
    }
   ],
   "source": [
    "transform = emsamble.create_transforms()\n",
    "\n",
    "val_loader = emsamble.load_data('../data/binary_scc/all/val/', transform)\n",
    "\n",
    "class_predictions, true_labels, image_names = emsamble.generate_class_predictions(models, val_loader, 'cpu')\n",
    "final_predictions, vote_counts = emsamble.maximum_voting(class_predictions)\n",
    "\n",
    "accuracy = emsamble.calculate_accuracy(final_predictions, true_labels)\n",
    "\n",
    "import csv \n",
    "\n",
    "class_names = val_loader.dataset.classes\n",
    "with open(\"predictions.csv\", \"w\", newline=\"\") as csvfile:\n",
    "    csvwriter = csv.writer(csvfile)\n",
    "    csvwriter.writerow([\"image_name\", \"class_number\", \"class_name\"])\n",
    "    for idx, pred in enumerate(final_predictions):\n",
    "        image_path = image_names[idx]\n",
    "        image_name = image_path.split('/')[-1]\n",
    "        class_number = pred.item()\n",
    "        class_name = class_names[class_number]\n",
    "        csvwriter.writerow([image_name, class_number, class_name])\n",
    "\n",
    "with open(\"detailed_predictions.txt\", \"w\") as f:\n",
    "    for idx, (pred, true_label) in enumerate(zip(final_predictions, true_labels)):\n",
    "        f.write(f\"Image {idx}: Predicted Class {pred.item()}, True Class {true_label.item()}, Vote counts: {vote_counts[idx].tolist()}\\n\")\n"
   ]
  },
  {
   "cell_type": "code",
   "execution_count": 22,
   "metadata": {},
   "outputs": [
    {
     "data": {
      "text/plain": [
       "0.9204724409448819"
      ]
     },
     "execution_count": 22,
     "metadata": {},
     "output_type": "execute_result"
    }
   ],
   "source": [
    "accuracy"
   ]
  },
  {
   "cell_type": "markdown",
   "metadata": {},
   "source": [
    "## Perfect! Now let's play with multiclass results :) "
   ]
  },
  {
   "cell_type": "code",
   "execution_count": null,
   "metadata": {},
   "outputs": [],
   "source": []
  }
 ],
 "metadata": {
  "kernelspec": {
   "display_name": "meldl-3-9",
   "language": "python",
   "name": "python3"
  },
  "language_info": {
   "codemirror_mode": {
    "name": "ipython",
    "version": 3
   },
   "file_extension": ".py",
   "mimetype": "text/x-python",
   "name": "python",
   "nbconvert_exporter": "python",
   "pygments_lexer": "ipython3",
   "version": "3.10.12"
  }
 },
 "nbformat": 4,
 "nbformat_minor": 2
}
