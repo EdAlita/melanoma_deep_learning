{
 "cells": [
  {
   "cell_type": "code",
   "execution_count": 2,
   "metadata": {},
   "outputs": [
    {
     "name": "stdout",
     "output_type": "stream",
     "text": [
      "train\n",
      "True\n",
      "../data/binary_scc/7/train\n",
      "train\n",
      "True\n",
      "../data/binary_scc/13/train\n",
      "train\n",
      "True\n",
      "../data/binary_scc/17/train\n",
      "train\n",
      "True\n",
      "../data/binary_scc/19/train\n",
      "train\n",
      "True\n",
      "../data/binary_scc/31/train\n",
      "train\n",
      "True\n",
      "../data/binary_scc/42/train\n"
     ]
    }
   ],
   "source": [
    "## Taking bcc - mel - scc --> create scc and others.\n",
    "import os\n",
    "import shutil\n",
    "import numpy as np\n",
    "import random\n",
    "\n",
    "def create_scc_and_others(src_root = '../data_mult/train/', dst_root_key = 'binary_scc', seed=42):\n",
    "    \n",
    "    random.seed(seed)\n",
    "    mode = src_root.split('/')[-2]\n",
    "    print(mode)\n",
    "    print(os.path.exists(src_root))\n",
    "    dst_root = os.path.join('../data/', dst_root_key, str(seed), mode)\n",
    "    print(dst_root)\n",
    "    # Create the 'binary_scc' folder\n",
    "    os.makedirs(dst_root, exist_ok=True)\n",
    "\n",
    "    src_bcc_folder = os.path.join(src_root, 'bcc')\n",
    "    src_mel_folder = os.path.join(src_root, 'mel')\n",
    "    src_scc_folder = os.path.join(src_root, 'scc')\n",
    "\n",
    "    dst_others_folder = os.path.join(dst_root, 'others')\n",
    "    dst_scc_folder = os.path.join(dst_root, 'scc')\n",
    "\n",
    "    os.makedirs(dst_others_folder, exist_ok=True)\n",
    "    os.makedirs(dst_scc_folder, exist_ok=True)\n",
    "\n",
    "    # Move files from 'mel' to 'scc'\n",
    "    scc_files = os.listdir(src_scc_folder)\n",
    "    n = len(scc_files)\n",
    "    for file in scc_files:\n",
    "        source_path = os.path.join(src_scc_folder, file)\n",
    "        destination_path = os.path.join(dst_scc_folder, file)\n",
    "        shutil.copy(source_path, destination_path)\n",
    "\n",
    "    # Move files from 'bcc' to 'scc'\n",
    "    bcc_files = os.listdir(src_bcc_folder)\n",
    "    # Select n random files from 'bcc'\n",
    "    try: \n",
    "        bcc_selected_files = random.sample(bcc_files, n)\n",
    "    except: \n",
    "        n = len(bcc_files)\n",
    "        bcc_selected_files = bcc_files\n",
    "\n",
    "    for file in bcc_selected_files:\n",
    "        source_path = os.path.join(src_bcc_folder, file)\n",
    "        destination_path = os.path.join(dst_others_folder, file)\n",
    "        shutil.move(source_path, destination_path)\n",
    "\n",
    "    # Move files from 'mel' to 'scc'\n",
    "    mel_files = os.listdir(src_mel_folder)\n",
    "    # Select n random files from 'mel'\n",
    "    try: \n",
    "        mel_selected_files = random.sample(mel_files, n)\n",
    "    except:\n",
    "        n = len(mel_files)\n",
    "        mel_selected_files = mel_files\n",
    "\n",
    "    for file in mel_selected_files:\n",
    "        source_path = os.path.join(src_mel_folder, file)\n",
    "        destination_path = os.path.join(dst_others_folder, file)\n",
    "        shutil.move(source_path, destination_path)\n",
    "\n",
    "\n",
    "for seed in [7, 13, 17, 19, 31, 42]:\n",
    "    create_scc_and_others(seed=seed)\n"
   ]
  },
  {
   "cell_type": "code",
   "execution_count": 2,
   "metadata": {},
   "outputs": [
    {
     "name": "stdout",
     "output_type": "stream",
     "text": [
      "Looking in indexes: https://pypi.org/simple, https://pypi.ngc.nvidia.com\n",
      "Collecting torchsummary\n",
      "  Downloading torchsummary-1.5.1-py3-none-any.whl (2.8 kB)\n",
      "Installing collected packages: torchsummary\n",
      "Successfully installed torchsummary-1.5.1\n"
     ]
    },
    {
     "name": "stderr",
     "output_type": "stream",
     "text": [
      "\n",
      "[notice] A new release of pip is available: 23.3.1 -> 23.3.2\n",
      "[notice] To update, run: python.exe -m pip install --upgrade pip\n"
     ]
    }
   ],
   "source": [
    "!pip install torchsummary"
   ]
  },
  {
   "cell_type": "code",
   "execution_count": 1,
   "metadata": {},
   "outputs": [],
   "source": [
    "import sys\n",
    "sys.path.append('../classifiers/binary_classifier')\n",
    "import fit\n",
    "import val\n",
    "import emsamble"
   ]
  },
  {
   "cell_type": "code",
   "execution_count": 1,
   "metadata": {},
   "outputs": [
    {
     "name": "stdout",
     "output_type": "stream",
     "text": [
      "Using device: cuda:0\n",
      "Train data: ../data/binary_scc/7/train/ Out path: ../classifiers/binary_classifier/out/run_7/\n",
      "Loaded dataset:\n",
      " - Number of images: 1128\n",
      " - Number of classes: 2\n",
      " - Class names: ['others', 'scc']\n",
      " - Batch size: 8\n",
      "Initialized models:\n",
      " - Inception V3 with custom classifier\n",
      " - EfficientNet B0 with custom classifier\n",
      "Training Inception3 - Epoch 1/10\n",
      "Current Learning Rate: 1e-05\n"
     ]
    },
    {
     "data": {
      "application/vnd.jupyter.widget-view+json": {
       "model_id": "9a79d1d1aa684e0484e83895a6625bc9",
       "version_major": 2,
       "version_minor": 0
      },
      "text/plain": [
       "Epoch 1:   0%|          | 0/141 [00:00<?, ?batch/s]"
      ]
     },
     "metadata": {},
     "output_type": "display_data"
    },
    {
     "name": "stdout",
     "output_type": "stream",
     "text": [
      "Saved improved model at epoch 1\n",
      "Inception3 - Epoch 1 Completed - Time: 67.89s\n",
      "Training Inception3 - Epoch 2/10\n",
      "Current Learning Rate: 3.2500000000000004e-05\n"
     ]
    },
    {
     "data": {
      "application/vnd.jupyter.widget-view+json": {
       "model_id": "faab6ca8496a427999e3a34874a16aa4",
       "version_major": 2,
       "version_minor": 0
      },
      "text/plain": [
       "Epoch 2:   0%|          | 0/141 [00:00<?, ?batch/s]"
      ]
     },
     "metadata": {},
     "output_type": "display_data"
    },
    {
     "name": "stdout",
     "output_type": "stream",
     "text": [
      "Saved improved model at epoch 2\n",
      "Inception3 - Epoch 2 Completed - Time: 72.36s\n",
      "Training Inception3 - Epoch 3/10\n",
      "Current Learning Rate: 5.5e-05\n"
     ]
    },
    {
     "data": {
      "application/vnd.jupyter.widget-view+json": {
       "model_id": "b3150b07965b474aa7ac7587afc8306a",
       "version_major": 2,
       "version_minor": 0
      },
      "text/plain": [
       "Epoch 3:   0%|          | 0/141 [00:00<?, ?batch/s]"
      ]
     },
     "metadata": {},
     "output_type": "display_data"
    },
    {
     "name": "stdout",
     "output_type": "stream",
     "text": [
      "Saved improved model at epoch 3\n",
      "Inception3 - Epoch 3 Completed - Time: 73.41s\n",
      "Training Inception3 - Epoch 4/10\n",
      "Current Learning Rate: 7.75e-05\n"
     ]
    },
    {
     "data": {
      "application/vnd.jupyter.widget-view+json": {
       "model_id": "de2c45551888497bbe638c977977a4bc",
       "version_major": 2,
       "version_minor": 0
      },
      "text/plain": [
       "Epoch 4:   0%|          | 0/141 [00:00<?, ?batch/s]"
      ]
     },
     "metadata": {},
     "output_type": "display_data"
    },
    {
     "name": "stdout",
     "output_type": "stream",
     "text": [
      "Saved improved model at epoch 4\n",
      "Inception3 - Epoch 4 Completed - Time: 75.46s\n",
      "Training Inception3 - Epoch 5/10\n",
      "Current Learning Rate: 0.0001\n"
     ]
    },
    {
     "data": {
      "application/vnd.jupyter.widget-view+json": {
       "model_id": "44e9210f725c43429f984d976efa4621",
       "version_major": 2,
       "version_minor": 0
      },
      "text/plain": [
       "Epoch 5:   0%|          | 0/141 [00:00<?, ?batch/s]"
      ]
     },
     "metadata": {},
     "output_type": "display_data"
    },
    {
     "name": "stdout",
     "output_type": "stream",
     "text": [
      "Saved improved model at epoch 5\n",
      "Inception3 - Epoch 5 Completed - Time: 82.44s\n",
      "Training Inception3 - Epoch 6/10\n",
      "Current Learning Rate: 7.75e-05\n"
     ]
    },
    {
     "data": {
      "application/vnd.jupyter.widget-view+json": {
       "model_id": "db1e53b236cf4c27b0439ee27d418b01",
       "version_major": 2,
       "version_minor": 0
      },
      "text/plain": [
       "Epoch 6:   0%|          | 0/141 [00:00<?, ?batch/s]"
      ]
     },
     "metadata": {},
     "output_type": "display_data"
    },
    {
     "name": "stdout",
     "output_type": "stream",
     "text": [
      "Saved improved model at epoch 6\n",
      "Inception3 - Epoch 6 Completed - Time: 82.83s\n",
      "Training Inception3 - Epoch 7/10\n",
      "Current Learning Rate: 5.5e-05\n"
     ]
    },
    {
     "data": {
      "application/vnd.jupyter.widget-view+json": {
       "model_id": "f428cbf1ee8b423292e6cc43f593770e",
       "version_major": 2,
       "version_minor": 0
      },
      "text/plain": [
       "Epoch 7:   0%|          | 0/141 [00:00<?, ?batch/s]"
      ]
     },
     "metadata": {},
     "output_type": "display_data"
    },
    {
     "name": "stdout",
     "output_type": "stream",
     "text": [
      "Saved improved model at epoch 7\n",
      "Inception3 - Epoch 7 Completed - Time: 79.12s\n",
      "Training Inception3 - Epoch 8/10\n",
      "Current Learning Rate: 3.2500000000000004e-05\n"
     ]
    },
    {
     "data": {
      "application/vnd.jupyter.widget-view+json": {
       "model_id": "79f2c73b73194b3c9c9144041de16fcc",
       "version_major": 2,
       "version_minor": 0
      },
      "text/plain": [
       "Epoch 8:   0%|          | 0/141 [00:00<?, ?batch/s]"
      ]
     },
     "metadata": {},
     "output_type": "display_data"
    },
    {
     "name": "stdout",
     "output_type": "stream",
     "text": [
      "Saved improved model at epoch 8\n",
      "Inception3 - Epoch 8 Completed - Time: 81.13s\n",
      "Training Inception3 - Epoch 9/10\n",
      "Current Learning Rate: 1e-05\n"
     ]
    },
    {
     "data": {
      "application/vnd.jupyter.widget-view+json": {
       "model_id": "40ea0983ca404b309a9e6a2a9357406a",
       "version_major": 2,
       "version_minor": 0
      },
      "text/plain": [
       "Epoch 9:   0%|          | 0/141 [00:00<?, ?batch/s]"
      ]
     },
     "metadata": {},
     "output_type": "display_data"
    },
    {
     "name": "stdout",
     "output_type": "stream",
     "text": [
      "Saved improved model at epoch 9\n",
      "Inception3 - Epoch 9 Completed - Time: 82.74s\n",
      "Training Inception3 - Epoch 10/10\n",
      "Current Learning Rate: 2.125e-05\n"
     ]
    },
    {
     "data": {
      "application/vnd.jupyter.widget-view+json": {
       "model_id": "d0479895426647eeb4a75393e9ad1487",
       "version_major": 2,
       "version_minor": 0
      },
      "text/plain": [
       "Epoch 10:   0%|          | 0/141 [00:00<?, ?batch/s]"
      ]
     },
     "metadata": {},
     "output_type": "display_data"
    },
    {
     "name": "stdout",
     "output_type": "stream",
     "text": [
      "Saved improved model at epoch 10\n",
      "Inception3 - Epoch 10 Completed - Time: 84.73s\n",
      "Training EfficientNet - Epoch 1/10\n",
      "Current Learning Rate: 1e-05\n"
     ]
    },
    {
     "data": {
      "application/vnd.jupyter.widget-view+json": {
       "model_id": "164ad9f2a0be4e83b6fe52f47d6b7fbe",
       "version_major": 2,
       "version_minor": 0
      },
      "text/plain": [
       "Epoch 1:   0%|          | 0/141 [00:00<?, ?batch/s]"
      ]
     },
     "metadata": {},
     "output_type": "display_data"
    },
    {
     "name": "stdout",
     "output_type": "stream",
     "text": [
      "Saved improved model at epoch 1\n",
      "EfficientNet - Epoch 1 Completed - Time: 63.55s\n",
      "Training EfficientNet - Epoch 2/10\n",
      "Current Learning Rate: 3.2500000000000004e-05\n"
     ]
    },
    {
     "data": {
      "application/vnd.jupyter.widget-view+json": {
       "model_id": "ba4b9c85ad1e4f3f89388bb52dd641f5",
       "version_major": 2,
       "version_minor": 0
      },
      "text/plain": [
       "Epoch 2:   0%|          | 0/141 [00:00<?, ?batch/s]"
      ]
     },
     "metadata": {},
     "output_type": "display_data"
    },
    {
     "name": "stdout",
     "output_type": "stream",
     "text": [
      "Saved improved model at epoch 2\n",
      "EfficientNet - Epoch 2 Completed - Time: 57.88s\n",
      "Training EfficientNet - Epoch 3/10\n",
      "Current Learning Rate: 5.5e-05\n"
     ]
    },
    {
     "data": {
      "application/vnd.jupyter.widget-view+json": {
       "model_id": "6198ebfd08c24eacb6b9eab29d3a5c85",
       "version_major": 2,
       "version_minor": 0
      },
      "text/plain": [
       "Epoch 3:   0%|          | 0/141 [00:00<?, ?batch/s]"
      ]
     },
     "metadata": {},
     "output_type": "display_data"
    },
    {
     "name": "stdout",
     "output_type": "stream",
     "text": [
      "Saved improved model at epoch 3\n",
      "EfficientNet - Epoch 3 Completed - Time: 59.52s\n",
      "Training EfficientNet - Epoch 4/10\n",
      "Current Learning Rate: 7.75e-05\n"
     ]
    },
    {
     "data": {
      "application/vnd.jupyter.widget-view+json": {
       "model_id": "28971c5f10654827aea7d8de17417feb",
       "version_major": 2,
       "version_minor": 0
      },
      "text/plain": [
       "Epoch 4:   0%|          | 0/141 [00:00<?, ?batch/s]"
      ]
     },
     "metadata": {},
     "output_type": "display_data"
    },
    {
     "name": "stdout",
     "output_type": "stream",
     "text": [
      "Saved improved model at epoch 4\n",
      "EfficientNet - Epoch 4 Completed - Time: 60.07s\n",
      "Training EfficientNet - Epoch 5/10\n",
      "Current Learning Rate: 0.0001\n"
     ]
    },
    {
     "data": {
      "application/vnd.jupyter.widget-view+json": {
       "model_id": "64a4a39a4b614db09dd564479ed63821",
       "version_major": 2,
       "version_minor": 0
      },
      "text/plain": [
       "Epoch 5:   0%|          | 0/141 [00:00<?, ?batch/s]"
      ]
     },
     "metadata": {},
     "output_type": "display_data"
    },
    {
     "name": "stdout",
     "output_type": "stream",
     "text": [
      "Saved improved model at epoch 5\n",
      "EfficientNet - Epoch 5 Completed - Time: 61.07s\n",
      "Training EfficientNet - Epoch 6/10\n",
      "Current Learning Rate: 7.75e-05\n"
     ]
    },
    {
     "data": {
      "application/vnd.jupyter.widget-view+json": {
       "model_id": "3af234590b354f9ba2375199d72f162a",
       "version_major": 2,
       "version_minor": 0
      },
      "text/plain": [
       "Epoch 6:   0%|          | 0/141 [00:00<?, ?batch/s]"
      ]
     },
     "metadata": {},
     "output_type": "display_data"
    },
    {
     "name": "stdout",
     "output_type": "stream",
     "text": [
      "Saved improved model at epoch 6\n",
      "EfficientNet - Epoch 6 Completed - Time: 62.98s\n",
      "Training EfficientNet - Epoch 7/10\n",
      "Current Learning Rate: 5.5e-05\n"
     ]
    },
    {
     "data": {
      "application/vnd.jupyter.widget-view+json": {
       "model_id": "067d7ba52eb842c89928610be235d3ae",
       "version_major": 2,
       "version_minor": 0
      },
      "text/plain": [
       "Epoch 7:   0%|          | 0/141 [00:00<?, ?batch/s]"
      ]
     },
     "metadata": {},
     "output_type": "display_data"
    },
    {
     "name": "stdout",
     "output_type": "stream",
     "text": [
      "Saved improved model at epoch 7\n",
      "EfficientNet - Epoch 7 Completed - Time: 64.82s\n",
      "Training EfficientNet - Epoch 8/10\n",
      "Current Learning Rate: 3.2500000000000004e-05\n"
     ]
    },
    {
     "data": {
      "application/vnd.jupyter.widget-view+json": {
       "model_id": "007c82b7e5ec4f84b64a4fe344b39878",
       "version_major": 2,
       "version_minor": 0
      },
      "text/plain": [
       "Epoch 8:   0%|          | 0/141 [00:00<?, ?batch/s]"
      ]
     },
     "metadata": {},
     "output_type": "display_data"
    },
    {
     "name": "stdout",
     "output_type": "stream",
     "text": [
      "Saved improved model at epoch 8\n",
      "EfficientNet - Epoch 8 Completed - Time: 66.35s\n",
      "Training EfficientNet - Epoch 9/10\n",
      "Current Learning Rate: 1e-05\n"
     ]
    },
    {
     "data": {
      "application/vnd.jupyter.widget-view+json": {
       "model_id": "9f6079dd4e8849a7bef7c82b5113b9e4",
       "version_major": 2,
       "version_minor": 0
      },
      "text/plain": [
       "Epoch 9:   0%|          | 0/141 [00:00<?, ?batch/s]"
      ]
     },
     "metadata": {},
     "output_type": "display_data"
    },
    {
     "name": "stdout",
     "output_type": "stream",
     "text": [
      "Saved improved model at epoch 9\n",
      "EfficientNet - Epoch 9 Completed - Time: 65.05s\n",
      "Training EfficientNet - Epoch 10/10\n",
      "Current Learning Rate: 2.125e-05\n"
     ]
    },
    {
     "data": {
      "application/vnd.jupyter.widget-view+json": {
       "model_id": "2e978c80e8c74d7c899168773db0a6e4",
       "version_major": 2,
       "version_minor": 0
      },
      "text/plain": [
       "Epoch 10:   0%|          | 0/141 [00:00<?, ?batch/s]"
      ]
     },
     "metadata": {},
     "output_type": "display_data"
    },
    {
     "name": "stdout",
     "output_type": "stream",
     "text": [
      "Saved improved model at epoch 10\n",
      "EfficientNet - Epoch 10 Completed - Time: 67.67s\n",
      "Using device: cuda:0\n",
      "Train data: ../data/binary_scc/13/train/ Out path: ../classifiers/binary_classifier/out/run_13/\n",
      "Loaded dataset:\n",
      " - Number of images: 1128\n",
      " - Number of classes: 2\n",
      " - Class names: ['others', 'scc']\n",
      " - Batch size: 8\n",
      "Initialized models:\n",
      " - Inception V3 with custom classifier\n",
      " - EfficientNet B0 with custom classifier\n",
      "Training Inception3 - Epoch 1/10\n",
      "Current Learning Rate: 1e-05\n"
     ]
    },
    {
     "data": {
      "application/vnd.jupyter.widget-view+json": {
       "model_id": "fd6dfcbe3e1b4a7099391b98e8d8e501",
       "version_major": 2,
       "version_minor": 0
      },
      "text/plain": [
       "Epoch 1:   0%|          | 0/141 [00:00<?, ?batch/s]"
      ]
     },
     "metadata": {},
     "output_type": "display_data"
    },
    {
     "name": "stdout",
     "output_type": "stream",
     "text": [
      "Saved improved model at epoch 1\n",
      "Inception3 - Epoch 1 Completed - Time: 87.14s\n",
      "Training Inception3 - Epoch 2/10\n",
      "Current Learning Rate: 3.2500000000000004e-05\n"
     ]
    },
    {
     "data": {
      "application/vnd.jupyter.widget-view+json": {
       "model_id": "7d0d4870ddda4edb9717f3b97c3fbbb9",
       "version_major": 2,
       "version_minor": 0
      },
      "text/plain": [
       "Epoch 2:   0%|          | 0/141 [00:00<?, ?batch/s]"
      ]
     },
     "metadata": {},
     "output_type": "display_data"
    },
    {
     "name": "stdout",
     "output_type": "stream",
     "text": [
      "Saved improved model at epoch 2\n",
      "Inception3 - Epoch 2 Completed - Time: 87.57s\n",
      "Training Inception3 - Epoch 3/10\n",
      "Current Learning Rate: 5.5e-05\n"
     ]
    },
    {
     "data": {
      "application/vnd.jupyter.widget-view+json": {
       "model_id": "e3945ae480e34d3cae1b7b4a5345403a",
       "version_major": 2,
       "version_minor": 0
      },
      "text/plain": [
       "Epoch 3:   0%|          | 0/141 [00:00<?, ?batch/s]"
      ]
     },
     "metadata": {},
     "output_type": "display_data"
    },
    {
     "name": "stdout",
     "output_type": "stream",
     "text": [
      "Saved improved model at epoch 3\n",
      "Inception3 - Epoch 3 Completed - Time: 86.61s\n",
      "Training Inception3 - Epoch 4/10\n",
      "Current Learning Rate: 7.75e-05\n"
     ]
    },
    {
     "data": {
      "application/vnd.jupyter.widget-view+json": {
       "model_id": "bc18a40295274d5b9bb3f72b87c82881",
       "version_major": 2,
       "version_minor": 0
      },
      "text/plain": [
       "Epoch 4:   0%|          | 0/141 [00:00<?, ?batch/s]"
      ]
     },
     "metadata": {},
     "output_type": "display_data"
    },
    {
     "name": "stdout",
     "output_type": "stream",
     "text": [
      "Saved improved model at epoch 4\n",
      "Inception3 - Epoch 4 Completed - Time: 86.01s\n",
      "Training Inception3 - Epoch 5/10\n",
      "Current Learning Rate: 0.0001\n"
     ]
    },
    {
     "data": {
      "application/vnd.jupyter.widget-view+json": {
       "model_id": "f556ce634eb847adb55c8de4ff0def0d",
       "version_major": 2,
       "version_minor": 0
      },
      "text/plain": [
       "Epoch 5:   0%|          | 0/141 [00:00<?, ?batch/s]"
      ]
     },
     "metadata": {},
     "output_type": "display_data"
    },
    {
     "name": "stdout",
     "output_type": "stream",
     "text": [
      "Saved improved model at epoch 5\n",
      "Inception3 - Epoch 5 Completed - Time: 86.26s\n",
      "Training Inception3 - Epoch 6/10\n",
      "Current Learning Rate: 7.75e-05\n"
     ]
    },
    {
     "data": {
      "application/vnd.jupyter.widget-view+json": {
       "model_id": "e3d932a3c3c64035ad5c04f1842d1b14",
       "version_major": 2,
       "version_minor": 0
      },
      "text/plain": [
       "Epoch 6:   0%|          | 0/141 [00:00<?, ?batch/s]"
      ]
     },
     "metadata": {},
     "output_type": "display_data"
    },
    {
     "name": "stdout",
     "output_type": "stream",
     "text": [
      "Saved improved model at epoch 6\n",
      "Inception3 - Epoch 6 Completed - Time: 88.30s\n",
      "Training Inception3 - Epoch 7/10\n",
      "Current Learning Rate: 5.5e-05\n"
     ]
    },
    {
     "data": {
      "application/vnd.jupyter.widget-view+json": {
       "model_id": "f165f3e577d2476d920dfd6b5cc8342c",
       "version_major": 2,
       "version_minor": 0
      },
      "text/plain": [
       "Epoch 7:   0%|          | 0/141 [00:00<?, ?batch/s]"
      ]
     },
     "metadata": {},
     "output_type": "display_data"
    },
    {
     "name": "stdout",
     "output_type": "stream",
     "text": [
      "Saved improved model at epoch 7\n",
      "Inception3 - Epoch 7 Completed - Time: 88.56s\n",
      "Training Inception3 - Epoch 8/10\n",
      "Current Learning Rate: 3.2500000000000004e-05\n"
     ]
    },
    {
     "data": {
      "application/vnd.jupyter.widget-view+json": {
       "model_id": "e3ceca4dac1144cba38629bea7ffab7b",
       "version_major": 2,
       "version_minor": 0
      },
      "text/plain": [
       "Epoch 8:   0%|          | 0/141 [00:00<?, ?batch/s]"
      ]
     },
     "metadata": {},
     "output_type": "display_data"
    },
    {
     "name": "stdout",
     "output_type": "stream",
     "text": [
      "Saved improved model at epoch 8\n",
      "Inception3 - Epoch 8 Completed - Time: 87.27s\n",
      "Training Inception3 - Epoch 9/10\n",
      "Current Learning Rate: 1e-05\n"
     ]
    },
    {
     "data": {
      "application/vnd.jupyter.widget-view+json": {
       "model_id": "a4af6a4159a04dc8a32d163e61f6bff5",
       "version_major": 2,
       "version_minor": 0
      },
      "text/plain": [
       "Epoch 9:   0%|          | 0/141 [00:00<?, ?batch/s]"
      ]
     },
     "metadata": {},
     "output_type": "display_data"
    },
    {
     "name": "stdout",
     "output_type": "stream",
     "text": [
      "Saved improved model at epoch 9\n",
      "Inception3 - Epoch 9 Completed - Time: 88.22s\n",
      "Training Inception3 - Epoch 10/10\n",
      "Current Learning Rate: 2.125e-05\n"
     ]
    },
    {
     "data": {
      "application/vnd.jupyter.widget-view+json": {
       "model_id": "394c5a3b27214164989e06dd699e2203",
       "version_major": 2,
       "version_minor": 0
      },
      "text/plain": [
       "Epoch 10:   0%|          | 0/141 [00:00<?, ?batch/s]"
      ]
     },
     "metadata": {},
     "output_type": "display_data"
    },
    {
     "name": "stdout",
     "output_type": "stream",
     "text": [
      "Saved improved model at epoch 10\n",
      "Inception3 - Epoch 10 Completed - Time: 86.62s\n",
      "Training EfficientNet - Epoch 1/10\n",
      "Current Learning Rate: 1e-05\n"
     ]
    },
    {
     "data": {
      "application/vnd.jupyter.widget-view+json": {
       "model_id": "b0b85da669dc498cbd5ae98202c0b19c",
       "version_major": 2,
       "version_minor": 0
      },
      "text/plain": [
       "Epoch 1:   0%|          | 0/141 [00:00<?, ?batch/s]"
      ]
     },
     "metadata": {},
     "output_type": "display_data"
    },
    {
     "name": "stdout",
     "output_type": "stream",
     "text": [
      "Saved improved model at epoch 1\n",
      "EfficientNet - Epoch 1 Completed - Time: 65.37s\n",
      "Training EfficientNet - Epoch 2/10\n",
      "Current Learning Rate: 3.2500000000000004e-05\n"
     ]
    },
    {
     "data": {
      "application/vnd.jupyter.widget-view+json": {
       "model_id": "2b78f04fc00549fca23e437d625e9157",
       "version_major": 2,
       "version_minor": 0
      },
      "text/plain": [
       "Epoch 2:   0%|          | 0/141 [00:00<?, ?batch/s]"
      ]
     },
     "metadata": {},
     "output_type": "display_data"
    },
    {
     "name": "stdout",
     "output_type": "stream",
     "text": [
      "Saved improved model at epoch 2\n",
      "EfficientNet - Epoch 2 Completed - Time: 65.49s\n",
      "Training EfficientNet - Epoch 3/10\n",
      "Current Learning Rate: 5.5e-05\n"
     ]
    },
    {
     "data": {
      "application/vnd.jupyter.widget-view+json": {
       "model_id": "7b9aadec99084fbaae2b8f08dc05637f",
       "version_major": 2,
       "version_minor": 0
      },
      "text/plain": [
       "Epoch 3:   0%|          | 0/141 [00:00<?, ?batch/s]"
      ]
     },
     "metadata": {},
     "output_type": "display_data"
    },
    {
     "name": "stdout",
     "output_type": "stream",
     "text": [
      "Saved improved model at epoch 3\n",
      "EfficientNet - Epoch 3 Completed - Time: 66.69s\n",
      "Training EfficientNet - Epoch 4/10\n",
      "Current Learning Rate: 7.75e-05\n"
     ]
    },
    {
     "data": {
      "application/vnd.jupyter.widget-view+json": {
       "model_id": "bf2f9d016b754f54880266eca25fd63d",
       "version_major": 2,
       "version_minor": 0
      },
      "text/plain": [
       "Epoch 4:   0%|          | 0/141 [00:00<?, ?batch/s]"
      ]
     },
     "metadata": {},
     "output_type": "display_data"
    },
    {
     "name": "stdout",
     "output_type": "stream",
     "text": [
      "Saved improved model at epoch 4\n",
      "EfficientNet - Epoch 4 Completed - Time: 66.00s\n",
      "Training EfficientNet - Epoch 5/10\n",
      "Current Learning Rate: 0.0001\n"
     ]
    },
    {
     "data": {
      "application/vnd.jupyter.widget-view+json": {
       "model_id": "3df04eee682e4675b3e440f7d1f1ba48",
       "version_major": 2,
       "version_minor": 0
      },
      "text/plain": [
       "Epoch 5:   0%|          | 0/141 [00:00<?, ?batch/s]"
      ]
     },
     "metadata": {},
     "output_type": "display_data"
    },
    {
     "name": "stdout",
     "output_type": "stream",
     "text": [
      "Saved improved model at epoch 5\n",
      "EfficientNet - Epoch 5 Completed - Time: 66.70s\n",
      "Training EfficientNet - Epoch 6/10\n",
      "Current Learning Rate: 7.75e-05\n"
     ]
    },
    {
     "data": {
      "application/vnd.jupyter.widget-view+json": {
       "model_id": "f14e7da9b13543ef8d1182c6bd27be7c",
       "version_major": 2,
       "version_minor": 0
      },
      "text/plain": [
       "Epoch 6:   0%|          | 0/141 [00:00<?, ?batch/s]"
      ]
     },
     "metadata": {},
     "output_type": "display_data"
    },
    {
     "name": "stdout",
     "output_type": "stream",
     "text": [
      "Saved improved model at epoch 6\n",
      "EfficientNet - Epoch 6 Completed - Time: 67.71s\n",
      "Training EfficientNet - Epoch 7/10\n",
      "Current Learning Rate: 5.5e-05\n"
     ]
    },
    {
     "data": {
      "application/vnd.jupyter.widget-view+json": {
       "model_id": "a439e0ceaa94453e8607905ec869eba2",
       "version_major": 2,
       "version_minor": 0
      },
      "text/plain": [
       "Epoch 7:   0%|          | 0/141 [00:00<?, ?batch/s]"
      ]
     },
     "metadata": {},
     "output_type": "display_data"
    },
    {
     "name": "stdout",
     "output_type": "stream",
     "text": [
      "Saved improved model at epoch 7\n",
      "EfficientNet - Epoch 7 Completed - Time: 68.73s\n",
      "Training EfficientNet - Epoch 8/10\n",
      "Current Learning Rate: 3.2500000000000004e-05\n"
     ]
    },
    {
     "data": {
      "application/vnd.jupyter.widget-view+json": {
       "model_id": "2aead1906c194ee8ba8581ebd07b6a0f",
       "version_major": 2,
       "version_minor": 0
      },
      "text/plain": [
       "Epoch 8:   0%|          | 0/141 [00:00<?, ?batch/s]"
      ]
     },
     "metadata": {},
     "output_type": "display_data"
    },
    {
     "name": "stdout",
     "output_type": "stream",
     "text": [
      "Saved improved model at epoch 8\n",
      "EfficientNet - Epoch 8 Completed - Time: 69.70s\n",
      "Training EfficientNet - Epoch 9/10\n",
      "Current Learning Rate: 1e-05\n"
     ]
    },
    {
     "data": {
      "application/vnd.jupyter.widget-view+json": {
       "model_id": "053a4aee0fd040bea731a861dbceeb88",
       "version_major": 2,
       "version_minor": 0
      },
      "text/plain": [
       "Epoch 9:   0%|          | 0/141 [00:00<?, ?batch/s]"
      ]
     },
     "metadata": {},
     "output_type": "display_data"
    },
    {
     "name": "stdout",
     "output_type": "stream",
     "text": [
      "Saved improved model at epoch 9\n",
      "EfficientNet - Epoch 9 Completed - Time: 67.76s\n",
      "Training EfficientNet - Epoch 10/10\n",
      "Current Learning Rate: 2.125e-05\n"
     ]
    },
    {
     "data": {
      "application/vnd.jupyter.widget-view+json": {
       "model_id": "6e065cb1aa8b4431a5d982068b0b0157",
       "version_major": 2,
       "version_minor": 0
      },
      "text/plain": [
       "Epoch 10:   0%|          | 0/141 [00:00<?, ?batch/s]"
      ]
     },
     "metadata": {},
     "output_type": "display_data"
    },
    {
     "name": "stdout",
     "output_type": "stream",
     "text": [
      "Saved improved model at epoch 10\n",
      "EfficientNet - Epoch 10 Completed - Time: 65.83s\n",
      "Using device: cuda:0\n",
      "Train data: ../data/binary_scc/17/train/ Out path: ../classifiers/binary_classifier/out/run_17/\n",
      "Loaded dataset:\n",
      " - Number of images: 1128\n",
      " - Number of classes: 2\n",
      " - Class names: ['others', 'scc']\n",
      " - Batch size: 8\n",
      "Initialized models:\n",
      " - Inception V3 with custom classifier\n",
      " - EfficientNet B0 with custom classifier\n",
      "Training Inception3 - Epoch 1/10\n",
      "Current Learning Rate: 1e-05\n"
     ]
    },
    {
     "data": {
      "application/vnd.jupyter.widget-view+json": {
       "model_id": "4744d8457ec243a8a7000e75ff2cfc59",
       "version_major": 2,
       "version_minor": 0
      },
      "text/plain": [
       "Epoch 1:   0%|          | 0/141 [00:00<?, ?batch/s]"
      ]
     },
     "metadata": {},
     "output_type": "display_data"
    },
    {
     "name": "stdout",
     "output_type": "stream",
     "text": [
      "Saved improved model at epoch 1\n",
      "Inception3 - Epoch 1 Completed - Time: 87.31s\n",
      "Training Inception3 - Epoch 2/10\n",
      "Current Learning Rate: 3.2500000000000004e-05\n"
     ]
    },
    {
     "data": {
      "application/vnd.jupyter.widget-view+json": {
       "model_id": "6d60109419d1461e80c84a9c65d92e1f",
       "version_major": 2,
       "version_minor": 0
      },
      "text/plain": [
       "Epoch 2:   0%|          | 0/141 [00:00<?, ?batch/s]"
      ]
     },
     "metadata": {},
     "output_type": "display_data"
    },
    {
     "name": "stdout",
     "output_type": "stream",
     "text": [
      "Saved improved model at epoch 2\n",
      "Inception3 - Epoch 2 Completed - Time: 86.38s\n",
      "Training Inception3 - Epoch 3/10\n",
      "Current Learning Rate: 5.5e-05\n"
     ]
    },
    {
     "data": {
      "application/vnd.jupyter.widget-view+json": {
       "model_id": "cf18a9d36dcf4fdab11ae80c6640a951",
       "version_major": 2,
       "version_minor": 0
      },
      "text/plain": [
       "Epoch 3:   0%|          | 0/141 [00:00<?, ?batch/s]"
      ]
     },
     "metadata": {},
     "output_type": "display_data"
    },
    {
     "name": "stdout",
     "output_type": "stream",
     "text": [
      "Saved improved model at epoch 3\n",
      "Inception3 - Epoch 3 Completed - Time: 91.36s\n",
      "Training Inception3 - Epoch 4/10\n",
      "Current Learning Rate: 7.75e-05\n"
     ]
    },
    {
     "data": {
      "application/vnd.jupyter.widget-view+json": {
       "model_id": "4b84ba10ab5b4a2a8a82003fbf37b6c3",
       "version_major": 2,
       "version_minor": 0
      },
      "text/plain": [
       "Epoch 4:   0%|          | 0/141 [00:00<?, ?batch/s]"
      ]
     },
     "metadata": {},
     "output_type": "display_data"
    },
    {
     "name": "stdout",
     "output_type": "stream",
     "text": [
      "Saved improved model at epoch 4\n",
      "Inception3 - Epoch 4 Completed - Time: 86.92s\n",
      "Training Inception3 - Epoch 5/10\n",
      "Current Learning Rate: 0.0001\n"
     ]
    },
    {
     "data": {
      "application/vnd.jupyter.widget-view+json": {
       "model_id": "6c7dc017bb0d4d00a17698916aaf169a",
       "version_major": 2,
       "version_minor": 0
      },
      "text/plain": [
       "Epoch 5:   0%|          | 0/141 [00:00<?, ?batch/s]"
      ]
     },
     "metadata": {},
     "output_type": "display_data"
    },
    {
     "name": "stdout",
     "output_type": "stream",
     "text": [
      "Saved improved model at epoch 5\n",
      "Inception3 - Epoch 5 Completed - Time: 87.99s\n",
      "Training Inception3 - Epoch 6/10\n",
      "Current Learning Rate: 7.75e-05\n"
     ]
    },
    {
     "data": {
      "application/vnd.jupyter.widget-view+json": {
       "model_id": "1721a41767814ed183e251e2f532c54f",
       "version_major": 2,
       "version_minor": 0
      },
      "text/plain": [
       "Epoch 6:   0%|          | 0/141 [00:00<?, ?batch/s]"
      ]
     },
     "metadata": {},
     "output_type": "display_data"
    },
    {
     "name": "stdout",
     "output_type": "stream",
     "text": [
      "Saved improved model at epoch 6\n",
      "Inception3 - Epoch 6 Completed - Time: 91.78s\n",
      "Training Inception3 - Epoch 7/10\n",
      "Current Learning Rate: 5.5e-05\n"
     ]
    },
    {
     "data": {
      "application/vnd.jupyter.widget-view+json": {
       "model_id": "f2e799e0f4a44c3ea695fbab1291fff9",
       "version_major": 2,
       "version_minor": 0
      },
      "text/plain": [
       "Epoch 7:   0%|          | 0/141 [00:00<?, ?batch/s]"
      ]
     },
     "metadata": {},
     "output_type": "display_data"
    },
    {
     "name": "stdout",
     "output_type": "stream",
     "text": [
      "Saved improved model at epoch 7\n",
      "Inception3 - Epoch 7 Completed - Time: 87.89s\n",
      "Training Inception3 - Epoch 8/10\n",
      "Current Learning Rate: 3.2500000000000004e-05\n"
     ]
    },
    {
     "data": {
      "application/vnd.jupyter.widget-view+json": {
       "model_id": "aa0feb3af52f432b8e67c6ff230d6430",
       "version_major": 2,
       "version_minor": 0
      },
      "text/plain": [
       "Epoch 8:   0%|          | 0/141 [00:00<?, ?batch/s]"
      ]
     },
     "metadata": {},
     "output_type": "display_data"
    },
    {
     "name": "stdout",
     "output_type": "stream",
     "text": [
      "Saved improved model at epoch 8\n",
      "Inception3 - Epoch 8 Completed - Time: 88.44s\n",
      "Training Inception3 - Epoch 9/10\n",
      "Current Learning Rate: 1e-05\n"
     ]
    },
    {
     "data": {
      "application/vnd.jupyter.widget-view+json": {
       "model_id": "6a6687a5507f4ff6b679b0bce133a0ac",
       "version_major": 2,
       "version_minor": 0
      },
      "text/plain": [
       "Epoch 9:   0%|          | 0/141 [00:00<?, ?batch/s]"
      ]
     },
     "metadata": {},
     "output_type": "display_data"
    },
    {
     "name": "stdout",
     "output_type": "stream",
     "text": [
      "Saved improved model at epoch 9\n",
      "Inception3 - Epoch 9 Completed - Time: 87.30s\n",
      "Training Inception3 - Epoch 10/10\n",
      "Current Learning Rate: 2.125e-05\n"
     ]
    },
    {
     "data": {
      "application/vnd.jupyter.widget-view+json": {
       "model_id": "b3fa23096efa425482db2a3382587048",
       "version_major": 2,
       "version_minor": 0
      },
      "text/plain": [
       "Epoch 10:   0%|          | 0/141 [00:00<?, ?batch/s]"
      ]
     },
     "metadata": {},
     "output_type": "display_data"
    },
    {
     "name": "stdout",
     "output_type": "stream",
     "text": [
      "Saved improved model at epoch 10\n",
      "Inception3 - Epoch 10 Completed - Time: 93.91s\n",
      "Training EfficientNet - Epoch 1/10\n",
      "Current Learning Rate: 1e-05\n"
     ]
    },
    {
     "data": {
      "application/vnd.jupyter.widget-view+json": {
       "model_id": "7df71833334d4a2c95becfbdd3e0b237",
       "version_major": 2,
       "version_minor": 0
      },
      "text/plain": [
       "Epoch 1:   0%|          | 0/141 [00:00<?, ?batch/s]"
      ]
     },
     "metadata": {},
     "output_type": "display_data"
    },
    {
     "name": "stdout",
     "output_type": "stream",
     "text": [
      "Saved improved model at epoch 1\n",
      "EfficientNet - Epoch 1 Completed - Time: 66.53s\n",
      "Training EfficientNet - Epoch 2/10\n",
      "Current Learning Rate: 3.2500000000000004e-05\n"
     ]
    },
    {
     "data": {
      "application/vnd.jupyter.widget-view+json": {
       "model_id": "9b7bb39dcab74d7795c7fba9ae98e05b",
       "version_major": 2,
       "version_minor": 0
      },
      "text/plain": [
       "Epoch 2:   0%|          | 0/141 [00:00<?, ?batch/s]"
      ]
     },
     "metadata": {},
     "output_type": "display_data"
    },
    {
     "name": "stdout",
     "output_type": "stream",
     "text": [
      "Saved improved model at epoch 2\n",
      "EfficientNet - Epoch 2 Completed - Time: 66.10s\n",
      "Training EfficientNet - Epoch 3/10\n",
      "Current Learning Rate: 5.5e-05\n"
     ]
    },
    {
     "data": {
      "application/vnd.jupyter.widget-view+json": {
       "model_id": "c53b7043be7d455d9d87a36149657d2d",
       "version_major": 2,
       "version_minor": 0
      },
      "text/plain": [
       "Epoch 3:   0%|          | 0/141 [00:00<?, ?batch/s]"
      ]
     },
     "metadata": {},
     "output_type": "display_data"
    },
    {
     "name": "stdout",
     "output_type": "stream",
     "text": [
      "Saved improved model at epoch 3\n",
      "EfficientNet - Epoch 3 Completed - Time: 66.63s\n",
      "Training EfficientNet - Epoch 4/10\n",
      "Current Learning Rate: 7.75e-05\n"
     ]
    },
    {
     "data": {
      "application/vnd.jupyter.widget-view+json": {
       "model_id": "292de61f18c64930b0514db3a280661d",
       "version_major": 2,
       "version_minor": 0
      },
      "text/plain": [
       "Epoch 4:   0%|          | 0/141 [00:00<?, ?batch/s]"
      ]
     },
     "metadata": {},
     "output_type": "display_data"
    },
    {
     "name": "stdout",
     "output_type": "stream",
     "text": [
      "Saved improved model at epoch 4\n",
      "EfficientNet - Epoch 4 Completed - Time: 67.41s\n",
      "Training EfficientNet - Epoch 5/10\n",
      "Current Learning Rate: 0.0001\n"
     ]
    },
    {
     "data": {
      "application/vnd.jupyter.widget-view+json": {
       "model_id": "3d547cb53c5f4797a5aa92b733192c4d",
       "version_major": 2,
       "version_minor": 0
      },
      "text/plain": [
       "Epoch 5:   0%|          | 0/141 [00:00<?, ?batch/s]"
      ]
     },
     "metadata": {},
     "output_type": "display_data"
    },
    {
     "name": "stdout",
     "output_type": "stream",
     "text": [
      "Saved improved model at epoch 5\n",
      "EfficientNet - Epoch 5 Completed - Time: 66.34s\n",
      "Training EfficientNet - Epoch 6/10\n",
      "Current Learning Rate: 7.75e-05\n"
     ]
    },
    {
     "data": {
      "application/vnd.jupyter.widget-view+json": {
       "model_id": "cc881fbbf16a40e1bd25030bc0b36ec5",
       "version_major": 2,
       "version_minor": 0
      },
      "text/plain": [
       "Epoch 6:   0%|          | 0/141 [00:00<?, ?batch/s]"
      ]
     },
     "metadata": {},
     "output_type": "display_data"
    },
    {
     "name": "stdout",
     "output_type": "stream",
     "text": [
      "Saved improved model at epoch 6\n",
      "EfficientNet - Epoch 6 Completed - Time: 67.59s\n",
      "Training EfficientNet - Epoch 7/10\n",
      "Current Learning Rate: 5.5e-05\n"
     ]
    },
    {
     "data": {
      "application/vnd.jupyter.widget-view+json": {
       "model_id": "48c3cf17b7d74983b2884ae929cafd43",
       "version_major": 2,
       "version_minor": 0
      },
      "text/plain": [
       "Epoch 7:   0%|          | 0/141 [00:00<?, ?batch/s]"
      ]
     },
     "metadata": {},
     "output_type": "display_data"
    },
    {
     "name": "stdout",
     "output_type": "stream",
     "text": [
      "Saved improved model at epoch 7\n",
      "EfficientNet - Epoch 7 Completed - Time: 67.26s\n",
      "Training EfficientNet - Epoch 8/10\n",
      "Current Learning Rate: 3.2500000000000004e-05\n"
     ]
    },
    {
     "data": {
      "application/vnd.jupyter.widget-view+json": {
       "model_id": "ce0826d894584e97888f72b1d9e651cb",
       "version_major": 2,
       "version_minor": 0
      },
      "text/plain": [
       "Epoch 8:   0%|          | 0/141 [00:00<?, ?batch/s]"
      ]
     },
     "metadata": {},
     "output_type": "display_data"
    },
    {
     "name": "stdout",
     "output_type": "stream",
     "text": [
      "Saved improved model at epoch 8\n",
      "EfficientNet - Epoch 8 Completed - Time: 66.49s\n",
      "Training EfficientNet - Epoch 9/10\n",
      "Current Learning Rate: 1e-05\n"
     ]
    },
    {
     "data": {
      "application/vnd.jupyter.widget-view+json": {
       "model_id": "892cf2180d094f9a80405beac4dbf058",
       "version_major": 2,
       "version_minor": 0
      },
      "text/plain": [
       "Epoch 9:   0%|          | 0/141 [00:00<?, ?batch/s]"
      ]
     },
     "metadata": {},
     "output_type": "display_data"
    },
    {
     "name": "stdout",
     "output_type": "stream",
     "text": [
      "Saved improved model at epoch 9\n",
      "EfficientNet - Epoch 9 Completed - Time: 65.35s\n",
      "Training EfficientNet - Epoch 10/10\n",
      "Current Learning Rate: 2.125e-05\n"
     ]
    },
    {
     "data": {
      "application/vnd.jupyter.widget-view+json": {
       "model_id": "3e0f37e862514f268b7f415155374442",
       "version_major": 2,
       "version_minor": 0
      },
      "text/plain": [
       "Epoch 10:   0%|          | 0/141 [00:00<?, ?batch/s]"
      ]
     },
     "metadata": {},
     "output_type": "display_data"
    },
    {
     "name": "stdout",
     "output_type": "stream",
     "text": [
      "Saved improved model at epoch 10\n",
      "EfficientNet - Epoch 10 Completed - Time: 65.99s\n",
      "Using device: cuda:0\n",
      "Train data: ../data/binary_scc/19/train/ Out path: ../classifiers/binary_classifier/out/run_19/\n",
      "Loaded dataset:\n",
      " - Number of images: 1128\n",
      " - Number of classes: 2\n",
      " - Class names: ['others', 'scc']\n",
      " - Batch size: 8\n",
      "Initialized models:\n",
      " - Inception V3 with custom classifier\n",
      " - EfficientNet B0 with custom classifier\n",
      "Training Inception3 - Epoch 1/10\n",
      "Current Learning Rate: 1e-05\n"
     ]
    },
    {
     "data": {
      "application/vnd.jupyter.widget-view+json": {
       "model_id": "54c3e175499c40ad8c69141972be6b47",
       "version_major": 2,
       "version_minor": 0
      },
      "text/plain": [
       "Epoch 1:   0%|          | 0/141 [00:00<?, ?batch/s]"
      ]
     },
     "metadata": {},
     "output_type": "display_data"
    },
    {
     "name": "stdout",
     "output_type": "stream",
     "text": [
      "Saved improved model at epoch 1\n",
      "Inception3 - Epoch 1 Completed - Time: 87.92s\n",
      "Training Inception3 - Epoch 2/10\n",
      "Current Learning Rate: 3.2500000000000004e-05\n"
     ]
    },
    {
     "data": {
      "application/vnd.jupyter.widget-view+json": {
       "model_id": "7a8224de8356446aa990884bde85b8ca",
       "version_major": 2,
       "version_minor": 0
      },
      "text/plain": [
       "Epoch 2:   0%|          | 0/141 [00:00<?, ?batch/s]"
      ]
     },
     "metadata": {},
     "output_type": "display_data"
    },
    {
     "name": "stdout",
     "output_type": "stream",
     "text": [
      "Saved improved model at epoch 2\n",
      "Inception3 - Epoch 2 Completed - Time: 88.14s\n",
      "Training Inception3 - Epoch 3/10\n",
      "Current Learning Rate: 5.5e-05\n"
     ]
    },
    {
     "data": {
      "application/vnd.jupyter.widget-view+json": {
       "model_id": "ccd5fdb0be1d461b8af344e32daf0c1f",
       "version_major": 2,
       "version_minor": 0
      },
      "text/plain": [
       "Epoch 3:   0%|          | 0/141 [00:00<?, ?batch/s]"
      ]
     },
     "metadata": {},
     "output_type": "display_data"
    },
    {
     "name": "stdout",
     "output_type": "stream",
     "text": [
      "Saved improved model at epoch 3\n",
      "Inception3 - Epoch 3 Completed - Time: 87.84s\n",
      "Training Inception3 - Epoch 4/10\n",
      "Current Learning Rate: 7.75e-05\n"
     ]
    },
    {
     "data": {
      "application/vnd.jupyter.widget-view+json": {
       "model_id": "a40a76e4b5b34820b2437b6b67491403",
       "version_major": 2,
       "version_minor": 0
      },
      "text/plain": [
       "Epoch 4:   0%|          | 0/141 [00:00<?, ?batch/s]"
      ]
     },
     "metadata": {},
     "output_type": "display_data"
    },
    {
     "name": "stdout",
     "output_type": "stream",
     "text": [
      "Saved improved model at epoch 4\n",
      "Inception3 - Epoch 4 Completed - Time: 88.41s\n",
      "Training Inception3 - Epoch 5/10\n",
      "Current Learning Rate: 0.0001\n"
     ]
    },
    {
     "data": {
      "application/vnd.jupyter.widget-view+json": {
       "model_id": "1dde0fa8b95e4d178f02c0bf9f0d64e0",
       "version_major": 2,
       "version_minor": 0
      },
      "text/plain": [
       "Epoch 5:   0%|          | 0/141 [00:00<?, ?batch/s]"
      ]
     },
     "metadata": {},
     "output_type": "display_data"
    },
    {
     "name": "stdout",
     "output_type": "stream",
     "text": [
      "Saved improved model at epoch 5\n",
      "Inception3 - Epoch 5 Completed - Time: 88.72s\n",
      "Training Inception3 - Epoch 6/10\n",
      "Current Learning Rate: 7.75e-05\n"
     ]
    },
    {
     "data": {
      "application/vnd.jupyter.widget-view+json": {
       "model_id": "8653534109f94add912ef05f7cb5d267",
       "version_major": 2,
       "version_minor": 0
      },
      "text/plain": [
       "Epoch 6:   0%|          | 0/141 [00:00<?, ?batch/s]"
      ]
     },
     "metadata": {},
     "output_type": "display_data"
    },
    {
     "name": "stdout",
     "output_type": "stream",
     "text": [
      "Saved improved model at epoch 6\n",
      "Inception3 - Epoch 6 Completed - Time: 88.06s\n",
      "Training Inception3 - Epoch 7/10\n",
      "Current Learning Rate: 5.5e-05\n"
     ]
    },
    {
     "data": {
      "application/vnd.jupyter.widget-view+json": {
       "model_id": "a116f22ef0d04946901fcf83c0c9a9cd",
       "version_major": 2,
       "version_minor": 0
      },
      "text/plain": [
       "Epoch 7:   0%|          | 0/141 [00:00<?, ?batch/s]"
      ]
     },
     "metadata": {},
     "output_type": "display_data"
    },
    {
     "name": "stdout",
     "output_type": "stream",
     "text": [
      "Saved improved model at epoch 7\n",
      "Inception3 - Epoch 7 Completed - Time: 87.11s\n",
      "Training Inception3 - Epoch 8/10\n",
      "Current Learning Rate: 3.2500000000000004e-05\n"
     ]
    },
    {
     "data": {
      "application/vnd.jupyter.widget-view+json": {
       "model_id": "94739d620d674e6294d2ce7312667e2d",
       "version_major": 2,
       "version_minor": 0
      },
      "text/plain": [
       "Epoch 8:   0%|          | 0/141 [00:00<?, ?batch/s]"
      ]
     },
     "metadata": {},
     "output_type": "display_data"
    },
    {
     "name": "stdout",
     "output_type": "stream",
     "text": [
      "Saved improved model at epoch 8\n",
      "Inception3 - Epoch 8 Completed - Time: 87.58s\n",
      "Training Inception3 - Epoch 9/10\n",
      "Current Learning Rate: 1e-05\n"
     ]
    },
    {
     "data": {
      "application/vnd.jupyter.widget-view+json": {
       "model_id": "68d0e8c7364346358fcbacd732569e67",
       "version_major": 2,
       "version_minor": 0
      },
      "text/plain": [
       "Epoch 9:   0%|          | 0/141 [00:00<?, ?batch/s]"
      ]
     },
     "metadata": {},
     "output_type": "display_data"
    },
    {
     "name": "stdout",
     "output_type": "stream",
     "text": [
      "Saved improved model at epoch 9\n",
      "Inception3 - Epoch 9 Completed - Time: 86.97s\n",
      "Training Inception3 - Epoch 10/10\n",
      "Current Learning Rate: 2.125e-05\n"
     ]
    },
    {
     "data": {
      "application/vnd.jupyter.widget-view+json": {
       "model_id": "473f574c89934b50aa6cdaa4bca4fa69",
       "version_major": 2,
       "version_minor": 0
      },
      "text/plain": [
       "Epoch 10:   0%|          | 0/141 [00:00<?, ?batch/s]"
      ]
     },
     "metadata": {},
     "output_type": "display_data"
    },
    {
     "name": "stdout",
     "output_type": "stream",
     "text": [
      "Saved improved model at epoch 10\n",
      "Inception3 - Epoch 10 Completed - Time: 88.72s\n",
      "Training EfficientNet - Epoch 1/10\n",
      "Current Learning Rate: 1e-05\n"
     ]
    },
    {
     "data": {
      "application/vnd.jupyter.widget-view+json": {
       "model_id": "a6296fc5b42545a4a3d7e6da32b4a275",
       "version_major": 2,
       "version_minor": 0
      },
      "text/plain": [
       "Epoch 1:   0%|          | 0/141 [00:00<?, ?batch/s]"
      ]
     },
     "metadata": {},
     "output_type": "display_data"
    },
    {
     "name": "stdout",
     "output_type": "stream",
     "text": [
      "Saved improved model at epoch 1\n",
      "EfficientNet - Epoch 1 Completed - Time: 66.53s\n",
      "Training EfficientNet - Epoch 2/10\n",
      "Current Learning Rate: 3.2500000000000004e-05\n"
     ]
    },
    {
     "data": {
      "application/vnd.jupyter.widget-view+json": {
       "model_id": "90cde775fd4d47378ce36ec26779f7e2",
       "version_major": 2,
       "version_minor": 0
      },
      "text/plain": [
       "Epoch 2:   0%|          | 0/141 [00:00<?, ?batch/s]"
      ]
     },
     "metadata": {},
     "output_type": "display_data"
    },
    {
     "name": "stdout",
     "output_type": "stream",
     "text": [
      "Saved improved model at epoch 2\n",
      "EfficientNet - Epoch 2 Completed - Time: 67.54s\n",
      "Training EfficientNet - Epoch 3/10\n",
      "Current Learning Rate: 5.5e-05\n"
     ]
    },
    {
     "data": {
      "application/vnd.jupyter.widget-view+json": {
       "model_id": "a144fd958aaa4fd289d82c978fc146c2",
       "version_major": 2,
       "version_minor": 0
      },
      "text/plain": [
       "Epoch 3:   0%|          | 0/141 [00:00<?, ?batch/s]"
      ]
     },
     "metadata": {},
     "output_type": "display_data"
    },
    {
     "name": "stdout",
     "output_type": "stream",
     "text": [
      "Saved improved model at epoch 3\n",
      "EfficientNet - Epoch 3 Completed - Time: 65.43s\n",
      "Training EfficientNet - Epoch 4/10\n",
      "Current Learning Rate: 7.75e-05\n"
     ]
    },
    {
     "data": {
      "application/vnd.jupyter.widget-view+json": {
       "model_id": "5469559e5eeb4b4f9bd64ca99914f372",
       "version_major": 2,
       "version_minor": 0
      },
      "text/plain": [
       "Epoch 4:   0%|          | 0/141 [00:00<?, ?batch/s]"
      ]
     },
     "metadata": {},
     "output_type": "display_data"
    },
    {
     "name": "stdout",
     "output_type": "stream",
     "text": [
      "Saved improved model at epoch 4\n",
      "EfficientNet - Epoch 4 Completed - Time: 66.83s\n",
      "Training EfficientNet - Epoch 5/10\n",
      "Current Learning Rate: 0.0001\n"
     ]
    },
    {
     "data": {
      "application/vnd.jupyter.widget-view+json": {
       "model_id": "47a47b60f4994e9582e9947d4adb4dc8",
       "version_major": 2,
       "version_minor": 0
      },
      "text/plain": [
       "Epoch 5:   0%|          | 0/141 [00:00<?, ?batch/s]"
      ]
     },
     "metadata": {},
     "output_type": "display_data"
    },
    {
     "name": "stdout",
     "output_type": "stream",
     "text": [
      "Saved improved model at epoch 5\n",
      "EfficientNet - Epoch 5 Completed - Time: 64.92s\n",
      "Training EfficientNet - Epoch 6/10\n",
      "Current Learning Rate: 7.75e-05\n"
     ]
    },
    {
     "data": {
      "application/vnd.jupyter.widget-view+json": {
       "model_id": "1acf0f5dc9ea472992de42a1fed27035",
       "version_major": 2,
       "version_minor": 0
      },
      "text/plain": [
       "Epoch 6:   0%|          | 0/141 [00:00<?, ?batch/s]"
      ]
     },
     "metadata": {},
     "output_type": "display_data"
    },
    {
     "name": "stdout",
     "output_type": "stream",
     "text": [
      "Saved improved model at epoch 6\n",
      "EfficientNet - Epoch 6 Completed - Time: 65.42s\n",
      "Training EfficientNet - Epoch 7/10\n",
      "Current Learning Rate: 5.5e-05\n"
     ]
    },
    {
     "data": {
      "application/vnd.jupyter.widget-view+json": {
       "model_id": "0ed7ab88a1a24c339b9f30a2e275b039",
       "version_major": 2,
       "version_minor": 0
      },
      "text/plain": [
       "Epoch 7:   0%|          | 0/141 [00:00<?, ?batch/s]"
      ]
     },
     "metadata": {},
     "output_type": "display_data"
    },
    {
     "name": "stdout",
     "output_type": "stream",
     "text": [
      "Saved improved model at epoch 7\n",
      "EfficientNet - Epoch 7 Completed - Time: 67.12s\n",
      "Training EfficientNet - Epoch 8/10\n",
      "Current Learning Rate: 3.2500000000000004e-05\n"
     ]
    },
    {
     "data": {
      "application/vnd.jupyter.widget-view+json": {
       "model_id": "14080a0774c7415496d52396306ca6bc",
       "version_major": 2,
       "version_minor": 0
      },
      "text/plain": [
       "Epoch 8:   0%|          | 0/141 [00:00<?, ?batch/s]"
      ]
     },
     "metadata": {},
     "output_type": "display_data"
    },
    {
     "name": "stdout",
     "output_type": "stream",
     "text": [
      "Saved improved model at epoch 8\n",
      "EfficientNet - Epoch 8 Completed - Time: 66.91s\n",
      "Training EfficientNet - Epoch 9/10\n",
      "Current Learning Rate: 1e-05\n"
     ]
    },
    {
     "data": {
      "application/vnd.jupyter.widget-view+json": {
       "model_id": "2e090861051f4a04a7c6da557ecf812b",
       "version_major": 2,
       "version_minor": 0
      },
      "text/plain": [
       "Epoch 9:   0%|          | 0/141 [00:00<?, ?batch/s]"
      ]
     },
     "metadata": {},
     "output_type": "display_data"
    },
    {
     "name": "stdout",
     "output_type": "stream",
     "text": [
      "Saved improved model at epoch 9\n",
      "EfficientNet - Epoch 9 Completed - Time: 66.93s\n",
      "Training EfficientNet - Epoch 10/10\n",
      "Current Learning Rate: 2.125e-05\n"
     ]
    },
    {
     "data": {
      "application/vnd.jupyter.widget-view+json": {
       "model_id": "cf714a6e9b7e45f4ad848e90bf253acd",
       "version_major": 2,
       "version_minor": 0
      },
      "text/plain": [
       "Epoch 10:   0%|          | 0/141 [00:00<?, ?batch/s]"
      ]
     },
     "metadata": {},
     "output_type": "display_data"
    },
    {
     "name": "stdout",
     "output_type": "stream",
     "text": [
      "Saved improved model at epoch 10\n",
      "EfficientNet - Epoch 10 Completed - Time: 66.88s\n",
      "Using device: cuda:0\n",
      "Train data: ../data/binary_scc/31/train/ Out path: ../classifiers/binary_classifier/out/run_31/\n",
      "Loaded dataset:\n",
      " - Number of images: 1128\n",
      " - Number of classes: 2\n",
      " - Class names: ['others', 'scc']\n",
      " - Batch size: 8\n",
      "Initialized models:\n",
      " - Inception V3 with custom classifier\n",
      " - EfficientNet B0 with custom classifier\n",
      "Training Inception3 - Epoch 1/10\n",
      "Current Learning Rate: 1e-05\n"
     ]
    },
    {
     "data": {
      "application/vnd.jupyter.widget-view+json": {
       "model_id": "7bf16265402743f998ac3bd6426efda6",
       "version_major": 2,
       "version_minor": 0
      },
      "text/plain": [
       "Epoch 1:   0%|          | 0/141 [00:00<?, ?batch/s]"
      ]
     },
     "metadata": {},
     "output_type": "display_data"
    },
    {
     "name": "stdout",
     "output_type": "stream",
     "text": [
      "Saved improved model at epoch 1\n",
      "Inception3 - Epoch 1 Completed - Time: 88.20s\n",
      "Training Inception3 - Epoch 2/10\n",
      "Current Learning Rate: 3.2500000000000004e-05\n"
     ]
    },
    {
     "data": {
      "application/vnd.jupyter.widget-view+json": {
       "model_id": "61c0467026704b4a8eb4dcee10254b98",
       "version_major": 2,
       "version_minor": 0
      },
      "text/plain": [
       "Epoch 2:   0%|          | 0/141 [00:00<?, ?batch/s]"
      ]
     },
     "metadata": {},
     "output_type": "display_data"
    },
    {
     "name": "stdout",
     "output_type": "stream",
     "text": [
      "Saved improved model at epoch 2\n",
      "Inception3 - Epoch 2 Completed - Time: 87.45s\n",
      "Training Inception3 - Epoch 3/10\n",
      "Current Learning Rate: 5.5e-05\n"
     ]
    },
    {
     "data": {
      "application/vnd.jupyter.widget-view+json": {
       "model_id": "570ceba9d03d4578aeb9c31770ba3361",
       "version_major": 2,
       "version_minor": 0
      },
      "text/plain": [
       "Epoch 3:   0%|          | 0/141 [00:00<?, ?batch/s]"
      ]
     },
     "metadata": {},
     "output_type": "display_data"
    },
    {
     "name": "stdout",
     "output_type": "stream",
     "text": [
      "Saved improved model at epoch 3\n",
      "Inception3 - Epoch 3 Completed - Time: 88.83s\n",
      "Training Inception3 - Epoch 4/10\n",
      "Current Learning Rate: 7.75e-05\n"
     ]
    },
    {
     "data": {
      "application/vnd.jupyter.widget-view+json": {
       "model_id": "aec66cf2efdd435fba536916d6f2a8e4",
       "version_major": 2,
       "version_minor": 0
      },
      "text/plain": [
       "Epoch 4:   0%|          | 0/141 [00:00<?, ?batch/s]"
      ]
     },
     "metadata": {},
     "output_type": "display_data"
    },
    {
     "name": "stdout",
     "output_type": "stream",
     "text": [
      "Saved improved model at epoch 4\n",
      "Inception3 - Epoch 4 Completed - Time: 89.35s\n",
      "Training Inception3 - Epoch 5/10\n",
      "Current Learning Rate: 0.0001\n"
     ]
    },
    {
     "data": {
      "application/vnd.jupyter.widget-view+json": {
       "model_id": "16cd4a8c57e447128ce3d0c8d1969f61",
       "version_major": 2,
       "version_minor": 0
      },
      "text/plain": [
       "Epoch 5:   0%|          | 0/141 [00:00<?, ?batch/s]"
      ]
     },
     "metadata": {},
     "output_type": "display_data"
    },
    {
     "name": "stdout",
     "output_type": "stream",
     "text": [
      "Saved improved model at epoch 5\n",
      "Inception3 - Epoch 5 Completed - Time: 87.44s\n",
      "Training Inception3 - Epoch 6/10\n",
      "Current Learning Rate: 7.75e-05\n"
     ]
    },
    {
     "data": {
      "application/vnd.jupyter.widget-view+json": {
       "model_id": "204dbadab92f469baa2393d720435c79",
       "version_major": 2,
       "version_minor": 0
      },
      "text/plain": [
       "Epoch 6:   0%|          | 0/141 [00:00<?, ?batch/s]"
      ]
     },
     "metadata": {},
     "output_type": "display_data"
    },
    {
     "name": "stdout",
     "output_type": "stream",
     "text": [
      "Saved improved model at epoch 6\n",
      "Inception3 - Epoch 6 Completed - Time: 92.05s\n",
      "Training Inception3 - Epoch 7/10\n",
      "Current Learning Rate: 5.5e-05\n"
     ]
    },
    {
     "data": {
      "application/vnd.jupyter.widget-view+json": {
       "model_id": "015486d406dc4c8b82e31a4f52d426e9",
       "version_major": 2,
       "version_minor": 0
      },
      "text/plain": [
       "Epoch 7:   0%|          | 0/141 [00:00<?, ?batch/s]"
      ]
     },
     "metadata": {},
     "output_type": "display_data"
    },
    {
     "name": "stdout",
     "output_type": "stream",
     "text": [
      "Saved improved model at epoch 7\n",
      "Inception3 - Epoch 7 Completed - Time: 88.76s\n",
      "Training Inception3 - Epoch 8/10\n",
      "Current Learning Rate: 3.2500000000000004e-05\n"
     ]
    },
    {
     "data": {
      "application/vnd.jupyter.widget-view+json": {
       "model_id": "27fc5f86188d41bba4f77f55d77ef067",
       "version_major": 2,
       "version_minor": 0
      },
      "text/plain": [
       "Epoch 8:   0%|          | 0/141 [00:00<?, ?batch/s]"
      ]
     },
     "metadata": {},
     "output_type": "display_data"
    },
    {
     "name": "stdout",
     "output_type": "stream",
     "text": [
      "Saved improved model at epoch 8\n",
      "Inception3 - Epoch 8 Completed - Time: 88.18s\n",
      "Training Inception3 - Epoch 9/10\n",
      "Current Learning Rate: 1e-05\n"
     ]
    },
    {
     "data": {
      "application/vnd.jupyter.widget-view+json": {
       "model_id": "e65c7bbac76f4921b12d2b217bbea6c9",
       "version_major": 2,
       "version_minor": 0
      },
      "text/plain": [
       "Epoch 9:   0%|          | 0/141 [00:00<?, ?batch/s]"
      ]
     },
     "metadata": {},
     "output_type": "display_data"
    },
    {
     "name": "stdout",
     "output_type": "stream",
     "text": [
      "Saved improved model at epoch 9\n",
      "Inception3 - Epoch 9 Completed - Time: 89.15s\n",
      "Training Inception3 - Epoch 10/10\n",
      "Current Learning Rate: 2.125e-05\n"
     ]
    },
    {
     "data": {
      "application/vnd.jupyter.widget-view+json": {
       "model_id": "21524c0608414a0798474e58aa53112f",
       "version_major": 2,
       "version_minor": 0
      },
      "text/plain": [
       "Epoch 10:   0%|          | 0/141 [00:00<?, ?batch/s]"
      ]
     },
     "metadata": {},
     "output_type": "display_data"
    },
    {
     "name": "stdout",
     "output_type": "stream",
     "text": [
      "Saved improved model at epoch 10\n",
      "Inception3 - Epoch 10 Completed - Time: 87.31s\n",
      "Training EfficientNet - Epoch 1/10\n",
      "Current Learning Rate: 1e-05\n"
     ]
    },
    {
     "data": {
      "application/vnd.jupyter.widget-view+json": {
       "model_id": "815fd9c616914c0aaa5ca8e5a93b2459",
       "version_major": 2,
       "version_minor": 0
      },
      "text/plain": [
       "Epoch 1:   0%|          | 0/141 [00:00<?, ?batch/s]"
      ]
     },
     "metadata": {},
     "output_type": "display_data"
    },
    {
     "name": "stdout",
     "output_type": "stream",
     "text": [
      "Saved improved model at epoch 1\n",
      "EfficientNet - Epoch 1 Completed - Time: 67.05s\n",
      "Training EfficientNet - Epoch 2/10\n",
      "Current Learning Rate: 3.2500000000000004e-05\n"
     ]
    },
    {
     "data": {
      "application/vnd.jupyter.widget-view+json": {
       "model_id": "3f336ee1bc7b4f44a8401884f7f8c9b8",
       "version_major": 2,
       "version_minor": 0
      },
      "text/plain": [
       "Epoch 2:   0%|          | 0/141 [00:00<?, ?batch/s]"
      ]
     },
     "metadata": {},
     "output_type": "display_data"
    },
    {
     "name": "stdout",
     "output_type": "stream",
     "text": [
      "Saved improved model at epoch 2\n",
      "EfficientNet - Epoch 2 Completed - Time: 67.98s\n",
      "Training EfficientNet - Epoch 3/10\n",
      "Current Learning Rate: 5.5e-05\n"
     ]
    },
    {
     "data": {
      "application/vnd.jupyter.widget-view+json": {
       "model_id": "50ba7cd8ce8944d0bf11c8809933c175",
       "version_major": 2,
       "version_minor": 0
      },
      "text/plain": [
       "Epoch 3:   0%|          | 0/141 [00:00<?, ?batch/s]"
      ]
     },
     "metadata": {},
     "output_type": "display_data"
    },
    {
     "name": "stdout",
     "output_type": "stream",
     "text": [
      "Saved improved model at epoch 3\n",
      "EfficientNet - Epoch 3 Completed - Time: 66.51s\n",
      "Training EfficientNet - Epoch 4/10\n",
      "Current Learning Rate: 7.75e-05\n"
     ]
    },
    {
     "data": {
      "application/vnd.jupyter.widget-view+json": {
       "model_id": "acd229182b48458998f912fb208bd243",
       "version_major": 2,
       "version_minor": 0
      },
      "text/plain": [
       "Epoch 4:   0%|          | 0/141 [00:00<?, ?batch/s]"
      ]
     },
     "metadata": {},
     "output_type": "display_data"
    },
    {
     "name": "stdout",
     "output_type": "stream",
     "text": [
      "Saved improved model at epoch 4\n",
      "EfficientNet - Epoch 4 Completed - Time: 67.32s\n",
      "Training EfficientNet - Epoch 5/10\n",
      "Current Learning Rate: 0.0001\n"
     ]
    },
    {
     "data": {
      "application/vnd.jupyter.widget-view+json": {
       "model_id": "a274af06486d44798037e0e9481fe1ae",
       "version_major": 2,
       "version_minor": 0
      },
      "text/plain": [
       "Epoch 5:   0%|          | 0/141 [00:00<?, ?batch/s]"
      ]
     },
     "metadata": {},
     "output_type": "display_data"
    },
    {
     "name": "stdout",
     "output_type": "stream",
     "text": [
      "Saved improved model at epoch 5\n",
      "EfficientNet - Epoch 5 Completed - Time: 66.32s\n",
      "Training EfficientNet - Epoch 6/10\n",
      "Current Learning Rate: 7.75e-05\n"
     ]
    },
    {
     "data": {
      "application/vnd.jupyter.widget-view+json": {
       "model_id": "a71db31d12df40528c219b9b73568e28",
       "version_major": 2,
       "version_minor": 0
      },
      "text/plain": [
       "Epoch 6:   0%|          | 0/141 [00:00<?, ?batch/s]"
      ]
     },
     "metadata": {},
     "output_type": "display_data"
    },
    {
     "name": "stdout",
     "output_type": "stream",
     "text": [
      "Saved improved model at epoch 6\n",
      "EfficientNet - Epoch 6 Completed - Time: 67.39s\n",
      "Training EfficientNet - Epoch 7/10\n",
      "Current Learning Rate: 5.5e-05\n"
     ]
    },
    {
     "data": {
      "application/vnd.jupyter.widget-view+json": {
       "model_id": "1290ccac3efd4ab5b6fc9d41f39f2b40",
       "version_major": 2,
       "version_minor": 0
      },
      "text/plain": [
       "Epoch 7:   0%|          | 0/141 [00:00<?, ?batch/s]"
      ]
     },
     "metadata": {},
     "output_type": "display_data"
    },
    {
     "name": "stdout",
     "output_type": "stream",
     "text": [
      "Saved improved model at epoch 7\n",
      "EfficientNet - Epoch 7 Completed - Time: 67.00s\n",
      "Training EfficientNet - Epoch 8/10\n",
      "Current Learning Rate: 3.2500000000000004e-05\n"
     ]
    },
    {
     "data": {
      "application/vnd.jupyter.widget-view+json": {
       "model_id": "011345b7ad56433391b36d1b55b9c4a2",
       "version_major": 2,
       "version_minor": 0
      },
      "text/plain": [
       "Epoch 8:   0%|          | 0/141 [00:00<?, ?batch/s]"
      ]
     },
     "metadata": {},
     "output_type": "display_data"
    },
    {
     "name": "stdout",
     "output_type": "stream",
     "text": [
      "Saved improved model at epoch 8\n",
      "EfficientNet - Epoch 8 Completed - Time: 67.09s\n",
      "Training EfficientNet - Epoch 9/10\n",
      "Current Learning Rate: 1e-05\n"
     ]
    },
    {
     "data": {
      "application/vnd.jupyter.widget-view+json": {
       "model_id": "1ecfb5d4352b466ba0dfc64fac34e20c",
       "version_major": 2,
       "version_minor": 0
      },
      "text/plain": [
       "Epoch 9:   0%|          | 0/141 [00:00<?, ?batch/s]"
      ]
     },
     "metadata": {},
     "output_type": "display_data"
    },
    {
     "name": "stdout",
     "output_type": "stream",
     "text": [
      "Saved improved model at epoch 9\n",
      "EfficientNet - Epoch 9 Completed - Time: 67.63s\n",
      "Training EfficientNet - Epoch 10/10\n",
      "Current Learning Rate: 2.125e-05\n"
     ]
    },
    {
     "data": {
      "application/vnd.jupyter.widget-view+json": {
       "model_id": "a64794625c7446969ddefe0f517f0666",
       "version_major": 2,
       "version_minor": 0
      },
      "text/plain": [
       "Epoch 10:   0%|          | 0/141 [00:00<?, ?batch/s]"
      ]
     },
     "metadata": {},
     "output_type": "display_data"
    },
    {
     "name": "stdout",
     "output_type": "stream",
     "text": [
      "Saved improved model at epoch 10\n",
      "EfficientNet - Epoch 10 Completed - Time: 66.74s\n",
      "Using device: cuda:0\n",
      "Train data: ../data/binary_scc/42/train/ Out path: ../classifiers/binary_classifier/out/run_42/\n",
      "Loaded dataset:\n",
      " - Number of images: 602\n",
      " - Number of classes: 2\n",
      " - Class names: ['others', 'scc']\n",
      " - Batch size: 8\n",
      "Initialized models:\n",
      " - Inception V3 with custom classifier\n",
      " - EfficientNet B0 with custom classifier\n",
      "Training Inception3 - Epoch 1/10\n",
      "Current Learning Rate: 1e-05\n"
     ]
    },
    {
     "data": {
      "application/vnd.jupyter.widget-view+json": {
       "model_id": "028edf4fd22245198e2c47cc6f489b08",
       "version_major": 2,
       "version_minor": 0
      },
      "text/plain": [
       "Epoch 1:   0%|          | 0/76 [00:00<?, ?batch/s]"
      ]
     },
     "metadata": {},
     "output_type": "display_data"
    },
    {
     "name": "stdout",
     "output_type": "stream",
     "text": [
      "Saved improved model at epoch 1\n",
      "Inception3 - Epoch 1 Completed - Time: 47.20s\n",
      "Training Inception3 - Epoch 2/10\n",
      "Current Learning Rate: 3.2500000000000004e-05\n"
     ]
    },
    {
     "data": {
      "application/vnd.jupyter.widget-view+json": {
       "model_id": "097fde62167c446bac71102895be21aa",
       "version_major": 2,
       "version_minor": 0
      },
      "text/plain": [
       "Epoch 2:   0%|          | 0/76 [00:00<?, ?batch/s]"
      ]
     },
     "metadata": {},
     "output_type": "display_data"
    },
    {
     "name": "stdout",
     "output_type": "stream",
     "text": [
      "Saved improved model at epoch 2\n",
      "Inception3 - Epoch 2 Completed - Time: 48.13s\n",
      "Training Inception3 - Epoch 3/10\n",
      "Current Learning Rate: 5.5e-05\n"
     ]
    },
    {
     "data": {
      "application/vnd.jupyter.widget-view+json": {
       "model_id": "8b861fa07ad24851820089686199493a",
       "version_major": 2,
       "version_minor": 0
      },
      "text/plain": [
       "Epoch 3:   0%|          | 0/76 [00:00<?, ?batch/s]"
      ]
     },
     "metadata": {},
     "output_type": "display_data"
    },
    {
     "name": "stdout",
     "output_type": "stream",
     "text": [
      "Saved improved model at epoch 3\n",
      "Inception3 - Epoch 3 Completed - Time: 47.43s\n",
      "Training Inception3 - Epoch 4/10\n",
      "Current Learning Rate: 7.75e-05\n"
     ]
    },
    {
     "data": {
      "application/vnd.jupyter.widget-view+json": {
       "model_id": "3281186e23424c93a6fb4a01c4ffe921",
       "version_major": 2,
       "version_minor": 0
      },
      "text/plain": [
       "Epoch 4:   0%|          | 0/76 [00:00<?, ?batch/s]"
      ]
     },
     "metadata": {},
     "output_type": "display_data"
    },
    {
     "name": "stdout",
     "output_type": "stream",
     "text": [
      "Saved improved model at epoch 4\n",
      "Inception3 - Epoch 4 Completed - Time: 47.44s\n",
      "Training Inception3 - Epoch 5/10\n",
      "Current Learning Rate: 0.0001\n"
     ]
    },
    {
     "data": {
      "application/vnd.jupyter.widget-view+json": {
       "model_id": "3f6e9a7ce7d1449f9b421265388219cc",
       "version_major": 2,
       "version_minor": 0
      },
      "text/plain": [
       "Epoch 5:   0%|          | 0/76 [00:00<?, ?batch/s]"
      ]
     },
     "metadata": {},
     "output_type": "display_data"
    },
    {
     "name": "stdout",
     "output_type": "stream",
     "text": [
      "Saved improved model at epoch 5\n",
      "Inception3 - Epoch 5 Completed - Time: 47.89s\n",
      "Training Inception3 - Epoch 6/10\n",
      "Current Learning Rate: 7.75e-05\n"
     ]
    },
    {
     "data": {
      "application/vnd.jupyter.widget-view+json": {
       "model_id": "055ce8ad005b4e04886b2301f296b9bc",
       "version_major": 2,
       "version_minor": 0
      },
      "text/plain": [
       "Epoch 6:   0%|          | 0/76 [00:00<?, ?batch/s]"
      ]
     },
     "metadata": {},
     "output_type": "display_data"
    },
    {
     "name": "stdout",
     "output_type": "stream",
     "text": [
      "Saved improved model at epoch 6\n",
      "Inception3 - Epoch 6 Completed - Time: 46.58s\n",
      "Training Inception3 - Epoch 7/10\n",
      "Current Learning Rate: 5.5e-05\n"
     ]
    },
    {
     "data": {
      "application/vnd.jupyter.widget-view+json": {
       "model_id": "26233c8e19874c00a64616b717682a4a",
       "version_major": 2,
       "version_minor": 0
      },
      "text/plain": [
       "Epoch 7:   0%|          | 0/76 [00:00<?, ?batch/s]"
      ]
     },
     "metadata": {},
     "output_type": "display_data"
    },
    {
     "name": "stdout",
     "output_type": "stream",
     "text": [
      "Saved improved model at epoch 7\n",
      "Inception3 - Epoch 7 Completed - Time: 48.41s\n",
      "Training Inception3 - Epoch 8/10\n",
      "Current Learning Rate: 3.2500000000000004e-05\n"
     ]
    },
    {
     "data": {
      "application/vnd.jupyter.widget-view+json": {
       "model_id": "3ebd0d9134d14412b9c9be697293e3c8",
       "version_major": 2,
       "version_minor": 0
      },
      "text/plain": [
       "Epoch 8:   0%|          | 0/76 [00:00<?, ?batch/s]"
      ]
     },
     "metadata": {},
     "output_type": "display_data"
    },
    {
     "name": "stdout",
     "output_type": "stream",
     "text": [
      "Saved improved model at epoch 8\n",
      "Inception3 - Epoch 8 Completed - Time: 46.78s\n",
      "Training Inception3 - Epoch 9/10\n",
      "Current Learning Rate: 1e-05\n"
     ]
    },
    {
     "data": {
      "application/vnd.jupyter.widget-view+json": {
       "model_id": "c06ff7d606b442dfb2dd5e600d24f550",
       "version_major": 2,
       "version_minor": 0
      },
      "text/plain": [
       "Epoch 9:   0%|          | 0/76 [00:00<?, ?batch/s]"
      ]
     },
     "metadata": {},
     "output_type": "display_data"
    },
    {
     "name": "stdout",
     "output_type": "stream",
     "text": [
      "Saved improved model at epoch 9\n",
      "Inception3 - Epoch 9 Completed - Time: 49.07s\n",
      "Training Inception3 - Epoch 10/10\n",
      "Current Learning Rate: 2.125e-05\n"
     ]
    },
    {
     "data": {
      "application/vnd.jupyter.widget-view+json": {
       "model_id": "037b479f57cf46cbbbd4d632d20dff15",
       "version_major": 2,
       "version_minor": 0
      },
      "text/plain": [
       "Epoch 10:   0%|          | 0/76 [00:00<?, ?batch/s]"
      ]
     },
     "metadata": {},
     "output_type": "display_data"
    },
    {
     "name": "stdout",
     "output_type": "stream",
     "text": [
      "Saved improved model at epoch 10\n",
      "Inception3 - Epoch 10 Completed - Time: 46.52s\n",
      "Training EfficientNet - Epoch 1/10\n",
      "Current Learning Rate: 1e-05\n"
     ]
    },
    {
     "data": {
      "application/vnd.jupyter.widget-view+json": {
       "model_id": "3d4d5784cd074d8ea51a048887369f2f",
       "version_major": 2,
       "version_minor": 0
      },
      "text/plain": [
       "Epoch 1:   0%|          | 0/76 [00:00<?, ?batch/s]"
      ]
     },
     "metadata": {},
     "output_type": "display_data"
    },
    {
     "name": "stdout",
     "output_type": "stream",
     "text": [
      "Saved improved model at epoch 1\n",
      "EfficientNet - Epoch 1 Completed - Time: 36.03s\n",
      "Training EfficientNet - Epoch 2/10\n",
      "Current Learning Rate: 3.2500000000000004e-05\n"
     ]
    },
    {
     "data": {
      "application/vnd.jupyter.widget-view+json": {
       "model_id": "d8a82860942349a391e2cf33e76b8ef2",
       "version_major": 2,
       "version_minor": 0
      },
      "text/plain": [
       "Epoch 2:   0%|          | 0/76 [00:00<?, ?batch/s]"
      ]
     },
     "metadata": {},
     "output_type": "display_data"
    },
    {
     "name": "stdout",
     "output_type": "stream",
     "text": [
      "Saved improved model at epoch 2\n",
      "EfficientNet - Epoch 2 Completed - Time: 35.94s\n",
      "Training EfficientNet - Epoch 3/10\n",
      "Current Learning Rate: 5.5e-05\n"
     ]
    },
    {
     "data": {
      "application/vnd.jupyter.widget-view+json": {
       "model_id": "96b9fd9b84c844e6b265a3c666b198b3",
       "version_major": 2,
       "version_minor": 0
      },
      "text/plain": [
       "Epoch 3:   0%|          | 0/76 [00:00<?, ?batch/s]"
      ]
     },
     "metadata": {},
     "output_type": "display_data"
    },
    {
     "name": "stdout",
     "output_type": "stream",
     "text": [
      "Saved improved model at epoch 3\n",
      "EfficientNet - Epoch 3 Completed - Time: 36.18s\n",
      "Training EfficientNet - Epoch 4/10\n",
      "Current Learning Rate: 7.75e-05\n"
     ]
    },
    {
     "data": {
      "application/vnd.jupyter.widget-view+json": {
       "model_id": "fe7c0ef5efab4fe2a3d41680dae2d072",
       "version_major": 2,
       "version_minor": 0
      },
      "text/plain": [
       "Epoch 4:   0%|          | 0/76 [00:00<?, ?batch/s]"
      ]
     },
     "metadata": {},
     "output_type": "display_data"
    },
    {
     "name": "stdout",
     "output_type": "stream",
     "text": [
      "Saved improved model at epoch 4\n",
      "EfficientNet - Epoch 4 Completed - Time: 35.39s\n",
      "Training EfficientNet - Epoch 5/10\n",
      "Current Learning Rate: 0.0001\n"
     ]
    },
    {
     "data": {
      "application/vnd.jupyter.widget-view+json": {
       "model_id": "f28d7a6011f8406287bf1a527ccce417",
       "version_major": 2,
       "version_minor": 0
      },
      "text/plain": [
       "Epoch 5:   0%|          | 0/76 [00:00<?, ?batch/s]"
      ]
     },
     "metadata": {},
     "output_type": "display_data"
    },
    {
     "name": "stdout",
     "output_type": "stream",
     "text": [
      "Saved improved model at epoch 5\n",
      "EfficientNet - Epoch 5 Completed - Time: 35.58s\n",
      "Training EfficientNet - Epoch 6/10\n",
      "Current Learning Rate: 7.75e-05\n"
     ]
    },
    {
     "data": {
      "application/vnd.jupyter.widget-view+json": {
       "model_id": "49fa71f1b19445ffb4a4288b24d81de1",
       "version_major": 2,
       "version_minor": 0
      },
      "text/plain": [
       "Epoch 6:   0%|          | 0/76 [00:00<?, ?batch/s]"
      ]
     },
     "metadata": {},
     "output_type": "display_data"
    },
    {
     "name": "stdout",
     "output_type": "stream",
     "text": [
      "Saved improved model at epoch 6\n",
      "EfficientNet - Epoch 6 Completed - Time: 35.77s\n",
      "Training EfficientNet - Epoch 7/10\n",
      "Current Learning Rate: 5.5e-05\n"
     ]
    },
    {
     "data": {
      "application/vnd.jupyter.widget-view+json": {
       "model_id": "3723f28ae9814958995a68732fe60f51",
       "version_major": 2,
       "version_minor": 0
      },
      "text/plain": [
       "Epoch 7:   0%|          | 0/76 [00:00<?, ?batch/s]"
      ]
     },
     "metadata": {},
     "output_type": "display_data"
    },
    {
     "name": "stdout",
     "output_type": "stream",
     "text": [
      "Saved improved model at epoch 7\n",
      "EfficientNet - Epoch 7 Completed - Time: 35.77s\n",
      "Training EfficientNet - Epoch 8/10\n",
      "Current Learning Rate: 3.2500000000000004e-05\n"
     ]
    },
    {
     "data": {
      "application/vnd.jupyter.widget-view+json": {
       "model_id": "9c0dab0e4bb443989256903018410d76",
       "version_major": 2,
       "version_minor": 0
      },
      "text/plain": [
       "Epoch 8:   0%|          | 0/76 [00:00<?, ?batch/s]"
      ]
     },
     "metadata": {},
     "output_type": "display_data"
    },
    {
     "name": "stdout",
     "output_type": "stream",
     "text": [
      "Saved improved model at epoch 8\n",
      "EfficientNet - Epoch 8 Completed - Time: 35.57s\n",
      "Training EfficientNet - Epoch 9/10\n",
      "Current Learning Rate: 1e-05\n"
     ]
    },
    {
     "data": {
      "application/vnd.jupyter.widget-view+json": {
       "model_id": "3197739a4ca04ab0a294033b39bd3c56",
       "version_major": 2,
       "version_minor": 0
      },
      "text/plain": [
       "Epoch 9:   0%|          | 0/76 [00:00<?, ?batch/s]"
      ]
     },
     "metadata": {},
     "output_type": "display_data"
    },
    {
     "name": "stdout",
     "output_type": "stream",
     "text": [
      "Saved improved model at epoch 9\n",
      "EfficientNet - Epoch 9 Completed - Time: 35.62s\n",
      "Training EfficientNet - Epoch 10/10\n",
      "Current Learning Rate: 2.125e-05\n"
     ]
    },
    {
     "data": {
      "application/vnd.jupyter.widget-view+json": {
       "model_id": "58a3676a925a4e08bb0d10c81f9b3876",
       "version_major": 2,
       "version_minor": 0
      },
      "text/plain": [
       "Epoch 10:   0%|          | 0/76 [00:00<?, ?batch/s]"
      ]
     },
     "metadata": {},
     "output_type": "display_data"
    },
    {
     "name": "stdout",
     "output_type": "stream",
     "text": [
      "Saved improved model at epoch 10\n",
      "EfficientNet - Epoch 10 Completed - Time: 35.54s\n"
     ]
    }
   ],
   "source": [
    "\n",
    "#From the notebook to run train\n",
    "# number of epoch to run\n",
    "# save dir_where you want the best_classifier to run\n",
    "# train_dir the directory to get the data\n",
    "for seed in [7, 13, 17, 19, 31, 42]:\n",
    "    fit.main(number_epochs=10, save_dir=f'../classifiers/binary_classifier/out/run_{seed}/', train_dir=f'../data/binary_scc/{seed}/train/',batch_size=8)"
   ]
  },
  {
   "cell_type": "code",
   "execution_count": 3,
   "metadata": {},
   "outputs": [
    {
     "name": "stdout",
     "output_type": "stream",
     "text": [
      "Using device: cuda:0\n",
      "Loaded dataset:\n",
      " - Number of images: 282\n",
      " - Number of classes: 2\n",
      " - Class names: ['others', 'scc']\n",
      " - Batch size: 16\n",
      "Initialized models:\n",
      " - Inception V3 with custom classifier\n",
      " - EfficientNet B0 with custom classifier\n"
     ]
    },
    {
     "data": {
      "application/vnd.jupyter.widget-view+json": {
       "model_id": "811f7fff05414494bd5a710299c12070",
       "version_major": 2,
       "version_minor": 0
      },
      "text/plain": [
       "Evaluating:   0%|          | 0/18 [00:00<?, ?it/s]"
      ]
     },
     "metadata": {},
     "output_type": "display_data"
    },
    {
     "name": "stdout",
     "output_type": "stream",
     "text": [
      "Model: EfficientNet, Path: ../classifiers/binary_classifier/out/emsamble_scc/run_7/EfficientNet_best.pth, Accuracy: 0.8687943262411347\n"
     ]
    },
    {
     "data": {
      "application/vnd.jupyter.widget-view+json": {
       "model_id": "f69f91aac06c4b3b9bbc69f0317b239f",
       "version_major": 2,
       "version_minor": 0
      },
      "text/plain": [
       "Evaluating:   0%|          | 0/18 [00:00<?, ?it/s]"
      ]
     },
     "metadata": {},
     "output_type": "display_data"
    },
    {
     "name": "stdout",
     "output_type": "stream",
     "text": [
      "Model: Inception3, Path: ../classifiers/binary_classifier/out/emsamble_scc/run_7/Inception3_best.pth, Accuracy: 0.8652482269503546\n",
      "Using device: cuda:0\n",
      "Loaded dataset:\n",
      " - Number of images: 282\n",
      " - Number of classes: 2\n",
      " - Class names: ['others', 'scc']\n",
      " - Batch size: 16\n",
      "Initialized models:\n",
      " - Inception V3 with custom classifier\n",
      " - EfficientNet B0 with custom classifier\n"
     ]
    },
    {
     "data": {
      "application/vnd.jupyter.widget-view+json": {
       "model_id": "f2324bdad9144b16a3ed2b69a7fb3082",
       "version_major": 2,
       "version_minor": 0
      },
      "text/plain": [
       "Evaluating:   0%|          | 0/18 [00:00<?, ?it/s]"
      ]
     },
     "metadata": {},
     "output_type": "display_data"
    },
    {
     "name": "stdout",
     "output_type": "stream",
     "text": [
      "Model: EfficientNet, Path: ../classifiers/binary_classifier/out/emsamble_scc/run_13/EfficientNet_best.pth, Accuracy: 0.851063829787234\n"
     ]
    },
    {
     "data": {
      "application/vnd.jupyter.widget-view+json": {
       "model_id": "a1fbda45e93c4e44b834ef51f71afa6e",
       "version_major": 2,
       "version_minor": 0
      },
      "text/plain": [
       "Evaluating:   0%|          | 0/18 [00:00<?, ?it/s]"
      ]
     },
     "metadata": {},
     "output_type": "display_data"
    },
    {
     "name": "stdout",
     "output_type": "stream",
     "text": [
      "Model: Inception3, Path: ../classifiers/binary_classifier/out/emsamble_scc/run_13/Inception3_best.pth, Accuracy: 0.7907801418439716\n",
      "Using device: cuda:0\n",
      "Loaded dataset:\n",
      " - Number of images: 282\n",
      " - Number of classes: 2\n",
      " - Class names: ['others', 'scc']\n",
      " - Batch size: 16\n",
      "Initialized models:\n",
      " - Inception V3 with custom classifier\n",
      " - EfficientNet B0 with custom classifier\n"
     ]
    },
    {
     "data": {
      "application/vnd.jupyter.widget-view+json": {
       "model_id": "ef9891cf0f544b84ae74a21aab01af14",
       "version_major": 2,
       "version_minor": 0
      },
      "text/plain": [
       "Evaluating:   0%|          | 0/18 [00:00<?, ?it/s]"
      ]
     },
     "metadata": {},
     "output_type": "display_data"
    },
    {
     "name": "stdout",
     "output_type": "stream",
     "text": [
      "Model: EfficientNet, Path: ../classifiers/binary_classifier/out/emsamble_scc/run_17/EfficientNet_best.pth, Accuracy: 0.8581560283687943\n"
     ]
    },
    {
     "data": {
      "application/vnd.jupyter.widget-view+json": {
       "model_id": "cc160ba9efd84dda9d95f4614e01df35",
       "version_major": 2,
       "version_minor": 0
      },
      "text/plain": [
       "Evaluating:   0%|          | 0/18 [00:00<?, ?it/s]"
      ]
     },
     "metadata": {},
     "output_type": "display_data"
    },
    {
     "name": "stdout",
     "output_type": "stream",
     "text": [
      "Model: Inception3, Path: ../classifiers/binary_classifier/out/emsamble_scc/run_17/Inception3_best.pth, Accuracy: 0.875886524822695\n",
      "Using device: cuda:0\n",
      "Loaded dataset:\n",
      " - Number of images: 282\n",
      " - Number of classes: 2\n",
      " - Class names: ['others', 'scc']\n",
      " - Batch size: 16\n",
      "Initialized models:\n",
      " - Inception V3 with custom classifier\n",
      " - EfficientNet B0 with custom classifier\n"
     ]
    },
    {
     "data": {
      "application/vnd.jupyter.widget-view+json": {
       "model_id": "d0b3ec0c60dd4325a67405257464a135",
       "version_major": 2,
       "version_minor": 0
      },
      "text/plain": [
       "Evaluating:   0%|          | 0/18 [00:00<?, ?it/s]"
      ]
     },
     "metadata": {},
     "output_type": "display_data"
    },
    {
     "name": "stdout",
     "output_type": "stream",
     "text": [
      "Model: EfficientNet, Path: ../classifiers/binary_classifier/out/emsamble_scc/run_19/EfficientNet_best.pth, Accuracy: 0.875886524822695\n"
     ]
    },
    {
     "data": {
      "application/vnd.jupyter.widget-view+json": {
       "model_id": "d651fd5eeee74af0ad7eec3a8ad2888c",
       "version_major": 2,
       "version_minor": 0
      },
      "text/plain": [
       "Evaluating:   0%|          | 0/18 [00:00<?, ?it/s]"
      ]
     },
     "metadata": {},
     "output_type": "display_data"
    },
    {
     "name": "stdout",
     "output_type": "stream",
     "text": [
      "Model: Inception3, Path: ../classifiers/binary_classifier/out/emsamble_scc/run_19/Inception3_best.pth, Accuracy: 0.8687943262411347\n",
      "Using device: cuda:0\n",
      "Loaded dataset:\n",
      " - Number of images: 282\n",
      " - Number of classes: 2\n",
      " - Class names: ['others', 'scc']\n",
      " - Batch size: 16\n",
      "Initialized models:\n",
      " - Inception V3 with custom classifier\n",
      " - EfficientNet B0 with custom classifier\n"
     ]
    },
    {
     "data": {
      "application/vnd.jupyter.widget-view+json": {
       "model_id": "9d8fb26cb6ae4ffaba63e691c917025b",
       "version_major": 2,
       "version_minor": 0
      },
      "text/plain": [
       "Evaluating:   0%|          | 0/18 [00:00<?, ?it/s]"
      ]
     },
     "metadata": {},
     "output_type": "display_data"
    },
    {
     "name": "stdout",
     "output_type": "stream",
     "text": [
      "Model: EfficientNet, Path: ../classifiers/binary_classifier/out/emsamble_scc/run_31/EfficientNet_best.pth, Accuracy: 0.8652482269503546\n"
     ]
    },
    {
     "data": {
      "application/vnd.jupyter.widget-view+json": {
       "model_id": "ed9b236b4fb941238da879af88927109",
       "version_major": 2,
       "version_minor": 0
      },
      "text/plain": [
       "Evaluating:   0%|          | 0/18 [00:00<?, ?it/s]"
      ]
     },
     "metadata": {},
     "output_type": "display_data"
    },
    {
     "name": "stdout",
     "output_type": "stream",
     "text": [
      "Model: Inception3, Path: ../classifiers/binary_classifier/out/emsamble_scc/run_31/Inception3_best.pth, Accuracy: 0.8475177304964538\n",
      "Using device: cuda:0\n",
      "Loaded dataset:\n",
      " - Number of images: 150\n",
      " - Number of classes: 2\n",
      " - Class names: ['others', 'scc']\n",
      " - Batch size: 16\n",
      "Initialized models:\n",
      " - Inception V3 with custom classifier\n",
      " - EfficientNet B0 with custom classifier\n"
     ]
    },
    {
     "data": {
      "application/vnd.jupyter.widget-view+json": {
       "model_id": "cc16d68a76504a9d96d0b400b8618393",
       "version_major": 2,
       "version_minor": 0
      },
      "text/plain": [
       "Evaluating:   0%|          | 0/10 [00:00<?, ?it/s]"
      ]
     },
     "metadata": {},
     "output_type": "display_data"
    },
    {
     "name": "stdout",
     "output_type": "stream",
     "text": [
      "Model: EfficientNet, Path: ../classifiers/binary_classifier/out/emsamble_scc/run_42/EfficientNet_best.pth, Accuracy: 0.8\n"
     ]
    },
    {
     "data": {
      "application/vnd.jupyter.widget-view+json": {
       "model_id": "c066189f6bca4021a4e8f2742fb403d5",
       "version_major": 2,
       "version_minor": 0
      },
      "text/plain": [
       "Evaluating:   0%|          | 0/10 [00:00<?, ?it/s]"
      ]
     },
     "metadata": {},
     "output_type": "display_data"
    },
    {
     "name": "stdout",
     "output_type": "stream",
     "text": [
      "Model: Inception3, Path: ../classifiers/binary_classifier/out/emsamble_scc/run_42/Inception3_best.pth, Accuracy: 0.82\n"
     ]
    },
    {
     "ename": "",
     "evalue": "",
     "output_type": "error",
     "traceback": [
      "\u001b[1;31mThe Kernel crashed while executing code in the the current cell or a previous cell. Please review the code in the cell(s) to identify a possible cause of the failure. Click <a href='https://aka.ms/vscodeJupyterKernelCrash'>here</a> for more info. View Jupyter <a href='command:jupyter.viewOutput'>log</a> for further details."
     ]
    }
   ],
   "source": [
    "for seed in [7, 13, 17, 19, 31, 42]:\n",
    "    val.evaluating_best_classifier(val_dir=f'../data/binary_scc/{seed}/val/', root_out = f'../classifiers/binary_classifier/out/emsamble_scc/run_{seed}/',batch_size=16)"
   ]
  },
  {
   "cell_type": "markdown",
   "metadata": {},
   "source": [
    "## Stack Validation Predictions and Apply Maximum Voting"
   ]
  },
  {
   "cell_type": "code",
   "execution_count": 2,
   "metadata": {},
   "outputs": [
    {
     "name": "stdout",
     "output_type": "stream",
     "text": [
      "Initialized models:\n",
      " - Inception V3 with custom classifier\n",
      " - EfficientNet B0 with custom classifier\n"
     ]
    }
   ],
   "source": [
    "import glob\n",
    "from torchvision.models import efficientnet_b0, inception_v3\n",
    "\n",
    "models = fit.initialize_models('cuda:0')\n",
    "paths = glob.glob('../classifiers/binary_classifier/out/emsamble_scc/*/EfficientNet_best.pth')\n",
    "efficients = emsamble.load_models(model_paths=paths, model=models[0])\n",
    "\n",
    "paths = glob.glob('../classifiers/binary_classifier/out/emsamble_scc/*/Inception3_best.pth')\n",
    "inceptions = emsamble.load_models(model_paths=paths, model=models[1])"
   ]
  },
  {
   "cell_type": "code",
   "execution_count": 3,
   "metadata": {},
   "outputs": [
    {
     "data": {
      "text/plain": [
       "12"
      ]
     },
     "execution_count": 3,
     "metadata": {},
     "output_type": "execute_result"
    }
   ],
   "source": [
    "import numpy as np\n",
    "\n",
    "models = np.concatenate([inceptions, efficients])\n",
    "len(models)"
   ]
  },
  {
   "cell_type": "code",
   "execution_count": 4,
   "metadata": {},
   "outputs": [
    {
     "name": "stdout",
     "output_type": "stream",
     "text": [
      "Loaded dataset:\n",
      " - Number of images: 1270\n",
      " - Number of classes: 2\n",
      " - Class names: ['others', 'scc']\n",
      " - Batch size: 8\n"
     ]
    },
    {
     "name": "stderr",
     "output_type": "stream",
     "text": [
      "Generating Class Predictions: 159it [02:41,  1.02s/it]\n"
     ]
    }
   ],
   "source": [
    "transform = emsamble.create_transforms()\n",
    "\n",
    "val_loader = emsamble.load_data('../data_mult/all/val/', transform,8)\n",
    "\n",
    "class_predictions, true_labels, image_names = emsamble.generate_classes_predictions(models, val_loader, 'cuda:0', 8)\n",
    "final_predictions, vote_counts = emsamble.maximum_voting(class_predictions)\n",
    "\n",
    "accuracy = emsamble.calculate_accuracy(final_predictions, true_labels)\n",
    "\n",
    "import csv \n",
    "\n",
    "class_names = val_loader.dataset.classes\n",
    "with open(f\"predictions_binary_scc_{type}.csv\", \"w\", newline=\"\") as csvfile:\n",
    "    csvwriter = csv.writer(csvfile)\n",
    "    csvwriter.writerow([\"image_name\", \"class_number\", \"class_name\"])\n",
    "    for idx, pred in enumerate(final_predictions):\n",
    "        image_path = image_names[idx]\n",
    "        image_name = image_path.split('/')[-1]\n",
    "        class_number = pred.item()\n",
    "        class_name = class_names[class_number]\n",
    "        csvwriter.writerow([image_name, class_number, class_name])\n",
    "\n",
    "with open(\"detailed_binary_scc_predictions.txt\", \"w\") as f:\n",
    "    for idx, (pred, true_label) in enumerate(zip(final_predictions, true_labels)):\n",
    "        f.write(f\"Image {idx}: Predicted Class {pred.item()}, True Class {true_label.item()}, Vote counts: {vote_counts[idx].tolist()}\\n\")\n"
   ]
  },
  {
   "cell_type": "code",
   "execution_count": 4,
   "metadata": {},
   "outputs": [
    {
     "name": "stdout",
     "output_type": "stream",
     "text": [
      "Loaded dataset:\n",
      " - Number of images: 2121\n",
      " - Number of classes: 1\n",
      " - Class names: ['Test']\n",
      " - Batch size: 8\n"
     ]
    },
    {
     "name": "stderr",
     "output_type": "stream",
     "text": [
      "Generating Class Predictions: 266it [04:37,  1.04s/it]\n"
     ]
    },
    {
     "ename": "",
     "evalue": "",
     "output_type": "error",
     "traceback": [
      "\u001b[1;31mThe Kernel crashed while executing code in the the current cell or a previous cell. Please review the code in the cell(s) to identify a possible cause of the failure. Click <a href='https://aka.ms/vscodeJupyterKernelCrash'>here</a> for more info. View Jupyter <a href='command:jupyter.viewOutput'>log</a> for further details."
     ]
    }
   ],
   "source": [
    "transform = emsamble.create_transforms()\n",
    "\n",
    "val_loader = emsamble.load_data('../data_mult/test/', transform,8)\n",
    "\n",
    "class_predictions, true_labels, image_names = emsamble.generate_classes_predictions(models, val_loader, 'cuda:0', 8)\n",
    "final_predictions, vote_counts = emsamble.maximum_voting(class_predictions)\n",
    "\n",
    "accuracy = emsamble.calculate_accuracy(final_predictions, true_labels)\n",
    "\n",
    "import csv \n",
    "\n",
    "class_names = ['others','scc']\n",
    "with open(f\"predictions_binary_scc_test.csv\", \"w\", newline=\"\") as csvfile:\n",
    "    csvwriter = csv.writer(csvfile)\n",
    "    csvwriter.writerow([\"image_name\", \"class_number\", \"class_name\"])\n",
    "    for idx, pred in enumerate(final_predictions):\n",
    "        image_path = image_names[idx]\n",
    "        image_name = image_path.split('/')[-1]\n",
    "        class_number = pred.item()\n",
    "        class_name = class_names[class_number]\n",
    "        csvwriter.writerow([image_name, class_number, class_name])\n",
    "\n",
    "with open(\"detailed_binary_scc_predictions_test.txt\", \"w\") as f:\n",
    "    for idx, (pred, true_label) in enumerate(zip(final_predictions, true_labels)):\n",
    "        f.write(f\"Image {idx}: Predicted Class {pred.item()}, True Class {true_label.item()}, Vote counts: {vote_counts[idx].tolist()}\\n\")\n"
   ]
  },
  {
   "cell_type": "markdown",
   "metadata": {},
   "source": [
    "## Perfect! Now let's play with multiclass results :) "
   ]
  },
  {
   "cell_type": "code",
   "execution_count": 7,
   "metadata": {},
   "outputs": [
    {
     "name": "stdout",
     "output_type": "stream",
     "text": [
      "0.9244094488188976\n"
     ]
    }
   ],
   "source": [
    "print(accuracy)"
   ]
  },
  {
   "cell_type": "code",
   "execution_count": 1,
   "metadata": {},
   "outputs": [],
   "source": [
    "import pandas as pd\n",
    "import numpy as np"
   ]
  },
  {
   "cell_type": "code",
   "execution_count": 26,
   "metadata": {},
   "outputs": [],
   "source": [
    "multi = pd.read_csv('predictions_mult_test.csv')"
   ]
  },
  {
   "cell_type": "code",
   "execution_count": 27,
   "metadata": {},
   "outputs": [
    {
     "data": {
      "text/html": [
       "<div>\n",
       "<style scoped>\n",
       "    .dataframe tbody tr th:only-of-type {\n",
       "        vertical-align: middle;\n",
       "    }\n",
       "\n",
       "    .dataframe tbody tr th {\n",
       "        vertical-align: top;\n",
       "    }\n",
       "\n",
       "    .dataframe thead th {\n",
       "        text-align: right;\n",
       "    }\n",
       "</style>\n",
       "<table border=\"1\" class=\"dataframe\">\n",
       "  <thead>\n",
       "    <tr style=\"text-align: right;\">\n",
       "      <th></th>\n",
       "      <th>image_name</th>\n",
       "      <th>class_number</th>\n",
       "      <th>class_name</th>\n",
       "    </tr>\n",
       "  </thead>\n",
       "  <tbody>\n",
       "    <tr>\n",
       "      <th>0</th>\n",
       "      <td>xxx00001.jpg</td>\n",
       "      <td>0</td>\n",
       "      <td>bcc</td>\n",
       "    </tr>\n",
       "    <tr>\n",
       "      <th>1</th>\n",
       "      <td>xxx00002.jpg</td>\n",
       "      <td>0</td>\n",
       "      <td>bcc</td>\n",
       "    </tr>\n",
       "    <tr>\n",
       "      <th>2</th>\n",
       "      <td>xxx00003.jpg</td>\n",
       "      <td>0</td>\n",
       "      <td>bcc</td>\n",
       "    </tr>\n",
       "    <tr>\n",
       "      <th>3</th>\n",
       "      <td>xxx00004.jpg</td>\n",
       "      <td>1</td>\n",
       "      <td>mel</td>\n",
       "    </tr>\n",
       "    <tr>\n",
       "      <th>4</th>\n",
       "      <td>xxx00005.jpg</td>\n",
       "      <td>1</td>\n",
       "      <td>mel</td>\n",
       "    </tr>\n",
       "    <tr>\n",
       "      <th>...</th>\n",
       "      <td>...</td>\n",
       "      <td>...</td>\n",
       "      <td>...</td>\n",
       "    </tr>\n",
       "    <tr>\n",
       "      <th>2116</th>\n",
       "      <td>xxx02117.jpg</td>\n",
       "      <td>1</td>\n",
       "      <td>mel</td>\n",
       "    </tr>\n",
       "    <tr>\n",
       "      <th>2117</th>\n",
       "      <td>xxx02118.jpg</td>\n",
       "      <td>1</td>\n",
       "      <td>mel</td>\n",
       "    </tr>\n",
       "    <tr>\n",
       "      <th>2118</th>\n",
       "      <td>xxx02119.jpg</td>\n",
       "      <td>0</td>\n",
       "      <td>bcc</td>\n",
       "    </tr>\n",
       "    <tr>\n",
       "      <th>2119</th>\n",
       "      <td>xxx02120.jpg</td>\n",
       "      <td>1</td>\n",
       "      <td>mel</td>\n",
       "    </tr>\n",
       "    <tr>\n",
       "      <th>2120</th>\n",
       "      <td>xxx02121.jpg</td>\n",
       "      <td>0</td>\n",
       "      <td>bcc</td>\n",
       "    </tr>\n",
       "  </tbody>\n",
       "</table>\n",
       "<p>2121 rows × 3 columns</p>\n",
       "</div>"
      ],
      "text/plain": [
       "        image_name  class_number class_name\n",
       "0     xxx00001.jpg             0        bcc\n",
       "1     xxx00002.jpg             0        bcc\n",
       "2     xxx00003.jpg             0        bcc\n",
       "3     xxx00004.jpg             1        mel\n",
       "4     xxx00005.jpg             1        mel\n",
       "...            ...           ...        ...\n",
       "2116  xxx02117.jpg             1        mel\n",
       "2117  xxx02118.jpg             1        mel\n",
       "2118  xxx02119.jpg             0        bcc\n",
       "2119  xxx02120.jpg             1        mel\n",
       "2120  xxx02121.jpg             0        bcc\n",
       "\n",
       "[2121 rows x 3 columns]"
      ]
     },
     "execution_count": 27,
     "metadata": {},
     "output_type": "execute_result"
    }
   ],
   "source": [
    "multi"
   ]
  },
  {
   "cell_type": "code",
   "execution_count": 28,
   "metadata": {},
   "outputs": [],
   "source": [
    "def map_values(string):\n",
    "    if 'bcc' in string:\n",
    "        return 1\n",
    "    elif 'mel' in string:\n",
    "        return 0\n",
    "    elif 'scc' in string:\n",
    "        return 2\n",
    "    else:\n",
    "        return 0  # You can choose a default value if none of the strings match"
   ]
  },
  {
   "cell_type": "code",
   "execution_count": 29,
   "metadata": {},
   "outputs": [
    {
     "data": {
      "text/html": [
       "<div>\n",
       "<style scoped>\n",
       "    .dataframe tbody tr th:only-of-type {\n",
       "        vertical-align: middle;\n",
       "    }\n",
       "\n",
       "    .dataframe tbody tr th {\n",
       "        vertical-align: top;\n",
       "    }\n",
       "\n",
       "    .dataframe thead th {\n",
       "        text-align: right;\n",
       "    }\n",
       "</style>\n",
       "<table border=\"1\" class=\"dataframe\">\n",
       "  <thead>\n",
       "    <tr style=\"text-align: right;\">\n",
       "      <th></th>\n",
       "      <th>image_name</th>\n",
       "      <th>class_number</th>\n",
       "      <th>class_name</th>\n",
       "    </tr>\n",
       "  </thead>\n",
       "  <tbody>\n",
       "    <tr>\n",
       "      <th>0</th>\n",
       "      <td>xxx00001.jpg</td>\n",
       "      <td>1</td>\n",
       "      <td>bcc</td>\n",
       "    </tr>\n",
       "    <tr>\n",
       "      <th>1</th>\n",
       "      <td>xxx00002.jpg</td>\n",
       "      <td>1</td>\n",
       "      <td>bcc</td>\n",
       "    </tr>\n",
       "    <tr>\n",
       "      <th>2</th>\n",
       "      <td>xxx00003.jpg</td>\n",
       "      <td>1</td>\n",
       "      <td>bcc</td>\n",
       "    </tr>\n",
       "    <tr>\n",
       "      <th>3</th>\n",
       "      <td>xxx00004.jpg</td>\n",
       "      <td>0</td>\n",
       "      <td>mel</td>\n",
       "    </tr>\n",
       "    <tr>\n",
       "      <th>4</th>\n",
       "      <td>xxx00005.jpg</td>\n",
       "      <td>0</td>\n",
       "      <td>mel</td>\n",
       "    </tr>\n",
       "    <tr>\n",
       "      <th>...</th>\n",
       "      <td>...</td>\n",
       "      <td>...</td>\n",
       "      <td>...</td>\n",
       "    </tr>\n",
       "    <tr>\n",
       "      <th>2116</th>\n",
       "      <td>xxx02117.jpg</td>\n",
       "      <td>0</td>\n",
       "      <td>mel</td>\n",
       "    </tr>\n",
       "    <tr>\n",
       "      <th>2117</th>\n",
       "      <td>xxx02118.jpg</td>\n",
       "      <td>0</td>\n",
       "      <td>mel</td>\n",
       "    </tr>\n",
       "    <tr>\n",
       "      <th>2118</th>\n",
       "      <td>xxx02119.jpg</td>\n",
       "      <td>1</td>\n",
       "      <td>bcc</td>\n",
       "    </tr>\n",
       "    <tr>\n",
       "      <th>2119</th>\n",
       "      <td>xxx02120.jpg</td>\n",
       "      <td>0</td>\n",
       "      <td>mel</td>\n",
       "    </tr>\n",
       "    <tr>\n",
       "      <th>2120</th>\n",
       "      <td>xxx02121.jpg</td>\n",
       "      <td>1</td>\n",
       "      <td>bcc</td>\n",
       "    </tr>\n",
       "  </tbody>\n",
       "</table>\n",
       "<p>2121 rows × 3 columns</p>\n",
       "</div>"
      ],
      "text/plain": [
       "        image_name  class_number class_name\n",
       "0     xxx00001.jpg             1        bcc\n",
       "1     xxx00002.jpg             1        bcc\n",
       "2     xxx00003.jpg             1        bcc\n",
       "3     xxx00004.jpg             0        mel\n",
       "4     xxx00005.jpg             0        mel\n",
       "...            ...           ...        ...\n",
       "2116  xxx02117.jpg             0        mel\n",
       "2117  xxx02118.jpg             0        mel\n",
       "2118  xxx02119.jpg             1        bcc\n",
       "2119  xxx02120.jpg             0        mel\n",
       "2120  xxx02121.jpg             1        bcc\n",
       "\n",
       "[2121 rows x 3 columns]"
      ]
     },
     "execution_count": 29,
     "metadata": {},
     "output_type": "execute_result"
    }
   ],
   "source": [
    "multi['class_number'] = multi['class_name'].apply(map_values)\n",
    "#multi['true_lables'] = multi['image_name'].apply(map_values)\n",
    "multi"
   ]
  },
  {
   "cell_type": "code",
   "execution_count": 36,
   "metadata": {},
   "outputs": [
    {
     "data": {
      "text/html": [
       "<div>\n",
       "<style scoped>\n",
       "    .dataframe tbody tr th:only-of-type {\n",
       "        vertical-align: middle;\n",
       "    }\n",
       "\n",
       "    .dataframe tbody tr th {\n",
       "        vertical-align: top;\n",
       "    }\n",
       "\n",
       "    .dataframe thead th {\n",
       "        text-align: right;\n",
       "    }\n",
       "</style>\n",
       "<table border=\"1\" class=\"dataframe\">\n",
       "  <thead>\n",
       "    <tr style=\"text-align: right;\">\n",
       "      <th></th>\n",
       "      <th>image_name</th>\n",
       "      <th>Image Number</th>\n",
       "      <th>class_number</th>\n",
       "      <th>class_name</th>\n",
       "    </tr>\n",
       "  </thead>\n",
       "  <tbody>\n",
       "    <tr>\n",
       "      <th>0</th>\n",
       "      <td>xxx00001.jpg</td>\n",
       "      <td>0</td>\n",
       "      <td>0</td>\n",
       "      <td>nevus</td>\n",
       "    </tr>\n",
       "    <tr>\n",
       "      <th>1</th>\n",
       "      <td>xxx00002.jpg</td>\n",
       "      <td>1</td>\n",
       "      <td>0</td>\n",
       "      <td>nevus</td>\n",
       "    </tr>\n",
       "    <tr>\n",
       "      <th>2</th>\n",
       "      <td>xxx00003.jpg</td>\n",
       "      <td>2</td>\n",
       "      <td>1</td>\n",
       "      <td>others</td>\n",
       "    </tr>\n",
       "    <tr>\n",
       "      <th>3</th>\n",
       "      <td>xxx00004.jpg</td>\n",
       "      <td>3</td>\n",
       "      <td>1</td>\n",
       "      <td>others</td>\n",
       "    </tr>\n",
       "    <tr>\n",
       "      <th>4</th>\n",
       "      <td>xxx00005.jpg</td>\n",
       "      <td>4</td>\n",
       "      <td>1</td>\n",
       "      <td>others</td>\n",
       "    </tr>\n",
       "    <tr>\n",
       "      <th>...</th>\n",
       "      <td>...</td>\n",
       "      <td>...</td>\n",
       "      <td>...</td>\n",
       "      <td>...</td>\n",
       "    </tr>\n",
       "    <tr>\n",
       "      <th>6335</th>\n",
       "      <td>xxx06336.jpg</td>\n",
       "      <td>6335</td>\n",
       "      <td>0</td>\n",
       "      <td>nevus</td>\n",
       "    </tr>\n",
       "    <tr>\n",
       "      <th>6336</th>\n",
       "      <td>xxx06337.jpg</td>\n",
       "      <td>6336</td>\n",
       "      <td>1</td>\n",
       "      <td>others</td>\n",
       "    </tr>\n",
       "    <tr>\n",
       "      <th>6337</th>\n",
       "      <td>xxx06338.jpg</td>\n",
       "      <td>6337</td>\n",
       "      <td>1</td>\n",
       "      <td>others</td>\n",
       "    </tr>\n",
       "    <tr>\n",
       "      <th>6338</th>\n",
       "      <td>xxx06339.jpg</td>\n",
       "      <td>6338</td>\n",
       "      <td>0</td>\n",
       "      <td>nevus</td>\n",
       "    </tr>\n",
       "    <tr>\n",
       "      <th>6339</th>\n",
       "      <td>xxx06340.jpg</td>\n",
       "      <td>6339</td>\n",
       "      <td>1</td>\n",
       "      <td>others</td>\n",
       "    </tr>\n",
       "  </tbody>\n",
       "</table>\n",
       "<p>6340 rows × 4 columns</p>\n",
       "</div>"
      ],
      "text/plain": [
       "        image_name  Image Number  class_number class_name\n",
       "0     xxx00001.jpg             0             0      nevus\n",
       "1     xxx00002.jpg             1             0      nevus\n",
       "2     xxx00003.jpg             2             1     others\n",
       "3     xxx00004.jpg             3             1     others\n",
       "4     xxx00005.jpg             4             1     others\n",
       "...            ...           ...           ...        ...\n",
       "6335  xxx06336.jpg          6335             0      nevus\n",
       "6336  xxx06337.jpg          6336             1     others\n",
       "6337  xxx06338.jpg          6337             1     others\n",
       "6338  xxx06339.jpg          6338             0      nevus\n",
       "6339  xxx06340.jpg          6339             1     others\n",
       "\n",
       "[6340 rows x 4 columns]"
      ]
     },
     "execution_count": 36,
     "metadata": {},
     "output_type": "execute_result"
    }
   ],
   "source": [
    "binary = pd.read_csv('prediction_test.csv')\n",
    "binary"
   ]
  },
  {
   "cell_type": "code",
   "execution_count": 8,
   "metadata": {},
   "outputs": [
    {
     "data": {
      "text/html": [
       "<div>\n",
       "<style scoped>\n",
       "    .dataframe tbody tr th:only-of-type {\n",
       "        vertical-align: middle;\n",
       "    }\n",
       "\n",
       "    .dataframe tbody tr th {\n",
       "        vertical-align: top;\n",
       "    }\n",
       "\n",
       "    .dataframe thead th {\n",
       "        text-align: right;\n",
       "    }\n",
       "</style>\n",
       "<table border=\"1\" class=\"dataframe\">\n",
       "  <thead>\n",
       "    <tr style=\"text-align: right;\">\n",
       "      <th></th>\n",
       "      <th>image_name</th>\n",
       "      <th>class_number</th>\n",
       "      <th>class_name</th>\n",
       "    </tr>\n",
       "  </thead>\n",
       "  <tbody>\n",
       "    <tr>\n",
       "      <th>0</th>\n",
       "      <td>bcc01994.jpg</td>\n",
       "      <td>2</td>\n",
       "      <td>scc</td>\n",
       "    </tr>\n",
       "    <tr>\n",
       "      <th>1</th>\n",
       "      <td>bcc01995.jpg</td>\n",
       "      <td>0</td>\n",
       "      <td>others</td>\n",
       "    </tr>\n",
       "    <tr>\n",
       "      <th>2</th>\n",
       "      <td>bcc01996.jpg</td>\n",
       "      <td>0</td>\n",
       "      <td>others</td>\n",
       "    </tr>\n",
       "    <tr>\n",
       "      <th>3</th>\n",
       "      <td>bcc01997.jpg</td>\n",
       "      <td>0</td>\n",
       "      <td>others</td>\n",
       "    </tr>\n",
       "    <tr>\n",
       "      <th>4</th>\n",
       "      <td>bcc01998.jpg</td>\n",
       "      <td>0</td>\n",
       "      <td>others</td>\n",
       "    </tr>\n",
       "    <tr>\n",
       "      <th>...</th>\n",
       "      <td>...</td>\n",
       "      <td>...</td>\n",
       "      <td>...</td>\n",
       "    </tr>\n",
       "    <tr>\n",
       "      <th>1265</th>\n",
       "      <td>scc00466.jpg</td>\n",
       "      <td>2</td>\n",
       "      <td>scc</td>\n",
       "    </tr>\n",
       "    <tr>\n",
       "      <th>1266</th>\n",
       "      <td>scc00467.jpg</td>\n",
       "      <td>0</td>\n",
       "      <td>others</td>\n",
       "    </tr>\n",
       "    <tr>\n",
       "      <th>1267</th>\n",
       "      <td>scc00468.jpg</td>\n",
       "      <td>2</td>\n",
       "      <td>scc</td>\n",
       "    </tr>\n",
       "    <tr>\n",
       "      <th>1268</th>\n",
       "      <td>scc00469.jpg</td>\n",
       "      <td>2</td>\n",
       "      <td>scc</td>\n",
       "    </tr>\n",
       "    <tr>\n",
       "      <th>1269</th>\n",
       "      <td>scc00470.jpg</td>\n",
       "      <td>2</td>\n",
       "      <td>scc</td>\n",
       "    </tr>\n",
       "  </tbody>\n",
       "</table>\n",
       "<p>1270 rows × 3 columns</p>\n",
       "</div>"
      ],
      "text/plain": [
       "        image_name  class_number class_name\n",
       "0     bcc01994.jpg             2        scc\n",
       "1     bcc01995.jpg             0     others\n",
       "2     bcc01996.jpg             0     others\n",
       "3     bcc01997.jpg             0     others\n",
       "4     bcc01998.jpg             0     others\n",
       "...            ...           ...        ...\n",
       "1265  scc00466.jpg             2        scc\n",
       "1266  scc00467.jpg             0     others\n",
       "1267  scc00468.jpg             2        scc\n",
       "1268  scc00469.jpg             2        scc\n",
       "1269  scc00470.jpg             2        scc\n",
       "\n",
       "[1270 rows x 3 columns]"
      ]
     },
     "execution_count": 8,
     "metadata": {},
     "output_type": "execute_result"
    }
   ],
   "source": [
    "binary_scc.loc[binary_scc['class_number'] == 1, 'class_number'] = 2\n",
    "binary_scc"
   ]
  },
  {
   "cell_type": "code",
   "execution_count": 32,
   "metadata": {},
   "outputs": [
    {
     "data": {
      "text/plain": [
       "0       1\n",
       "1       1\n",
       "2       1\n",
       "3       0\n",
       "4       0\n",
       "       ..\n",
       "2116    0\n",
       "2117    0\n",
       "2118    1\n",
       "2119    0\n",
       "2120    1\n",
       "Name: class_number, Length: 2121, dtype: int64"
      ]
     },
     "execution_count": 32,
     "metadata": {},
     "output_type": "execute_result"
    }
   ],
   "source": [
    "multi_preds = multi['class_number']\n",
    "#binary_preds = binary_scc['class_number']\n",
    "#true_labels = multi['true_lables']\n",
    "multi_preds"
   ]
  },
  {
   "cell_type": "code",
   "execution_count": 38,
   "metadata": {},
   "outputs": [
    {
     "data": {
      "text/plain": [
       "0       0\n",
       "1       0\n",
       "2       1\n",
       "3       1\n",
       "4       1\n",
       "       ..\n",
       "6335    0\n",
       "6336    1\n",
       "6337    1\n",
       "6338    0\n",
       "6339    1\n",
       "Name: class_number, Length: 6340, dtype: int64"
      ]
     },
     "execution_count": 38,
     "metadata": {},
     "output_type": "execute_result"
    }
   ],
   "source": [
    "binary_preds = binary['class_number']\n",
    "binary_preds"
   ]
  },
  {
   "cell_type": "code",
   "execution_count": 11,
   "metadata": {},
   "outputs": [
    {
     "data": {
      "text/plain": [
       "0       2\n",
       "1       1\n",
       "2       1\n",
       "3       1\n",
       "4       1\n",
       "       ..\n",
       "1265    2\n",
       "1266    1\n",
       "1267    2\n",
       "1268    2\n",
       "1269    2\n",
       "Length: 1270, dtype: int64"
      ]
     },
     "execution_count": 11,
     "metadata": {},
     "output_type": "execute_result"
    }
   ],
   "source": [
    "max_values = pd.concat([multi_preds, binary_preds], axis=1).max(axis=1)\n",
    "max_values"
   ]
  },
  {
   "cell_type": "code",
   "execution_count": 34,
   "metadata": {},
   "outputs": [],
   "source": [
    "multi_preds.to_csv('../result_submition/multi.csv', sep='\\t', index=False, header=False)"
   ]
  },
  {
   "cell_type": "code",
   "execution_count": 39,
   "metadata": {},
   "outputs": [],
   "source": [
    "binary_preds.to_csv('../result_submition/binary.csv', sep='\\t', index=False, header=False)"
   ]
  },
  {
   "cell_type": "code",
   "execution_count": 24,
   "metadata": {},
   "outputs": [
    {
     "name": "stdout",
     "output_type": "stream",
     "text": [
      "Accuracy: 0.9362204724409449\n",
      "Cohen's Kappa: 0.8842805075593952\n"
     ]
    }
   ],
   "source": [
    "from sklearn.metrics import accuracy_score, cohen_kappa_score\n",
    "\n",
    "# Calculate accuracy\n",
    "accuracy = accuracy_score(true_labels, multi_preds)\n",
    "\n",
    "# Calculate Cohen's Kappa\n",
    "kappa = cohen_kappa_score(true_labels, multi_preds)\n",
    "\n",
    "print(\"Accuracy:\", accuracy)\n",
    "print(\"Cohen's Kappa:\", kappa)"
   ]
  },
  {
   "cell_type": "code",
   "execution_count": 8,
   "metadata": {},
   "outputs": [
    {
     "data": {
      "text/html": [
       "<div>\n",
       "<style scoped>\n",
       "    .dataframe tbody tr th:only-of-type {\n",
       "        vertical-align: middle;\n",
       "    }\n",
       "\n",
       "    .dataframe tbody tr th {\n",
       "        vertical-align: top;\n",
       "    }\n",
       "\n",
       "    .dataframe thead th {\n",
       "        text-align: right;\n",
       "    }\n",
       "</style>\n",
       "<table border=\"1\" class=\"dataframe\">\n",
       "  <thead>\n",
       "    <tr style=\"text-align: right;\">\n",
       "      <th></th>\n",
       "      <th>image_name</th>\n",
       "      <th>Image Number</th>\n",
       "      <th>class_number</th>\n",
       "      <th>class_name</th>\n",
       "    </tr>\n",
       "  </thead>\n",
       "  <tbody>\n",
       "    <tr>\n",
       "      <th>0</th>\n",
       "      <td>nev07726.jpg</td>\n",
       "      <td>0</td>\n",
       "      <td>0</td>\n",
       "      <td>nevus</td>\n",
       "    </tr>\n",
       "    <tr>\n",
       "      <th>1</th>\n",
       "      <td>nev07727.jpg</td>\n",
       "      <td>1</td>\n",
       "      <td>0</td>\n",
       "      <td>nevus</td>\n",
       "    </tr>\n",
       "    <tr>\n",
       "      <th>2</th>\n",
       "      <td>nev07728.jpg</td>\n",
       "      <td>2</td>\n",
       "      <td>0</td>\n",
       "      <td>nevus</td>\n",
       "    </tr>\n",
       "    <tr>\n",
       "      <th>3</th>\n",
       "      <td>nev07729.jpg</td>\n",
       "      <td>3</td>\n",
       "      <td>0</td>\n",
       "      <td>nevus</td>\n",
       "    </tr>\n",
       "    <tr>\n",
       "      <th>4</th>\n",
       "      <td>nev07730.jpg</td>\n",
       "      <td>4</td>\n",
       "      <td>0</td>\n",
       "      <td>nevus</td>\n",
       "    </tr>\n",
       "    <tr>\n",
       "      <th>...</th>\n",
       "      <td>...</td>\n",
       "      <td>...</td>\n",
       "      <td>...</td>\n",
       "      <td>...</td>\n",
       "    </tr>\n",
       "    <tr>\n",
       "      <th>3791</th>\n",
       "      <td>vac00184.jpg</td>\n",
       "      <td>3791</td>\n",
       "      <td>1</td>\n",
       "      <td>others</td>\n",
       "    </tr>\n",
       "    <tr>\n",
       "      <th>3792</th>\n",
       "      <td>vac00185.jpg</td>\n",
       "      <td>3792</td>\n",
       "      <td>1</td>\n",
       "      <td>others</td>\n",
       "    </tr>\n",
       "    <tr>\n",
       "      <th>3793</th>\n",
       "      <td>vac00186.jpg</td>\n",
       "      <td>3793</td>\n",
       "      <td>1</td>\n",
       "      <td>others</td>\n",
       "    </tr>\n",
       "    <tr>\n",
       "      <th>3794</th>\n",
       "      <td>vac00187.jpg</td>\n",
       "      <td>3794</td>\n",
       "      <td>0</td>\n",
       "      <td>nevus</td>\n",
       "    </tr>\n",
       "    <tr>\n",
       "      <th>3795</th>\n",
       "      <td>vac00188.jpg</td>\n",
       "      <td>3795</td>\n",
       "      <td>1</td>\n",
       "      <td>others</td>\n",
       "    </tr>\n",
       "  </tbody>\n",
       "</table>\n",
       "<p>3796 rows × 4 columns</p>\n",
       "</div>"
      ],
      "text/plain": [
       "        image_name  Image Number  class_number class_name\n",
       "0     nev07726.jpg             0             0      nevus\n",
       "1     nev07727.jpg             1             0      nevus\n",
       "2     nev07728.jpg             2             0      nevus\n",
       "3     nev07729.jpg             3             0      nevus\n",
       "4     nev07730.jpg             4             0      nevus\n",
       "...            ...           ...           ...        ...\n",
       "3791  vac00184.jpg          3791             1     others\n",
       "3792  vac00185.jpg          3792             1     others\n",
       "3793  vac00186.jpg          3793             1     others\n",
       "3794  vac00187.jpg          3794             0      nevus\n",
       "3795  vac00188.jpg          3795             1     others\n",
       "\n",
       "[3796 rows x 4 columns]"
      ]
     },
     "execution_count": 8,
     "metadata": {},
     "output_type": "execute_result"
    }
   ],
   "source": [
    "binary = pd.read_csv('prediction_val.csv')\n",
    "binary"
   ]
  },
  {
   "cell_type": "code",
   "execution_count": 9,
   "metadata": {},
   "outputs": [
    {
     "data": {
      "text/html": [
       "<div>\n",
       "<style scoped>\n",
       "    .dataframe tbody tr th:only-of-type {\n",
       "        vertical-align: middle;\n",
       "    }\n",
       "\n",
       "    .dataframe tbody tr th {\n",
       "        vertical-align: top;\n",
       "    }\n",
       "\n",
       "    .dataframe thead th {\n",
       "        text-align: right;\n",
       "    }\n",
       "</style>\n",
       "<table border=\"1\" class=\"dataframe\">\n",
       "  <thead>\n",
       "    <tr style=\"text-align: right;\">\n",
       "      <th></th>\n",
       "      <th>image_name</th>\n",
       "      <th>Image Number</th>\n",
       "      <th>class_number</th>\n",
       "      <th>class_name</th>\n",
       "      <th>true_value</th>\n",
       "    </tr>\n",
       "  </thead>\n",
       "  <tbody>\n",
       "    <tr>\n",
       "      <th>0</th>\n",
       "      <td>nev07726.jpg</td>\n",
       "      <td>0</td>\n",
       "      <td>0</td>\n",
       "      <td>nevus</td>\n",
       "      <td>0</td>\n",
       "    </tr>\n",
       "    <tr>\n",
       "      <th>1</th>\n",
       "      <td>nev07727.jpg</td>\n",
       "      <td>1</td>\n",
       "      <td>0</td>\n",
       "      <td>nevus</td>\n",
       "      <td>0</td>\n",
       "    </tr>\n",
       "    <tr>\n",
       "      <th>2</th>\n",
       "      <td>nev07728.jpg</td>\n",
       "      <td>2</td>\n",
       "      <td>0</td>\n",
       "      <td>nevus</td>\n",
       "      <td>0</td>\n",
       "    </tr>\n",
       "    <tr>\n",
       "      <th>3</th>\n",
       "      <td>nev07729.jpg</td>\n",
       "      <td>3</td>\n",
       "      <td>0</td>\n",
       "      <td>nevus</td>\n",
       "      <td>0</td>\n",
       "    </tr>\n",
       "    <tr>\n",
       "      <th>4</th>\n",
       "      <td>nev07730.jpg</td>\n",
       "      <td>4</td>\n",
       "      <td>0</td>\n",
       "      <td>nevus</td>\n",
       "      <td>0</td>\n",
       "    </tr>\n",
       "    <tr>\n",
       "      <th>...</th>\n",
       "      <td>...</td>\n",
       "      <td>...</td>\n",
       "      <td>...</td>\n",
       "      <td>...</td>\n",
       "      <td>...</td>\n",
       "    </tr>\n",
       "    <tr>\n",
       "      <th>3791</th>\n",
       "      <td>vac00184.jpg</td>\n",
       "      <td>3791</td>\n",
       "      <td>1</td>\n",
       "      <td>others</td>\n",
       "      <td>1</td>\n",
       "    </tr>\n",
       "    <tr>\n",
       "      <th>3792</th>\n",
       "      <td>vac00185.jpg</td>\n",
       "      <td>3792</td>\n",
       "      <td>1</td>\n",
       "      <td>others</td>\n",
       "      <td>1</td>\n",
       "    </tr>\n",
       "    <tr>\n",
       "      <th>3793</th>\n",
       "      <td>vac00186.jpg</td>\n",
       "      <td>3793</td>\n",
       "      <td>1</td>\n",
       "      <td>others</td>\n",
       "      <td>1</td>\n",
       "    </tr>\n",
       "    <tr>\n",
       "      <th>3794</th>\n",
       "      <td>vac00187.jpg</td>\n",
       "      <td>3794</td>\n",
       "      <td>0</td>\n",
       "      <td>nevus</td>\n",
       "      <td>1</td>\n",
       "    </tr>\n",
       "    <tr>\n",
       "      <th>3795</th>\n",
       "      <td>vac00188.jpg</td>\n",
       "      <td>3795</td>\n",
       "      <td>1</td>\n",
       "      <td>others</td>\n",
       "      <td>1</td>\n",
       "    </tr>\n",
       "  </tbody>\n",
       "</table>\n",
       "<p>3796 rows × 5 columns</p>\n",
       "</div>"
      ],
      "text/plain": [
       "        image_name  Image Number  class_number class_name  true_value\n",
       "0     nev07726.jpg             0             0      nevus           0\n",
       "1     nev07727.jpg             1             0      nevus           0\n",
       "2     nev07728.jpg             2             0      nevus           0\n",
       "3     nev07729.jpg             3             0      nevus           0\n",
       "4     nev07730.jpg             4             0      nevus           0\n",
       "...            ...           ...           ...        ...         ...\n",
       "3791  vac00184.jpg          3791             1     others           1\n",
       "3792  vac00185.jpg          3792             1     others           1\n",
       "3793  vac00186.jpg          3793             1     others           1\n",
       "3794  vac00187.jpg          3794             0      nevus           1\n",
       "3795  vac00188.jpg          3795             1     others           1\n",
       "\n",
       "[3796 rows x 5 columns]"
      ]
     },
     "execution_count": 9,
     "metadata": {},
     "output_type": "execute_result"
    }
   ],
   "source": [
    "def map_values(string):\n",
    "    if 'nev' in string:\n",
    "        return 0\n",
    "    else:\n",
    "        return 1  # You can choose a default value if none of the strings match\n",
    "binary['true_value'] = binary['image_name'].apply(map_values)\n",
    "binary"
   ]
  },
  {
   "cell_type": "code",
   "execution_count": 10,
   "metadata": {},
   "outputs": [
    {
     "name": "stdout",
     "output_type": "stream",
     "text": [
      "3414\n"
     ]
    }
   ],
   "source": [
    "binary_preds = binary['class_number']\n",
    "true_labels = binary['true_value']\n",
    "matching_sum = (true_labels == binary_preds).sum()\n",
    "print(matching_sum)"
   ]
  },
  {
   "cell_type": "code",
   "execution_count": 11,
   "metadata": {},
   "outputs": [
    {
     "name": "stdout",
     "output_type": "stream",
     "text": [
      "Accuracy: 0.8993677555321391\n"
     ]
    },
    {
     "ename": "",
     "evalue": "",
     "output_type": "error",
     "traceback": [
      "\u001b[1;31mThe Kernel crashed while executing code in the the current cell or a previous cell. Please review the code in the cell(s) to identify a possible cause of the failure. Click <a href='https://aka.ms/vscodeJupyterKernelCrash'>here</a> for more info. View Jupyter <a href='command:jupyter.viewOutput'>log</a> for further details."
     ]
    }
   ],
   "source": [
    "from sklearn.metrics import accuracy_score, cohen_kappa_score\n",
    "accuracy = accuracy_score(binary_preds,true_labels)\n",
    "print(\"Accuracy:\", accuracy)"
   ]
  }
 ],
 "metadata": {
  "kernelspec": {
   "display_name": "meldl-3-9",
   "language": "python",
   "name": "python3"
  },
  "language_info": {
   "codemirror_mode": {
    "name": "ipython",
    "version": 3
   },
   "file_extension": ".py",
   "mimetype": "text/x-python",
   "name": "python",
   "nbconvert_exporter": "python",
   "pygments_lexer": "ipython3",
   "version": "3.10.12"
  }
 },
 "nbformat": 4,
 "nbformat_minor": 2
}
