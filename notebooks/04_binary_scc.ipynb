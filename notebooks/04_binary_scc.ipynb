{
 "cells": [
  {
   "cell_type": "code",
   "execution_count": 2,
   "metadata": {},
   "outputs": [
    {
     "name": "stdout",
     "output_type": "stream",
     "text": [
      "train\n",
      "True\n",
      "../data/binary_scc/7/train\n",
      "train\n",
      "True\n",
      "../data/binary_scc/13/train\n",
      "train\n",
      "True\n",
      "../data/binary_scc/17/train\n",
      "train\n",
      "True\n",
      "../data/binary_scc/19/train\n",
      "train\n",
      "True\n",
      "../data/binary_scc/31/train\n",
      "train\n",
      "True\n",
      "../data/binary_scc/42/train\n"
     ]
    }
   ],
   "source": [
    "## Taking bcc - mel - scc --> create scc and others.\n",
    "import os\n",
    "import shutil\n",
    "import numpy as np\n",
    "import random\n",
    "\n",
    "def create_scc_and_others(src_root = '../data_mult/train/', dst_root_key = 'binary_scc', seed=42):\n",
    "    \n",
    "    random.seed(seed)\n",
    "    mode = src_root.split('/')[-2]\n",
    "    print(mode)\n",
    "    print(os.path.exists(src_root))\n",
    "    dst_root = os.path.join('../data/', dst_root_key, str(seed), mode)\n",
    "    print(dst_root)\n",
    "    # Create the 'binary_scc' folder\n",
    "    os.makedirs(dst_root, exist_ok=True)\n",
    "\n",
    "    src_bcc_folder = os.path.join(src_root, 'bcc')\n",
    "    src_mel_folder = os.path.join(src_root, 'mel')\n",
    "    src_scc_folder = os.path.join(src_root, 'scc')\n",
    "\n",
    "    dst_others_folder = os.path.join(dst_root, 'others')\n",
    "    dst_scc_folder = os.path.join(dst_root, 'scc')\n",
    "\n",
    "    os.makedirs(dst_others_folder, exist_ok=True)\n",
    "    os.makedirs(dst_scc_folder, exist_ok=True)\n",
    "\n",
    "    # Move files from 'mel' to 'scc'\n",
    "    scc_files = os.listdir(src_scc_folder)\n",
    "    n = len(scc_files)\n",
    "    for file in scc_files:\n",
    "        source_path = os.path.join(src_scc_folder, file)\n",
    "        destination_path = os.path.join(dst_scc_folder, file)\n",
    "        shutil.copy(source_path, destination_path)\n",
    "\n",
    "    # Move files from 'bcc' to 'scc'\n",
    "    bcc_files = os.listdir(src_bcc_folder)\n",
    "    # Select n random files from 'bcc'\n",
    "    try: \n",
    "        bcc_selected_files = random.sample(bcc_files, n)\n",
    "    except: \n",
    "        n = len(bcc_files)\n",
    "        bcc_selected_files = bcc_files\n",
    "\n",
    "    for file in bcc_selected_files:\n",
    "        source_path = os.path.join(src_bcc_folder, file)\n",
    "        destination_path = os.path.join(dst_others_folder, file)\n",
    "        shutil.move(source_path, destination_path)\n",
    "\n",
    "    # Move files from 'mel' to 'scc'\n",
    "    mel_files = os.listdir(src_mel_folder)\n",
    "    # Select n random files from 'mel'\n",
    "    try: \n",
    "        mel_selected_files = random.sample(mel_files, n)\n",
    "    except:\n",
    "        n = len(mel_files)\n",
    "        mel_selected_files = mel_files\n",
    "\n",
    "    for file in mel_selected_files:\n",
    "        source_path = os.path.join(src_mel_folder, file)\n",
    "        destination_path = os.path.join(dst_others_folder, file)\n",
    "        shutil.move(source_path, destination_path)\n",
    "\n",
    "\n",
    "for seed in [7, 13, 17, 19, 31, 42]:\n",
    "    create_scc_and_others(seed=seed)\n"
   ]
  },
  {
   "cell_type": "code",
   "execution_count": 2,
   "metadata": {},
   "outputs": [
    {
     "name": "stdout",
     "output_type": "stream",
     "text": [
      "Looking in indexes: https://pypi.org/simple, https://pypi.ngc.nvidia.com\n",
      "Collecting torchsummary\n",
      "  Downloading torchsummary-1.5.1-py3-none-any.whl (2.8 kB)\n",
      "Installing collected packages: torchsummary\n",
      "Successfully installed torchsummary-1.5.1\n"
     ]
    },
    {
     "name": "stderr",
     "output_type": "stream",
     "text": [
      "\n",
      "[notice] A new release of pip is available: 23.3.1 -> 23.3.2\n",
      "[notice] To update, run: python.exe -m pip install --upgrade pip\n"
     ]
    }
   ],
   "source": [
    "!pip install torchsummary"
   ]
  },
  {
   "cell_type": "code",
   "execution_count": 1,
   "metadata": {},
   "outputs": [
    {
     "name": "stdout",
     "output_type": "stream",
     "text": [
      "Using device: cuda:0\n",
      "Train data: ../data/binary_scc/7/train/ Out path: ../classifiers/binary_classifier/out/run_7/\n",
      "Loaded dataset:\n",
      " - Number of images: 1128\n",
      " - Number of classes: 2\n",
      " - Class names: ['others', 'scc']\n",
      " - Batch size: 8\n",
      "Initialized models:\n",
      " - Inception V3 with custom classifier\n",
      " - EfficientNet B0 with custom classifier\n",
      "Training Inception3 - Epoch 1/10\n",
      "Current Learning Rate: 1e-05\n"
     ]
    },
    {
     "data": {
      "application/vnd.jupyter.widget-view+json": {
       "model_id": "9a79d1d1aa684e0484e83895a6625bc9",
       "version_major": 2,
       "version_minor": 0
      },
      "text/plain": [
       "Epoch 1:   0%|          | 0/141 [00:00<?, ?batch/s]"
      ]
     },
     "metadata": {},
     "output_type": "display_data"
    },
    {
     "name": "stdout",
     "output_type": "stream",
     "text": [
      "Saved improved model at epoch 1\n",
      "Inception3 - Epoch 1 Completed - Time: 67.89s\n",
      "Training Inception3 - Epoch 2/10\n",
      "Current Learning Rate: 3.2500000000000004e-05\n"
     ]
    },
    {
     "data": {
      "application/vnd.jupyter.widget-view+json": {
       "model_id": "faab6ca8496a427999e3a34874a16aa4",
       "version_major": 2,
       "version_minor": 0
      },
      "text/plain": [
       "Epoch 2:   0%|          | 0/141 [00:00<?, ?batch/s]"
      ]
     },
     "metadata": {},
     "output_type": "display_data"
    },
    {
     "name": "stdout",
     "output_type": "stream",
     "text": [
      "Saved improved model at epoch 2\n",
      "Inception3 - Epoch 2 Completed - Time: 72.36s\n",
      "Training Inception3 - Epoch 3/10\n",
      "Current Learning Rate: 5.5e-05\n"
     ]
    },
    {
     "data": {
      "application/vnd.jupyter.widget-view+json": {
       "model_id": "b3150b07965b474aa7ac7587afc8306a",
       "version_major": 2,
       "version_minor": 0
      },
      "text/plain": [
       "Epoch 3:   0%|          | 0/141 [00:00<?, ?batch/s]"
      ]
     },
     "metadata": {},
     "output_type": "display_data"
    },
    {
     "name": "stdout",
     "output_type": "stream",
     "text": [
      "Saved improved model at epoch 3\n",
      "Inception3 - Epoch 3 Completed - Time: 73.41s\n",
      "Training Inception3 - Epoch 4/10\n",
      "Current Learning Rate: 7.75e-05\n"
     ]
    },
    {
     "data": {
      "application/vnd.jupyter.widget-view+json": {
       "model_id": "de2c45551888497bbe638c977977a4bc",
       "version_major": 2,
       "version_minor": 0
      },
      "text/plain": [
       "Epoch 4:   0%|          | 0/141 [00:00<?, ?batch/s]"
      ]
     },
     "metadata": {},
     "output_type": "display_data"
    },
    {
     "name": "stdout",
     "output_type": "stream",
     "text": [
      "Saved improved model at epoch 4\n",
      "Inception3 - Epoch 4 Completed - Time: 75.46s\n",
      "Training Inception3 - Epoch 5/10\n",
      "Current Learning Rate: 0.0001\n"
     ]
    },
    {
     "data": {
      "application/vnd.jupyter.widget-view+json": {
       "model_id": "44e9210f725c43429f984d976efa4621",
       "version_major": 2,
       "version_minor": 0
      },
      "text/plain": [
       "Epoch 5:   0%|          | 0/141 [00:00<?, ?batch/s]"
      ]
     },
     "metadata": {},
     "output_type": "display_data"
    },
    {
     "name": "stdout",
     "output_type": "stream",
     "text": [
      "Saved improved model at epoch 5\n",
      "Inception3 - Epoch 5 Completed - Time: 82.44s\n",
      "Training Inception3 - Epoch 6/10\n",
      "Current Learning Rate: 7.75e-05\n"
     ]
    },
    {
     "data": {
      "application/vnd.jupyter.widget-view+json": {
       "model_id": "db1e53b236cf4c27b0439ee27d418b01",
       "version_major": 2,
       "version_minor": 0
      },
      "text/plain": [
       "Epoch 6:   0%|          | 0/141 [00:00<?, ?batch/s]"
      ]
     },
     "metadata": {},
     "output_type": "display_data"
    },
    {
     "name": "stdout",
     "output_type": "stream",
     "text": [
      "Saved improved model at epoch 6\n",
      "Inception3 - Epoch 6 Completed - Time: 82.83s\n",
      "Training Inception3 - Epoch 7/10\n",
      "Current Learning Rate: 5.5e-05\n"
     ]
    },
    {
     "data": {
      "application/vnd.jupyter.widget-view+json": {
       "model_id": "f428cbf1ee8b423292e6cc43f593770e",
       "version_major": 2,
       "version_minor": 0
      },
      "text/plain": [
       "Epoch 7:   0%|          | 0/141 [00:00<?, ?batch/s]"
      ]
     },
     "metadata": {},
     "output_type": "display_data"
    },
    {
     "name": "stdout",
     "output_type": "stream",
     "text": [
      "Saved improved model at epoch 7\n",
      "Inception3 - Epoch 7 Completed - Time: 79.12s\n",
      "Training Inception3 - Epoch 8/10\n",
      "Current Learning Rate: 3.2500000000000004e-05\n"
     ]
    },
    {
     "data": {
      "application/vnd.jupyter.widget-view+json": {
       "model_id": "79f2c73b73194b3c9c9144041de16fcc",
       "version_major": 2,
       "version_minor": 0
      },
      "text/plain": [
       "Epoch 8:   0%|          | 0/141 [00:00<?, ?batch/s]"
      ]
     },
     "metadata": {},
     "output_type": "display_data"
    },
    {
     "name": "stdout",
     "output_type": "stream",
     "text": [
      "Saved improved model at epoch 8\n",
      "Inception3 - Epoch 8 Completed - Time: 81.13s\n",
      "Training Inception3 - Epoch 9/10\n",
      "Current Learning Rate: 1e-05\n"
     ]
    },
    {
     "data": {
      "application/vnd.jupyter.widget-view+json": {
       "model_id": "40ea0983ca404b309a9e6a2a9357406a",
       "version_major": 2,
       "version_minor": 0
      },
      "text/plain": [
       "Epoch 9:   0%|          | 0/141 [00:00<?, ?batch/s]"
      ]
     },
     "metadata": {},
     "output_type": "display_data"
    },
    {
     "name": "stdout",
     "output_type": "stream",
     "text": [
      "Saved improved model at epoch 9\n",
      "Inception3 - Epoch 9 Completed - Time: 82.74s\n",
      "Training Inception3 - Epoch 10/10\n",
      "Current Learning Rate: 2.125e-05\n"
     ]
    },
    {
     "data": {
      "application/vnd.jupyter.widget-view+json": {
       "model_id": "d0479895426647eeb4a75393e9ad1487",
       "version_major": 2,
       "version_minor": 0
      },
      "text/plain": [
       "Epoch 10:   0%|          | 0/141 [00:00<?, ?batch/s]"
      ]
     },
     "metadata": {},
     "output_type": "display_data"
    },
    {
     "name": "stdout",
     "output_type": "stream",
     "text": [
      "Saved improved model at epoch 10\n",
      "Inception3 - Epoch 10 Completed - Time: 84.73s\n",
      "Training EfficientNet - Epoch 1/10\n",
      "Current Learning Rate: 1e-05\n"
     ]
    },
    {
     "data": {
      "application/vnd.jupyter.widget-view+json": {
       "model_id": "164ad9f2a0be4e83b6fe52f47d6b7fbe",
       "version_major": 2,
       "version_minor": 0
      },
      "text/plain": [
       "Epoch 1:   0%|          | 0/141 [00:00<?, ?batch/s]"
      ]
     },
     "metadata": {},
     "output_type": "display_data"
    },
    {
     "name": "stdout",
     "output_type": "stream",
     "text": [
      "Saved improved model at epoch 1\n",
      "EfficientNet - Epoch 1 Completed - Time: 63.55s\n",
      "Training EfficientNet - Epoch 2/10\n",
      "Current Learning Rate: 3.2500000000000004e-05\n"
     ]
    },
    {
     "data": {
      "application/vnd.jupyter.widget-view+json": {
       "model_id": "ba4b9c85ad1e4f3f89388bb52dd641f5",
       "version_major": 2,
       "version_minor": 0
      },
      "text/plain": [
       "Epoch 2:   0%|          | 0/141 [00:00<?, ?batch/s]"
      ]
     },
     "metadata": {},
     "output_type": "display_data"
    },
    {
     "name": "stdout",
     "output_type": "stream",
     "text": [
      "Saved improved model at epoch 2\n",
      "EfficientNet - Epoch 2 Completed - Time: 57.88s\n",
      "Training EfficientNet - Epoch 3/10\n",
      "Current Learning Rate: 5.5e-05\n"
     ]
    },
    {
     "data": {
      "application/vnd.jupyter.widget-view+json": {
       "model_id": "6198ebfd08c24eacb6b9eab29d3a5c85",
       "version_major": 2,
       "version_minor": 0
      },
      "text/plain": [
       "Epoch 3:   0%|          | 0/141 [00:00<?, ?batch/s]"
      ]
     },
     "metadata": {},
     "output_type": "display_data"
    },
    {
     "name": "stdout",
     "output_type": "stream",
     "text": [
      "Saved improved model at epoch 3\n",
      "EfficientNet - Epoch 3 Completed - Time: 59.52s\n",
      "Training EfficientNet - Epoch 4/10\n",
      "Current Learning Rate: 7.75e-05\n"
     ]
    },
    {
     "data": {
      "application/vnd.jupyter.widget-view+json": {
       "model_id": "28971c5f10654827aea7d8de17417feb",
       "version_major": 2,
       "version_minor": 0
      },
      "text/plain": [
       "Epoch 4:   0%|          | 0/141 [00:00<?, ?batch/s]"
      ]
     },
     "metadata": {},
     "output_type": "display_data"
    },
    {
     "name": "stdout",
     "output_type": "stream",
     "text": [
      "Saved improved model at epoch 4\n",
      "EfficientNet - Epoch 4 Completed - Time: 60.07s\n",
      "Training EfficientNet - Epoch 5/10\n",
      "Current Learning Rate: 0.0001\n"
     ]
    },
    {
     "data": {
      "application/vnd.jupyter.widget-view+json": {
       "model_id": "64a4a39a4b614db09dd564479ed63821",
       "version_major": 2,
       "version_minor": 0
      },
      "text/plain": [
       "Epoch 5:   0%|          | 0/141 [00:00<?, ?batch/s]"
      ]
     },
     "metadata": {},
     "output_type": "display_data"
    },
    {
     "name": "stdout",
     "output_type": "stream",
     "text": [
      "Saved improved model at epoch 5\n",
      "EfficientNet - Epoch 5 Completed - Time: 61.07s\n",
      "Training EfficientNet - Epoch 6/10\n",
      "Current Learning Rate: 7.75e-05\n"
     ]
    },
    {
     "data": {
      "application/vnd.jupyter.widget-view+json": {
       "model_id": "3af234590b354f9ba2375199d72f162a",
       "version_major": 2,
       "version_minor": 0
      },
      "text/plain": [
       "Epoch 6:   0%|          | 0/141 [00:00<?, ?batch/s]"
      ]
     },
     "metadata": {},
     "output_type": "display_data"
    },
    {
     "name": "stdout",
     "output_type": "stream",
     "text": [
      "Saved improved model at epoch 6\n",
      "EfficientNet - Epoch 6 Completed - Time: 62.98s\n",
      "Training EfficientNet - Epoch 7/10\n",
      "Current Learning Rate: 5.5e-05\n"
     ]
    },
    {
     "data": {
      "application/vnd.jupyter.widget-view+json": {
       "model_id": "067d7ba52eb842c89928610be235d3ae",
       "version_major": 2,
       "version_minor": 0
      },
      "text/plain": [
       "Epoch 7:   0%|          | 0/141 [00:00<?, ?batch/s]"
      ]
     },
     "metadata": {},
     "output_type": "display_data"
    },
    {
     "name": "stdout",
     "output_type": "stream",
     "text": [
      "Saved improved model at epoch 7\n",
      "EfficientNet - Epoch 7 Completed - Time: 64.82s\n",
      "Training EfficientNet - Epoch 8/10\n",
      "Current Learning Rate: 3.2500000000000004e-05\n"
     ]
    },
    {
     "data": {
      "application/vnd.jupyter.widget-view+json": {
       "model_id": "007c82b7e5ec4f84b64a4fe344b39878",
       "version_major": 2,
       "version_minor": 0
      },
      "text/plain": [
       "Epoch 8:   0%|          | 0/141 [00:00<?, ?batch/s]"
      ]
     },
     "metadata": {},
     "output_type": "display_data"
    },
    {
     "name": "stdout",
     "output_type": "stream",
     "text": [
      "Saved improved model at epoch 8\n",
      "EfficientNet - Epoch 8 Completed - Time: 66.35s\n",
      "Training EfficientNet - Epoch 9/10\n",
      "Current Learning Rate: 1e-05\n"
     ]
    },
    {
     "data": {
      "application/vnd.jupyter.widget-view+json": {
       "model_id": "9f6079dd4e8849a7bef7c82b5113b9e4",
       "version_major": 2,
       "version_minor": 0
      },
      "text/plain": [
       "Epoch 9:   0%|          | 0/141 [00:00<?, ?batch/s]"
      ]
     },
     "metadata": {},
     "output_type": "display_data"
    }
   ],
   "source": [
    "import sys\n",
    "sys.path.append('../classifiers/binary_classifier')\n",
    "import fit\n",
    "import val\n",
    "import emsamble\n",
    "#From the notebook to run train\n",
    "# number of epoch to run\n",
    "# save dir_where you want the best_classifier to run\n",
    "# train_dir the directory to get the data\n",
    "for seed in [7, 13, 17, 19, 31, 42]:\n",
    "    fit.main(number_epochs=10, save_dir=f'../classifiers/binary_classifier/out/run_{seed}/', train_dir=f'../data/binary_scc/{seed}/train/',batch_size=8)"
   ]
  },
  {
   "cell_type": "code",
   "execution_count": 4,
   "metadata": {},
   "outputs": [
    {
     "name": "stdout",
     "output_type": "stream",
     "text": [
      "Using device: cuda:0\n",
      "Loaded dataset:\n",
      " - Number of images: 282\n",
      " - Number of classes: 2\n",
      " - Class names: ['others', 'scc']\n",
      " - Batch size: 16\n",
      "Initialized models:\n",
      " - Inception V3 with custom classifier\n",
      " - EfficientNet B0 with custom classifier\n"
     ]
    },
    {
     "name": "stderr",
     "output_type": "stream",
     "text": [
      "Evaluating: 100%|██████████| 18/18 [00:07<00:00,  2.26it/s]\n"
     ]
    },
    {
     "name": "stdout",
     "output_type": "stream",
     "text": [
      "Model: EfficientNet, Path: ../classifiers/binary_classifier/out/run_7/EfficientNet_best.pth, Accuracy: 0.8368794326241135\n"
     ]
    },
    {
     "name": "stderr",
     "output_type": "stream",
     "text": [
      "Evaluating: 100%|██████████| 18/18 [00:07<00:00,  2.55it/s]\n"
     ]
    },
    {
     "name": "stdout",
     "output_type": "stream",
     "text": [
      "Model: Inception3, Path: ../classifiers/binary_classifier/out/run_7/Inception3_best.pth, Accuracy: 0.8333333333333334\n",
      "Using device: cuda:0\n",
      "Loaded dataset:\n",
      " - Number of images: 282\n",
      " - Number of classes: 2\n",
      " - Class names: ['others', 'scc']\n",
      " - Batch size: 16\n",
      "Initialized models:\n",
      " - Inception V3 with custom classifier\n",
      " - EfficientNet B0 with custom classifier\n"
     ]
    },
    {
     "name": "stderr",
     "output_type": "stream",
     "text": [
      "Evaluating: 100%|██████████| 18/18 [00:07<00:00,  2.52it/s]\n"
     ]
    },
    {
     "name": "stdout",
     "output_type": "stream",
     "text": [
      "Model: EfficientNet, Path: ../classifiers/binary_classifier/out/run_13/EfficientNet_best.pth, Accuracy: 0.8794326241134752\n"
     ]
    },
    {
     "name": "stderr",
     "output_type": "stream",
     "text": [
      "Evaluating: 100%|██████████| 18/18 [00:08<00:00,  2.24it/s]\n"
     ]
    },
    {
     "name": "stdout",
     "output_type": "stream",
     "text": [
      "Model: Inception3, Path: ../classifiers/binary_classifier/out/run_13/Inception3_best.pth, Accuracy: 0.8156028368794326\n",
      "Using device: cuda:0\n",
      "Loaded dataset:\n",
      " - Number of images: 282\n",
      " - Number of classes: 2\n",
      " - Class names: ['others', 'scc']\n",
      " - Batch size: 16\n",
      "Initialized models:\n",
      " - Inception V3 with custom classifier\n",
      " - EfficientNet B0 with custom classifier\n"
     ]
    },
    {
     "name": "stderr",
     "output_type": "stream",
     "text": [
      "Evaluating: 100%|██████████| 18/18 [00:09<00:00,  1.97it/s]\n"
     ]
    },
    {
     "name": "stdout",
     "output_type": "stream",
     "text": [
      "Model: EfficientNet, Path: ../classifiers/binary_classifier/out/run_17/EfficientNet_best.pth, Accuracy: 0.8404255319148937\n"
     ]
    },
    {
     "name": "stderr",
     "output_type": "stream",
     "text": [
      "Evaluating: 100%|██████████| 18/18 [00:08<00:00,  2.22it/s]\n"
     ]
    },
    {
     "name": "stdout",
     "output_type": "stream",
     "text": [
      "Model: Inception3, Path: ../classifiers/binary_classifier/out/run_17/Inception3_best.pth, Accuracy: 0.8581560283687943\n",
      "Using device: cuda:0\n",
      "Loaded dataset:\n",
      " - Number of images: 282\n",
      " - Number of classes: 2\n",
      " - Class names: ['others', 'scc']\n",
      " - Batch size: 16\n",
      "Initialized models:\n",
      " - Inception V3 with custom classifier\n",
      " - EfficientNet B0 with custom classifier\n"
     ]
    },
    {
     "name": "stderr",
     "output_type": "stream",
     "text": [
      "Evaluating: 100%|██████████| 18/18 [00:07<00:00,  2.44it/s]\n"
     ]
    },
    {
     "name": "stdout",
     "output_type": "stream",
     "text": [
      "Model: EfficientNet, Path: ../classifiers/binary_classifier/out/run_19/EfficientNet_best.pth, Accuracy: 0.875886524822695\n"
     ]
    },
    {
     "name": "stderr",
     "output_type": "stream",
     "text": [
      "Evaluating: 100%|██████████| 18/18 [00:08<00:00,  2.25it/s]\n"
     ]
    },
    {
     "name": "stdout",
     "output_type": "stream",
     "text": [
      "Model: Inception3, Path: ../classifiers/binary_classifier/out/run_19/Inception3_best.pth, Accuracy: 0.8829787234042553\n",
      "Using device: cuda:0\n",
      "Loaded dataset:\n",
      " - Number of images: 282\n",
      " - Number of classes: 2\n",
      " - Class names: ['others', 'scc']\n",
      " - Batch size: 16\n",
      "Initialized models:\n",
      " - Inception V3 with custom classifier\n",
      " - EfficientNet B0 with custom classifier\n"
     ]
    },
    {
     "name": "stderr",
     "output_type": "stream",
     "text": [
      "Evaluating: 100%|██████████| 18/18 [00:09<00:00,  1.94it/s]\n"
     ]
    },
    {
     "name": "stdout",
     "output_type": "stream",
     "text": [
      "Model: EfficientNet, Path: ../classifiers/binary_classifier/out/run_31/EfficientNet_best.pth, Accuracy: 0.8617021276595744\n"
     ]
    },
    {
     "name": "stderr",
     "output_type": "stream",
     "text": [
      "Evaluating: 100%|██████████| 18/18 [00:07<00:00,  2.36it/s]\n"
     ]
    },
    {
     "name": "stdout",
     "output_type": "stream",
     "text": [
      "Model: Inception3, Path: ../classifiers/binary_classifier/out/run_31/Inception3_best.pth, Accuracy: 0.8687943262411347\n",
      "Using device: cuda:0\n",
      "Loaded dataset:\n",
      " - Number of images: 150\n",
      " - Number of classes: 2\n",
      " - Class names: ['others', 'scc']\n",
      " - Batch size: 16\n",
      "Initialized models:\n",
      " - Inception V3 with custom classifier\n",
      " - EfficientNet B0 with custom classifier\n"
     ]
    },
    {
     "name": "stderr",
     "output_type": "stream",
     "text": [
      "Evaluating: 100%|██████████| 10/10 [00:04<00:00,  2.42it/s]\n"
     ]
    },
    {
     "name": "stdout",
     "output_type": "stream",
     "text": [
      "Model: EfficientNet, Path: ../classifiers/binary_classifier/out/run_42/EfficientNet_best.pth, Accuracy: 0.8733333333333333\n"
     ]
    },
    {
     "name": "stderr",
     "output_type": "stream",
     "text": [
      "Evaluating: 100%|██████████| 10/10 [00:03<00:00,  2.66it/s]"
     ]
    },
    {
     "name": "stdout",
     "output_type": "stream",
     "text": [
      "Model: Inception3, Path: ../classifiers/binary_classifier/out/run_42/Inception3_best.pth, Accuracy: 0.8133333333333334\n"
     ]
    },
    {
     "name": "stderr",
     "output_type": "stream",
     "text": [
      "\n"
     ]
    }
   ],
   "source": [
    "for seed in [7, 13, 17, 19, 31, 42]:\n",
    "    val.evaluating_best_classifier(val_dir=f'../data/binary_scc/{seed}/val/', root_out = f'../classifiers/binary_classifier/out/run_{seed}/')"
   ]
  },
  {
   "cell_type": "markdown",
   "metadata": {},
   "source": [
    "## Stack Validation Predictions and Apply Maximum Voting"
   ]
  },
  {
   "cell_type": "code",
   "execution_count": 19,
   "metadata": {},
   "outputs": [
    {
     "name": "stdout",
     "output_type": "stream",
     "text": [
      "Initialized models:\n",
      " - Inception V3 with custom classifier\n",
      " - EfficientNet B0 with custom classifier\n"
     ]
    }
   ],
   "source": [
    "import glob\n",
    "from torchvision.models import efficientnet_b0, inception_v3\n",
    "\n",
    "models = fit.initialize_models('cpu')\n",
    "paths = glob.glob('../classifiers/binary_classifier/out/*/EfficientNet_best.pth')\n",
    "efficients = emsamble.load_models(model_paths=paths, model=models[0])\n",
    "\n",
    "paths = glob.glob('../classifiers/binary_classifier/out/*/Inception3_best.pth')\n",
    "inceptions = emsamble.load_models(model_paths=paths, model=models[1])"
   ]
  },
  {
   "cell_type": "code",
   "execution_count": 20,
   "metadata": {},
   "outputs": [
    {
     "data": {
      "text/plain": [
       "12"
      ]
     },
     "execution_count": 20,
     "metadata": {},
     "output_type": "execute_result"
    }
   ],
   "source": [
    "import numpy as np\n",
    "\n",
    "models = np.concatenate([inceptions, efficients])\n",
    "len(models)"
   ]
  },
  {
   "cell_type": "code",
   "execution_count": 21,
   "metadata": {},
   "outputs": [
    {
     "name": "stdout",
     "output_type": "stream",
     "text": [
      "Loaded dataset:\n",
      " - Number of images: 1270\n",
      " - Number of classes: 2\n",
      " - Class names: ['others', 'scc']\n",
      " - Batch size: 16\n"
     ]
    },
    {
     "name": "stderr",
     "output_type": "stream",
     "text": [
      "Generating Class Predictions: 100%|██████████| 80/80 [21:03<00:00, 15.79s/it] \n"
     ]
    }
   ],
   "source": [
    "transform = emsamble.create_transforms()\n",
    "\n",
    "val_loader = emsamble.load_data('../data/binary_scc/all/val/', transform)\n",
    "\n",
    "class_predictions, true_labels, image_names = emsamble.generate_class_predictions(models, val_loader, 'cpu')\n",
    "final_predictions, vote_counts = emsamble.maximum_voting(class_predictions)\n",
    "\n",
    "accuracy = emsamble.calculate_accuracy(final_predictions, true_labels)\n",
    "\n",
    "import csv \n",
    "\n",
    "class_names = val_loader.dataset.classes\n",
    "with open(\"predictions.csv\", \"w\", newline=\"\") as csvfile:\n",
    "    csvwriter = csv.writer(csvfile)\n",
    "    csvwriter.writerow([\"image_name\", \"class_number\", \"class_name\"])\n",
    "    for idx, pred in enumerate(final_predictions):\n",
    "        image_path = image_names[idx]\n",
    "        image_name = image_path.split('/')[-1]\n",
    "        class_number = pred.item()\n",
    "        class_name = class_names[class_number]\n",
    "        csvwriter.writerow([image_name, class_number, class_name])\n",
    "\n",
    "with open(\"detailed_predictions.txt\", \"w\") as f:\n",
    "    for idx, (pred, true_label) in enumerate(zip(final_predictions, true_labels)):\n",
    "        f.write(f\"Image {idx}: Predicted Class {pred.item()}, True Class {true_label.item()}, Vote counts: {vote_counts[idx].tolist()}\\n\")\n"
   ]
  },
  {
   "cell_type": "code",
   "execution_count": 22,
   "metadata": {},
   "outputs": [
    {
     "data": {
      "text/plain": [
       "0.9204724409448819"
      ]
     },
     "execution_count": 22,
     "metadata": {},
     "output_type": "execute_result"
    }
   ],
   "source": [
    "accuracy"
   ]
  },
  {
   "cell_type": "markdown",
   "metadata": {},
   "source": [
    "## Perfect! Now let's play with multiclass results :) "
   ]
  },
  {
   "cell_type": "code",
   "execution_count": null,
   "metadata": {},
   "outputs": [],
   "source": []
  }
 ],
 "metadata": {
  "kernelspec": {
   "display_name": "meldl-3-9",
   "language": "python",
   "name": "python3"
  },
  "language_info": {
   "codemirror_mode": {
    "name": "ipython",
    "version": 3
   },
   "file_extension": ".py",
   "mimetype": "text/x-python",
   "name": "python",
   "nbconvert_exporter": "python",
   "pygments_lexer": "ipython3",
   "version": "3.10.12"
  }
 },
 "nbformat": 4,
 "nbformat_minor": 2
}
